{
 "cells": [
  {
   "cell_type": "markdown",
   "id": "2bb59be7-7607-461f-aa16-f0c3c097f326",
   "metadata": {},
   "source": [
    "### Importing necessary library"
   ]
  },
  {
   "cell_type": "code",
   "execution_count": 1,
   "id": "2e3928eb-14a8-4bdf-9494-af7002b535bf",
   "metadata": {
    "execution": {
     "iopub.execute_input": "2025-02-25T00:02:57.161065Z",
     "iopub.status.busy": "2025-02-25T00:02:57.160569Z",
     "iopub.status.idle": "2025-02-25T00:02:59.451581Z",
     "shell.execute_reply": "2025-02-25T00:02:59.449557Z",
     "shell.execute_reply.started": "2025-02-25T00:02:57.161015Z"
    }
   },
   "outputs": [],
   "source": [
    "import pandas as pd\n",
    "import numpy as np\n",
    "\n",
    "import datetime\n",
    "\n",
    "import seaborn as sns\n",
    "import matplotlib.pyplot as plt\n",
    "\n",
    "import scipy.stats as stats\n",
    "\n",
    "from sklearn.preprocessing import StandardScaler\n",
    "from sklearn.linear_model import LinearRegression\n",
    "from sklearn.preprocessing import PolynomialFeatures\n",
    "from sklearn.model_selection import train_test_split\n",
    "\n",
    "from sklearn.metrics import mean_absolute_error, mean_squared_error\n",
    "from sklearn.metrics import r2_score\n",
    "\n",
    "import joblib"
   ]
  },
  {
   "cell_type": "markdown",
   "id": "20742c6e-0a8d-4c89-bf88-09c0c2940c1c",
   "metadata": {},
   "source": [
    "### Define global settings"
   ]
  },
  {
   "cell_type": "code",
   "execution_count": 2,
   "id": "00afae7a-f958-423d-bd80-9a38d18cbabf",
   "metadata": {
    "execution": {
     "iopub.execute_input": "2025-02-25T00:02:59.454623Z",
     "iopub.status.busy": "2025-02-25T00:02:59.453136Z",
     "iopub.status.idle": "2025-02-25T00:02:59.459639Z",
     "shell.execute_reply": "2025-02-25T00:02:59.458430Z",
     "shell.execute_reply.started": "2025-02-25T00:02:59.454567Z"
    }
   },
   "outputs": [],
   "source": [
    "pd.options.display.float_format = '{:.6f}'.format"
   ]
  },
  {
   "cell_type": "markdown",
   "id": "a4f69c1f-e803-4802-9728-0db821cdceab",
   "metadata": {},
   "source": [
    "### Features to keep"
   ]
  },
  {
   "cell_type": "code",
   "execution_count": 3,
   "id": "f4a4309c-460c-4504-b6cc-87d0bc1d6cb0",
   "metadata": {
    "execution": {
     "iopub.execute_input": "2025-02-25T00:02:59.461373Z",
     "iopub.status.busy": "2025-02-25T00:02:59.460894Z",
     "iopub.status.idle": "2025-02-25T00:02:59.477080Z",
     "shell.execute_reply": "2025-02-25T00:02:59.475630Z",
     "shell.execute_reply.started": "2025-02-25T00:02:59.461339Z"
    }
   },
   "outputs": [],
   "source": [
    "kbest_30 = ['latitude', 'longitude', 'beds', 'baths', 'sq_feet', 'lease_term_6 months',\n",
    " 'lease_term_Negotiable', 'lease_term_Short Term', 'type_Basement',\n",
    " 'type_Condo Unit', 'type_House', 'type_Room For Rent',\n",
    " 'smoking_Smoking Allowed', 'province_British Columbia', 'province_Manitoba',\n",
    " 'province_Newfoundland and Labrador', 'province_Nova Scotia',\n",
    " 'province_Ontario', 'province_Quebec', 'province_Saskatchewan',\n",
    " 'city_Calgary', 'city_Toronto', 'city_Edmonton', 'city_Montréal',\n",
    " 'city_Ottawa', 'city_Winnipeg', 'city_Vancouver', 'city_Victoria',\n",
    " 'city_Regina', 'city_West Vancouver']\n"
   ]
  },
  {
   "cell_type": "markdown",
   "id": "b4c21e37-043a-4661-99f9-1ffb93bd27f0",
   "metadata": {},
   "source": [
    "### Create dataframe"
   ]
  },
  {
   "cell_type": "code",
   "execution_count": 4,
   "id": "f9492eb8-3e32-4c93-8ce0-27c3537d2e99",
   "metadata": {
    "execution": {
     "iopub.execute_input": "2025-02-25T00:02:59.479148Z",
     "iopub.status.busy": "2025-02-25T00:02:59.478124Z",
     "iopub.status.idle": "2025-02-25T00:02:59.494908Z",
     "shell.execute_reply": "2025-02-25T00:02:59.493341Z",
     "shell.execute_reply.started": "2025-02-25T00:02:59.479097Z"
    }
   },
   "outputs": [],
   "source": [
    "# Separate independent variable from dependent variable\n",
    "#X = pd.DataFrame(columns = kbest_30, index = list(range(0,5)))\n",
    "y = pd.DataFrame(columns = ['price'], index = list(range(0,5)))"
   ]
  },
  {
   "cell_type": "code",
   "execution_count": null,
   "id": "91bae29a-68fe-415e-aea0-fa54d98cc0da",
   "metadata": {},
   "outputs": [],
   "source": [
    "\n"
   ]
  },
  {
   "cell_type": "markdown",
   "id": "2eb5d56c-576c-45b9-b749-585c8666dcc6",
   "metadata": {},
   "source": [
    "### Load the model\n"
   ]
  },
  {
   "cell_type": "code",
   "execution_count": 5,
   "id": "81912804-1d21-47b1-890e-0972d26aad67",
   "metadata": {
    "execution": {
     "iopub.execute_input": "2025-02-25T00:02:59.496812Z",
     "iopub.status.busy": "2025-02-25T00:02:59.496282Z",
     "iopub.status.idle": "2025-02-25T00:02:59.520313Z",
     "shell.execute_reply": "2025-02-25T00:02:59.519362Z",
     "shell.execute_reply.started": "2025-02-25T00:02:59.496765Z"
    }
   },
   "outputs": [],
   "source": [
    "# Load the model and preprocessors (if saved)\n",
    "model = joblib.load(\"best_model_polynomial_degree2_kbest30.joblib\")\n",
    "converter = joblib.load(\"best_model_polynomial_degree2_kbest30_converter.joblib\")\n",
    "scaler = joblib.load(\"best_model_polynomial_degree2_kbest30_scaler.joblib\")"
   ]
  },
  {
   "cell_type": "code",
   "execution_count": 6,
   "id": "1743c9a5-e605-4dc0-876f-6f03a5bfff85",
   "metadata": {
    "execution": {
     "iopub.execute_input": "2025-02-25T00:02:59.525066Z",
     "iopub.status.busy": "2025-02-25T00:02:59.524550Z",
     "iopub.status.idle": "2025-02-25T00:02:59.551719Z",
     "shell.execute_reply": "2025-02-25T00:02:59.549690Z",
     "shell.execute_reply.started": "2025-02-25T00:02:59.525031Z"
    }
   },
   "outputs": [],
   "source": [
    "price = [\n",
    "    2000,\n",
    "    1450,\n",
    "    2695,\n",
    "    1985,\n",
    "    1799,\n",
    "]"
   ]
  },
  {
   "cell_type": "code",
   "execution_count": 7,
   "id": "e552579d-5e6f-47ac-b641-957ca008da8b",
   "metadata": {
    "execution": {
     "iopub.execute_input": "2025-02-25T00:02:59.553456Z",
     "iopub.status.busy": "2025-02-25T00:02:59.553027Z",
     "iopub.status.idle": "2025-02-25T00:02:59.583789Z",
     "shell.execute_reply": "2025-02-25T00:02:59.582635Z",
     "shell.execute_reply.started": "2025-02-25T00:02:59.553416Z"
    }
   },
   "outputs": [
    {
     "data": {
      "text/plain": [
       "30"
      ]
     },
     "execution_count": 7,
     "metadata": {},
     "output_type": "execute_result"
    }
   ],
   "source": [
    "#https://www.rentfaster.ca/ab/edmonton/rentals/townhouse/3-bedrooms/king-edward-park/pet-friendly/606335\n",
    "add1 = [53.516854400000,113.463416100000, 3,2.5, 1150, 0,0,0 ,0,0,0,0,0,0,0,0,0,0,0,0,0,0,1,0,0,0,0,0,0,0 ]\n",
    "#https://www.rentfaster.ca/ab/calgary/rentals/basement/1-bedroom/banff-trail/pet-friendly/540714\n",
    "add2 = [51.078215700000,114.118240800000, 1,1, 485, 0,1,0 ,1,0,0,0,0,0,0,0,0,0,0,0,1,0,0,0,0,0,0,0,0,0 ]\n",
    "# https://www.rentfaster.ca/bc/vancouver/rentals/apartment/1-bedroom/west-end/pet-friendly/579375?-RSYNCabs\n",
    "add3 = [49.287549139051,123.14036503577, 1,1, 447, 0,0,0 ,0,0,0,0,0,1,0,0,0,0,0,0,0,0,0,0,0,0,1,0,0,0 ]\n",
    "# https://www.rentfaster.ca/on/ottawa/rentals/apartment/1-bedroom/byward-market/pet-friendly/559539?-RSYNC\n",
    "add4 = [45.428845500000,75.686676400000, 1,1, 649, 0,0,0 ,0,1,0,0,0,0,0,0,0,1,0,0,0,0,0,0,1,0,0,0,0,0 ]\n",
    "# https://www.rentfaster.ca/qc/quebec/rentals/apartment/2-bedrooms/non-smoking/315473?-RSYNC\n",
    "add5 = [46.793479300000,71.235082600000, 2,1, 950, 0,0,0 ,0,0,0,0,0,0,0,0,0,0,1,0,0,0,0,0,0,0,0,0,0,0 ]\n",
    "len(add5)"
   ]
  },
  {
   "cell_type": "code",
   "execution_count": 8,
   "id": "c05770c0-41fb-4eb6-af92-a5f465727a97",
   "metadata": {
    "execution": {
     "iopub.execute_input": "2025-02-25T00:02:59.585362Z",
     "iopub.status.busy": "2025-02-25T00:02:59.584940Z",
     "iopub.status.idle": "2025-02-25T00:02:59.610139Z",
     "shell.execute_reply": "2025-02-25T00:02:59.609177Z",
     "shell.execute_reply.started": "2025-02-25T00:02:59.585327Z"
    }
   },
   "outputs": [],
   "source": [
    "\n",
    "X = pd.concat([pd.DataFrame(dict(zip(kbest_30, add1)), index=[0]),\n",
    "               pd.DataFrame(dict(zip(kbest_30, add2)), index=[1]),\n",
    "               pd.DataFrame(dict(zip(kbest_30, add3)), index=[2]),\n",
    "               pd.DataFrame(dict(zip(kbest_30, add4)), index=[3]),\n",
    "               pd.DataFrame(dict(zip(kbest_30, add5)), index=[4]),\n",
    "              ])\n"
   ]
  },
  {
   "cell_type": "code",
   "execution_count": 9,
   "id": "49cfad8f-5712-4ce9-b327-27c0e04f4b37",
   "metadata": {
    "execution": {
     "iopub.execute_input": "2025-02-25T00:02:59.611943Z",
     "iopub.status.busy": "2025-02-25T00:02:59.611305Z",
     "iopub.status.idle": "2025-02-25T00:02:59.632674Z",
     "shell.execute_reply": "2025-02-25T00:02:59.630410Z",
     "shell.execute_reply.started": "2025-02-25T00:02:59.611898Z"
    }
   },
   "outputs": [
    {
     "data": {
      "text/plain": [
       "latitude                              45.428846\n",
       "longitude                             75.686676\n",
       "beds                                   1.000000\n",
       "baths                                  1.000000\n",
       "sq_feet                              649.000000\n",
       "lease_term_6 months                    0.000000\n",
       "lease_term_Negotiable                  0.000000\n",
       "lease_term_Short Term                  0.000000\n",
       "type_Basement                          0.000000\n",
       "type_Condo Unit                        1.000000\n",
       "type_House                             0.000000\n",
       "type_Room For Rent                     0.000000\n",
       "smoking_Smoking Allowed                0.000000\n",
       "province_British Columbia              0.000000\n",
       "province_Manitoba                      0.000000\n",
       "province_Newfoundland and Labrador     0.000000\n",
       "province_Nova Scotia                   0.000000\n",
       "province_Ontario                       1.000000\n",
       "province_Quebec                        0.000000\n",
       "province_Saskatchewan                  0.000000\n",
       "city_Calgary                           0.000000\n",
       "city_Toronto                           0.000000\n",
       "city_Edmonton                          0.000000\n",
       "city_Montréal                          0.000000\n",
       "city_Ottawa                            1.000000\n",
       "city_Winnipeg                          0.000000\n",
       "city_Vancouver                         0.000000\n",
       "city_Victoria                          0.000000\n",
       "city_Regina                            0.000000\n",
       "city_West Vancouver                    0.000000\n",
       "Name: 3, dtype: float64"
      ]
     },
     "execution_count": 9,
     "metadata": {},
     "output_type": "execute_result"
    }
   ],
   "source": [
    "X.iloc[3]"
   ]
  },
  {
   "cell_type": "code",
   "execution_count": 10,
   "id": "177eb7b1-ce35-4ff2-b6a3-8b9a9edb8cb2",
   "metadata": {
    "execution": {
     "iopub.execute_input": "2025-02-25T00:02:59.634564Z",
     "iopub.status.busy": "2025-02-25T00:02:59.633972Z",
     "iopub.status.idle": "2025-02-25T00:02:59.642710Z",
     "shell.execute_reply": "2025-02-25T00:02:59.641788Z",
     "shell.execute_reply.started": "2025-02-25T00:02:59.634517Z"
    }
   },
   "outputs": [
    {
     "data": {
      "text/plain": [
       "Index(['latitude', 'longitude', 'beds', 'baths', 'sq_feet',\n",
       "       'lease_term_6 months', 'lease_term_Negotiable', 'lease_term_Short Term',\n",
       "       'type_Basement', 'type_Condo Unit', 'type_House', 'type_Room For Rent',\n",
       "       'smoking_Smoking Allowed', 'province_British Columbia',\n",
       "       'province_Manitoba', 'province_Newfoundland and Labrador',\n",
       "       'province_Nova Scotia', 'province_Ontario', 'province_Quebec',\n",
       "       'province_Saskatchewan', 'city_Calgary', 'city_Toronto',\n",
       "       'city_Edmonton', 'city_Montréal', 'city_Ottawa', 'city_Winnipeg',\n",
       "       'city_Vancouver', 'city_Victoria', 'city_Regina',\n",
       "       'city_West Vancouver'],\n",
       "      dtype='object')"
      ]
     },
     "execution_count": 10,
     "metadata": {},
     "output_type": "execute_result"
    }
   ],
   "source": [
    "X.columns"
   ]
  },
  {
   "cell_type": "raw",
   "id": "83171e3c-a007-431b-b73f-9e828c97f299",
   "metadata": {},
   "source": [
    "['latitude', 'longitude', 'beds', 'baths', 'sq_feet',\n",
    "       'lease_term_6 months', 'lease_term_Negotiable', 'lease_term_Short Term',\n",
    "       'type_Basement', 'type_Condo Unit', 'type_House', 'type_Room For Rent',\n",
    "       'smoking_Smoking Allowed', 'province_British Columbia',\n",
    "       'province_Manitoba', 'province_Newfoundland and Labrador',\n",
    "       'province_Nova Scotia', 'province_Ontario', 'province_Quebec',\n",
    "       'province_Saskatchewan', 'city_Calgary', 'city_Toronto',\n",
    "       'city_Edmonton', 'city_Montréal', 'city_Ottawa', 'city_Winnipeg',\n",
    "       'city_Vancouver', 'city_Victoria', 'city_Regina',\n",
    "       'city_West Vancouver']"
   ]
  },
  {
   "cell_type": "code",
   "execution_count": 11,
   "id": "68303947-b1ca-43b3-b34d-5f1dd95d35d0",
   "metadata": {
    "execution": {
     "iopub.execute_input": "2025-02-25T00:02:59.645139Z",
     "iopub.status.busy": "2025-02-25T00:02:59.644024Z",
     "iopub.status.idle": "2025-02-25T00:02:59.672437Z",
     "shell.execute_reply": "2025-02-25T00:02:59.670842Z",
     "shell.execute_reply.started": "2025-02-25T00:02:59.645090Z"
    }
   },
   "outputs": [],
   "source": [
    "kbest_30 = ['latitude', 'longitude', 'beds', 'baths', 'sq_feet', 'lease_term_6 months',\n",
    " 'lease_term_Negotiable', 'lease_term_Short Term', 'type_Basement',\n",
    " 'type_Condo Unit', 'type_House', 'type_Room For Rent',\n",
    " 'smoking_Smoking Allowed', 'province_British Columbia', 'province_Manitoba',\n",
    " 'province_Newfoundland and Labrador', 'province_Nova Scotia',\n",
    " 'province_Ontario', 'province_Quebec', 'province_Saskatchewan',\n",
    " 'city_Calgary', 'city_Toronto', 'city_Edmonton', 'city_Montréal',\n",
    " 'city_Ottawa', 'city_Winnipeg', 'city_Vancouver', 'city_Victoria',\n",
    " 'city_Regina', 'city_West Vancouver']\n"
   ]
  },
  {
   "cell_type": "code",
   "execution_count": 12,
   "id": "3607b65c-bfea-4af4-9800-b831f5e1fefd",
   "metadata": {
    "execution": {
     "iopub.execute_input": "2025-02-25T00:02:59.676240Z",
     "iopub.status.busy": "2025-02-25T00:02:59.673822Z",
     "iopub.status.idle": "2025-02-25T00:02:59.706161Z",
     "shell.execute_reply": "2025-02-25T00:02:59.705008Z",
     "shell.execute_reply.started": "2025-02-25T00:02:59.676188Z"
    }
   },
   "outputs": [
    {
     "name": "stdout",
     "output_type": "stream",
     "text": [
      "Predicted price: [2221.98549831 1461.05463461 2715.19088823 2269.74765864 1845.46210163]\n"
     ]
    }
   ],
   "source": [
    "# Transform and scale the new data\n",
    "new_data_poly = converter.transform(X)\n",
    "new_data_poly_scaled = scaler.transform(new_data_poly)\n",
    "\n",
    "# Make predictions\n",
    "prediction = model.predict(new_data_poly_scaled)\n",
    "print(\"Predicted price:\", prediction)"
   ]
  },
  {
   "cell_type": "code",
   "execution_count": 32,
   "id": "7c354ebe-535b-42bb-b5e8-834379c24478",
   "metadata": {
    "execution": {
     "iopub.execute_input": "2025-02-25T00:47:05.851340Z",
     "iopub.status.busy": "2025-02-25T00:47:05.850802Z",
     "iopub.status.idle": "2025-02-25T00:47:05.867711Z",
     "shell.execute_reply": "2025-02-25T00:47:05.864628Z",
     "shell.execute_reply.started": "2025-02-25T00:47:05.851289Z"
    }
   },
   "outputs": [
    {
     "name": "stdout",
     "output_type": "stream",
     "text": [
      "[-221.98549831  -11.05463461  -20.19088823 -284.74765864  -46.46210163]\n",
      "The Mean Absolute Error = 117\n",
      "The Mean Square Error = 26609\n",
      "The Root Mean Square Error = 163.12\n",
      "\n",
      "\n"
     ]
    }
   ],
   "source": [
    "print(price - prediction)\n",
    "mae = mean_absolute_error(price, prediction)\n",
    "\n",
    "mse = mean_squared_error(price, prediction)\n",
    "\n",
    "rmse = np.sqrt(mse)\n",
    "\n",
    "print(f'The Mean Absolute Error = {mae:.0f}\\n\\\n",
    "The Mean Square Error = {mse:.0f}\\n\\\n",
    "The Root Mean Square Error = {rmse:.2f}\\n\\n')"
   ]
  },
  {
   "cell_type": "code",
   "execution_count": 31,
   "id": "9b8236ed-e333-4ef8-93dd-5c16ea5542e2",
   "metadata": {
    "execution": {
     "iopub.execute_input": "2025-02-25T00:14:06.487184Z",
     "iopub.status.busy": "2025-02-25T00:14:06.486629Z",
     "iopub.status.idle": "2025-02-25T00:14:06.965293Z",
     "shell.execute_reply": "2025-02-25T00:14:06.963858Z",
     "shell.execute_reply.started": "2025-02-25T00:14:06.487135Z"
    }
   },
   "outputs": [
    {
     "data": {
      "image/png": "[encoded data removed]",
      "text/plain": [
       "<Figure size 800x800 with 1 Axes>"
      ]
     },
     "metadata": {},
     "output_type": "display_data"
    }
   ],
   "source": [
    "y_true  = pd.DataFrame(dict(zip([0,1,2,3,4],price)), index=[0]).transpose().rename(columns = {0:'obs 2025'})\n",
    "y_fcst  = pd.DataFrame(dict(zip([0,1,2,3,4],prediction)), index=[0]).transpose().rename(columns = {0:'prediction'})\n",
    "\n",
    "y_new = y_true.join(y_fcst).rename(index={0:'Edmonton',1:'Calgary',2:'Vancouver',3:'Ottawa',4:'Québec'})\n",
    "# Create figure and adjust size\n",
    "plt.figure(figsize = (8, 8))\n",
    "\n",
    "# Add scatter plot\n",
    "ax = sns.scatterplot(y_new)\n",
    "\n",
    "# Set title\n",
    "ax.set_title('Validation 5 Housing Rental Adds Across Canada')\n",
    "\n",
    "# Adjust the axis label\n",
    "ax.set(xlabel='City of the Add', ylabel='Price')\n",
    "\n",
    "\n",
    "plt.savefig('../Graph/5_cases_validation_2025.png')"
   ]
  },
  {
   "cell_type": "code",
   "execution_count": 15,
   "id": "86778c10-6c2f-4dca-8c84-6372925bc2a8",
   "metadata": {
    "execution": {
     "iopub.execute_input": "2025-02-25T00:03:00.080829Z",
     "iopub.status.busy": "2025-02-25T00:03:00.079555Z",
     "iopub.status.idle": "2025-02-25T00:03:00.096715Z",
     "shell.execute_reply": "2025-02-25T00:03:00.095376Z",
     "shell.execute_reply.started": "2025-02-25T00:03:00.080786Z"
    }
   },
   "outputs": [
    {
     "data": {
      "text/html": [
       "<div>\n",
       "<style scoped>\n",
       "    .dataframe tbody tr th:only-of-type {\n",
       "        vertical-align: middle;\n",
       "    }\n",
       "\n",
       "    .dataframe tbody tr th {\n",
       "        vertical-align: top;\n",
       "    }\n",
       "\n",
       "    .dataframe thead th {\n",
       "        text-align: right;\n",
       "    }\n",
       "</style>\n",
       "<table border=\"1\" class=\"dataframe\">\n",
       "  <thead>\n",
       "    <tr style=\"text-align: right;\">\n",
       "      <th></th>\n",
       "      <th>0</th>\n",
       "    </tr>\n",
       "  </thead>\n",
       "  <tbody>\n",
       "    <tr>\n",
       "      <th>0</th>\n",
       "      <td>2000</td>\n",
       "    </tr>\n",
       "    <tr>\n",
       "      <th>1</th>\n",
       "      <td>1450</td>\n",
       "    </tr>\n",
       "    <tr>\n",
       "      <th>2</th>\n",
       "      <td>2695</td>\n",
       "    </tr>\n",
       "    <tr>\n",
       "      <th>3</th>\n",
       "      <td>1985</td>\n",
       "    </tr>\n",
       "    <tr>\n",
       "      <th>4</th>\n",
       "      <td>1799</td>\n",
       "    </tr>\n",
       "  </tbody>\n",
       "</table>\n",
       "</div>"
      ],
      "text/plain": [
       "      0\n",
       "0  2000\n",
       "1  1450\n",
       "2  2695\n",
       "3  1985\n",
       "4  1799"
      ]
     },
     "execution_count": 15,
     "metadata": {},
     "output_type": "execute_result"
    }
   ],
   "source": [
    "dict(zip([0,1,2,3,4],price))\n",
    "\n",
    "pd.DataFrame(dict(zip([0,1,2,3,4],price)), index=[0]).transpose()"
   ]
  },
  {
   "cell_type": "code",
   "execution_count": 16,
   "id": "4a995b7b-2a42-4f0c-ba0d-7652af60554b",
   "metadata": {
    "execution": {
     "iopub.execute_input": "2025-02-25T00:03:00.098750Z",
     "iopub.status.busy": "2025-02-25T00:03:00.098179Z",
     "iopub.status.idle": "2025-02-25T00:03:00.128329Z",
     "shell.execute_reply": "2025-02-25T00:03:00.127075Z",
     "shell.execute_reply.started": "2025-02-25T00:03:00.098702Z"
    }
   },
   "outputs": [
    {
     "data": {
      "text/html": [
       "<div>\n",
       "<style scoped>\n",
       "    .dataframe tbody tr th:only-of-type {\n",
       "        vertical-align: middle;\n",
       "    }\n",
       "\n",
       "    .dataframe tbody tr th {\n",
       "        vertical-align: top;\n",
       "    }\n",
       "\n",
       "    .dataframe thead th {\n",
       "        text-align: right;\n",
       "    }\n",
       "</style>\n",
       "<table border=\"1\" class=\"dataframe\">\n",
       "  <thead>\n",
       "    <tr style=\"text-align: right;\">\n",
       "      <th></th>\n",
       "      <th>0</th>\n",
       "    </tr>\n",
       "  </thead>\n",
       "  <tbody>\n",
       "    <tr>\n",
       "      <th>0</th>\n",
       "      <td>2221.985498</td>\n",
       "    </tr>\n",
       "    <tr>\n",
       "      <th>1</th>\n",
       "      <td>1461.054635</td>\n",
       "    </tr>\n",
       "    <tr>\n",
       "      <th>2</th>\n",
       "      <td>2715.190888</td>\n",
       "    </tr>\n",
       "    <tr>\n",
       "      <th>3</th>\n",
       "      <td>2269.747659</td>\n",
       "    </tr>\n",
       "    <tr>\n",
       "      <th>4</th>\n",
       "      <td>1845.462102</td>\n",
       "    </tr>\n",
       "  </tbody>\n",
       "</table>\n",
       "</div>"
      ],
      "text/plain": [
       "            0\n",
       "0 2221.985498\n",
       "1 1461.054635\n",
       "2 2715.190888\n",
       "3 2269.747659\n",
       "4 1845.462102"
      ]
     },
     "execution_count": 16,
     "metadata": {},
     "output_type": "execute_result"
    }
   ],
   "source": [
    "pd.DataFrame(dict(zip([0,1,2,3,4],prediction)), index=[0]).transpose()"
   ]
  }
 ],
 "metadata": {
  "kernelspec": {
   "display_name": "graph",
   "language": "python",
   "name": "graph"
  },
  "language_info": {
   "codemirror_mode": {
    "name": "ipython",
    "version": 3
   },
   "file_extension": ".py",
   "mimetype": "text/x-python",
   "name": "python",
   "nbconvert_exporter": "python",
   "pygments_lexer": "ipython3",
   "version": "3.12.7"
  }
 },
 "nbformat": 4,
 "nbformat_minor": 5
}

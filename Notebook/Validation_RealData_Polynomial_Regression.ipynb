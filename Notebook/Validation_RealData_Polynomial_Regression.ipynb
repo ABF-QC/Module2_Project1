{
 "cells": [
  {
   "cell_type": "markdown",
   "id": "2bb59be7-7607-461f-aa16-f0c3c097f326",
   "metadata": {},
   "source": [
    "### Importing necessary library"
   ]
  },
  {
   "cell_type": "code",
   "execution_count": 1,
   "id": "2e3928eb-14a8-4bdf-9494-af7002b535bf",
   "metadata": {
    "execution": {
     "iopub.execute_input": "2025-02-24T23:11:40.652830Z",
     "iopub.status.busy": "2025-02-24T23:11:40.649857Z",
     "iopub.status.idle": "2025-02-24T23:11:42.893073Z",
     "shell.execute_reply": "2025-02-24T23:11:42.891106Z",
     "shell.execute_reply.started": "2025-02-24T23:11:40.652779Z"
    }
   },
   "outputs": [],
   "source": [
    "import pandas as pd\n",
    "import numpy as np\n",
    "\n",
    "import datetime\n",
    "\n",
    "import seaborn as sns\n",
    "import matplotlib.pyplot as plt\n",
    "\n",
    "import scipy.stats as stats\n",
    "\n",
    "from sklearn.preprocessing import StandardScaler\n",
    "from sklearn.linear_model import LinearRegression\n",
    "from sklearn.preprocessing import PolynomialFeatures\n",
    "from sklearn.model_selection import train_test_split\n",
    "\n",
    "from sklearn.metrics import mean_absolute_error, mean_squared_error\n",
    "from sklearn.metrics import r2_score\n",
    "\n",
    "import joblib"
   ]
  },
  {
   "cell_type": "markdown",
   "id": "20742c6e-0a8d-4c89-bf88-09c0c2940c1c",
   "metadata": {},
   "source": [
    "### Define global settings"
   ]
  },
  {
   "cell_type": "code",
   "execution_count": 2,
   "id": "00afae7a-f958-423d-bd80-9a38d18cbabf",
   "metadata": {
    "execution": {
     "iopub.execute_input": "2025-02-24T23:11:42.895117Z",
     "iopub.status.busy": "2025-02-24T23:11:42.894487Z",
     "iopub.status.idle": "2025-02-24T23:11:42.900762Z",
     "shell.execute_reply": "2025-02-24T23:11:42.899462Z",
     "shell.execute_reply.started": "2025-02-24T23:11:42.895086Z"
    }
   },
   "outputs": [],
   "source": [
    "pd.options.display.float_format = '{:.6f}'.format"
   ]
  },
  {
   "cell_type": "markdown",
   "id": "a4f69c1f-e803-4802-9728-0db821cdceab",
   "metadata": {},
   "source": [
    "### Features to keep"
   ]
  },
  {
   "cell_type": "code",
   "execution_count": 3,
   "id": "f4a4309c-460c-4504-b6cc-87d0bc1d6cb0",
   "metadata": {
    "execution": {
     "iopub.execute_input": "2025-02-24T23:11:42.903175Z",
     "iopub.status.busy": "2025-02-24T23:11:42.902555Z",
     "iopub.status.idle": "2025-02-24T23:11:42.923598Z",
     "shell.execute_reply": "2025-02-24T23:11:42.922821Z",
     "shell.execute_reply.started": "2025-02-24T23:11:42.903121Z"
    }
   },
   "outputs": [],
   "source": [
    "kbest_30 = ['latitude', 'longitude', 'beds', 'baths', 'sq_feet', 'lease_term_6 months',\n",
    " 'lease_term_Negotiable', 'lease_term_Short Term', 'type_Basement',\n",
    " 'type_Condo Unit', 'type_House', 'type_Room For Rent',\n",
    " 'smoking_Smoking Allowed', 'province_British Columbia', 'province_Manitoba',\n",
    " 'province_Newfoundland and Labrador', 'province_Nova Scotia',\n",
    " 'province_Ontario', 'province_Quebec', 'province_Saskatchewan',\n",
    " 'city_Calgary', 'city_Toronto', 'city_Edmonton', 'city_Montréal',\n",
    " 'city_Ottawa', 'city_Winnipeg', 'city_Vancouver', 'city_Victoria',\n",
    " 'city_Regina', 'city_West Vancouver']\n"
   ]
  },
  {
   "cell_type": "markdown",
   "id": "b4c21e37-043a-4661-99f9-1ffb93bd27f0",
   "metadata": {},
   "source": [
    "### Create dataframe"
   ]
  },
  {
   "cell_type": "code",
   "execution_count": 4,
   "id": "f9492eb8-3e32-4c93-8ce0-27c3537d2e99",
   "metadata": {
    "execution": {
     "iopub.execute_input": "2025-02-24T23:11:42.925401Z",
     "iopub.status.busy": "2025-02-24T23:11:42.924881Z",
     "iopub.status.idle": "2025-02-24T23:11:42.953104Z",
     "shell.execute_reply": "2025-02-24T23:11:42.952265Z",
     "shell.execute_reply.started": "2025-02-24T23:11:42.925356Z"
    }
   },
   "outputs": [],
   "source": [
    "# Separate independent variable from dependent variable\n",
    "#X = pd.DataFrame(columns = kbest_30, index = list(range(0,5)))\n",
    "y = pd.DataFrame(columns = ['price'], index = list(range(0,5)))"
   ]
  },
  {
   "cell_type": "code",
   "execution_count": null,
   "id": "91bae29a-68fe-415e-aea0-fa54d98cc0da",
   "metadata": {},
   "outputs": [],
   "source": [
    "\n"
   ]
  },
  {
   "cell_type": "markdown",
   "id": "2eb5d56c-576c-45b9-b749-585c8666dcc6",
   "metadata": {},
   "source": [
    "### Load the model\n"
   ]
  },
  {
   "cell_type": "code",
   "execution_count": 5,
   "id": "81912804-1d21-47b1-890e-0972d26aad67",
   "metadata": {
    "execution": {
     "iopub.execute_input": "2025-02-24T23:11:42.954455Z",
     "iopub.status.busy": "2025-02-24T23:11:42.954151Z",
     "iopub.status.idle": "2025-02-24T23:11:42.983500Z",
     "shell.execute_reply": "2025-02-24T23:11:42.981674Z",
     "shell.execute_reply.started": "2025-02-24T23:11:42.954428Z"
    }
   },
   "outputs": [],
   "source": [
    "# Load the model and preprocessors (if saved)\n",
    "model = joblib.load(\"best_model_polynomial_degree2_kbest30.joblib\")\n",
    "converter = joblib.load(\"best_model_polynomial_degree2_kbest30_converter.joblib\")\n",
    "scaler = joblib.load(\"best_model_polynomial_degree2_kbest30_scaler.joblib\")"
   ]
  },
  {
   "cell_type": "code",
   "execution_count": 6,
   "id": "1743c9a5-e605-4dc0-876f-6f03a5bfff85",
   "metadata": {
    "execution": {
     "iopub.execute_input": "2025-02-24T23:11:42.987910Z",
     "iopub.status.busy": "2025-02-24T23:11:42.987310Z",
     "iopub.status.idle": "2025-02-24T23:11:42.994382Z",
     "shell.execute_reply": "2025-02-24T23:11:42.992945Z",
     "shell.execute_reply.started": "2025-02-24T23:11:42.987861Z"
    }
   },
   "outputs": [],
   "source": [
    "price = [\n",
    "    2000,\n",
    "    1450,\n",
    "    2695,\n",
    "    1985,\n",
    "    1799,\n",
    "]"
   ]
  },
  {
   "cell_type": "code",
   "execution_count": 7,
   "id": "e552579d-5e6f-47ac-b641-957ca008da8b",
   "metadata": {
    "execution": {
     "iopub.execute_input": "2025-02-24T23:11:42.995913Z",
     "iopub.status.busy": "2025-02-24T23:11:42.995362Z",
     "iopub.status.idle": "2025-02-24T23:11:43.023830Z",
     "shell.execute_reply": "2025-02-24T23:11:43.022519Z",
     "shell.execute_reply.started": "2025-02-24T23:11:42.995868Z"
    }
   },
   "outputs": [
    {
     "data": {
      "text/plain": [
       "30"
      ]
     },
     "execution_count": 7,
     "metadata": {},
     "output_type": "execute_result"
    }
   ],
   "source": [
    "#https://www.rentfaster.ca/ab/edmonton/rentals/townhouse/3-bedrooms/king-edward-park/pet-friendly/606335\n",
    "add1 = [53.516854400000,-113.463416100000, 3,2.5, 1150, 0,0,0 ,0,0,0,0,0,0,0,0,0,0,0,0,0,0,1,0,0,0,0,0,0,0 ]\n",
    "#https://www.rentfaster.ca/ab/calgary/rentals/basement/1-bedroom/banff-trail/pet-friendly/540714\n",
    "add2 = [51.078215700000,-114.118240800000, 1,1, 485, 0,1,0 ,1,0,0,0,0,0,0,0,0,0,0,0,1,0,0,0,0,0,0,0,0,0 ]\n",
    "# https://www.rentfaster.ca/bc/vancouver/rentals/apartment/1-bedroom/west-end/pet-friendly/579375?-RSYNCabs\n",
    "add3 = [49.287549139051,-123.14036503577, 1,1, 447, 0,0,0 ,0,0,0,0,0,1,0,0,0,0,0,0,0,0,0,0,0,0,1,0,0,0 ]\n",
    "# https://www.rentfaster.ca/on/ottawa/rentals/apartment/1-bedroom/byward-market/pet-friendly/559539?-RSYNC\n",
    "add4 = [45.428845500000,-75.686676400000, 1,1, 649, 0,0,0 ,0,1,0,0,0,0,0,0,0,1,0,0,0,0,0,0,0,1,0,0,0,0 ]\n",
    "# https://www.rentfaster.ca/qc/quebec/rentals/apartment/2-bedrooms/non-smoking/315473?-RSYNC\n",
    "add5 = [46.793479300000,-71.235082600000, 2,1, 950, 0,0,0 ,0,0,0,0,0,0,0,0,0,0,1,0,0,0,0,0,0,0,0,0,0,0 ]\n",
    "len(add5)"
   ]
  },
  {
   "cell_type": "code",
   "execution_count": 8,
   "id": "c05770c0-41fb-4eb6-af92-a5f465727a97",
   "metadata": {
    "execution": {
     "iopub.execute_input": "2025-02-24T23:11:43.025624Z",
     "iopub.status.busy": "2025-02-24T23:11:43.025186Z",
     "iopub.status.idle": "2025-02-24T23:11:43.052777Z",
     "shell.execute_reply": "2025-02-24T23:11:43.051487Z",
     "shell.execute_reply.started": "2025-02-24T23:11:43.025593Z"
    }
   },
   "outputs": [],
   "source": [
    "\n",
    "X = pd.concat([pd.DataFrame(dict(zip(kbest_30, add1)), index=[0]),\n",
    "               pd.DataFrame(dict(zip(kbest_30, add2)), index=[1]),\n",
    "               pd.DataFrame(dict(zip(kbest_30, add3)), index=[2]),\n",
    "               pd.DataFrame(dict(zip(kbest_30, add4)), index=[3]),\n",
    "               pd.DataFrame(dict(zip(kbest_30, add5)), index=[4]),\n",
    "              ])\n"
   ]
  },
  {
   "cell_type": "code",
   "execution_count": 9,
   "id": "177eb7b1-ce35-4ff2-b6a3-8b9a9edb8cb2",
   "metadata": {
    "execution": {
     "iopub.execute_input": "2025-02-24T23:11:43.054736Z",
     "iopub.status.busy": "2025-02-24T23:11:43.054127Z",
     "iopub.status.idle": "2025-02-24T23:11:43.128162Z",
     "shell.execute_reply": "2025-02-24T23:11:43.126367Z",
     "shell.execute_reply.started": "2025-02-24T23:11:43.054690Z"
    }
   },
   "outputs": [
    {
     "data": {
      "text/html": [
       "<div>\n",
       "<style scoped>\n",
       "    .dataframe tbody tr th:only-of-type {\n",
       "        vertical-align: middle;\n",
       "    }\n",
       "\n",
       "    .dataframe tbody tr th {\n",
       "        vertical-align: top;\n",
       "    }\n",
       "\n",
       "    .dataframe thead th {\n",
       "        text-align: right;\n",
       "    }\n",
       "</style>\n",
       "<table border=\"1\" class=\"dataframe\">\n",
       "  <thead>\n",
       "    <tr style=\"text-align: right;\">\n",
       "      <th></th>\n",
       "      <th>latitude</th>\n",
       "      <th>longitude</th>\n",
       "      <th>beds</th>\n",
       "      <th>baths</th>\n",
       "      <th>sq_feet</th>\n",
       "      <th>lease_term_6 months</th>\n",
       "      <th>lease_term_Negotiable</th>\n",
       "      <th>lease_term_Short Term</th>\n",
       "      <th>type_Basement</th>\n",
       "      <th>type_Condo Unit</th>\n",
       "      <th>...</th>\n",
       "      <th>city_Calgary</th>\n",
       "      <th>city_Toronto</th>\n",
       "      <th>city_Edmonton</th>\n",
       "      <th>city_Montréal</th>\n",
       "      <th>city_Ottawa</th>\n",
       "      <th>city_Winnipeg</th>\n",
       "      <th>city_Vancouver</th>\n",
       "      <th>city_Victoria</th>\n",
       "      <th>city_Regina</th>\n",
       "      <th>city_West Vancouver</th>\n",
       "    </tr>\n",
       "  </thead>\n",
       "  <tbody>\n",
       "    <tr>\n",
       "      <th>0</th>\n",
       "      <td>53.516854</td>\n",
       "      <td>-113.463416</td>\n",
       "      <td>3</td>\n",
       "      <td>2.500000</td>\n",
       "      <td>1150</td>\n",
       "      <td>0</td>\n",
       "      <td>0</td>\n",
       "      <td>0</td>\n",
       "      <td>0</td>\n",
       "      <td>0</td>\n",
       "      <td>...</td>\n",
       "      <td>0</td>\n",
       "      <td>0</td>\n",
       "      <td>1</td>\n",
       "      <td>0</td>\n",
       "      <td>0</td>\n",
       "      <td>0</td>\n",
       "      <td>0</td>\n",
       "      <td>0</td>\n",
       "      <td>0</td>\n",
       "      <td>0</td>\n",
       "    </tr>\n",
       "    <tr>\n",
       "      <th>1</th>\n",
       "      <td>51.078216</td>\n",
       "      <td>-114.118241</td>\n",
       "      <td>1</td>\n",
       "      <td>1.000000</td>\n",
       "      <td>485</td>\n",
       "      <td>0</td>\n",
       "      <td>1</td>\n",
       "      <td>0</td>\n",
       "      <td>1</td>\n",
       "      <td>0</td>\n",
       "      <td>...</td>\n",
       "      <td>1</td>\n",
       "      <td>0</td>\n",
       "      <td>0</td>\n",
       "      <td>0</td>\n",
       "      <td>0</td>\n",
       "      <td>0</td>\n",
       "      <td>0</td>\n",
       "      <td>0</td>\n",
       "      <td>0</td>\n",
       "      <td>0</td>\n",
       "    </tr>\n",
       "    <tr>\n",
       "      <th>2</th>\n",
       "      <td>49.287549</td>\n",
       "      <td>-123.140365</td>\n",
       "      <td>1</td>\n",
       "      <td>1.000000</td>\n",
       "      <td>447</td>\n",
       "      <td>0</td>\n",
       "      <td>0</td>\n",
       "      <td>0</td>\n",
       "      <td>0</td>\n",
       "      <td>0</td>\n",
       "      <td>...</td>\n",
       "      <td>0</td>\n",
       "      <td>0</td>\n",
       "      <td>0</td>\n",
       "      <td>0</td>\n",
       "      <td>0</td>\n",
       "      <td>0</td>\n",
       "      <td>1</td>\n",
       "      <td>0</td>\n",
       "      <td>0</td>\n",
       "      <td>0</td>\n",
       "    </tr>\n",
       "    <tr>\n",
       "      <th>3</th>\n",
       "      <td>45.428846</td>\n",
       "      <td>-75.686676</td>\n",
       "      <td>1</td>\n",
       "      <td>1.000000</td>\n",
       "      <td>649</td>\n",
       "      <td>0</td>\n",
       "      <td>0</td>\n",
       "      <td>0</td>\n",
       "      <td>0</td>\n",
       "      <td>1</td>\n",
       "      <td>...</td>\n",
       "      <td>0</td>\n",
       "      <td>0</td>\n",
       "      <td>0</td>\n",
       "      <td>0</td>\n",
       "      <td>0</td>\n",
       "      <td>1</td>\n",
       "      <td>0</td>\n",
       "      <td>0</td>\n",
       "      <td>0</td>\n",
       "      <td>0</td>\n",
       "    </tr>\n",
       "    <tr>\n",
       "      <th>4</th>\n",
       "      <td>46.793479</td>\n",
       "      <td>-71.235083</td>\n",
       "      <td>2</td>\n",
       "      <td>1.000000</td>\n",
       "      <td>950</td>\n",
       "      <td>0</td>\n",
       "      <td>0</td>\n",
       "      <td>0</td>\n",
       "      <td>0</td>\n",
       "      <td>0</td>\n",
       "      <td>...</td>\n",
       "      <td>0</td>\n",
       "      <td>0</td>\n",
       "      <td>0</td>\n",
       "      <td>0</td>\n",
       "      <td>0</td>\n",
       "      <td>0</td>\n",
       "      <td>0</td>\n",
       "      <td>0</td>\n",
       "      <td>0</td>\n",
       "      <td>0</td>\n",
       "    </tr>\n",
       "  </tbody>\n",
       "</table>\n",
       "<p>5 rows × 30 columns</p>\n",
       "</div>"
      ],
      "text/plain": [
       "   latitude   longitude  beds    baths  sq_feet  lease_term_6 months  \\\n",
       "0 53.516854 -113.463416     3 2.500000     1150                    0   \n",
       "1 51.078216 -114.118241     1 1.000000      485                    0   \n",
       "2 49.287549 -123.140365     1 1.000000      447                    0   \n",
       "3 45.428846  -75.686676     1 1.000000      649                    0   \n",
       "4 46.793479  -71.235083     2 1.000000      950                    0   \n",
       "\n",
       "   lease_term_Negotiable  lease_term_Short Term  type_Basement  \\\n",
       "0                      0                      0              0   \n",
       "1                      1                      0              1   \n",
       "2                      0                      0              0   \n",
       "3                      0                      0              0   \n",
       "4                      0                      0              0   \n",
       "\n",
       "   type_Condo Unit  ...  city_Calgary  city_Toronto  city_Edmonton  \\\n",
       "0                0  ...             0             0              1   \n",
       "1                0  ...             1             0              0   \n",
       "2                0  ...             0             0              0   \n",
       "3                1  ...             0             0              0   \n",
       "4                0  ...             0             0              0   \n",
       "\n",
       "   city_Montréal  city_Ottawa  city_Winnipeg  city_Vancouver  city_Victoria  \\\n",
       "0              0            0              0               0              0   \n",
       "1              0            0              0               0              0   \n",
       "2              0            0              0               1              0   \n",
       "3              0            0              1               0              0   \n",
       "4              0            0              0               0              0   \n",
       "\n",
       "   city_Regina  city_West Vancouver  \n",
       "0            0                    0  \n",
       "1            0                    0  \n",
       "2            0                    0  \n",
       "3            0                    0  \n",
       "4            0                    0  \n",
       "\n",
       "[5 rows x 30 columns]"
      ]
     },
     "execution_count": 9,
     "metadata": {},
     "output_type": "execute_result"
    }
   ],
   "source": [
    "X"
   ]
  },
  {
   "cell_type": "code",
   "execution_count": 10,
   "id": "68303947-b1ca-43b3-b34d-5f1dd95d35d0",
   "metadata": {
    "execution": {
     "iopub.execute_input": "2025-02-24T23:11:43.132086Z",
     "iopub.status.busy": "2025-02-24T23:11:43.131540Z",
     "iopub.status.idle": "2025-02-24T23:11:43.143528Z",
     "shell.execute_reply": "2025-02-24T23:11:43.139757Z",
     "shell.execute_reply.started": "2025-02-24T23:11:43.132039Z"
    }
   },
   "outputs": [],
   "source": [
    "kbest_30 = ['latitude', 'longitude', 'beds', 'baths', 'sq_feet', 'lease_term_6 months',\n",
    " 'lease_term_Negotiable', 'lease_term_Short Term', 'type_Basement',\n",
    " 'type_Condo Unit', 'type_House', 'type_Room For Rent',\n",
    " 'smoking_Smoking Allowed', 'province_British Columbia', 'province_Manitoba',\n",
    " 'province_Newfoundland and Labrador', 'province_Nova Scotia',\n",
    " 'province_Ontario', 'province_Quebec', 'province_Saskatchewan',\n",
    " 'city_Calgary', 'city_Toronto', 'city_Edmonton', 'city_Montréal',\n",
    " 'city_Ottawa', 'city_Winnipeg', 'city_Vancouver', 'city_Victoria',\n",
    " 'city_Regina', 'city_West Vancouver']\n"
   ]
  },
  {
   "cell_type": "code",
   "execution_count": 11,
   "id": "3607b65c-bfea-4af4-9800-b831f5e1fefd",
   "metadata": {
    "execution": {
     "iopub.execute_input": "2025-02-24T23:13:18.775404Z",
     "iopub.status.busy": "2025-02-24T23:13:18.771385Z",
     "iopub.status.idle": "2025-02-24T23:13:18.804971Z",
     "shell.execute_reply": "2025-02-24T23:13:18.803588Z",
     "shell.execute_reply.started": "2025-02-24T23:13:18.775261Z"
    }
   },
   "outputs": [
    {
     "name": "stdout",
     "output_type": "stream",
     "text": [
      "Predicted price: [-192566.64533288 -347856.58645089 -430144.21887108 -146955.76577593\n",
      "  -95226.9622996 ]\n"
     ]
    }
   ],
   "source": [
    "# Transform and scale the new data\n",
    "new_data_poly = converter.transform(X)\n",
    "new_data_poly_scaled = scaler.transform(new_data_poly)\n",
    "\n",
    "# Make predictions\n",
    "prediction = model.predict(new_data_poly_scaled)\n",
    "print(\"Predicted price:\", prediction)"
   ]
  }
 ],
 "metadata": {
  "kernelspec": {
   "display_name": "graph",
   "language": "python",
   "name": "graph"
  },
  "language_info": {
   "codemirror_mode": {
    "name": "ipython",
    "version": 3
   },
   "file_extension": ".py",
   "mimetype": "text/x-python",
   "name": "python",
   "nbconvert_exporter": "python",
   "pygments_lexer": "ipython3",
   "version": "3.12.7"
  }
 },
 "nbformat": 4,
 "nbformat_minor": 5
}

{
 "cells": [
  {
   "cell_type": "markdown",
   "id": "6960aa4a-1426-4cff-99d1-8a31dbbfa1f3",
   "metadata": {},
   "source": [
    "---\n",
    "\n",
    "# Polynomial Regression\n",
    "\n",
    "6 linear models will be tested in attempting to find the best model to fit the dataset.\n",
    "\n",
    "Fom the 6 set features tested, 3 were chosen with SelectKBest and 3 were chosen by taking the highest correlated features. The steps of the selection of features can be seen in the Feature_Engineering.ipynb.\n",
    "\n",
    "\n",
    "| Produced with hihest Correlation                      | Produced with SelectKBest                      |\n",
    "|------------------------------|------------------------------|\n",
    "| baths                        | latitude                     |\n",
    "| beds                         | longitude                    |\n",
    "| type_House                   | beds                         |\n",
    "| city_Toronto                 | baths                        |\n",
    "| latitude                     | sq_feet                      |\n",
    "| type_Room For Rent           | lease_term_6 months          |\n",
    "| province_Ontario             | lease_term_Negotiable        |\n",
    "| city_Edmonton                | lease_term_Short Term        |\n",
    "| type_Basement                | type_Basement                |\n",
    "| province_Saskatchewan        | type_Condo Unit              |\n",
    "| longitude                    | type_House                   |\n",
    "| sq_feet                      | type_Room For Rent           |\n",
    "| dogs                         | smoking_Smoking Allowed      |\n",
    "| city_Vancouver               | province_British Columbia    |\n",
    "| lease_term_Short Term        | province_Manitoba            |\n",
    "| province_Manitoba            | province_Newfoundland and Labrador |\n",
    "| province_British Columbia    | province_Nova Scotia         |\n",
    "| city_Winnipeg                | province_Ontario             |\n",
    "| city_Regina                  | province_Quebec              |\n",
    "| city_West Vancouver          | province_Saskatchewan        |\n",
    "| cats                         | city_Calgary                 |\n",
    "| city_Canmore                 | city_Toronto                 |\n",
    "| province_Nova Scotia         | city_Edmonton                |\n",
    "| smoking_Smoking Allowed      | city_Montréal                |\n",
    "| city_Halifax                 | city_Ottawa                  |\n",
    "| type_Duplex                  | city_Winnipeg                |\n",
    "| lease_term_Negotiable        | city_Vancouver               |\n",
    "| type_Condo Unit              | city_Victoria                |\n",
    "| lease_term_Long Term         | city_Regina                  |\n",
    "| city_Victoria                | city_West Vancouver          |\n",
    "\n",
    "The model is tested with a simple cross-validation method, the train-test split method. Where the model is trained on 80% of the dataset while the model is tested on 20% of the dataset.\n",
    "\n",
    "Before training any model, a search for the best polynomial degree will be done. \n",
    "\n",
    "**Here are the result**\n",
    "\n",
    "The most optimal polynomial degre was the second degree.\n",
    "\n",
    "| Regression Method   | Predictors  | Mean Absolute Error | Mean Square Error    | Root Mean Square Error | R2 scores   |\n",
    "| ------------------- | ----------- | ------------------- | -------------------- | ---------------------- | ----------- |\n",
    "| Polynomial (2nd)         | SelectKBest (15) | 319                | 197348             | 444                   | 0.63           |\n",
    "|                     | Highest corr (15)| 278                | 150742             | 388                   | 0.71           |\n",
    "|                     | SelectKBest (20) | 302                | 176505             | 420                   | 0.67           |\n",
    "|                     | Highest corr (20)| 274                | 147937             | 385                   | 0.72           |\n",
    "|                     | SelectKBest (30) | 263                | 134968             | 367                   | 0.74           |\n",
    "|                     | Highest corr (30)| 266                | 138808             | 373                   | 0.74           |\n",
    "\n",
    "**Conclusion**\n",
    "\n",
    "The results are better with the Polynomial Regression of second degree than the Linear regression, but we will keep investigating if a better model could be found with a with a custom Ordinary Least Square Fit.\n",
    "\n",
    "---"
   ]
  },
  {
   "cell_type": "markdown",
   "id": "2bb59be7-7607-461f-aa16-f0c3c097f326",
   "metadata": {},
   "source": [
    "### Importing necessary library"
   ]
  },
  {
   "cell_type": "code",
   "execution_count": 1,
   "id": "2e3928eb-14a8-4bdf-9494-af7002b535bf",
   "metadata": {
    "execution": {
     "iopub.execute_input": "2025-02-25T13:58:14.408943Z",
     "iopub.status.busy": "2025-02-25T13:58:14.407952Z",
     "iopub.status.idle": "2025-02-25T13:58:18.048049Z",
     "shell.execute_reply": "2025-02-25T13:58:18.046138Z",
     "shell.execute_reply.started": "2025-02-25T13:58:14.408890Z"
    }
   },
   "outputs": [],
   "source": [
    "import pandas as pd\n",
    "import numpy as np\n",
    "\n",
    "import datetime\n",
    "\n",
    "import seaborn as sns\n",
    "import matplotlib.pyplot as plt\n",
    "\n",
    "import scipy.stats as stats\n",
    "\n",
    "from sklearn.preprocessing import StandardScaler\n",
    "from sklearn.linear_model import LinearRegression\n",
    "from sklearn.preprocessing import PolynomialFeatures\n",
    "from sklearn.model_selection import train_test_split\n",
    "\n",
    "from sklearn.metrics import mean_absolute_error, mean_squared_error\n",
    "from sklearn.metrics import r2_score\n",
    "\n",
    "import joblib"
   ]
  },
  {
   "cell_type": "markdown",
   "id": "20742c6e-0a8d-4c89-bf88-09c0c2940c1c",
   "metadata": {},
   "source": [
    "### Define global settings"
   ]
  },
  {
   "cell_type": "code",
   "execution_count": 2,
   "id": "00afae7a-f958-423d-bd80-9a38d18cbabf",
   "metadata": {
    "execution": {
     "iopub.execute_input": "2025-02-25T13:58:18.049823Z",
     "iopub.status.busy": "2025-02-25T13:58:18.049366Z",
     "iopub.status.idle": "2025-02-25T13:58:18.056682Z",
     "shell.execute_reply": "2025-02-25T13:58:18.055368Z",
     "shell.execute_reply.started": "2025-02-25T13:58:18.049796Z"
    }
   },
   "outputs": [],
   "source": [
    "pd.options.display.float_format = '{:.6f}'.format"
   ]
  },
  {
   "cell_type": "markdown",
   "id": "336b5752-fcf4-4397-b545-72378d1ad7b2",
   "metadata": {},
   "source": [
    "### Reading the cleaned dataset file"
   ]
  },
  {
   "cell_type": "code",
   "execution_count": 3,
   "id": "9af36f3c-b794-4d98-9971-20857437ef8f",
   "metadata": {
    "execution": {
     "iopub.execute_input": "2025-02-25T13:58:18.058286Z",
     "iopub.status.busy": "2025-02-25T13:58:18.057817Z",
     "iopub.status.idle": "2025-02-25T13:58:18.252603Z",
     "shell.execute_reply": "2025-02-25T13:58:18.250866Z",
     "shell.execute_reply.started": "2025-02-25T13:58:18.058252Z"
    }
   },
   "outputs": [],
   "source": [
    "rent_df = pd.read_csv('../Data/canada_rent_clean_max5k.csv')\n"
   ]
  },
  {
   "cell_type": "markdown",
   "id": "a4f69c1f-e803-4802-9728-0db821cdceab",
   "metadata": {},
   "source": [
    "### Features to keep"
   ]
  },
  {
   "cell_type": "code",
   "execution_count": 4,
   "id": "f4a4309c-460c-4504-b6cc-87d0bc1d6cb0",
   "metadata": {
    "execution": {
     "iopub.execute_input": "2025-02-25T13:58:18.254460Z",
     "iopub.status.busy": "2025-02-25T13:58:18.254084Z",
     "iopub.status.idle": "2025-02-25T13:58:18.265024Z",
     "shell.execute_reply": "2025-02-25T13:58:18.262309Z",
     "shell.execute_reply.started": "2025-02-25T13:58:18.254434Z"
    }
   },
   "outputs": [],
   "source": [
    "kbest_15 = ['longitude', 'sq_feet', 'lease_term_6 months', 'type_Basement', 'type_House',\n",
    " 'type_Room For Rent', 'province_Manitoba',\n",
    " 'province_Newfoundland and Labrador', 'province_Ontario',\n",
    " 'province_Saskatchewan', 'city_Toronto', 'city_Edmonton' ,'city_Winnipeg',\n",
    " 'city_Regina', 'city_West Vancouver']\n",
    "\n",
    "kbest_20 = ['longitude','beds', 'sq_feet', 'lease_term_6 months',\n",
    " 'lease_term_Short Term', 'type_Basement', 'type_House', 'type_Room For Rent',\n",
    " 'province_Manitoba', 'province_Newfoundland and Labrador',\n",
    " 'province_Ontario', 'province_Saskatchewan', 'city_Calgary', 'city_Toronto',\n",
    " 'city_Edmonton', 'city_Ottawa', 'city_Winnipeg', 'city_Vancouver',\n",
    " 'city_Regina', 'city_West Vancouver']\n",
    "\n",
    "kbest_30 = ['latitude', 'longitude', 'beds', 'baths', 'sq_feet', 'lease_term_6 months',\n",
    " 'lease_term_Negotiable', 'lease_term_Short Term', 'type_Basement',\n",
    " 'type_Condo Unit', 'type_House', 'type_Room For Rent',\n",
    " 'smoking_Smoking Allowed', 'province_British Columbia', 'province_Manitoba',\n",
    " 'province_Newfoundland and Labrador', 'province_Nova Scotia',\n",
    " 'province_Ontario', 'province_Quebec', 'province_Saskatchewan',\n",
    " 'city_Calgary', 'city_Toronto', 'city_Edmonton', 'city_Montréal',\n",
    " 'city_Ottawa', 'city_Winnipeg', 'city_Vancouver', 'city_Victoria',\n",
    " 'city_Regina', 'city_West Vancouver']\n",
    "\n",
    "corBest_30 = ['baths', 'beds', 'type_House', 'city_Toronto', 'latitude',\n",
    "       'type_Room For Rent', 'province_Ontario', 'city_Edmonton',\n",
    "       'type_Basement', 'province_Saskatchewan', 'longitude', 'sq_feet',\n",
    "       'dogs', 'city_Vancouver', 'lease_term_Short Term', 'province_Manitoba',\n",
    "       'province_British Columbia', 'city_Winnipeg', 'city_Regina',\n",
    "       'city_West Vancouver', 'cats', 'city_Canmore', 'province_Nova Scotia',\n",
    "       'smoking_Smoking Allowed', 'city_Halifax', 'type_Duplex',\n",
    "       'lease_term_Negotiable', 'type_Condo Unit', 'lease_term_Long Term',\n",
    "       'city_Victoria']\n",
    "\n",
    "corBest_15 = corBest_30[0:15]\n",
    "corBest_20 = corBest_30[0:20]\n",
    "\n",
    "\n",
    "feat2keep = kbest_30"
   ]
  },
  {
   "cell_type": "markdown",
   "id": "b4c21e37-043a-4661-99f9-1ffb93bd27f0",
   "metadata": {},
   "source": [
    "### Keep only selected features from dataset"
   ]
  },
  {
   "cell_type": "code",
   "execution_count": 5,
   "id": "f9492eb8-3e32-4c93-8ce0-27c3537d2e99",
   "metadata": {
    "execution": {
     "iopub.execute_input": "2025-02-25T13:58:18.267454Z",
     "iopub.status.busy": "2025-02-25T13:58:18.266900Z",
     "iopub.status.idle": "2025-02-25T13:58:18.297922Z",
     "shell.execute_reply": "2025-02-25T13:58:18.297090Z",
     "shell.execute_reply.started": "2025-02-25T13:58:18.267407Z"
    }
   },
   "outputs": [],
   "source": [
    "# Separate independent variable from dependent variable\n",
    "X = rent_df[feat2keep]\n",
    "y = rent_df['price']"
   ]
  },
  {
   "cell_type": "markdown",
   "id": "647b6aa7-679e-4711-9b21-6812d7ac0e8d",
   "metadata": {},
   "source": [
    "### Split dataset into training and testing set"
   ]
  },
  {
   "cell_type": "code",
   "execution_count": 6,
   "id": "84061686-6509-40b8-948f-ef8a5db5f9cf",
   "metadata": {
    "execution": {
     "iopub.execute_input": "2025-02-25T13:58:18.302176Z",
     "iopub.status.busy": "2025-02-25T13:58:18.301600Z",
     "iopub.status.idle": "2025-02-25T13:58:18.330113Z",
     "shell.execute_reply": "2025-02-25T13:58:18.328903Z",
     "shell.execute_reply.started": "2025-02-25T13:58:18.302128Z"
    }
   },
   "outputs": [],
   "source": [
    "# Split data into training/testing dataset\n",
    "X_train, X_test, y_train, y_test = train_test_split(X, y, test_size = 0.2, random_state = 1)"
   ]
  },
  {
   "cell_type": "markdown",
   "id": "d1a323f6-74ec-40dd-91e5-eb25c7594e1b",
   "metadata": {},
   "source": [
    "## Part 1: Find the optimal polynomial degree\n",
    "---\n",
    "Conclusion : The most optimal degree is the second degree Polynomial Regression\n"
   ]
  },
  {
   "cell_type": "markdown",
   "id": "ab7ef35b-553f-40de-bcf0-6d1c31748364",
   "metadata": {},
   "source": [
    "**Find best degree**"
   ]
  },
  {
   "cell_type": "code",
   "execution_count": 7,
   "id": "2fd7df2b-ddc4-4569-99ba-5bcf7b592561",
   "metadata": {
    "execution": {
     "iopub.execute_input": "2025-02-25T13:58:18.332424Z",
     "iopub.status.busy": "2025-02-25T13:58:18.331609Z",
     "iopub.status.idle": "2025-02-25T14:00:28.278579Z",
     "shell.execute_reply": "2025-02-25T14:00:28.277588Z",
     "shell.execute_reply.started": "2025-02-25T13:58:18.332378Z"
    },
    "tags": []
   },
   "outputs": [],
   "source": [
    "# List of RMSE \n",
    "train_rmse_errors = []\n",
    "test_rmse_errors = []\n",
    "\n",
    "# Define the starting point and ending point of\n",
    "# the polynomial degrees to test \n",
    "degree_start = 1\n",
    "degree_end = 3\n",
    "\n",
    "# List to save degrees\n",
    "degrees = list(range(degree_start, degree_end + 1))\n",
    "\n",
    "# Create dataframe\n",
    "x_test_pred_df = pd.DataFrame(columns=list(degrees))\n",
    "y_test_pred_df = pd.DataFrame(columns=list(degrees))\n",
    "\n",
    "# Loop over polynomial degrees\n",
    "for degree in degrees:  \n",
    "    \n",
    "    # Create an instance of PolynomialFeatures\n",
    "    converter = PolynomialFeatures(degree=degree, include_bias=False)\n",
    "    \n",
    "    # Fit converter to X features + transform features\n",
    "    X_train_feat = converter.fit_transform(X_train)\n",
    "    X_test_feat = converter.fit_transform(X_test)\n",
    "    \n",
    "    # Scale the features\n",
    "    scaler = StandardScaler()\n",
    "    X_train_feat_scaled = scaler.fit_transform(X_train_feat)\n",
    "    X_test_feat_scaled = scaler.transform(X_test_feat)\n",
    "    \n",
    "    # Create the model\n",
    "    model = LinearRegression()\n",
    "\n",
    "    # Train the model\n",
    "    model.fit(X_train_feat_scaled, y_train)\n",
    "    \n",
    "    # Get predictions for training dataset\n",
    "    y_train_pred = model.predict(X_train_feat_scaled)\n",
    "\n",
    "    # Get prediction for testing dataset\n",
    "    y_test_pred = model.predict(X_test_feat_scaled)\n",
    "    \n",
    "    # Calculate RMSE for training dataset\n",
    "    train_RMSE = np.sqrt(mean_squared_error(y_train, y_train_pred))\n",
    "    \n",
    "    # Calculate RMSE for testing dataset\n",
    "    test_RMSE = np.sqrt(mean_squared_error(y_test, y_test_pred))\n",
    "    \n",
    "    # Store errors and degrees to lists\n",
    "    train_rmse_errors.append(train_RMSE)\n",
    "    test_rmse_errors.append(test_RMSE)\n"
   ]
  },
  {
   "cell_type": "markdown",
   "id": "5bdffe16-61fa-4f1a-b849-784fc812ff62",
   "metadata": {},
   "source": [
    "**Compute scores**"
   ]
  },
  {
   "cell_type": "code",
   "execution_count": 8,
   "id": "2f9b997a-863d-443b-a840-b8e14cbb7306",
   "metadata": {
    "execution": {
     "iopub.execute_input": "2025-02-25T14:00:28.279787Z",
     "iopub.status.busy": "2025-02-25T14:00:28.279453Z",
     "iopub.status.idle": "2025-02-25T14:00:28.315676Z",
     "shell.execute_reply": "2025-02-25T14:00:28.314752Z",
     "shell.execute_reply.started": "2025-02-25T14:00:28.279754Z"
    }
   },
   "outputs": [
    {
     "data": {
      "text/html": [
       "<div>\n",
       "<style scoped>\n",
       "    .dataframe tbody tr th:only-of-type {\n",
       "        vertical-align: middle;\n",
       "    }\n",
       "\n",
       "    .dataframe tbody tr th {\n",
       "        vertical-align: top;\n",
       "    }\n",
       "\n",
       "    .dataframe thead th {\n",
       "        text-align: right;\n",
       "    }\n",
       "</style>\n",
       "<table border=\"1\" class=\"dataframe\">\n",
       "  <thead>\n",
       "    <tr style=\"text-align: right;\">\n",
       "      <th></th>\n",
       "      <th>RSME on training dataset</th>\n",
       "      <th>RMSE on testing dataset</th>\n",
       "    </tr>\n",
       "    <tr>\n",
       "      <th>Polynomial Degree</th>\n",
       "      <th></th>\n",
       "      <th></th>\n",
       "    </tr>\n",
       "  </thead>\n",
       "  <tbody>\n",
       "    <tr>\n",
       "      <th>1</th>\n",
       "      <td>432.699282</td>\n",
       "      <td>427.774710</td>\n",
       "    </tr>\n",
       "    <tr>\n",
       "      <th>2</th>\n",
       "      <td>364.913099</td>\n",
       "      <td>367.380565</td>\n",
       "    </tr>\n",
       "    <tr>\n",
       "      <th>3</th>\n",
       "      <td>330.060258</td>\n",
       "      <td>91484.118976</td>\n",
       "    </tr>\n",
       "  </tbody>\n",
       "</table>\n",
       "</div>"
      ],
      "text/plain": [
       "                   RSME on training dataset  RMSE on testing dataset\n",
       "Polynomial Degree                                                   \n",
       "1                                432.699282               427.774710\n",
       "2                                364.913099               367.380565\n",
       "3                                330.060258             91484.118976"
      ]
     },
     "execution_count": 8,
     "metadata": {},
     "output_type": "execute_result"
    }
   ],
   "source": [
    "# Create df with RMSE scores + degrees\n",
    "results_df = pd.DataFrame({\n",
    "    'Polynomial Degree': degrees,\n",
    "    'RSME on training dataset': train_rmse_errors,\n",
    "    'RMSE on testing dataset': test_rmse_errors\n",
    "})\n",
    "\n",
    "# Show results\n",
    "results_df.set_index('Polynomial Degree')"
   ]
  },
  {
   "cell_type": "markdown",
   "id": "e63571cd-f907-4be5-8c03-ace33a693c39",
   "metadata": {},
   "source": [
    "**Plot scores**"
   ]
  },
  {
   "cell_type": "code",
   "execution_count": 9,
   "id": "48493379-f8bf-4d0d-8e55-a7398f95f2ec",
   "metadata": {
    "execution": {
     "iopub.execute_input": "2025-02-25T14:00:28.319383Z",
     "iopub.status.busy": "2025-02-25T14:00:28.318975Z",
     "iopub.status.idle": "2025-02-25T14:00:28.836544Z",
     "shell.execute_reply": "2025-02-25T14:00:28.835130Z",
     "shell.execute_reply.started": "2025-02-25T14:00:28.319349Z"
    }
   },
   "outputs": [
    {
     "data": {
      "image/png": "[encoded data removed]",
      "text/plain": [
       "<Figure size 600x400 with 1 Axes>"
      ]
     },
     "metadata": {},
     "output_type": "display_data"
    }
   ],
   "source": [
    "# Create figure\n",
    "plt.figure(figsize=(6, 4))\n",
    "\n",
    "# Add train RMSE line plot\n",
    "plt.plot(degrees, train_rmse_errors, label='Train RMSE', marker='o')\n",
    "\n",
    "# Add test RMSE line plot\n",
    "plt.plot(degrees, test_rmse_errors, label='Test RMSE', marker='o')\n",
    "\n",
    "# Add axis labels\n",
    "plt.xlabel(\"Polynomial Complexity (Degree)\")\n",
    "plt.ylabel(\"RMSE\")\n",
    "\n",
    "# Add legend\n",
    "plt.legend()\n",
    "\n",
    "# Add title\n",
    "plt.title(\"RMSE vs. Polynomial Complexity\")\n",
    "\n",
    "# Save fig\n",
    "plt.savefig('../Graph/PolynmialComplexity.png')\n",
    "\n",
    "# Show plot\n",
    "plt.show()"
   ]
  },
  {
   "cell_type": "markdown",
   "id": "a64496c8-0b7f-4e88-8471-63761df71cbc",
   "metadata": {},
   "source": [
    "## Part 2 : Building the model with the best polynomial degree\n",
    "---"
   ]
  },
  {
   "cell_type": "markdown",
   "id": "cb3edae0-6c9e-472e-8a0d-200e42618e60",
   "metadata": {},
   "source": [
    "### Create Polynomial Features"
   ]
  },
  {
   "cell_type": "code",
   "execution_count": 10,
   "id": "ed131a44-c47f-4e9a-b454-9f539df62cfb",
   "metadata": {
    "execution": {
     "iopub.execute_input": "2025-02-25T14:00:28.838208Z",
     "iopub.status.busy": "2025-02-25T14:00:28.837733Z",
     "iopub.status.idle": "2025-02-25T14:00:28.844082Z",
     "shell.execute_reply": "2025-02-25T14:00:28.842413Z",
     "shell.execute_reply.started": "2025-02-25T14:00:28.838172Z"
    }
   },
   "outputs": [],
   "source": [
    "pol_degree = 2"
   ]
  },
  {
   "cell_type": "code",
   "execution_count": 11,
   "id": "2c0d4ff6-e1d4-4a26-abbd-e64a3e3c74dd",
   "metadata": {
    "execution": {
     "iopub.execute_input": "2025-02-25T14:00:28.845718Z",
     "iopub.status.busy": "2025-02-25T14:00:28.845406Z",
     "iopub.status.idle": "2025-02-25T14:00:28.967273Z",
     "shell.execute_reply": "2025-02-25T14:00:28.965241Z",
     "shell.execute_reply.started": "2025-02-25T14:00:28.845690Z"
    }
   },
   "outputs": [],
   "source": [
    "# Create an instance of PolynomialFeatures\n",
    "converter = PolynomialFeatures(degree=pol_degree, include_bias=False)\n",
    "\n",
    "# Fit converter to X_train andX_testing features + transform features\n",
    "X_train_feat = converter.fit_transform(X_train)\n",
    "X_test_feat = converter.fit_transform(X_test)\n",
    "    "
   ]
  },
  {
   "cell_type": "markdown",
   "id": "c01d1877-d901-4ff3-9da2-f00dd4f8d009",
   "metadata": {},
   "source": [
    "### Data scaling"
   ]
  },
  {
   "cell_type": "code",
   "execution_count": 12,
   "id": "050a2cf4-bf22-4e59-b1a5-4f87a3bc9a75",
   "metadata": {
    "execution": {
     "iopub.execute_input": "2025-02-25T14:00:28.969049Z",
     "iopub.status.busy": "2025-02-25T14:00:28.968636Z",
     "iopub.status.idle": "2025-02-25T14:00:29.143200Z",
     "shell.execute_reply": "2025-02-25T14:00:29.141324Z",
     "shell.execute_reply.started": "2025-02-25T14:00:28.969011Z"
    }
   },
   "outputs": [],
   "source": [
    "# Initialize StandardScaler\n",
    "scaler = StandardScaler()\n",
    "\n",
    "# Fit-transform training data\n",
    "X_train_feat_scaled = scaler.fit_transform(X_train_feat)\n",
    "\n",
    "# Transform only on test data\n",
    "X_test_feat_scaled = scaler.transform(X_test_feat)"
   ]
  },
  {
   "cell_type": "markdown",
   "id": "81e8e5c4-a761-4491-bcec-363362e50e46",
   "metadata": {},
   "source": [
    "### Create a Polynomial Regression Model"
   ]
  },
  {
   "cell_type": "code",
   "execution_count": 13,
   "id": "140e2d6f-ee10-451e-be92-a47aa302543f",
   "metadata": {
    "execution": {
     "iopub.execute_input": "2025-02-25T14:00:29.145195Z",
     "iopub.status.busy": "2025-02-25T14:00:29.144868Z",
     "iopub.status.idle": "2025-02-25T14:00:30.110110Z",
     "shell.execute_reply": "2025-02-25T14:00:30.106557Z",
     "shell.execute_reply.started": "2025-02-25T14:00:29.145169Z"
    }
   },
   "outputs": [
    {
     "data": {
      "text/html": [
       "<style>#sk-container-id-1 {\n",
       "  /* Definition of color scheme common for light and dark mode */\n",
       "  --sklearn-color-text: #000;\n",
       "  --sklearn-color-text-muted: #666;\n",
       "  --sklearn-color-line: gray;\n",
       "  /* Definition of color scheme for unfitted estimators */\n",
       "  --sklearn-color-unfitted-level-0: #fff5e6;\n",
       "  --sklearn-color-unfitted-level-1: #f6e4d2;\n",
       "  --sklearn-color-unfitted-level-2: #ffe0b3;\n",
       "  --sklearn-color-unfitted-level-3: chocolate;\n",
       "  /* Definition of color scheme for fitted estimators */\n",
       "  --sklearn-color-fitted-level-0: #f0f8ff;\n",
       "  --sklearn-color-fitted-level-1: #d4ebff;\n",
       "  --sklearn-color-fitted-level-2: #b3dbfd;\n",
       "  --sklearn-color-fitted-level-3: cornflowerblue;\n",
       "\n",
       "  /* Specific color for light theme */\n",
       "  --sklearn-color-text-on-default-background: var(--sg-text-color, var(--theme-code-foreground, var(--jp-content-font-color1, black)));\n",
       "  --sklearn-color-background: var(--sg-background-color, var(--theme-background, var(--jp-layout-color0, white)));\n",
       "  --sklearn-color-border-box: var(--sg-text-color, var(--theme-code-foreground, var(--jp-content-font-color1, black)));\n",
       "  --sklearn-color-icon: #696969;\n",
       "\n",
       "  @media (prefers-color-scheme: dark) {\n",
       "    /* Redefinition of color scheme for dark theme */\n",
       "    --sklearn-color-text-on-default-background: var(--sg-text-color, var(--theme-code-foreground, var(--jp-content-font-color1, white)));\n",
       "    --sklearn-color-background: var(--sg-background-color, var(--theme-background, var(--jp-layout-color0, #111)));\n",
       "    --sklearn-color-border-box: var(--sg-text-color, var(--theme-code-foreground, var(--jp-content-font-color1, white)));\n",
       "    --sklearn-color-icon: #878787;\n",
       "  }\n",
       "}\n",
       "\n",
       "#sk-container-id-1 {\n",
       "  color: var(--sklearn-color-text);\n",
       "}\n",
       "\n",
       "#sk-container-id-1 pre {\n",
       "  padding: 0;\n",
       "}\n",
       "\n",
       "#sk-container-id-1 input.sk-hidden--visually {\n",
       "  border: 0;\n",
       "  clip: rect(1px 1px 1px 1px);\n",
       "  clip: rect(1px, 1px, 1px, 1px);\n",
       "  height: 1px;\n",
       "  margin: -1px;\n",
       "  overflow: hidden;\n",
       "  padding: 0;\n",
       "  position: absolute;\n",
       "  width: 1px;\n",
       "}\n",
       "\n",
       "#sk-container-id-1 div.sk-dashed-wrapped {\n",
       "  border: 1px dashed var(--sklearn-color-line);\n",
       "  margin: 0 0.4em 0.5em 0.4em;\n",
       "  box-sizing: border-box;\n",
       "  padding-bottom: 0.4em;\n",
       "  background-color: var(--sklearn-color-background);\n",
       "}\n",
       "\n",
       "#sk-container-id-1 div.sk-container {\n",
       "  /* jupyter's `normalize.less` sets `[hidden] { display: none; }`\n",
       "     but bootstrap.min.css set `[hidden] { display: none !important; }`\n",
       "     so we also need the `!important` here to be able to override the\n",
       "     default hidden behavior on the sphinx rendered scikit-learn.org.\n",
       "     See: https://github.com/scikit-learn/scikit-learn/issues/21755 */\n",
       "  display: inline-block !important;\n",
       "  position: relative;\n",
       "}\n",
       "\n",
       "#sk-container-id-1 div.sk-text-repr-fallback {\n",
       "  display: none;\n",
       "}\n",
       "\n",
       "div.sk-parallel-item,\n",
       "div.sk-serial,\n",
       "div.sk-item {\n",
       "  /* draw centered vertical line to link estimators */\n",
       "  background-image: linear-gradient(var(--sklearn-color-text-on-default-background), var(--sklearn-color-text-on-default-background));\n",
       "  background-size: 2px 100%;\n",
       "  background-repeat: no-repeat;\n",
       "  background-position: center center;\n",
       "}\n",
       "\n",
       "/* Parallel-specific style estimator block */\n",
       "\n",
       "#sk-container-id-1 div.sk-parallel-item::after {\n",
       "  content: \"\";\n",
       "  width: 100%;\n",
       "  border-bottom: 2px solid var(--sklearn-color-text-on-default-background);\n",
       "  flex-grow: 1;\n",
       "}\n",
       "\n",
       "#sk-container-id-1 div.sk-parallel {\n",
       "  display: flex;\n",
       "  align-items: stretch;\n",
       "  justify-content: center;\n",
       "  background-color: var(--sklearn-color-background);\n",
       "  position: relative;\n",
       "}\n",
       "\n",
       "#sk-container-id-1 div.sk-parallel-item {\n",
       "  display: flex;\n",
       "  flex-direction: column;\n",
       "}\n",
       "\n",
       "#sk-container-id-1 div.sk-parallel-item:first-child::after {\n",
       "  align-self: flex-end;\n",
       "  width: 50%;\n",
       "}\n",
       "\n",
       "#sk-container-id-1 div.sk-parallel-item:last-child::after {\n",
       "  align-self: flex-start;\n",
       "  width: 50%;\n",
       "}\n",
       "\n",
       "#sk-container-id-1 div.sk-parallel-item:only-child::after {\n",
       "  width: 0;\n",
       "}\n",
       "\n",
       "/* Serial-specific style estimator block */\n",
       "\n",
       "#sk-container-id-1 div.sk-serial {\n",
       "  display: flex;\n",
       "  flex-direction: column;\n",
       "  align-items: center;\n",
       "  background-color: var(--sklearn-color-background);\n",
       "  padding-right: 1em;\n",
       "  padding-left: 1em;\n",
       "}\n",
       "\n",
       "\n",
       "/* Toggleable style: style used for estimator/Pipeline/ColumnTransformer box that is\n",
       "clickable and can be expanded/collapsed.\n",
       "- Pipeline and ColumnTransformer use this feature and define the default style\n",
       "- Estimators will overwrite some part of the style using the `sk-estimator` class\n",
       "*/\n",
       "\n",
       "/* Pipeline and ColumnTransformer style (default) */\n",
       "\n",
       "#sk-container-id-1 div.sk-toggleable {\n",
       "  /* Default theme specific background. It is overwritten whether we have a\n",
       "  specific estimator or a Pipeline/ColumnTransformer */\n",
       "  background-color: var(--sklearn-color-background);\n",
       "}\n",
       "\n",
       "/* Toggleable label */\n",
       "#sk-container-id-1 label.sk-toggleable__label {\n",
       "  cursor: pointer;\n",
       "  display: flex;\n",
       "  width: 100%;\n",
       "  margin-bottom: 0;\n",
       "  padding: 0.5em;\n",
       "  box-sizing: border-box;\n",
       "  text-align: center;\n",
       "  align-items: start;\n",
       "  justify-content: space-between;\n",
       "  gap: 0.5em;\n",
       "}\n",
       "\n",
       "#sk-container-id-1 label.sk-toggleable__label .caption {\n",
       "  font-size: 0.6rem;\n",
       "  font-weight: lighter;\n",
       "  color: var(--sklearn-color-text-muted);\n",
       "}\n",
       "\n",
       "#sk-container-id-1 label.sk-toggleable__label-arrow:before {\n",
       "  /* Arrow on the left of the label */\n",
       "  content: \"▸\";\n",
       "  float: left;\n",
       "  margin-right: 0.25em;\n",
       "  color: var(--sklearn-color-icon);\n",
       "}\n",
       "\n",
       "#sk-container-id-1 label.sk-toggleable__label-arrow:hover:before {\n",
       "  color: var(--sklearn-color-text);\n",
       "}\n",
       "\n",
       "/* Toggleable content - dropdown */\n",
       "\n",
       "#sk-container-id-1 div.sk-toggleable__content {\n",
       "  max-height: 0;\n",
       "  max-width: 0;\n",
       "  overflow: hidden;\n",
       "  text-align: left;\n",
       "  /* unfitted */\n",
       "  background-color: var(--sklearn-color-unfitted-level-0);\n",
       "}\n",
       "\n",
       "#sk-container-id-1 div.sk-toggleable__content.fitted {\n",
       "  /* fitted */\n",
       "  background-color: var(--sklearn-color-fitted-level-0);\n",
       "}\n",
       "\n",
       "#sk-container-id-1 div.sk-toggleable__content pre {\n",
       "  margin: 0.2em;\n",
       "  border-radius: 0.25em;\n",
       "  color: var(--sklearn-color-text);\n",
       "  /* unfitted */\n",
       "  background-color: var(--sklearn-color-unfitted-level-0);\n",
       "}\n",
       "\n",
       "#sk-container-id-1 div.sk-toggleable__content.fitted pre {\n",
       "  /* unfitted */\n",
       "  background-color: var(--sklearn-color-fitted-level-0);\n",
       "}\n",
       "\n",
       "#sk-container-id-1 input.sk-toggleable__control:checked~div.sk-toggleable__content {\n",
       "  /* Expand drop-down */\n",
       "  max-height: 200px;\n",
       "  max-width: 100%;\n",
       "  overflow: auto;\n",
       "}\n",
       "\n",
       "#sk-container-id-1 input.sk-toggleable__control:checked~label.sk-toggleable__label-arrow:before {\n",
       "  content: \"▾\";\n",
       "}\n",
       "\n",
       "/* Pipeline/ColumnTransformer-specific style */\n",
       "\n",
       "#sk-container-id-1 div.sk-label input.sk-toggleable__control:checked~label.sk-toggleable__label {\n",
       "  color: var(--sklearn-color-text);\n",
       "  background-color: var(--sklearn-color-unfitted-level-2);\n",
       "}\n",
       "\n",
       "#sk-container-id-1 div.sk-label.fitted input.sk-toggleable__control:checked~label.sk-toggleable__label {\n",
       "  background-color: var(--sklearn-color-fitted-level-2);\n",
       "}\n",
       "\n",
       "/* Estimator-specific style */\n",
       "\n",
       "/* Colorize estimator box */\n",
       "#sk-container-id-1 div.sk-estimator input.sk-toggleable__control:checked~label.sk-toggleable__label {\n",
       "  /* unfitted */\n",
       "  background-color: var(--sklearn-color-unfitted-level-2);\n",
       "}\n",
       "\n",
       "#sk-container-id-1 div.sk-estimator.fitted input.sk-toggleable__control:checked~label.sk-toggleable__label {\n",
       "  /* fitted */\n",
       "  background-color: var(--sklearn-color-fitted-level-2);\n",
       "}\n",
       "\n",
       "#sk-container-id-1 div.sk-label label.sk-toggleable__label,\n",
       "#sk-container-id-1 div.sk-label label {\n",
       "  /* The background is the default theme color */\n",
       "  color: var(--sklearn-color-text-on-default-background);\n",
       "}\n",
       "\n",
       "/* On hover, darken the color of the background */\n",
       "#sk-container-id-1 div.sk-label:hover label.sk-toggleable__label {\n",
       "  color: var(--sklearn-color-text);\n",
       "  background-color: var(--sklearn-color-unfitted-level-2);\n",
       "}\n",
       "\n",
       "/* Label box, darken color on hover, fitted */\n",
       "#sk-container-id-1 div.sk-label.fitted:hover label.sk-toggleable__label.fitted {\n",
       "  color: var(--sklearn-color-text);\n",
       "  background-color: var(--sklearn-color-fitted-level-2);\n",
       "}\n",
       "\n",
       "/* Estimator label */\n",
       "\n",
       "#sk-container-id-1 div.sk-label label {\n",
       "  font-family: monospace;\n",
       "  font-weight: bold;\n",
       "  display: inline-block;\n",
       "  line-height: 1.2em;\n",
       "}\n",
       "\n",
       "#sk-container-id-1 div.sk-label-container {\n",
       "  text-align: center;\n",
       "}\n",
       "\n",
       "/* Estimator-specific */\n",
       "#sk-container-id-1 div.sk-estimator {\n",
       "  font-family: monospace;\n",
       "  border: 1px dotted var(--sklearn-color-border-box);\n",
       "  border-radius: 0.25em;\n",
       "  box-sizing: border-box;\n",
       "  margin-bottom: 0.5em;\n",
       "  /* unfitted */\n",
       "  background-color: var(--sklearn-color-unfitted-level-0);\n",
       "}\n",
       "\n",
       "#sk-container-id-1 div.sk-estimator.fitted {\n",
       "  /* fitted */\n",
       "  background-color: var(--sklearn-color-fitted-level-0);\n",
       "}\n",
       "\n",
       "/* on hover */\n",
       "#sk-container-id-1 div.sk-estimator:hover {\n",
       "  /* unfitted */\n",
       "  background-color: var(--sklearn-color-unfitted-level-2);\n",
       "}\n",
       "\n",
       "#sk-container-id-1 div.sk-estimator.fitted:hover {\n",
       "  /* fitted */\n",
       "  background-color: var(--sklearn-color-fitted-level-2);\n",
       "}\n",
       "\n",
       "/* Specification for estimator info (e.g. \"i\" and \"?\") */\n",
       "\n",
       "/* Common style for \"i\" and \"?\" */\n",
       "\n",
       ".sk-estimator-doc-link,\n",
       "a:link.sk-estimator-doc-link,\n",
       "a:visited.sk-estimator-doc-link {\n",
       "  float: right;\n",
       "  font-size: smaller;\n",
       "  line-height: 1em;\n",
       "  font-family: monospace;\n",
       "  background-color: var(--sklearn-color-background);\n",
       "  border-radius: 1em;\n",
       "  height: 1em;\n",
       "  width: 1em;\n",
       "  text-decoration: none !important;\n",
       "  margin-left: 0.5em;\n",
       "  text-align: center;\n",
       "  /* unfitted */\n",
       "  border: var(--sklearn-color-unfitted-level-1) 1pt solid;\n",
       "  color: var(--sklearn-color-unfitted-level-1);\n",
       "}\n",
       "\n",
       ".sk-estimator-doc-link.fitted,\n",
       "a:link.sk-estimator-doc-link.fitted,\n",
       "a:visited.sk-estimator-doc-link.fitted {\n",
       "  /* fitted */\n",
       "  border: var(--sklearn-color-fitted-level-1) 1pt solid;\n",
       "  color: var(--sklearn-color-fitted-level-1);\n",
       "}\n",
       "\n",
       "/* On hover */\n",
       "div.sk-estimator:hover .sk-estimator-doc-link:hover,\n",
       ".sk-estimator-doc-link:hover,\n",
       "div.sk-label-container:hover .sk-estimator-doc-link:hover,\n",
       ".sk-estimator-doc-link:hover {\n",
       "  /* unfitted */\n",
       "  background-color: var(--sklearn-color-unfitted-level-3);\n",
       "  color: var(--sklearn-color-background);\n",
       "  text-decoration: none;\n",
       "}\n",
       "\n",
       "div.sk-estimator.fitted:hover .sk-estimator-doc-link.fitted:hover,\n",
       ".sk-estimator-doc-link.fitted:hover,\n",
       "div.sk-label-container:hover .sk-estimator-doc-link.fitted:hover,\n",
       ".sk-estimator-doc-link.fitted:hover {\n",
       "  /* fitted */\n",
       "  background-color: var(--sklearn-color-fitted-level-3);\n",
       "  color: var(--sklearn-color-background);\n",
       "  text-decoration: none;\n",
       "}\n",
       "\n",
       "/* Span, style for the box shown on hovering the info icon */\n",
       ".sk-estimator-doc-link span {\n",
       "  display: none;\n",
       "  z-index: 9999;\n",
       "  position: relative;\n",
       "  font-weight: normal;\n",
       "  right: .2ex;\n",
       "  padding: .5ex;\n",
       "  margin: .5ex;\n",
       "  width: min-content;\n",
       "  min-width: 20ex;\n",
       "  max-width: 50ex;\n",
       "  color: var(--sklearn-color-text);\n",
       "  box-shadow: 2pt 2pt 4pt #999;\n",
       "  /* unfitted */\n",
       "  background: var(--sklearn-color-unfitted-level-0);\n",
       "  border: .5pt solid var(--sklearn-color-unfitted-level-3);\n",
       "}\n",
       "\n",
       ".sk-estimator-doc-link.fitted span {\n",
       "  /* fitted */\n",
       "  background: var(--sklearn-color-fitted-level-0);\n",
       "  border: var(--sklearn-color-fitted-level-3);\n",
       "}\n",
       "\n",
       ".sk-estimator-doc-link:hover span {\n",
       "  display: block;\n",
       "}\n",
       "\n",
       "/* \"?\"-specific style due to the `<a>` HTML tag */\n",
       "\n",
       "#sk-container-id-1 a.estimator_doc_link {\n",
       "  float: right;\n",
       "  font-size: 1rem;\n",
       "  line-height: 1em;\n",
       "  font-family: monospace;\n",
       "  background-color: var(--sklearn-color-background);\n",
       "  border-radius: 1rem;\n",
       "  height: 1rem;\n",
       "  width: 1rem;\n",
       "  text-decoration: none;\n",
       "  /* unfitted */\n",
       "  color: var(--sklearn-color-unfitted-level-1);\n",
       "  border: var(--sklearn-color-unfitted-level-1) 1pt solid;\n",
       "}\n",
       "\n",
       "#sk-container-id-1 a.estimator_doc_link.fitted {\n",
       "  /* fitted */\n",
       "  border: var(--sklearn-color-fitted-level-1) 1pt solid;\n",
       "  color: var(--sklearn-color-fitted-level-1);\n",
       "}\n",
       "\n",
       "/* On hover */\n",
       "#sk-container-id-1 a.estimator_doc_link:hover {\n",
       "  /* unfitted */\n",
       "  background-color: var(--sklearn-color-unfitted-level-3);\n",
       "  color: var(--sklearn-color-background);\n",
       "  text-decoration: none;\n",
       "}\n",
       "\n",
       "#sk-container-id-1 a.estimator_doc_link.fitted:hover {\n",
       "  /* fitted */\n",
       "  background-color: var(--sklearn-color-fitted-level-3);\n",
       "}\n",
       "</style><div id=\"sk-container-id-1\" class=\"sk-top-container\"><div class=\"sk-text-repr-fallback\"><pre>LinearRegression()</pre><b>In a Jupyter environment, please rerun this cell to show the HTML representation or trust the notebook. <br />On GitHub, the HTML representation is unable to render, please try loading this page with nbviewer.org.</b></div><div class=\"sk-container\" hidden><div class=\"sk-item\"><div class=\"sk-estimator fitted sk-toggleable\"><input class=\"sk-toggleable__control sk-hidden--visually\" id=\"sk-estimator-id-1\" type=\"checkbox\" checked><label for=\"sk-estimator-id-1\" class=\"sk-toggleable__label fitted sk-toggleable__label-arrow\"><div><div>LinearRegression</div></div><div><a class=\"sk-estimator-doc-link fitted\" rel=\"noreferrer\" target=\"_blank\" href=\"https://scikit-learn.org/1.6/modules/generated/sklearn.linear_model.LinearRegression.html\">?<span>Documentation for LinearRegression</span></a><span class=\"sk-estimator-doc-link fitted\">i<span>Fitted</span></span></div></label><div class=\"sk-toggleable__content fitted\"><pre>LinearRegression()</pre></div> </div></div></div></div>"
      ],
      "text/plain": [
       "LinearRegression()"
      ]
     },
     "execution_count": 13,
     "metadata": {},
     "output_type": "execute_result"
    }
   ],
   "source": [
    "# Create the model\n",
    "model = LinearRegression()\n",
    "\n",
    "# Train the model\n",
    "model.fit(X_train_feat_scaled, y_train)"
   ]
  },
  {
   "cell_type": "markdown",
   "id": "7b7b1fb7-3c45-4fce-a37f-c56ef93e91d1",
   "metadata": {},
   "source": [
    "### Use model on testing dataset"
   ]
  },
  {
   "cell_type": "code",
   "execution_count": 14,
   "id": "54cba027-22b8-446f-bcae-a6bcfe8b9b48",
   "metadata": {
    "execution": {
     "iopub.execute_input": "2025-02-25T14:00:30.117592Z",
     "iopub.status.busy": "2025-02-25T14:00:30.112292Z",
     "iopub.status.idle": "2025-02-25T14:00:30.141468Z",
     "shell.execute_reply": "2025-02-25T14:00:30.140323Z",
     "shell.execute_reply.started": "2025-02-25T14:00:30.117544Z"
    }
   },
   "outputs": [],
   "source": [
    "# Get prediction for testing dataset\n",
    "y_pred = model.predict(X_test_feat_scaled)"
   ]
  },
  {
   "cell_type": "markdown",
   "id": "835820e3-530c-416d-a5a0-048e817cf092",
   "metadata": {},
   "source": [
    "### Plot the residuals"
   ]
  },
  {
   "cell_type": "code",
   "execution_count": 15,
   "id": "99dfd033-990f-45fb-9c7c-e9ad1d225e4e",
   "metadata": {
    "execution": {
     "iopub.execute_input": "2025-02-25T14:00:30.142674Z",
     "iopub.status.busy": "2025-02-25T14:00:30.142320Z",
     "iopub.status.idle": "2025-02-25T14:00:30.789272Z",
     "shell.execute_reply": "2025-02-25T14:00:30.788005Z",
     "shell.execute_reply.started": "2025-02-25T14:00:30.142636Z"
    }
   },
   "outputs": [
    {
     "data": {
      "text/plain": [
       "Text(0.5, 1.0, 'QQ plot')"
      ]
     },
     "execution_count": 15,
     "metadata": {},
     "output_type": "execute_result"
    },
    {
     "data": {
      "image/png": "[encoded data removed]",
      "text/plain": [
       "<Figure size 1600x800 with 2 Axes>"
      ]
     },
     "metadata": {},
     "output_type": "display_data"
    }
   ],
   "source": [
    "# Residual plot\n",
    "\n",
    "# Create subplots and adjust their size\n",
    "fig, (ax1, ax2) = plt.subplots(1,2,figsize = (8*2, 8))\n",
    "\n",
    "# Add scatter plot\n",
    "sns.scatterplot(x=y_test, y=y_pred, zorder=3, ax = ax1)\n",
    "\n",
    "# Add legend to ax1\n",
    "ax1.set_title('Residual plot')\n",
    "\n",
    "# Add grid y-axis line at 0\n",
    "ax1.axhline(0, linestyle='--', color='gray', zorder=0, linewidth=0.5)\n",
    "\n",
    "# Add QQ plot\n",
    "stats.probplot(y_test-y_pred, dist=\"norm\", plot=ax2);\n",
    "\n",
    "# Add grid y-axis line at 0\n",
    "ax2.axhline(0, linestyle='--', color='gray', zorder=0, linewidth=0.5)\n",
    "\n",
    "# Add legend to ax2\n",
    "ax2.set_title('QQ plot')"
   ]
  },
  {
   "cell_type": "markdown",
   "id": "40827d4c-dbb8-4831-a7dc-0b076639619b",
   "metadata": {
    "execution": {
     "iopub.execute_input": "2025-02-22T22:51:03.185816Z",
     "iopub.status.busy": "2025-02-22T22:51:03.184942Z",
     "iopub.status.idle": "2025-02-22T22:51:03.192520Z",
     "shell.execute_reply": "2025-02-22T22:51:03.191000Z",
     "shell.execute_reply.started": "2025-02-22T22:51:03.185758Z"
    }
   },
   "source": [
    "### Compute error scores"
   ]
  },
  {
   "cell_type": "code",
   "execution_count": 16,
   "id": "816b5ca3-c08e-4cfb-ba6f-6597acd39a76",
   "metadata": {
    "execution": {
     "iopub.execute_input": "2025-02-25T14:00:30.790942Z",
     "iopub.status.busy": "2025-02-25T14:00:30.790618Z",
     "iopub.status.idle": "2025-02-25T14:00:30.804688Z",
     "shell.execute_reply": "2025-02-25T14:00:30.802935Z",
     "shell.execute_reply.started": "2025-02-25T14:00:30.790912Z"
    }
   },
   "outputs": [
    {
     "name": "stdout",
     "output_type": "stream",
     "text": [
      "The Mean Absolute Error = 263\n",
      "The Mean Square Error = 134968\n",
      "The Root Mean Square Error = 367.38\n",
      "The R2 scores = 0.74\n"
     ]
    }
   ],
   "source": [
    "mae = mean_absolute_error(y_test, y_pred)\n",
    "\n",
    "mse = mean_squared_error(y_test, y_pred)\n",
    "\n",
    "rmse = np.sqrt(mse)\n",
    "\n",
    "r2 = r2_score(y_test, y_pred)\n",
    "\n",
    "print(f'The Mean Absolute Error = {mae:.0f}\\n\\\n",
    "The Mean Square Error = {mse:.0f}\\n\\\n",
    "The Root Mean Square Error = {rmse:.2f}\\n\\\n",
    "The R2 scores = {r2:.2f}')"
   ]
  },
  {
   "cell_type": "markdown",
   "id": "86c512df-653b-4324-8b31-a8f324adf207",
   "metadata": {},
   "source": [
    "\n",
    "| Regression Method   | Predictors  | Mean Absolute Error | Mean Square Error    | Root Mean Square Error | R2 scores   |\n",
    "| ------------------- | ----------- | ------------------- | -------------------- | ---------------------- | ----------- |\n",
    "| Linear              | SelectKBest (15) | 407                | 309293             | 556                   | 0.41           |\n",
    "|                     | Highest corr (15)| 322                | 200112             | 447                   | 0.62           |\n",
    "|                     | SelectKBest (20) | 345                | 226796             | 476                   | 0.57           |\n",
    "|                     | Highest corr (20)| 316                | 194185             | 441                   | 0.63           |\n",
    "|                     | SelectKBest (30) | 307                | 182991             | 428                   | 0.65           |\n",
    "|                     | Highest corr (30)| 308                | 185664             | 431                   | 0.65           |\n",
    "| Polynomial (2nd)         | SelectKBest (15) | 319                | 197348             | 444                   | 0.63           |\n",
    "|                     | Highest corr (15)| 278                | 150742             | 388                   | 0.71           |\n",
    "|                     | SelectKBest (20) | 302                | 176505             | 420                   | 0.67           |\n",
    "|                     | Highest corr (20)| 274                | 147937             | 385                   | 0.72           |\n",
    "|                     | SelectKBest (30) | 263                | 134968             | 367                   | 0.74           |\n",
    "|                     | Highest corr (30)| 266                | 138808             | 373                   | 0.74           |\n",
    "| Ordinary Least Square | SelectKBest (15) | 407                | 309293             | 556                   | 0.41           |\n",
    "|                       | SelectKBest (15) + sq_ft^2 + sin(longitude) | 371                | 261830             | 512                   | 0.50           |\n",
    "|                     | Highest corr (15)| 322                | 200112             | 447                   | 0.62           |\n",
    "|                     | Highest corr (15) + sq_ft^2 + sin(latitude) +sin(longitude) + bath² + beds²| 316                | 190964             | 437                   | 0.64           |\n",
    "|                     | SelectKBest (20) | 345                | 226796             | 476                   | 0.57           |\n",
    "|                     | SelectKBest (20) + sq_ft^2 + sin(longitude) + bath² | 336                | 213294             | 462                   | 0.60           |\n",
    "|                     | Highest corr (20)| 316                | 194185             | 441                   | 0.63           |\n",
    "|                     | Highest corr (20) + sq_ft^2 + sin(latitude) +sin(longitude) + bath² + beds²| 308                | 180525             | 425                   | 0.66           |\n",
    "|                     | SelectKBest (30) | 307                | 182991             | 428                   | 0.65           |\n",
    "|                     | SelectKBest (30) + sq_ft^2 + sin(latitude) +sin(longitude) + bath² + beds² + smoking² | 298                | 171348             | 414                   | 0.68           |\n",
    "|                     | Highest corr (30)| 308                | 185664             | 431                   | 0.65           |\n",
    "|                     | Highest corr (30) + sq_ft^2 + sin(latitude) +sin(longitude) + bath² + beds² + smoking²| 299                | 172231             | 415                   | 0.67           |\n",
    "\n",
    "\n",
    "The errors (Mean Absolute, Mean Square and Root Mean Square) are all lower for the polynomial regression model than the linear regression model. A lower error is an indication that the prediction values are closer to the true value. \n",
    "\n",
    "**Conclusion** </br>\n",
    "\n",
    "The model built from a polynomial regression with an order of 2 performs better than the linear regression model, since its predicted values are closer to the true values.\n"
   ]
  },
  {
   "cell_type": "markdown",
   "id": "2eb5d56c-576c-45b9-b749-585c8666dcc6",
   "metadata": {},
   "source": [
    "### Saving the best model \n",
    "Polynomial of second degree Regression with 30 features selected with SelecKBest\n"
   ]
  },
  {
   "cell_type": "code",
   "execution_count": 17,
   "id": "81912804-1d21-47b1-890e-0972d26aad67",
   "metadata": {
    "execution": {
     "iopub.execute_input": "2025-02-25T14:00:30.806432Z",
     "iopub.status.busy": "2025-02-25T14:00:30.805924Z",
     "iopub.status.idle": "2025-02-25T14:00:30.863652Z",
     "shell.execute_reply": "2025-02-25T14:00:30.859445Z",
     "shell.execute_reply.started": "2025-02-25T14:00:30.806384Z"
    }
   },
   "outputs": [
    {
     "data": {
      "text/plain": [
       "['best_model_polynomial_degree2_kbest30_scaler.joblib']"
      ]
     },
     "execution_count": 17,
     "metadata": {},
     "output_type": "execute_result"
    }
   ],
   "source": [
    "joblib.dump(model, \"best_model_polynomial_degree2_kbest30.joblib\")\n",
    "joblib.dump(converter, \"best_model_polynomial_degree2_kbest30_converter.joblib\")\n",
    "joblib.dump(scaler, \"best_model_polynomial_degree2_kbest30_scaler.joblib\")"
   ]
  }
 ],
 "metadata": {
  "kernelspec": {
   "display_name": "graph",
   "language": "python",
   "name": "graph"
  },
  "language_info": {
   "codemirror_mode": {
    "name": "ipython",
    "version": 3
   },
   "file_extension": ".py",
   "mimetype": "text/x-python",
   "name": "python",
   "nbconvert_exporter": "python",
   "pygments_lexer": "ipython3",
   "version": "3.12.7"
  }
 },
 "nbformat": 4,
 "nbformat_minor": 5
}

{
 "cells": [
  {
   "cell_type": "markdown",
   "id": "2bb59be7-7607-461f-aa16-f0c3c097f326",
   "metadata": {},
   "source": [
    "### Importing necessary library"
   ]
  },
  {
   "cell_type": "code",
   "execution_count": 1,
   "id": "2e3928eb-14a8-4bdf-9494-af7002b535bf",
   "metadata": {
    "execution": {
     "iopub.execute_input": "2025-02-23T19:24:53.606749Z",
     "iopub.status.busy": "2025-02-23T19:24:53.605830Z",
     "iopub.status.idle": "2025-02-23T19:24:55.714978Z",
     "shell.execute_reply": "2025-02-23T19:24:55.713513Z",
     "shell.execute_reply.started": "2025-02-23T19:24:53.606719Z"
    }
   },
   "outputs": [],
   "source": [
    "import pandas as pd\n",
    "import numpy as np\n",
    "\n",
    "import datetime\n",
    "\n",
    "import seaborn as sns\n",
    "import matplotlib.pyplot as plt\n",
    "\n",
    "from sklearn.preprocessing import StandardScaler\n",
    "from sklearn.linear_model import LinearRegression\n",
    "from sklearn.preprocessing import PolynomialFeatures\n",
    "\n",
    "from sklearn.metrics import mean_absolute_error, mean_squared_error\n",
    "from sklearn.metrics import r2_score"
   ]
  },
  {
   "cell_type": "markdown",
   "id": "20742c6e-0a8d-4c89-bf88-09c0c2940c1c",
   "metadata": {},
   "source": [
    "### Define global settings"
   ]
  },
  {
   "cell_type": "code",
   "execution_count": 2,
   "id": "00afae7a-f958-423d-bd80-9a38d18cbabf",
   "metadata": {
    "execution": {
     "iopub.execute_input": "2025-02-23T19:24:55.717403Z",
     "iopub.status.busy": "2025-02-23T19:24:55.716629Z",
     "iopub.status.idle": "2025-02-23T19:24:55.726368Z",
     "shell.execute_reply": "2025-02-23T19:24:55.724618Z",
     "shell.execute_reply.started": "2025-02-23T19:24:55.717350Z"
    }
   },
   "outputs": [],
   "source": [
    "pd.options.display.float_format = '{:.6f}'.format"
   ]
  },
  {
   "cell_type": "markdown",
   "id": "336b5752-fcf4-4397-b545-72378d1ad7b2",
   "metadata": {},
   "source": [
    "### Reading the training and testing dataset files"
   ]
  },
  {
   "cell_type": "code",
   "execution_count": 3,
   "id": "9af36f3c-b794-4d98-9971-20857437ef8f",
   "metadata": {
    "execution": {
     "iopub.execute_input": "2025-02-23T19:24:55.728318Z",
     "iopub.status.busy": "2025-02-23T19:24:55.727657Z",
     "iopub.status.idle": "2025-02-23T19:24:55.867122Z",
     "shell.execute_reply": "2025-02-23T19:24:55.865306Z",
     "shell.execute_reply.started": "2025-02-23T19:24:55.728250Z"
    }
   },
   "outputs": [],
   "source": [
    "X_train = pd.read_csv('../Data/X_Training_Alberta.csv')\n",
    "X_test = pd.read_csv('../Data/X_Testing_Alberta.csv')\n",
    "\n",
    "y_train = pd.read_csv('../Data/y_Training_Alberta.csv')\n",
    "y_test = pd.read_csv('../Data/y_Testing_Alberta.csv')"
   ]
  },
  {
   "cell_type": "markdown",
   "id": "a4f69c1f-e803-4802-9728-0db821cdceab",
   "metadata": {},
   "source": [
    "### Features to keep"
   ]
  },
  {
   "cell_type": "code",
   "execution_count": 4,
   "id": "37ebaeab-4fdd-4958-a811-66dc5dfb6562",
   "metadata": {
    "execution": {
     "iopub.execute_input": "2025-02-23T19:24:55.869502Z",
     "iopub.status.busy": "2025-02-23T19:24:55.868349Z",
     "iopub.status.idle": "2025-02-23T19:24:55.882128Z",
     "shell.execute_reply": "2025-02-23T19:24:55.880647Z",
     "shell.execute_reply.started": "2025-02-23T19:24:55.869454Z"
    }
   },
   "outputs": [],
   "source": [
    "# feat2keep = ['longitude', 'beds', 'baths', 'sq_feet' ,'lease_term_6 months',\n",
    "#  'lease_term_Negotiable' ,'lease_term_Short Term', 'type_Basement',\n",
    "#  'type_Condo Unit' ,'type_House','type_Room For Rent', 'type_Townhouse',\n",
    "#  'smoking_Smoking Allowed' ,'province_British Columbia', 'province_Manitoba',\n",
    "#  'province_Newfoundland and Labrador' ,'province_Nova Scotia',\n",
    "#  'province_Ontario', 'province_Quebec', 'province_Saskatchewan']\n",
    "\n",
    "# feat2keep = ['longitude', 'beds', 'baths', 'sq_feet', 'lease_term_6 months',\n",
    "#  'lease_term_Short Term' ,'type_Basement' ,'type_House' ,'type_Room For Rent',\n",
    "#  'province_British Columbia' ,'province_Manitoba',\n",
    "#  'province_Newfoundland and Labrador' ,'province_Ontario', 'province_Quebec',\n",
    "#  'province_Saskatchewan']\n",
    "\n",
    "# feat2keep = ['longitude' ,'sq_feet', 'type_Basement' ,'type_Room For Rent',\n",
    "#  'province_Manitoba']\n",
    "# feat2keep = ['baths','beds','type_House','province_Ontario'\t,'longitude',\n",
    "# 'sq_feet','province_Manitoba','province_Saskatchewan',\n",
    "# 'type_Basement','type_Room For Rent','latitude', 'lease_term_6 months',\n",
    "#             'lease_term_Short Term', 'province_Northwest Territories',\n",
    "#             'cats','dogs']\n",
    "\n",
    "feat2keep = ['beds','sq_feet', 'type_Basement', 'type_House', 'type_Room For Rent',\n",
    " 'city_Blackfalds', 'city_Bonnyville', 'city_Camrose', 'city_Edmonton',\n",
    " 'city_Grande Prairie', 'city_Lethbridge', 'city_Medicine Hat',\n",
    " 'city_Sherwood Park', 'city_St. Albert', 'city_Sylvan Lake', 'type_Basement', 'type_Condo Unit', 'type_House', 'lease_term_Negotiable','baths']\n",
    "\n",
    "#feat2keep = ['baths','beds','type_House','province_Ontario'\t,'longitude',\n",
    "#'sq_feet','province_Saskatchewan',\n",
    "#'type_Basement','type_Room For Rent','latitude', ]\n",
    "\n",
    "X_train = X_train[feat2keep]\n",
    "X_test = X_test[feat2keep]"
   ]
  },
  {
   "cell_type": "markdown",
   "id": "d1a323f6-74ec-40dd-91e5-eb25c7594e1b",
   "metadata": {},
   "source": [
    "## Part 1: Find the optimal polynomial degree\n",
    "---\n",
    "Conclusion :\n"
   ]
  },
  {
   "cell_type": "code",
   "execution_count": null,
   "id": "ce5cf294-d00c-4b13-8ef9-1a8106899e21",
   "metadata": {
    "execution": {
     "execution_failed": "2025-02-23T19:33:17.698Z",
     "iopub.execute_input": "2025-02-23T19:24:55.884188Z",
     "iopub.status.busy": "2025-02-23T19:24:55.883582Z"
    },
    "tags": []
   },
   "outputs": [],
   "source": [
    "# List of RMSE \n",
    "train_rmse_errors = []\n",
    "test_rmse_errors = []\n",
    "\n",
    "# Define the starting point and ending point of\n",
    "# the polynomial degrees to test \n",
    "degree_start = 1\n",
    "degree_end = 5\n",
    "\n",
    "# List to save degrees\n",
    "degrees = list(range(degree_start, degree_end + 1))\n",
    "\n",
    "# Create dataframe\n",
    "x_test_pred_df = pd.DataFrame(columns=list(degrees))\n",
    "y_test_pred_df = pd.DataFrame(columns=list(degrees))\n",
    "\n",
    "# Loop over polynomial degrees\n",
    "for degree in degrees:  \n",
    "    \n",
    "    # Create an instance of PolynomialFeatures\n",
    "    converter = PolynomialFeatures(degree=degree, include_bias=False)\n",
    "    \n",
    "    # Fit converter to X features + transform features\n",
    "    X_train_feat = converter.fit_transform(X_train)\n",
    "    X_test_feat = converter.fit_transform(X_test)\n",
    "    \n",
    "    # Create training and testing dataset\n",
    "    #X_train_feat, X_test_feat, y_train, y_test = train_test_split(X_fit_features, y, test_size=0.15, random_state=1)\n",
    "    \n",
    "    # Scale the features\n",
    "    scaler = StandardScaler()\n",
    "    X_train_feat_scaled = scaler.fit_transform(X_train_feat)\n",
    "    X_test_feat_scaled = scaler.transform(X_test_feat)\n",
    "    \n",
    "    # Create the model\n",
    "    model = LinearRegression()\n",
    "\n",
    "    # Train the model\n",
    "    model.fit(X_train_feat_scaled, y_train)\n",
    "    \n",
    "    # Get predictions for training dataset\n",
    "    y_train_pred = model.predict(X_train_feat_scaled)\n",
    "\n",
    "    # Get prediction for testing dataset\n",
    "    y_test_pred = model.predict(X_test_feat_scaled)\n",
    "    \n",
    "    # Calculate RMSE for training dataset\n",
    "    train_RMSE = np.sqrt(mean_squared_error(y_train, y_train_pred))\n",
    "    \n",
    "    # Calculate RMSE for testing dataset\n",
    "    test_RMSE = np.sqrt(mean_squared_error(y_test, y_test_pred))\n",
    "    \n",
    "    # Store errors and degrees to lists\n",
    "    train_rmse_errors.append(train_RMSE)\n",
    "    test_rmse_errors.append(test_RMSE)\n",
    "\n",
    "    # Store prediction from testing sample to dataframe\n",
    "    #x_test_pred_df[degree]=  pd.Series(x_t_feat_scaled.flatten())\n",
    "    #y_test_pred_df[degree] = pd.Series(y_test_pred.flatten())"
   ]
  },
  {
   "cell_type": "code",
   "execution_count": null,
   "id": "6f91f510-5231-44e9-a191-08d8993caa94",
   "metadata": {
    "execution": {
     "execution_failed": "2025-02-23T19:33:17.701Z"
    }
   },
   "outputs": [],
   "source": [
    "# Create df with RMSE scores + degrees\n",
    "results_df = pd.DataFrame({\n",
    "    'Polynomial Degree': degrees,\n",
    "    'RSME on training dataset': train_rmse_errors,\n",
    "    'RMSE on testing dataset': test_rmse_errors\n",
    "})\n",
    "\n",
    "# Show results\n",
    "results_df.set_index('Polynomial Degree')"
   ]
  },
  {
   "cell_type": "code",
   "execution_count": null,
   "id": "01d6acde-4a72-4c08-9598-05ae846d1f14",
   "metadata": {
    "execution": {
     "execution_failed": "2025-02-23T19:33:17.702Z"
    }
   },
   "outputs": [],
   "source": [
    "# Create figure\n",
    "plt.figure(figsize=(6, 4))\n",
    "\n",
    "# Add train RMSE line plot\n",
    "plt.plot(degrees, train_rmse_errors, label='Train RMSE', marker='o')\n",
    "\n",
    "# Add test RMSE line plot\n",
    "plt.plot(degrees, test_rmse_errors, label='Test RMSE', marker='o')\n",
    "\n",
    "# Add axis labels\n",
    "plt.xlabel(\"Polynomial Complexity (Degree)\")\n",
    "plt.ylabel(\"RMSE\")\n",
    "\n",
    "# Add legend\n",
    "plt.legend()\n",
    "\n",
    "# Add title\n",
    "plt.title(\"RMSE vs. Polynomial Complexity\")\n",
    "\n",
    "# Show plot\n",
    "plt.show()"
   ]
  },
  {
   "cell_type": "markdown",
   "id": "a64496c8-0b7f-4e88-8471-63761df71cbc",
   "metadata": {},
   "source": [
    "## Part 2 : Building the model with the best polynomial degree\n",
    "---"
   ]
  },
  {
   "cell_type": "markdown",
   "id": "cb3edae0-6c9e-472e-8a0d-200e42618e60",
   "metadata": {},
   "source": [
    "### Create Polynomial Features"
   ]
  },
  {
   "cell_type": "code",
   "execution_count": null,
   "id": "ed131a44-c47f-4e9a-b454-9f539df62cfb",
   "metadata": {
    "execution": {
     "execution_failed": "2025-02-23T19:33:17.703Z"
    }
   },
   "outputs": [],
   "source": [
    "pol_degree = 2"
   ]
  },
  {
   "cell_type": "code",
   "execution_count": null,
   "id": "2c0d4ff6-e1d4-4a26-abbd-e64a3e3c74dd",
   "metadata": {
    "execution": {
     "execution_failed": "2025-02-23T19:33:17.705Z"
    }
   },
   "outputs": [],
   "source": [
    "# Create an instance of PolynomialFeatures\n",
    "converter = PolynomialFeatures(degree=pol_degree, include_bias=False)\n",
    "\n",
    "# Fit converter to X_train andX_testing features + transform features\n",
    "X_train_feat = converter.fit_transform(X_train)\n",
    "X_test_feat = converter.fit_transform(X_test)\n",
    "    "
   ]
  },
  {
   "cell_type": "markdown",
   "id": "c01d1877-d901-4ff3-9da2-f00dd4f8d009",
   "metadata": {},
   "source": [
    "### Data scaling"
   ]
  },
  {
   "cell_type": "code",
   "execution_count": null,
   "id": "050a2cf4-bf22-4e59-b1a5-4f87a3bc9a75",
   "metadata": {
    "execution": {
     "execution_failed": "2025-02-23T19:33:17.707Z"
    }
   },
   "outputs": [],
   "source": [
    "# Initialize StandardScaler\n",
    "scaler = StandardScaler()\n",
    "\n",
    "# Fit-transform training data\n",
    "X_train_feat_scaled = scaler.fit_transform(X_train)\n",
    "\n",
    "# Transform only on test data\n",
    "X_test_feat_scaled = scaler.transform(X_test)"
   ]
  },
  {
   "cell_type": "markdown",
   "id": "81e8e5c4-a761-4491-bcec-363362e50e46",
   "metadata": {},
   "source": [
    "### Create a Polynomial Regression Model"
   ]
  },
  {
   "cell_type": "code",
   "execution_count": null,
   "id": "140e2d6f-ee10-451e-be92-a47aa302543f",
   "metadata": {
    "execution": {
     "execution_failed": "2025-02-23T19:33:17.708Z"
    }
   },
   "outputs": [],
   "source": [
    "# Create the model\n",
    "model = LinearRegression()\n",
    "\n",
    "# Train the model\n",
    "model.fit(X_train_feat_scaled, y_train)"
   ]
  },
  {
   "cell_type": "markdown",
   "id": "7b7b1fb7-3c45-4fce-a37f-c56ef93e91d1",
   "metadata": {},
   "source": [
    "### Use model on testing dataset"
   ]
  },
  {
   "cell_type": "code",
   "execution_count": null,
   "id": "54cba027-22b8-446f-bcae-a6bcfe8b9b48",
   "metadata": {
    "execution": {
     "execution_failed": "2025-02-23T19:33:17.710Z"
    }
   },
   "outputs": [],
   "source": [
    "# Get prediction for testing dataset\n",
    "y_pred = model.predict(X_test_feat_scaled)"
   ]
  },
  {
   "cell_type": "markdown",
   "id": "40827d4c-dbb8-4831-a7dc-0b076639619b",
   "metadata": {
    "execution": {
     "iopub.execute_input": "2025-02-22T22:51:03.185816Z",
     "iopub.status.busy": "2025-02-22T22:51:03.184942Z",
     "iopub.status.idle": "2025-02-22T22:51:03.192520Z",
     "shell.execute_reply": "2025-02-22T22:51:03.191000Z",
     "shell.execute_reply.started": "2025-02-22T22:51:03.185758Z"
    }
   },
   "source": [
    "### Compute error scores"
   ]
  },
  {
   "cell_type": "code",
   "execution_count": null,
   "id": "816b5ca3-c08e-4cfb-ba6f-6597acd39a76",
   "metadata": {
    "execution": {
     "execution_failed": "2025-02-23T19:33:17.711Z"
    }
   },
   "outputs": [],
   "source": [
    "mae = mean_absolute_error(y_test, y_pred)\n",
    "\n",
    "mse = mean_squared_error(y_test, y_pred)\n",
    "\n",
    "rmse = np.sqrt(mse)\n",
    "\n",
    "r2 = r2_score(y_test, y_pred)\n",
    "\n",
    "print(f'The Mean Absolute Error = {mae:.0f}\\n\\\n",
    "The Mean Square Error = {mse:.0f}\\n\\\n",
    "The Root Mean Square Error = {rmse:.0f}\\n\\\n",
    "The R2 scores = {r2:.0f}')"
   ]
  },
  {
   "cell_type": "markdown",
   "id": "99062521-ce6a-4c0a-8e53-c8b1a24e28d9",
   "metadata": {},
   "source": [
    "\n",
    "| Regression Method   | Mean Absolute Error | Mean Square Error    | Root Mean Square Error | R2 scores   |\n",
    "| ------------------- | ------------------- | -------------------- | ---------------------- | ----------- |\n",
    "| Linear              | 391                | 375721             | 613                   | 1           |\n",
    "| Polynomial          | 362                | 297611             | 546                   | 1           |\n",
    "\n",
    "The errors (Mean Absolute, Mean Square and Root Mean Square) are all lower for the polynomial regression model than the linear regression model. A lower error is an indication that the prediction values are closer to the true value. \n",
    "\n",
    "** Conclusion ** </br>\n",
    "The model built from a polynomial regression with an order of 2 performs better than the linear regression model, since its predicted values are closer to the true values.\n"
   ]
  }
 ],
 "metadata": {
  "kernelspec": {
   "display_name": "graph",
   "language": "python",
   "name": "graph"
  },
  "language_info": {
   "codemirror_mode": {
    "name": "ipython",
    "version": 3
   },
   "file_extension": ".py",
   "mimetype": "text/x-python",
   "name": "python",
   "nbconvert_exporter": "python",
   "pygments_lexer": "ipython3",
   "version": "3.12.7"
  }
 },
 "nbformat": 4,
 "nbformat_minor": 5
}

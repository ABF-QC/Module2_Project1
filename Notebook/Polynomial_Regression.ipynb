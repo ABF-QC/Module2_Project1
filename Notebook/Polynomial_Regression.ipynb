{
 "cells": [
  {
   "cell_type": "markdown",
   "id": "2bb59be7-7607-461f-aa16-f0c3c097f326",
   "metadata": {},
   "source": [
    "### Importing necessary library"
   ]
  },
  {
   "cell_type": "code",
   "execution_count": 1,
   "id": "2e3928eb-14a8-4bdf-9494-af7002b535bf",
   "metadata": {
    "execution": {
     "iopub.execute_input": "2025-02-24T21:45:50.644072Z",
     "iopub.status.busy": "2025-02-24T21:45:50.643517Z",
     "iopub.status.idle": "2025-02-24T21:45:52.565147Z",
     "shell.execute_reply": "2025-02-24T21:45:52.563147Z",
     "shell.execute_reply.started": "2025-02-24T21:45:50.644025Z"
    }
   },
   "outputs": [],
   "source": [
    "import pandas as pd\n",
    "import numpy as np\n",
    "\n",
    "import datetime\n",
    "\n",
    "import seaborn as sns\n",
    "import matplotlib.pyplot as plt\n",
    "\n",
    "import scipy.stats as stats\n",
    "\n",
    "from sklearn.preprocessing import StandardScaler\n",
    "from sklearn.linear_model import LinearRegression\n",
    "from sklearn.preprocessing import PolynomialFeatures\n",
    "from sklearn.model_selection import train_test_split\n",
    "\n",
    "from sklearn.metrics import mean_absolute_error, mean_squared_error\n",
    "from sklearn.metrics import r2_score\n",
    "\n",
    "import joblib"
   ]
  },
  {
   "cell_type": "markdown",
   "id": "20742c6e-0a8d-4c89-bf88-09c0c2940c1c",
   "metadata": {},
   "source": [
    "### Define global settings"
   ]
  },
  {
   "cell_type": "code",
   "execution_count": 2,
   "id": "00afae7a-f958-423d-bd80-9a38d18cbabf",
   "metadata": {
    "execution": {
     "iopub.execute_input": "2025-02-24T21:45:52.568616Z",
     "iopub.status.busy": "2025-02-24T21:45:52.567900Z",
     "iopub.status.idle": "2025-02-24T21:45:52.575486Z",
     "shell.execute_reply": "2025-02-24T21:45:52.573941Z",
     "shell.execute_reply.started": "2025-02-24T21:45:52.568563Z"
    }
   },
   "outputs": [],
   "source": [
    "pd.options.display.float_format = '{:.6f}'.format"
   ]
  },
  {
   "cell_type": "markdown",
   "id": "336b5752-fcf4-4397-b545-72378d1ad7b2",
   "metadata": {},
   "source": [
    "### Reading the training and testing dataset files"
   ]
  },
  {
   "cell_type": "code",
   "execution_count": 3,
   "id": "9af36f3c-b794-4d98-9971-20857437ef8f",
   "metadata": {
    "execution": {
     "iopub.execute_input": "2025-02-24T21:45:52.577792Z",
     "iopub.status.busy": "2025-02-24T21:45:52.577344Z",
     "iopub.status.idle": "2025-02-24T21:45:52.735628Z",
     "shell.execute_reply": "2025-02-24T21:45:52.733805Z",
     "shell.execute_reply.started": "2025-02-24T21:45:52.577749Z"
    }
   },
   "outputs": [],
   "source": [
    "rent_df = pd.read_csv('../Data/canada_rent_clean_max5k.csv')\n"
   ]
  },
  {
   "cell_type": "markdown",
   "id": "a4f69c1f-e803-4802-9728-0db821cdceab",
   "metadata": {},
   "source": [
    "### Features to keep"
   ]
  },
  {
   "cell_type": "code",
   "execution_count": 4,
   "id": "f4a4309c-460c-4504-b6cc-87d0bc1d6cb0",
   "metadata": {
    "execution": {
     "iopub.execute_input": "2025-02-24T21:45:52.737541Z",
     "iopub.status.busy": "2025-02-24T21:45:52.737140Z",
     "iopub.status.idle": "2025-02-24T21:45:52.747606Z",
     "shell.execute_reply": "2025-02-24T21:45:52.746250Z",
     "shell.execute_reply.started": "2025-02-24T21:45:52.737513Z"
    }
   },
   "outputs": [],
   "source": [
    "kbest_15 = ['longitude', 'sq_feet', 'lease_term_6 months', 'type_Basement', 'type_House',\n",
    " 'type_Room For Rent', 'province_Manitoba',\n",
    " 'province_Newfoundland and Labrador', 'province_Ontario',\n",
    " 'province_Saskatchewan', 'city_Toronto', 'city_Edmonton' ,'city_Winnipeg',\n",
    " 'city_Regina', 'city_West Vancouver']\n",
    "\n",
    "kbest_20 = ['longitude','beds', 'sq_feet', 'lease_term_6 months',\n",
    " 'lease_term_Short Term', 'type_Basement', 'type_House', 'type_Room For Rent',\n",
    " 'province_Manitoba', 'province_Newfoundland and Labrador',\n",
    " 'province_Ontario', 'province_Saskatchewan', 'city_Calgary', 'city_Toronto',\n",
    " 'city_Edmonton', 'city_Ottawa', 'city_Winnipeg', 'city_Vancouver',\n",
    " 'city_Regina', 'city_West Vancouver']\n",
    "\n",
    "kbest_30 = ['latitude', 'longitude', 'beds', 'baths', 'sq_feet', 'lease_term_6 months',\n",
    " 'lease_term_Negotiable', 'lease_term_Short Term', 'type_Basement',\n",
    " 'type_Condo Unit', 'type_House', 'type_Room For Rent',\n",
    " 'smoking_Smoking Allowed', 'province_British Columbia', 'province_Manitoba',\n",
    " 'province_Newfoundland and Labrador', 'province_Nova Scotia',\n",
    " 'province_Ontario', 'province_Quebec', 'province_Saskatchewan',\n",
    " 'city_Calgary', 'city_Toronto', 'city_Edmonton', 'city_Montréal',\n",
    " 'city_Ottawa', 'city_Winnipeg', 'city_Vancouver', 'city_Victoria',\n",
    " 'city_Regina', 'city_West Vancouver']\n",
    "\n",
    "corBest_30 = ['baths', 'beds', 'type_House', 'city_Toronto', 'latitude',\n",
    "       'type_Room For Rent', 'province_Ontario', 'city_Edmonton',\n",
    "       'type_Basement', 'province_Saskatchewan', 'longitude', 'sq_feet',\n",
    "       'dogs', 'city_Vancouver', 'lease_term_Short Term', 'province_Manitoba',\n",
    "       'province_British Columbia', 'city_Winnipeg', 'city_Regina',\n",
    "       'city_West Vancouver', 'cats', 'city_Canmore', 'province_Nova Scotia',\n",
    "       'smoking_Smoking Allowed', 'city_Halifax', 'type_Duplex',\n",
    "       'lease_term_Negotiable', 'type_Condo Unit', 'lease_term_Long Term',\n",
    "       'city_Victoria']\n",
    "\n",
    "corBest_15 = corBest_30[0:15]\n",
    "corBest_20 = corBest_30[0:20]\n",
    "\n",
    "\n",
    "feat2keep = kbest_30"
   ]
  },
  {
   "cell_type": "markdown",
   "id": "b4c21e37-043a-4661-99f9-1ffb93bd27f0",
   "metadata": {},
   "source": [
    "### Keep only selected features from dataset"
   ]
  },
  {
   "cell_type": "code",
   "execution_count": 5,
   "id": "f9492eb8-3e32-4c93-8ce0-27c3537d2e99",
   "metadata": {
    "execution": {
     "iopub.execute_input": "2025-02-24T21:45:52.749703Z",
     "iopub.status.busy": "2025-02-24T21:45:52.748975Z",
     "iopub.status.idle": "2025-02-24T21:45:52.774388Z",
     "shell.execute_reply": "2025-02-24T21:45:52.773077Z",
     "shell.execute_reply.started": "2025-02-24T21:45:52.749642Z"
    }
   },
   "outputs": [],
   "source": [
    "# Separate independent variable from dependent variable\n",
    "X = rent_df[feat2keep]\n",
    "y = rent_df['price']"
   ]
  },
  {
   "cell_type": "markdown",
   "id": "647b6aa7-679e-4711-9b21-6812d7ac0e8d",
   "metadata": {},
   "source": [
    "### Split dataset into training and testing set"
   ]
  },
  {
   "cell_type": "code",
   "execution_count": 6,
   "id": "84061686-6509-40b8-948f-ef8a5db5f9cf",
   "metadata": {
    "execution": {
     "iopub.execute_input": "2025-02-24T21:45:52.776726Z",
     "iopub.status.busy": "2025-02-24T21:45:52.775866Z",
     "iopub.status.idle": "2025-02-24T21:45:52.801865Z",
     "shell.execute_reply": "2025-02-24T21:45:52.800812Z",
     "shell.execute_reply.started": "2025-02-24T21:45:52.776678Z"
    }
   },
   "outputs": [],
   "source": [
    "# Split data into training/testing dataset\n",
    "X_train, X_test, y_train, y_test = train_test_split(X, y, test_size = 0.2, random_state = 1)"
   ]
  },
  {
   "cell_type": "markdown",
   "id": "d1a323f6-74ec-40dd-91e5-eb25c7594e1b",
   "metadata": {},
   "source": [
    "## Part 1: Find the optimal polynomial degree\n",
    "---\n",
    "Conclusion :\n"
   ]
  },
  {
   "cell_type": "code",
   "execution_count": null,
   "id": "2fd7df2b-ddc4-4569-99ba-5bcf7b592561",
   "metadata": {
    "execution": {
     "execution_failed": "2025-02-24T21:48:57.684Z",
     "iopub.execute_input": "2025-02-24T21:45:52.803419Z",
     "iopub.status.busy": "2025-02-24T21:45:52.802986Z"
    },
    "tags": []
   },
   "outputs": [],
   "source": [
    "# List of RMSE \n",
    "train_rmse_errors = []\n",
    "test_rmse_errors = []\n",
    "\n",
    "# Define the starting point and ending point of\n",
    "# the polynomial degrees to test \n",
    "degree_start = 1\n",
    "degree_end = 4\n",
    "\n",
    "# List to save degrees\n",
    "degrees = list(range(degree_start, degree_end + 1))\n",
    "\n",
    "# Create dataframe\n",
    "x_test_pred_df = pd.DataFrame(columns=list(degrees))\n",
    "y_test_pred_df = pd.DataFrame(columns=list(degrees))\n",
    "\n",
    "# Loop over polynomial degrees\n",
    "for degree in degrees:  \n",
    "    \n",
    "    # Create an instance of PolynomialFeatures\n",
    "    converter = PolynomialFeatures(degree=degree, include_bias=False)\n",
    "    \n",
    "    # Fit converter to X features + transform features\n",
    "    X_train_feat = converter.fit_transform(X_train)\n",
    "    X_test_feat = converter.fit_transform(X_test)\n",
    "    \n",
    "    # Create training and testing dataset\n",
    "    #X_train_feat, X_test_feat, y_train, y_test = train_test_split(X_fit_features, y, test_size=0.15, random_state=1)\n",
    "    \n",
    "    # Scale the features\n",
    "    scaler = StandardScaler()\n",
    "    X_train_feat_scaled = scaler.fit_transform(X_train_feat)\n",
    "    X_test_feat_scaled = scaler.transform(X_test_feat)\n",
    "    \n",
    "    # Create the model\n",
    "    model = LinearRegression()\n",
    "\n",
    "    # Train the model\n",
    "    model.fit(X_train_feat_scaled, y_train)\n",
    "    \n",
    "    # Get predictions for training dataset\n",
    "    y_train_pred = model.predict(X_train_feat_scaled)\n",
    "\n",
    "    # Get prediction for testing dataset\n",
    "    y_test_pred = model.predict(X_test_feat_scaled)\n",
    "    \n",
    "    # Calculate RMSE for training dataset\n",
    "    train_RMSE = np.sqrt(mean_squared_error(y_train, y_train_pred))\n",
    "    \n",
    "    # Calculate RMSE for testing dataset\n",
    "    test_RMSE = np.sqrt(mean_squared_error(y_test, y_test_pred))\n",
    "    \n",
    "    # Store errors and degrees to lists\n",
    "    train_rmse_errors.append(train_RMSE)\n",
    "    test_rmse_errors.append(test_RMSE)\n",
    "\n",
    "    # Store prediction from testing sample to dataframe\n",
    "    #x_test_pred_df[degree]=  pd.Series(x_t_feat_scaled.flatten())\n",
    "    #y_test_pred_df[degree] = pd.Series(y_test_pred.flatten())"
   ]
  },
  {
   "cell_type": "code",
   "execution_count": null,
   "id": "2f9b997a-863d-443b-a840-b8e14cbb7306",
   "metadata": {
    "execution": {
     "execution_failed": "2025-02-24T21:48:57.688Z"
    }
   },
   "outputs": [],
   "source": [
    "# Create df with RMSE scores + degrees\n",
    "results_df = pd.DataFrame({\n",
    "    'Polynomial Degree': degrees,\n",
    "    'RSME on training dataset': train_rmse_errors,\n",
    "    'RMSE on testing dataset': test_rmse_errors\n",
    "})\n",
    "\n",
    "# Show results\n",
    "results_df.set_index('Polynomial Degree')"
   ]
  },
  {
   "cell_type": "code",
   "execution_count": null,
   "id": "48493379-f8bf-4d0d-8e55-a7398f95f2ec",
   "metadata": {
    "execution": {
     "execution_failed": "2025-02-24T21:48:57.689Z"
    }
   },
   "outputs": [],
   "source": [
    "# Create figure\n",
    "plt.figure(figsize=(6, 4))\n",
    "\n",
    "# Add train RMSE line plot\n",
    "plt.plot(degrees, train_rmse_errors, label='Train RMSE', marker='o')\n",
    "\n",
    "# Add test RMSE line plot\n",
    "plt.plot(degrees, test_rmse_errors, label='Test RMSE', marker='o')\n",
    "\n",
    "# Add axis labels\n",
    "plt.xlabel(\"Polynomial Complexity (Degree)\")\n",
    "plt.ylabel(\"RMSE\")\n",
    "\n",
    "# Add legend\n",
    "plt.legend()\n",
    "\n",
    "# Add title\n",
    "plt.title(\"RMSE vs. Polynomial Complexity\")\n",
    "\n",
    "# Save fig\n",
    "plt.savefig('../Graph/PolynmialComplexity.png')\n",
    "\n",
    "# Show plot\n",
    "plt.show()"
   ]
  },
  {
   "cell_type": "markdown",
   "id": "a64496c8-0b7f-4e88-8471-63761df71cbc",
   "metadata": {},
   "source": [
    "## Part 2 : Building the model with the best polynomial degree\n",
    "---"
   ]
  },
  {
   "cell_type": "markdown",
   "id": "cb3edae0-6c9e-472e-8a0d-200e42618e60",
   "metadata": {},
   "source": [
    "### Create Polynomial Features"
   ]
  },
  {
   "cell_type": "code",
   "execution_count": null,
   "id": "ed131a44-c47f-4e9a-b454-9f539df62cfb",
   "metadata": {
    "execution": {
     "execution_failed": "2025-02-24T21:48:57.689Z"
    }
   },
   "outputs": [],
   "source": [
    "pol_degree = 2"
   ]
  },
  {
   "cell_type": "code",
   "execution_count": null,
   "id": "2c0d4ff6-e1d4-4a26-abbd-e64a3e3c74dd",
   "metadata": {
    "execution": {
     "execution_failed": "2025-02-24T21:48:57.690Z"
    }
   },
   "outputs": [],
   "source": [
    "# Create an instance of PolynomialFeatures\n",
    "converter = PolynomialFeatures(degree=pol_degree, include_bias=False)\n",
    "\n",
    "# Fit converter to X_train andX_testing features + transform features\n",
    "X_train_feat = converter.fit_transform(X_train)\n",
    "X_test_feat = converter.fit_transform(X_test)\n",
    "    "
   ]
  },
  {
   "cell_type": "markdown",
   "id": "c01d1877-d901-4ff3-9da2-f00dd4f8d009",
   "metadata": {},
   "source": [
    "### Data scaling"
   ]
  },
  {
   "cell_type": "code",
   "execution_count": null,
   "id": "050a2cf4-bf22-4e59-b1a5-4f87a3bc9a75",
   "metadata": {
    "execution": {
     "execution_failed": "2025-02-24T21:48:57.690Z"
    }
   },
   "outputs": [],
   "source": [
    "# Initialize StandardScaler\n",
    "scaler = StandardScaler()\n",
    "\n",
    "# Fit-transform training data\n",
    "X_train_feat_scaled = scaler.fit_transform(X_train_feat)\n",
    "\n",
    "# Transform only on test data\n",
    "X_test_feat_scaled = scaler.transform(X_test_feat)"
   ]
  },
  {
   "cell_type": "markdown",
   "id": "81e8e5c4-a761-4491-bcec-363362e50e46",
   "metadata": {},
   "source": [
    "### Create a Polynomial Regression Model"
   ]
  },
  {
   "cell_type": "code",
   "execution_count": null,
   "id": "140e2d6f-ee10-451e-be92-a47aa302543f",
   "metadata": {
    "execution": {
     "execution_failed": "2025-02-24T21:48:57.691Z"
    }
   },
   "outputs": [],
   "source": [
    "# Create the model\n",
    "model = LinearRegression()\n",
    "\n",
    "# Train the model\n",
    "model.fit(X_train_feat_scaled, y_train)"
   ]
  },
  {
   "cell_type": "markdown",
   "id": "7b7b1fb7-3c45-4fce-a37f-c56ef93e91d1",
   "metadata": {},
   "source": [
    "### Use model on testing dataset"
   ]
  },
  {
   "cell_type": "code",
   "execution_count": null,
   "id": "54cba027-22b8-446f-bcae-a6bcfe8b9b48",
   "metadata": {
    "execution": {
     "execution_failed": "2025-02-24T21:48:57.691Z"
    }
   },
   "outputs": [],
   "source": [
    "# Get prediction for testing dataset\n",
    "y_pred = model.predict(X_test_feat_scaled)"
   ]
  },
  {
   "cell_type": "code",
   "execution_count": null,
   "id": "b892b577-e99f-491e-98cb-ef5b0418b98e",
   "metadata": {},
   "outputs": [],
   "source": []
  },
  {
   "cell_type": "markdown",
   "id": "835820e3-530c-416d-a5a0-048e817cf092",
   "metadata": {},
   "source": [
    "### Plot the residuals"
   ]
  },
  {
   "cell_type": "code",
   "execution_count": null,
   "id": "99dfd033-990f-45fb-9c7c-e9ad1d225e4e",
   "metadata": {
    "execution": {
     "execution_failed": "2025-02-24T21:48:57.691Z"
    }
   },
   "outputs": [],
   "source": [
    "# Residual plot\n",
    "\n",
    "# Create subplots and adjust their size\n",
    "fig, (ax1, ax2) = plt.subplots(1,2,figsize = (8*2, 8))\n",
    "\n",
    "# Add scatter plot\n",
    "sns.scatterplot(x=y_test, y=y_pred, zorder=3, ax = ax1)\n",
    "\n",
    "# Add legend to ax1\n",
    "ax1.set_title('Residual plot')\n",
    "\n",
    "# Add grid y-axis line at 0\n",
    "ax1.axhline(0, linestyle='--', color='gray', zorder=0, linewidth=0.5)\n",
    "\n",
    "# Add QQ plot\n",
    "stats.probplot(y_test-y_pred, dist=\"norm\", plot=ax2);\n",
    "\n",
    "# Add grid y-axis line at 0\n",
    "ax2.axhline(0, linestyle='--', color='gray', zorder=0, linewidth=0.5)\n",
    "\n",
    "# Add legend to ax2\n",
    "ax2.set_title('QQ plot')"
   ]
  },
  {
   "cell_type": "markdown",
   "id": "40827d4c-dbb8-4831-a7dc-0b076639619b",
   "metadata": {
    "execution": {
     "iopub.execute_input": "2025-02-22T22:51:03.185816Z",
     "iopub.status.busy": "2025-02-22T22:51:03.184942Z",
     "iopub.status.idle": "2025-02-22T22:51:03.192520Z",
     "shell.execute_reply": "2025-02-22T22:51:03.191000Z",
     "shell.execute_reply.started": "2025-02-22T22:51:03.185758Z"
    }
   },
   "source": [
    "### Compute error scores"
   ]
  },
  {
   "cell_type": "code",
   "execution_count": null,
   "id": "816b5ca3-c08e-4cfb-ba6f-6597acd39a76",
   "metadata": {
    "execution": {
     "execution_failed": "2025-02-24T21:48:57.692Z"
    }
   },
   "outputs": [],
   "source": [
    "mae = mean_absolute_error(y_test, y_pred)\n",
    "\n",
    "mse = mean_squared_error(y_test, y_pred)\n",
    "\n",
    "rmse = np.sqrt(mse)\n",
    "\n",
    "r2 = r2_score(y_test, y_pred)\n",
    "\n",
    "print(f'The Mean Absolute Error = {mae:.0f}\\n\\\n",
    "The Mean Square Error = {mse:.0f}\\n\\\n",
    "The Root Mean Square Error = {rmse:.2f}\\n\\\n",
    "The R2 scores = {r2:.2f}')"
   ]
  },
  {
   "cell_type": "code",
   "execution_count": null,
   "id": "14470c77-67fe-456d-991b-86516a8d786a",
   "metadata": {
    "execution": {
     "execution_failed": "2025-02-24T21:48:57.692Z"
    }
   },
   "outputs": [],
   "source": [
    "sum((y_test-y_pred)**2)/len(y_test)"
   ]
  },
  {
   "cell_type": "code",
   "execution_count": null,
   "id": "9d646877-579d-4f63-9367-d74a9304576b",
   "metadata": {
    "execution": {
     "execution_failed": "2025-02-24T21:48:57.692Z"
    }
   },
   "outputs": [],
   "source": [
    "mean_squared_error(y_test, y_pred)"
   ]
  },
  {
   "cell_type": "markdown",
   "id": "86c512df-653b-4324-8b31-a8f324adf207",
   "metadata": {},
   "source": [
    "\n",
    "| Regression Method   | Predictors  | Mean Absolute Error | Mean Square Error    | Root Mean Square Error | R2 scores   |\n",
    "| ------------------- | ----------- | ------------------- | -------------------- | ---------------------- | ----------- |\n",
    "| Linear              | SelectKBest (15) | 407                | 309293             | 556                   | 0.41           |\n",
    "|                     | Highest corr (15)| 322                | 200112             | 447                   | 0.62           |\n",
    "|                     | SelectKBest (20) | 345                | 226796             | 476                   | 0.57           |\n",
    "|                     | Highest corr (20)| 316                | 194185             | 441                   | 0.63           |\n",
    "|                     | SelectKBest (30) | 307                | 182991             | 428                   | 0.65           |\n",
    "|                     | Highest corr (30)| 308                | 185664             | 431                   | 0.65           |\n",
    "| Polynomial          | SelectKBest (15) | 319                | 197348             | 444                   | 0.63           |\n",
    "|                     | Highest corr (15)| 278                | 150742             | 388                   | 0.71           |\n",
    "|                     | SelectKBest (20) | 302                | 176505             | 420                   | 0.67           |\n",
    "|                     | Highest corr (20)| 274                | 147937             | 385                   | 0.72           |\n",
    "|                     | SelectKBest (30) | 263                | 134968             | 367                   | 0.74           |\n",
    "|                     | Highest corr (30)| 266                | 138808             | 373                   | 0.74           |\n",
    "\n",
    "The errors (Mean Absolute, Mean Square and Root Mean Square) are all lower for the polynomial regression model than the linear regression model. A lower error is an indication that the prediction values are closer to the true value. \n",
    "\n",
    "** Conclusion ** </br>\n",
    "The model built from a polynomial regression with an order of 2 performs better than the linear regression model, since its predicted values are closer to the true values.\n"
   ]
  },
  {
   "cell_type": "markdown",
   "id": "2eb5d56c-576c-45b9-b749-585c8666dcc6",
   "metadata": {},
   "source": [
    "### Saving model\n"
   ]
  },
  {
   "cell_type": "code",
   "execution_count": null,
   "id": "81912804-1d21-47b1-890e-0972d26aad67",
   "metadata": {
    "execution": {
     "execution_failed": "2025-02-24T21:48:57.693Z"
    }
   },
   "outputs": [],
   "source": [
    "joblib.dump(model, \"best_model_polynomial_degree2_kbest30.joblib\")\n",
    "joblib.dump(converter, \"best_model_polynomial_degree2_kbest30_converter.joblib\")\n",
    "joblib.dump(scaler, \"best_model_polynomial_degree2_kbest30_scaler.joblib\")"
   ]
  },
  {
   "cell_type": "code",
   "execution_count": null,
   "id": "e552579d-5e6f-47ac-b641-957ca008da8b",
   "metadata": {},
   "outputs": [],
   "source": []
  }
 ],
 "metadata": {
  "kernelspec": {
   "display_name": "graph",
   "language": "python",
   "name": "graph"
  },
  "language_info": {
   "codemirror_mode": {
    "name": "ipython",
    "version": 3
   },
   "file_extension": ".py",
   "mimetype": "text/x-python",
   "name": "python",
   "nbconvert_exporter": "python",
   "pygments_lexer": "ipython3",
   "version": "3.12.7"
  }
 },
 "nbformat": 4,
 "nbformat_minor": 5
}

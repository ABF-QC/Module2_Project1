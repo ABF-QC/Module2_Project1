{
 "cells": [
  {
   "cell_type": "markdown",
   "id": "2bb59be7-7607-461f-aa16-f0c3c097f326",
   "metadata": {},
   "source": [
    "### Importing necessary library"
   ]
  },
  {
   "cell_type": "code",
   "execution_count": 1,
   "id": "2e3928eb-14a8-4bdf-9494-af7002b535bf",
   "metadata": {
    "execution": {
     "iopub.execute_input": "2025-02-24T23:18:33.824636Z",
     "iopub.status.busy": "2025-02-24T23:18:33.824106Z",
     "iopub.status.idle": "2025-02-24T23:18:37.186170Z",
     "shell.execute_reply": "2025-02-24T23:18:37.184344Z",
     "shell.execute_reply.started": "2025-02-24T23:18:33.824589Z"
    }
   },
   "outputs": [],
   "source": [
    "import pandas as pd\n",
    "import numpy as np\n",
    "\n",
    "import datetime\n",
    "\n",
    "import seaborn as sns\n",
    "import matplotlib.pyplot as plt\n",
    "\n",
    "import scipy.stats as stats\n",
    "\n",
    "from sklearn.preprocessing import StandardScaler\n",
    "from sklearn.linear_model import LinearRegression\n",
    "from sklearn.preprocessing import PolynomialFeatures\n",
    "from sklearn.model_selection import train_test_split\n",
    "\n",
    "from sklearn.metrics import mean_absolute_error, mean_squared_error\n",
    "from sklearn.metrics import r2_score\n",
    "\n",
    "import joblib"
   ]
  },
  {
   "cell_type": "markdown",
   "id": "20742c6e-0a8d-4c89-bf88-09c0c2940c1c",
   "metadata": {},
   "source": [
    "### Define global settings"
   ]
  },
  {
   "cell_type": "code",
   "execution_count": 2,
   "id": "00afae7a-f958-423d-bd80-9a38d18cbabf",
   "metadata": {
    "execution": {
     "iopub.execute_input": "2025-02-24T23:18:37.189743Z",
     "iopub.status.busy": "2025-02-24T23:18:37.188836Z",
     "iopub.status.idle": "2025-02-24T23:18:37.197607Z",
     "shell.execute_reply": "2025-02-24T23:18:37.196029Z",
     "shell.execute_reply.started": "2025-02-24T23:18:37.189683Z"
    }
   },
   "outputs": [],
   "source": [
    "pd.options.display.float_format = '{:.6f}'.format"
   ]
  },
  {
   "cell_type": "markdown",
   "id": "336b5752-fcf4-4397-b545-72378d1ad7b2",
   "metadata": {},
   "source": [
    "### Reading the training and testing dataset files"
   ]
  },
  {
   "cell_type": "code",
   "execution_count": 3,
   "id": "9af36f3c-b794-4d98-9971-20857437ef8f",
   "metadata": {
    "execution": {
     "iopub.execute_input": "2025-02-24T23:18:38.803187Z",
     "iopub.status.busy": "2025-02-24T23:18:38.802577Z",
     "iopub.status.idle": "2025-02-24T23:18:39.091337Z",
     "shell.execute_reply": "2025-02-24T23:18:39.090569Z",
     "shell.execute_reply.started": "2025-02-24T23:18:38.803139Z"
    }
   },
   "outputs": [],
   "source": [
    "rent_df = pd.read_csv('../Data/canada_rent_clean_max5k.csv')\n"
   ]
  },
  {
   "cell_type": "markdown",
   "id": "a4f69c1f-e803-4802-9728-0db821cdceab",
   "metadata": {},
   "source": [
    "### Features to keep"
   ]
  },
  {
   "cell_type": "code",
   "execution_count": 4,
   "id": "f4a4309c-460c-4504-b6cc-87d0bc1d6cb0",
   "metadata": {
    "execution": {
     "iopub.execute_input": "2025-02-24T23:18:41.256638Z",
     "iopub.status.busy": "2025-02-24T23:18:41.256059Z",
     "iopub.status.idle": "2025-02-24T23:18:41.274318Z",
     "shell.execute_reply": "2025-02-24T23:18:41.269029Z",
     "shell.execute_reply.started": "2025-02-24T23:18:41.256590Z"
    }
   },
   "outputs": [],
   "source": [
    "kbest_15 = ['longitude', 'sq_feet', 'lease_term_6 months', 'type_Basement', 'type_House',\n",
    " 'type_Room For Rent', 'province_Manitoba',\n",
    " 'province_Newfoundland and Labrador', 'province_Ontario',\n",
    " 'province_Saskatchewan', 'city_Toronto', 'city_Edmonton' ,'city_Winnipeg',\n",
    " 'city_Regina', 'city_West Vancouver']\n",
    "\n",
    "kbest_20 = ['longitude','beds', 'sq_feet', 'lease_term_6 months',\n",
    " 'lease_term_Short Term', 'type_Basement', 'type_House', 'type_Room For Rent',\n",
    " 'province_Manitoba', 'province_Newfoundland and Labrador',\n",
    " 'province_Ontario', 'province_Saskatchewan', 'city_Calgary', 'city_Toronto',\n",
    " 'city_Edmonton', 'city_Ottawa', 'city_Winnipeg', 'city_Vancouver',\n",
    " 'city_Regina', 'city_West Vancouver']\n",
    "\n",
    "kbest_30 = ['latitude', 'longitude', 'beds', 'baths', 'sq_feet', 'lease_term_6 months',\n",
    " 'lease_term_Negotiable', 'lease_term_Short Term', 'type_Basement',\n",
    " 'type_Condo Unit', 'type_House', 'type_Room For Rent',\n",
    " 'smoking_Smoking Allowed', 'province_British Columbia', 'province_Manitoba',\n",
    " 'province_Newfoundland and Labrador', 'province_Nova Scotia',\n",
    " 'province_Ontario', 'province_Quebec', 'province_Saskatchewan',\n",
    " 'city_Calgary', 'city_Toronto', 'city_Edmonton', 'city_Montréal',\n",
    " 'city_Ottawa', 'city_Winnipeg', 'city_Vancouver', 'city_Victoria',\n",
    " 'city_Regina', 'city_West Vancouver']\n",
    "\n",
    "corBest_30 = ['baths', 'beds', 'type_House', 'city_Toronto', 'latitude',\n",
    "       'type_Room For Rent', 'province_Ontario', 'city_Edmonton',\n",
    "       'type_Basement', 'province_Saskatchewan', 'longitude', 'sq_feet',\n",
    "       'dogs', 'city_Vancouver', 'lease_term_Short Term', 'province_Manitoba',\n",
    "       'province_British Columbia', 'city_Winnipeg', 'city_Regina',\n",
    "       'city_West Vancouver', 'cats', 'city_Canmore', 'province_Nova Scotia',\n",
    "       'smoking_Smoking Allowed', 'city_Halifax', 'type_Duplex',\n",
    "       'lease_term_Negotiable', 'type_Condo Unit', 'lease_term_Long Term',\n",
    "       'city_Victoria']\n",
    "\n",
    "corBest_15 = corBest_30[0:15]\n",
    "corBest_20 = corBest_30[0:20]\n",
    "\n",
    "\n",
    "feat2keep = kbest_30"
   ]
  },
  {
   "cell_type": "markdown",
   "id": "b4c21e37-043a-4661-99f9-1ffb93bd27f0",
   "metadata": {},
   "source": [
    "### Keep only selected features from dataset"
   ]
  },
  {
   "cell_type": "code",
   "execution_count": 5,
   "id": "f9492eb8-3e32-4c93-8ce0-27c3537d2e99",
   "metadata": {
    "execution": {
     "iopub.execute_input": "2025-02-24T23:18:43.919196Z",
     "iopub.status.busy": "2025-02-24T23:18:43.918626Z",
     "iopub.status.idle": "2025-02-24T23:18:43.944162Z",
     "shell.execute_reply": "2025-02-24T23:18:43.942741Z",
     "shell.execute_reply.started": "2025-02-24T23:18:43.919147Z"
    }
   },
   "outputs": [],
   "source": [
    "# Separate independent variable from dependent variable\n",
    "X = rent_df[feat2keep]\n",
    "y = rent_df['price']"
   ]
  },
  {
   "cell_type": "markdown",
   "id": "647b6aa7-679e-4711-9b21-6812d7ac0e8d",
   "metadata": {},
   "source": [
    "### Split dataset into training and testing set"
   ]
  },
  {
   "cell_type": "code",
   "execution_count": 6,
   "id": "84061686-6509-40b8-948f-ef8a5db5f9cf",
   "metadata": {
    "execution": {
     "iopub.execute_input": "2025-02-24T23:18:46.743180Z",
     "iopub.status.busy": "2025-02-24T23:18:46.741983Z",
     "iopub.status.idle": "2025-02-24T23:18:46.775557Z",
     "shell.execute_reply": "2025-02-24T23:18:46.773897Z",
     "shell.execute_reply.started": "2025-02-24T23:18:46.743127Z"
    }
   },
   "outputs": [
    {
     "data": {
      "text/plain": [
       "Index(['latitude', 'longitude', 'beds', 'baths', 'sq_feet',\n",
       "       'lease_term_6 months', 'lease_term_Negotiable', 'lease_term_Short Term',\n",
       "       'type_Basement', 'type_Condo Unit', 'type_House', 'type_Room For Rent',\n",
       "       'smoking_Smoking Allowed', 'province_British Columbia',\n",
       "       'province_Manitoba', 'province_Newfoundland and Labrador',\n",
       "       'province_Nova Scotia', 'province_Ontario', 'province_Quebec',\n",
       "       'province_Saskatchewan', 'city_Calgary', 'city_Toronto',\n",
       "       'city_Edmonton', 'city_Montréal', 'city_Ottawa', 'city_Winnipeg',\n",
       "       'city_Vancouver', 'city_Victoria', 'city_Regina',\n",
       "       'city_West Vancouver'],\n",
       "      dtype='object')"
      ]
     },
     "execution_count": 6,
     "metadata": {},
     "output_type": "execute_result"
    }
   ],
   "source": [
    "# Split data into training/testing dataset\n",
    "X_train, X_test, y_train, y_test = train_test_split(X, y, test_size = 0.2, random_state = 1)"
   ]
  },
  {
   "cell_type": "markdown",
   "id": "d1a323f6-74ec-40dd-91e5-eb25c7594e1b",
   "metadata": {},
   "source": [
    "## Part 1: Find the optimal polynomial degree\n",
    "---\n",
    "Conclusion :\n"
   ]
  },
  {
   "cell_type": "code",
   "execution_count": null,
   "id": "2fd7df2b-ddc4-4569-99ba-5bcf7b592561",
   "metadata": {
    "execution": {
     "iopub.execute_input": "2025-02-24T23:13:59.132834Z",
     "iopub.status.busy": "2025-02-24T23:13:59.132366Z"
    },
    "tags": []
   },
   "outputs": [],
   "source": [
    "# List of RMSE \n",
    "train_rmse_errors = []\n",
    "test_rmse_errors = []\n",
    "\n",
    "# Define the starting point and ending point of\n",
    "# the polynomial degrees to test \n",
    "degree_start = 1\n",
    "degree_end = 4\n",
    "\n",
    "# List to save degrees\n",
    "degrees = list(range(degree_start, degree_end + 1))\n",
    "\n",
    "# Create dataframe\n",
    "x_test_pred_df = pd.DataFrame(columns=list(degrees))\n",
    "y_test_pred_df = pd.DataFrame(columns=list(degrees))\n",
    "\n",
    "# Loop over polynomial degrees\n",
    "for degree in degrees:  \n",
    "    \n",
    "    # Create an instance of PolynomialFeatures\n",
    "    converter = PolynomialFeatures(degree=degree, include_bias=False)\n",
    "    \n",
    "    # Fit converter to X features + transform features\n",
    "    X_train_feat = converter.fit_transform(X_train)\n",
    "    X_test_feat = converter.fit_transform(X_test)\n",
    "    \n",
    "    # Create training and testing dataset\n",
    "    #X_train_feat, X_test_feat, y_train, y_test = train_test_split(X_fit_features, y, test_size=0.15, random_state=1)\n",
    "    \n",
    "    # Scale the features\n",
    "    scaler = StandardScaler()\n",
    "    X_train_feat_scaled = scaler.fit_transform(X_train_feat)\n",
    "    X_test_feat_scaled = scaler.transform(X_test_feat)\n",
    "    \n",
    "    # Create the model\n",
    "    model = LinearRegression()\n",
    "\n",
    "    # Train the model\n",
    "    model.fit(X_train_feat_scaled, y_train)\n",
    "    \n",
    "    # Get predictions for training dataset\n",
    "    y_train_pred = model.predict(X_train_feat_scaled)\n",
    "\n",
    "    # Get prediction for testing dataset\n",
    "    y_test_pred = model.predict(X_test_feat_scaled)\n",
    "    \n",
    "    # Calculate RMSE for training dataset\n",
    "    train_RMSE = np.sqrt(mean_squared_error(y_train, y_train_pred))\n",
    "    \n",
    "    # Calculate RMSE for testing dataset\n",
    "    test_RMSE = np.sqrt(mean_squared_error(y_test, y_test_pred))\n",
    "    \n",
    "    # Store errors and degrees to lists\n",
    "    train_rmse_errors.append(train_RMSE)\n",
    "    test_rmse_errors.append(test_RMSE)\n",
    "\n",
    "    # Store prediction from testing sample to dataframe\n",
    "    #x_test_pred_df[degree]=  pd.Series(x_t_feat_scaled.flatten())\n",
    "    #y_test_pred_df[degree] = pd.Series(y_test_pred.flatten())"
   ]
  },
  {
   "cell_type": "code",
   "execution_count": null,
   "id": "2f9b997a-863d-443b-a840-b8e14cbb7306",
   "metadata": {},
   "outputs": [],
   "source": [
    "# Create df with RMSE scores + degrees\n",
    "results_df = pd.DataFrame({\n",
    "    'Polynomial Degree': degrees,\n",
    "    'RSME on training dataset': train_rmse_errors,\n",
    "    'RMSE on testing dataset': test_rmse_errors\n",
    "})\n",
    "\n",
    "# Show results\n",
    "results_df.set_index('Polynomial Degree')"
   ]
  },
  {
   "cell_type": "code",
   "execution_count": null,
   "id": "48493379-f8bf-4d0d-8e55-a7398f95f2ec",
   "metadata": {},
   "outputs": [],
   "source": [
    "# Create figure\n",
    "plt.figure(figsize=(6, 4))\n",
    "\n",
    "# Add train RMSE line plot\n",
    "plt.plot(degrees, train_rmse_errors, label='Train RMSE', marker='o')\n",
    "\n",
    "# Add test RMSE line plot\n",
    "plt.plot(degrees, test_rmse_errors, label='Test RMSE', marker='o')\n",
    "\n",
    "# Add axis labels\n",
    "plt.xlabel(\"Polynomial Complexity (Degree)\")\n",
    "plt.ylabel(\"RMSE\")\n",
    "\n",
    "# Add legend\n",
    "plt.legend()\n",
    "\n",
    "# Add title\n",
    "plt.title(\"RMSE vs. Polynomial Complexity\")\n",
    "\n",
    "# Save fig\n",
    "plt.savefig('../Graph/PolynmialComplexity.png')\n",
    "\n",
    "# Show plot\n",
    "plt.show()"
   ]
  },
  {
   "cell_type": "markdown",
   "id": "a64496c8-0b7f-4e88-8471-63761df71cbc",
   "metadata": {},
   "source": [
    "## Part 2 : Building the model with the best polynomial degree\n",
    "---"
   ]
  },
  {
   "cell_type": "markdown",
   "id": "cb3edae0-6c9e-472e-8a0d-200e42618e60",
   "metadata": {},
   "source": [
    "### Create Polynomial Features"
   ]
  },
  {
   "cell_type": "code",
   "execution_count": 7,
   "id": "ed131a44-c47f-4e9a-b454-9f539df62cfb",
   "metadata": {
    "execution": {
     "iopub.execute_input": "2025-02-24T23:21:10.569445Z",
     "iopub.status.busy": "2025-02-24T23:21:10.568870Z",
     "iopub.status.idle": "2025-02-24T23:21:10.579730Z",
     "shell.execute_reply": "2025-02-24T23:21:10.578240Z",
     "shell.execute_reply.started": "2025-02-24T23:21:10.569396Z"
    }
   },
   "outputs": [],
   "source": [
    "pol_degree = 2"
   ]
  },
  {
   "cell_type": "code",
   "execution_count": 8,
   "id": "2c0d4ff6-e1d4-4a26-abbd-e64a3e3c74dd",
   "metadata": {
    "execution": {
     "iopub.execute_input": "2025-02-24T23:21:11.778347Z",
     "iopub.status.busy": "2025-02-24T23:21:11.777802Z",
     "iopub.status.idle": "2025-02-24T23:21:11.891695Z",
     "shell.execute_reply": "2025-02-24T23:21:11.889886Z",
     "shell.execute_reply.started": "2025-02-24T23:21:11.778301Z"
    }
   },
   "outputs": [],
   "source": [
    "# Create an instance of PolynomialFeatures\n",
    "converter = PolynomialFeatures(degree=pol_degree, include_bias=False)\n",
    "\n",
    "# Fit converter to X_train andX_testing features + transform features\n",
    "X_train_feat = converter.fit_transform(X_train)\n",
    "X_test_feat = converter.fit_transform(X_test)\n",
    "    "
   ]
  },
  {
   "cell_type": "markdown",
   "id": "c01d1877-d901-4ff3-9da2-f00dd4f8d009",
   "metadata": {},
   "source": [
    "### Data scaling"
   ]
  },
  {
   "cell_type": "code",
   "execution_count": 9,
   "id": "050a2cf4-bf22-4e59-b1a5-4f87a3bc9a75",
   "metadata": {
    "execution": {
     "iopub.execute_input": "2025-02-24T23:21:21.870643Z",
     "iopub.status.busy": "2025-02-24T23:21:21.868194Z",
     "iopub.status.idle": "2025-02-24T23:21:22.050890Z",
     "shell.execute_reply": "2025-02-24T23:21:22.049114Z",
     "shell.execute_reply.started": "2025-02-24T23:21:21.870584Z"
    }
   },
   "outputs": [],
   "source": [
    "# Initialize StandardScaler\n",
    "scaler = StandardScaler()\n",
    "\n",
    "# Fit-transform training data\n",
    "X_train_feat_scaled = scaler.fit_transform(X_train_feat)\n",
    "\n",
    "# Transform only on test data\n",
    "X_test_feat_scaled = scaler.transform(X_test_feat)"
   ]
  },
  {
   "cell_type": "markdown",
   "id": "81e8e5c4-a761-4491-bcec-363362e50e46",
   "metadata": {},
   "source": [
    "### Create a Polynomial Regression Model"
   ]
  },
  {
   "cell_type": "code",
   "execution_count": 10,
   "id": "140e2d6f-ee10-451e-be92-a47aa302543f",
   "metadata": {
    "execution": {
     "iopub.execute_input": "2025-02-24T23:21:30.926082Z",
     "iopub.status.busy": "2025-02-24T23:21:30.922478Z",
     "iopub.status.idle": "2025-02-24T23:21:31.932189Z",
     "shell.execute_reply": "2025-02-24T23:21:31.931185Z",
     "shell.execute_reply.started": "2025-02-24T23:21:30.926025Z"
    }
   },
   "outputs": [
    {
     "data": {
      "text/html": [
       "<style>#sk-container-id-1 {\n",
       "  /* Definition of color scheme common for light and dark mode */\n",
       "  --sklearn-color-text: #000;\n",
       "  --sklearn-color-text-muted: #666;\n",
       "  --sklearn-color-line: gray;\n",
       "  /* Definition of color scheme for unfitted estimators */\n",
       "  --sklearn-color-unfitted-level-0: #fff5e6;\n",
       "  --sklearn-color-unfitted-level-1: #f6e4d2;\n",
       "  --sklearn-color-unfitted-level-2: #ffe0b3;\n",
       "  --sklearn-color-unfitted-level-3: chocolate;\n",
       "  /* Definition of color scheme for fitted estimators */\n",
       "  --sklearn-color-fitted-level-0: #f0f8ff;\n",
       "  --sklearn-color-fitted-level-1: #d4ebff;\n",
       "  --sklearn-color-fitted-level-2: #b3dbfd;\n",
       "  --sklearn-color-fitted-level-3: cornflowerblue;\n",
       "\n",
       "  /* Specific color for light theme */\n",
       "  --sklearn-color-text-on-default-background: var(--sg-text-color, var(--theme-code-foreground, var(--jp-content-font-color1, black)));\n",
       "  --sklearn-color-background: var(--sg-background-color, var(--theme-background, var(--jp-layout-color0, white)));\n",
       "  --sklearn-color-border-box: var(--sg-text-color, var(--theme-code-foreground, var(--jp-content-font-color1, black)));\n",
       "  --sklearn-color-icon: #696969;\n",
       "\n",
       "  @media (prefers-color-scheme: dark) {\n",
       "    /* Redefinition of color scheme for dark theme */\n",
       "    --sklearn-color-text-on-default-background: var(--sg-text-color, var(--theme-code-foreground, var(--jp-content-font-color1, white)));\n",
       "    --sklearn-color-background: var(--sg-background-color, var(--theme-background, var(--jp-layout-color0, #111)));\n",
       "    --sklearn-color-border-box: var(--sg-text-color, var(--theme-code-foreground, var(--jp-content-font-color1, white)));\n",
       "    --sklearn-color-icon: #878787;\n",
       "  }\n",
       "}\n",
       "\n",
       "#sk-container-id-1 {\n",
       "  color: var(--sklearn-color-text);\n",
       "}\n",
       "\n",
       "#sk-container-id-1 pre {\n",
       "  padding: 0;\n",
       "}\n",
       "\n",
       "#sk-container-id-1 input.sk-hidden--visually {\n",
       "  border: 0;\n",
       "  clip: rect(1px 1px 1px 1px);\n",
       "  clip: rect(1px, 1px, 1px, 1px);\n",
       "  height: 1px;\n",
       "  margin: -1px;\n",
       "  overflow: hidden;\n",
       "  padding: 0;\n",
       "  position: absolute;\n",
       "  width: 1px;\n",
       "}\n",
       "\n",
       "#sk-container-id-1 div.sk-dashed-wrapped {\n",
       "  border: 1px dashed var(--sklearn-color-line);\n",
       "  margin: 0 0.4em 0.5em 0.4em;\n",
       "  box-sizing: border-box;\n",
       "  padding-bottom: 0.4em;\n",
       "  background-color: var(--sklearn-color-background);\n",
       "}\n",
       "\n",
       "#sk-container-id-1 div.sk-container {\n",
       "  /* jupyter's `normalize.less` sets `[hidden] { display: none; }`\n",
       "     but bootstrap.min.css set `[hidden] { display: none !important; }`\n",
       "     so we also need the `!important` here to be able to override the\n",
       "     default hidden behavior on the sphinx rendered scikit-learn.org.\n",
       "     See: https://github.com/scikit-learn/scikit-learn/issues/21755 */\n",
       "  display: inline-block !important;\n",
       "  position: relative;\n",
       "}\n",
       "\n",
       "#sk-container-id-1 div.sk-text-repr-fallback {\n",
       "  display: none;\n",
       "}\n",
       "\n",
       "div.sk-parallel-item,\n",
       "div.sk-serial,\n",
       "div.sk-item {\n",
       "  /* draw centered vertical line to link estimators */\n",
       "  background-image: linear-gradient(var(--sklearn-color-text-on-default-background), var(--sklearn-color-text-on-default-background));\n",
       "  background-size: 2px 100%;\n",
       "  background-repeat: no-repeat;\n",
       "  background-position: center center;\n",
       "}\n",
       "\n",
       "/* Parallel-specific style estimator block */\n",
       "\n",
       "#sk-container-id-1 div.sk-parallel-item::after {\n",
       "  content: \"\";\n",
       "  width: 100%;\n",
       "  border-bottom: 2px solid var(--sklearn-color-text-on-default-background);\n",
       "  flex-grow: 1;\n",
       "}\n",
       "\n",
       "#sk-container-id-1 div.sk-parallel {\n",
       "  display: flex;\n",
       "  align-items: stretch;\n",
       "  justify-content: center;\n",
       "  background-color: var(--sklearn-color-background);\n",
       "  position: relative;\n",
       "}\n",
       "\n",
       "#sk-container-id-1 div.sk-parallel-item {\n",
       "  display: flex;\n",
       "  flex-direction: column;\n",
       "}\n",
       "\n",
       "#sk-container-id-1 div.sk-parallel-item:first-child::after {\n",
       "  align-self: flex-end;\n",
       "  width: 50%;\n",
       "}\n",
       "\n",
       "#sk-container-id-1 div.sk-parallel-item:last-child::after {\n",
       "  align-self: flex-start;\n",
       "  width: 50%;\n",
       "}\n",
       "\n",
       "#sk-container-id-1 div.sk-parallel-item:only-child::after {\n",
       "  width: 0;\n",
       "}\n",
       "\n",
       "/* Serial-specific style estimator block */\n",
       "\n",
       "#sk-container-id-1 div.sk-serial {\n",
       "  display: flex;\n",
       "  flex-direction: column;\n",
       "  align-items: center;\n",
       "  background-color: var(--sklearn-color-background);\n",
       "  padding-right: 1em;\n",
       "  padding-left: 1em;\n",
       "}\n",
       "\n",
       "\n",
       "/* Toggleable style: style used for estimator/Pipeline/ColumnTransformer box that is\n",
       "clickable and can be expanded/collapsed.\n",
       "- Pipeline and ColumnTransformer use this feature and define the default style\n",
       "- Estimators will overwrite some part of the style using the `sk-estimator` class\n",
       "*/\n",
       "\n",
       "/* Pipeline and ColumnTransformer style (default) */\n",
       "\n",
       "#sk-container-id-1 div.sk-toggleable {\n",
       "  /* Default theme specific background. It is overwritten whether we have a\n",
       "  specific estimator or a Pipeline/ColumnTransformer */\n",
       "  background-color: var(--sklearn-color-background);\n",
       "}\n",
       "\n",
       "/* Toggleable label */\n",
       "#sk-container-id-1 label.sk-toggleable__label {\n",
       "  cursor: pointer;\n",
       "  display: flex;\n",
       "  width: 100%;\n",
       "  margin-bottom: 0;\n",
       "  padding: 0.5em;\n",
       "  box-sizing: border-box;\n",
       "  text-align: center;\n",
       "  align-items: start;\n",
       "  justify-content: space-between;\n",
       "  gap: 0.5em;\n",
       "}\n",
       "\n",
       "#sk-container-id-1 label.sk-toggleable__label .caption {\n",
       "  font-size: 0.6rem;\n",
       "  font-weight: lighter;\n",
       "  color: var(--sklearn-color-text-muted);\n",
       "}\n",
       "\n",
       "#sk-container-id-1 label.sk-toggleable__label-arrow:before {\n",
       "  /* Arrow on the left of the label */\n",
       "  content: \"▸\";\n",
       "  float: left;\n",
       "  margin-right: 0.25em;\n",
       "  color: var(--sklearn-color-icon);\n",
       "}\n",
       "\n",
       "#sk-container-id-1 label.sk-toggleable__label-arrow:hover:before {\n",
       "  color: var(--sklearn-color-text);\n",
       "}\n",
       "\n",
       "/* Toggleable content - dropdown */\n",
       "\n",
       "#sk-container-id-1 div.sk-toggleable__content {\n",
       "  max-height: 0;\n",
       "  max-width: 0;\n",
       "  overflow: hidden;\n",
       "  text-align: left;\n",
       "  /* unfitted */\n",
       "  background-color: var(--sklearn-color-unfitted-level-0);\n",
       "}\n",
       "\n",
       "#sk-container-id-1 div.sk-toggleable__content.fitted {\n",
       "  /* fitted */\n",
       "  background-color: var(--sklearn-color-fitted-level-0);\n",
       "}\n",
       "\n",
       "#sk-container-id-1 div.sk-toggleable__content pre {\n",
       "  margin: 0.2em;\n",
       "  border-radius: 0.25em;\n",
       "  color: var(--sklearn-color-text);\n",
       "  /* unfitted */\n",
       "  background-color: var(--sklearn-color-unfitted-level-0);\n",
       "}\n",
       "\n",
       "#sk-container-id-1 div.sk-toggleable__content.fitted pre {\n",
       "  /* unfitted */\n",
       "  background-color: var(--sklearn-color-fitted-level-0);\n",
       "}\n",
       "\n",
       "#sk-container-id-1 input.sk-toggleable__control:checked~div.sk-toggleable__content {\n",
       "  /* Expand drop-down */\n",
       "  max-height: 200px;\n",
       "  max-width: 100%;\n",
       "  overflow: auto;\n",
       "}\n",
       "\n",
       "#sk-container-id-1 input.sk-toggleable__control:checked~label.sk-toggleable__label-arrow:before {\n",
       "  content: \"▾\";\n",
       "}\n",
       "\n",
       "/* Pipeline/ColumnTransformer-specific style */\n",
       "\n",
       "#sk-container-id-1 div.sk-label input.sk-toggleable__control:checked~label.sk-toggleable__label {\n",
       "  color: var(--sklearn-color-text);\n",
       "  background-color: var(--sklearn-color-unfitted-level-2);\n",
       "}\n",
       "\n",
       "#sk-container-id-1 div.sk-label.fitted input.sk-toggleable__control:checked~label.sk-toggleable__label {\n",
       "  background-color: var(--sklearn-color-fitted-level-2);\n",
       "}\n",
       "\n",
       "/* Estimator-specific style */\n",
       "\n",
       "/* Colorize estimator box */\n",
       "#sk-container-id-1 div.sk-estimator input.sk-toggleable__control:checked~label.sk-toggleable__label {\n",
       "  /* unfitted */\n",
       "  background-color: var(--sklearn-color-unfitted-level-2);\n",
       "}\n",
       "\n",
       "#sk-container-id-1 div.sk-estimator.fitted input.sk-toggleable__control:checked~label.sk-toggleable__label {\n",
       "  /* fitted */\n",
       "  background-color: var(--sklearn-color-fitted-level-2);\n",
       "}\n",
       "\n",
       "#sk-container-id-1 div.sk-label label.sk-toggleable__label,\n",
       "#sk-container-id-1 div.sk-label label {\n",
       "  /* The background is the default theme color */\n",
       "  color: var(--sklearn-color-text-on-default-background);\n",
       "}\n",
       "\n",
       "/* On hover, darken the color of the background */\n",
       "#sk-container-id-1 div.sk-label:hover label.sk-toggleable__label {\n",
       "  color: var(--sklearn-color-text);\n",
       "  background-color: var(--sklearn-color-unfitted-level-2);\n",
       "}\n",
       "\n",
       "/* Label box, darken color on hover, fitted */\n",
       "#sk-container-id-1 div.sk-label.fitted:hover label.sk-toggleable__label.fitted {\n",
       "  color: var(--sklearn-color-text);\n",
       "  background-color: var(--sklearn-color-fitted-level-2);\n",
       "}\n",
       "\n",
       "/* Estimator label */\n",
       "\n",
       "#sk-container-id-1 div.sk-label label {\n",
       "  font-family: monospace;\n",
       "  font-weight: bold;\n",
       "  display: inline-block;\n",
       "  line-height: 1.2em;\n",
       "}\n",
       "\n",
       "#sk-container-id-1 div.sk-label-container {\n",
       "  text-align: center;\n",
       "}\n",
       "\n",
       "/* Estimator-specific */\n",
       "#sk-container-id-1 div.sk-estimator {\n",
       "  font-family: monospace;\n",
       "  border: 1px dotted var(--sklearn-color-border-box);\n",
       "  border-radius: 0.25em;\n",
       "  box-sizing: border-box;\n",
       "  margin-bottom: 0.5em;\n",
       "  /* unfitted */\n",
       "  background-color: var(--sklearn-color-unfitted-level-0);\n",
       "}\n",
       "\n",
       "#sk-container-id-1 div.sk-estimator.fitted {\n",
       "  /* fitted */\n",
       "  background-color: var(--sklearn-color-fitted-level-0);\n",
       "}\n",
       "\n",
       "/* on hover */\n",
       "#sk-container-id-1 div.sk-estimator:hover {\n",
       "  /* unfitted */\n",
       "  background-color: var(--sklearn-color-unfitted-level-2);\n",
       "}\n",
       "\n",
       "#sk-container-id-1 div.sk-estimator.fitted:hover {\n",
       "  /* fitted */\n",
       "  background-color: var(--sklearn-color-fitted-level-2);\n",
       "}\n",
       "\n",
       "/* Specification for estimator info (e.g. \"i\" and \"?\") */\n",
       "\n",
       "/* Common style for \"i\" and \"?\" */\n",
       "\n",
       ".sk-estimator-doc-link,\n",
       "a:link.sk-estimator-doc-link,\n",
       "a:visited.sk-estimator-doc-link {\n",
       "  float: right;\n",
       "  font-size: smaller;\n",
       "  line-height: 1em;\n",
       "  font-family: monospace;\n",
       "  background-color: var(--sklearn-color-background);\n",
       "  border-radius: 1em;\n",
       "  height: 1em;\n",
       "  width: 1em;\n",
       "  text-decoration: none !important;\n",
       "  margin-left: 0.5em;\n",
       "  text-align: center;\n",
       "  /* unfitted */\n",
       "  border: var(--sklearn-color-unfitted-level-1) 1pt solid;\n",
       "  color: var(--sklearn-color-unfitted-level-1);\n",
       "}\n",
       "\n",
       ".sk-estimator-doc-link.fitted,\n",
       "a:link.sk-estimator-doc-link.fitted,\n",
       "a:visited.sk-estimator-doc-link.fitted {\n",
       "  /* fitted */\n",
       "  border: var(--sklearn-color-fitted-level-1) 1pt solid;\n",
       "  color: var(--sklearn-color-fitted-level-1);\n",
       "}\n",
       "\n",
       "/* On hover */\n",
       "div.sk-estimator:hover .sk-estimator-doc-link:hover,\n",
       ".sk-estimator-doc-link:hover,\n",
       "div.sk-label-container:hover .sk-estimator-doc-link:hover,\n",
       ".sk-estimator-doc-link:hover {\n",
       "  /* unfitted */\n",
       "  background-color: var(--sklearn-color-unfitted-level-3);\n",
       "  color: var(--sklearn-color-background);\n",
       "  text-decoration: none;\n",
       "}\n",
       "\n",
       "div.sk-estimator.fitted:hover .sk-estimator-doc-link.fitted:hover,\n",
       ".sk-estimator-doc-link.fitted:hover,\n",
       "div.sk-label-container:hover .sk-estimator-doc-link.fitted:hover,\n",
       ".sk-estimator-doc-link.fitted:hover {\n",
       "  /* fitted */\n",
       "  background-color: var(--sklearn-color-fitted-level-3);\n",
       "  color: var(--sklearn-color-background);\n",
       "  text-decoration: none;\n",
       "}\n",
       "\n",
       "/* Span, style for the box shown on hovering the info icon */\n",
       ".sk-estimator-doc-link span {\n",
       "  display: none;\n",
       "  z-index: 9999;\n",
       "  position: relative;\n",
       "  font-weight: normal;\n",
       "  right: .2ex;\n",
       "  padding: .5ex;\n",
       "  margin: .5ex;\n",
       "  width: min-content;\n",
       "  min-width: 20ex;\n",
       "  max-width: 50ex;\n",
       "  color: var(--sklearn-color-text);\n",
       "  box-shadow: 2pt 2pt 4pt #999;\n",
       "  /* unfitted */\n",
       "  background: var(--sklearn-color-unfitted-level-0);\n",
       "  border: .5pt solid var(--sklearn-color-unfitted-level-3);\n",
       "}\n",
       "\n",
       ".sk-estimator-doc-link.fitted span {\n",
       "  /* fitted */\n",
       "  background: var(--sklearn-color-fitted-level-0);\n",
       "  border: var(--sklearn-color-fitted-level-3);\n",
       "}\n",
       "\n",
       ".sk-estimator-doc-link:hover span {\n",
       "  display: block;\n",
       "}\n",
       "\n",
       "/* \"?\"-specific style due to the `<a>` HTML tag */\n",
       "\n",
       "#sk-container-id-1 a.estimator_doc_link {\n",
       "  float: right;\n",
       "  font-size: 1rem;\n",
       "  line-height: 1em;\n",
       "  font-family: monospace;\n",
       "  background-color: var(--sklearn-color-background);\n",
       "  border-radius: 1rem;\n",
       "  height: 1rem;\n",
       "  width: 1rem;\n",
       "  text-decoration: none;\n",
       "  /* unfitted */\n",
       "  color: var(--sklearn-color-unfitted-level-1);\n",
       "  border: var(--sklearn-color-unfitted-level-1) 1pt solid;\n",
       "}\n",
       "\n",
       "#sk-container-id-1 a.estimator_doc_link.fitted {\n",
       "  /* fitted */\n",
       "  border: var(--sklearn-color-fitted-level-1) 1pt solid;\n",
       "  color: var(--sklearn-color-fitted-level-1);\n",
       "}\n",
       "\n",
       "/* On hover */\n",
       "#sk-container-id-1 a.estimator_doc_link:hover {\n",
       "  /* unfitted */\n",
       "  background-color: var(--sklearn-color-unfitted-level-3);\n",
       "  color: var(--sklearn-color-background);\n",
       "  text-decoration: none;\n",
       "}\n",
       "\n",
       "#sk-container-id-1 a.estimator_doc_link.fitted:hover {\n",
       "  /* fitted */\n",
       "  background-color: var(--sklearn-color-fitted-level-3);\n",
       "}\n",
       "</style><div id=\"sk-container-id-1\" class=\"sk-top-container\"><div class=\"sk-text-repr-fallback\"><pre>LinearRegression()</pre><b>In a Jupyter environment, please rerun this cell to show the HTML representation or trust the notebook. <br />On GitHub, the HTML representation is unable to render, please try loading this page with nbviewer.org.</b></div><div class=\"sk-container\" hidden><div class=\"sk-item\"><div class=\"sk-estimator fitted sk-toggleable\"><input class=\"sk-toggleable__control sk-hidden--visually\" id=\"sk-estimator-id-1\" type=\"checkbox\" checked><label for=\"sk-estimator-id-1\" class=\"sk-toggleable__label fitted sk-toggleable__label-arrow\"><div><div>LinearRegression</div></div><div><a class=\"sk-estimator-doc-link fitted\" rel=\"noreferrer\" target=\"_blank\" href=\"https://scikit-learn.org/1.6/modules/generated/sklearn.linear_model.LinearRegression.html\">?<span>Documentation for LinearRegression</span></a><span class=\"sk-estimator-doc-link fitted\">i<span>Fitted</span></span></div></label><div class=\"sk-toggleable__content fitted\"><pre>LinearRegression()</pre></div> </div></div></div></div>"
      ],
      "text/plain": [
       "LinearRegression()"
      ]
     },
     "execution_count": 10,
     "metadata": {},
     "output_type": "execute_result"
    }
   ],
   "source": [
    "# Create the model\n",
    "model = LinearRegression()\n",
    "\n",
    "# Train the model\n",
    "model.fit(X_train_feat_scaled, y_train)"
   ]
  },
  {
   "cell_type": "markdown",
   "id": "7b7b1fb7-3c45-4fce-a37f-c56ef93e91d1",
   "metadata": {},
   "source": [
    "### Use model on testing dataset"
   ]
  },
  {
   "cell_type": "code",
   "execution_count": 11,
   "id": "54cba027-22b8-446f-bcae-a6bcfe8b9b48",
   "metadata": {
    "execution": {
     "iopub.execute_input": "2025-02-24T23:21:37.968346Z",
     "iopub.status.busy": "2025-02-24T23:21:37.967238Z",
     "iopub.status.idle": "2025-02-24T23:21:37.998816Z",
     "shell.execute_reply": "2025-02-24T23:21:37.994365Z",
     "shell.execute_reply.started": "2025-02-24T23:21:37.968292Z"
    }
   },
   "outputs": [],
   "source": [
    "# Get prediction for testing dataset\n",
    "y_pred = model.predict(X_test_feat_scaled)"
   ]
  },
  {
   "cell_type": "code",
   "execution_count": null,
   "id": "b892b577-e99f-491e-98cb-ef5b0418b98e",
   "metadata": {},
   "outputs": [],
   "source": []
  },
  {
   "cell_type": "markdown",
   "id": "835820e3-530c-416d-a5a0-048e817cf092",
   "metadata": {},
   "source": [
    "### Plot the residuals"
   ]
  },
  {
   "cell_type": "code",
   "execution_count": null,
   "id": "99dfd033-990f-45fb-9c7c-e9ad1d225e4e",
   "metadata": {},
   "outputs": [],
   "source": [
    "# Residual plot\n",
    "\n",
    "# Create subplots and adjust their size\n",
    "fig, (ax1, ax2) = plt.subplots(1,2,figsize = (8*2, 8))\n",
    "\n",
    "# Add scatter plot\n",
    "sns.scatterplot(x=y_test, y=y_pred, zorder=3, ax = ax1)\n",
    "\n",
    "# Add legend to ax1\n",
    "ax1.set_title('Residual plot')\n",
    "\n",
    "# Add grid y-axis line at 0\n",
    "ax1.axhline(0, linestyle='--', color='gray', zorder=0, linewidth=0.5)\n",
    "\n",
    "# Add QQ plot\n",
    "stats.probplot(y_test-y_pred, dist=\"norm\", plot=ax2);\n",
    "\n",
    "# Add grid y-axis line at 0\n",
    "ax2.axhline(0, linestyle='--', color='gray', zorder=0, linewidth=0.5)\n",
    "\n",
    "# Add legend to ax2\n",
    "ax2.set_title('QQ plot')"
   ]
  },
  {
   "cell_type": "markdown",
   "id": "40827d4c-dbb8-4831-a7dc-0b076639619b",
   "metadata": {
    "execution": {
     "iopub.execute_input": "2025-02-22T22:51:03.185816Z",
     "iopub.status.busy": "2025-02-22T22:51:03.184942Z",
     "iopub.status.idle": "2025-02-22T22:51:03.192520Z",
     "shell.execute_reply": "2025-02-22T22:51:03.191000Z",
     "shell.execute_reply.started": "2025-02-22T22:51:03.185758Z"
    }
   },
   "source": [
    "### Compute error scores"
   ]
  },
  {
   "cell_type": "code",
   "execution_count": null,
   "id": "816b5ca3-c08e-4cfb-ba6f-6597acd39a76",
   "metadata": {},
   "outputs": [],
   "source": [
    "mae = mean_absolute_error(y_test, y_pred)\n",
    "\n",
    "mse = mean_squared_error(y_test, y_pred)\n",
    "\n",
    "rmse = np.sqrt(mse)\n",
    "\n",
    "r2 = r2_score(y_test, y_pred)\n",
    "\n",
    "print(f'The Mean Absolute Error = {mae:.0f}\\n\\\n",
    "The Mean Square Error = {mse:.0f}\\n\\\n",
    "The Root Mean Square Error = {rmse:.2f}\\n\\\n",
    "The R2 scores = {r2:.2f}')"
   ]
  },
  {
   "cell_type": "code",
   "execution_count": null,
   "id": "14470c77-67fe-456d-991b-86516a8d786a",
   "metadata": {},
   "outputs": [],
   "source": [
    "sum((y_test-y_pred)**2)/len(y_test)"
   ]
  },
  {
   "cell_type": "code",
   "execution_count": null,
   "id": "9d646877-579d-4f63-9367-d74a9304576b",
   "metadata": {},
   "outputs": [],
   "source": [
    "mean_squared_error(y_test, y_pred)"
   ]
  },
  {
   "cell_type": "markdown",
   "id": "86c512df-653b-4324-8b31-a8f324adf207",
   "metadata": {},
   "source": [
    "\n",
    "| Regression Method   | Predictors  | Mean Absolute Error | Mean Square Error    | Root Mean Square Error | R2 scores   |\n",
    "| ------------------- | ----------- | ------------------- | -------------------- | ---------------------- | ----------- |\n",
    "| Linear              | SelectKBest (15) | 407                | 309293             | 556                   | 0.41           |\n",
    "|                     | Highest corr (15)| 322                | 200112             | 447                   | 0.62           |\n",
    "|                     | SelectKBest (20) | 345                | 226796             | 476                   | 0.57           |\n",
    "|                     | Highest corr (20)| 316                | 194185             | 441                   | 0.63           |\n",
    "|                     | SelectKBest (30) | 307                | 182991             | 428                   | 0.65           |\n",
    "|                     | Highest corr (30)| 308                | 185664             | 431                   | 0.65           |\n",
    "| Polynomial          | SelectKBest (15) | 319                | 197348             | 444                   | 0.63           |\n",
    "|                     | Highest corr (15)| 278                | 150742             | 388                   | 0.71           |\n",
    "|                     | SelectKBest (20) | 302                | 176505             | 420                   | 0.67           |\n",
    "|                     | Highest corr (20)| 274                | 147937             | 385                   | 0.72           |\n",
    "|                     | SelectKBest (30) | 263                | 134968             | 367                   | 0.74           |\n",
    "|                     | Highest corr (30)| 266                | 138808             | 373                   | 0.74           |\n",
    "\n",
    "The errors (Mean Absolute, Mean Square and Root Mean Square) are all lower for the polynomial regression model than the linear regression model. A lower error is an indication that the prediction values are closer to the true value. \n",
    "\n",
    "** Conclusion ** </br>\n",
    "The model built from a polynomial regression with an order of 2 performs better than the linear regression model, since its predicted values are closer to the true values.\n"
   ]
  },
  {
   "cell_type": "markdown",
   "id": "2eb5d56c-576c-45b9-b749-585c8666dcc6",
   "metadata": {},
   "source": [
    "### Saving model\n"
   ]
  },
  {
   "cell_type": "code",
   "execution_count": null,
   "id": "81912804-1d21-47b1-890e-0972d26aad67",
   "metadata": {},
   "outputs": [],
   "source": [
    "joblib.dump(model, \"best_model_polynomial_degree2_kbest30.joblib\")\n",
    "joblib.dump(converter, \"best_model_polynomial_degree2_kbest30_converter.joblib\")\n",
    "joblib.dump(scaler, \"best_model_polynomial_degree2_kbest30_scaler.joblib\")"
   ]
  },
  {
   "cell_type": "code",
   "execution_count": 57,
   "id": "e552579d-5e6f-47ac-b641-957ca008da8b",
   "metadata": {
    "execution": {
     "iopub.execute_input": "2025-02-24T23:47:50.204964Z",
     "iopub.status.busy": "2025-02-24T23:47:50.203361Z",
     "iopub.status.idle": "2025-02-24T23:47:50.214393Z",
     "shell.execute_reply": "2025-02-24T23:47:50.210378Z",
     "shell.execute_reply.started": "2025-02-24T23:47:50.204907Z"
    }
   },
   "outputs": [],
   "source": [
    "price = [\n",
    "    2000,\n",
    "    1450,\n",
    "    2695,\n",
    "    1985,\n",
    "    1799,\n",
    "]"
   ]
  },
  {
   "cell_type": "code",
   "execution_count": 58,
   "id": "8c7f5929-1479-46ae-afb8-33dae4bd2295",
   "metadata": {
    "execution": {
     "iopub.execute_input": "2025-02-24T23:47:52.211737Z",
     "iopub.status.busy": "2025-02-24T23:47:52.209715Z",
     "iopub.status.idle": "2025-02-24T23:47:52.230550Z",
     "shell.execute_reply": "2025-02-24T23:47:52.229021Z",
     "shell.execute_reply.started": "2025-02-24T23:47:52.211681Z"
    }
   },
   "outputs": [
    {
     "data": {
      "text/plain": [
       "30"
      ]
     },
     "execution_count": 58,
     "metadata": {},
     "output_type": "execute_result"
    }
   ],
   "source": [
    "#https://www.rentfaster.ca/ab/edmonton/rentals/townhouse/3-bedrooms/king-edward-park/pet-friendly/606335\n",
    "add1 = [53.516854400000,-113.463416100000, 3,2.5, 1150, 0,0,0 ,0,0,0,0,0,0,0,0,0,0,0,0,0,0,1,0,0,0,0,0,0,0 ]\n",
    "#https://www.rentfaster.ca/ab/calgary/rentals/basement/1-bedroom/banff-trail/pet-friendly/540714\n",
    "add2 = [51.078215700000,-114.118240800000, 1,1, 485, 0,1,0 ,1,0,0,0,0,0,0,0,0,0,0,0,1,0,0,0,0,0,0,0,0,0 ]\n",
    "# https://www.rentfaster.ca/bc/vancouver/rentals/apartment/1-bedroom/west-end/pet-friendly/579375?-RSYNCabs\n",
    "add3 = [49.287549139051,-123.14036503577, 1,1, 447, 0,0,0 ,0,0,0,0,0,1,0,0,0,0,0,0,0,0,0,0,0,0,1,0,0,0 ]\n",
    "# https://www.rentfaster.ca/on/ottawa/rentals/apartment/1-bedroom/byward-market/pet-friendly/559539?-RSYNC\n",
    "add4 = [45.428845500000,-75.686676400000, 1,1, 649, 0,0,0 ,0,1,0,0,0,0,0,0,0,1,0,0,0,0,0,0,0,1,0,0,0,0 ]\n",
    "# https://www.rentfaster.ca/qc/quebec/rentals/apartment/2-bedrooms/non-smoking/315473?-RSYNC\n",
    "add5 = [46.793479300000,-71.235082600000, 2,1, 950, 0,0,0 ,0,0,0,0,0,0,0,0,0,0,1,0,0,0,0,0,0,0,0,0,0,0 ]\n",
    "len(add5)\n"
   ]
  },
  {
   "cell_type": "code",
   "execution_count": 60,
   "id": "c7034d58-f903-4738-a25e-b82a6495fd99",
   "metadata": {
    "execution": {
     "iopub.execute_input": "2025-02-24T23:48:01.552861Z",
     "iopub.status.busy": "2025-02-24T23:48:01.551747Z",
     "iopub.status.idle": "2025-02-24T23:48:01.579752Z",
     "shell.execute_reply": "2025-02-24T23:48:01.574521Z",
     "shell.execute_reply.started": "2025-02-24T23:48:01.552805Z"
    }
   },
   "outputs": [
    {
     "data": {
      "text/plain": [
       "latitude                               53.516854\n",
       "longitude                            -113.463416\n",
       "beds                                    3.000000\n",
       "baths                                   2.500000\n",
       "sq_feet                              1150.000000\n",
       "lease_term_6 months                     0.000000\n",
       "lease_term_Negotiable                   0.000000\n",
       "lease_term_Short Term                   0.000000\n",
       "type_Basement                           0.000000\n",
       "type_Condo Unit                         0.000000\n",
       "type_House                              0.000000\n",
       "type_Room For Rent                      0.000000\n",
       "smoking_Smoking Allowed                 0.000000\n",
       "province_British Columbia               0.000000\n",
       "province_Manitoba                       0.000000\n",
       "province_Newfoundland and Labrador      0.000000\n",
       "province_Nova Scotia                    0.000000\n",
       "province_Ontario                        0.000000\n",
       "province_Quebec                         0.000000\n",
       "province_Saskatchewan                   0.000000\n",
       "city_Calgary                            0.000000\n",
       "city_Toronto                            0.000000\n",
       "city_Edmonton                           1.000000\n",
       "city_Montréal                           0.000000\n",
       "city_Ottawa                             0.000000\n",
       "city_Winnipeg                           0.000000\n",
       "city_Vancouver                          0.000000\n",
       "city_Victoria                           0.000000\n",
       "city_Regina                             0.000000\n",
       "city_West Vancouver                     0.000000\n",
       "Name: 0, dtype: float64"
      ]
     },
     "execution_count": 60,
     "metadata": {},
     "output_type": "execute_result"
    }
   ],
   "source": [
    "X_2025 = pd.concat([pd.DataFrame(dict(zip(kbest_30, add1)), index=[0]),\n",
    "               pd.DataFrame(dict(zip(kbest_30, add2)), index=[1]),\n",
    "               pd.DataFrame(dict(zip(kbest_30, add3)), index=[2]),\n",
    "               pd.DataFrame(dict(zip(kbest_30, add4)), index=[3]),\n",
    "               pd.DataFrame(dict(zip(kbest_30, add5)), index=[4]),\n",
    "              ])\n",
    "X_2025.iloc[0]"
   ]
  },
  {
   "cell_type": "code",
   "execution_count": 51,
   "id": "b9a3b3ed-c29f-4e4c-8a30-f362641c12fa",
   "metadata": {
    "execution": {
     "iopub.execute_input": "2025-02-24T23:38:11.406353Z",
     "iopub.status.busy": "2025-02-24T23:38:11.405809Z",
     "iopub.status.idle": "2025-02-24T23:38:11.424016Z",
     "shell.execute_reply": "2025-02-24T23:38:11.420057Z",
     "shell.execute_reply.started": "2025-02-24T23:38:11.406305Z"
    }
   },
   "outputs": [
    {
     "data": {
      "text/plain": [
       "latitude                              51.271725\n",
       "longitude                            114.020135\n",
       "beds                                   0.000000\n",
       "baths                                  1.000000\n",
       "sq_feet                              361.000000\n",
       "lease_term_6 months                    0.000000\n",
       "lease_term_Negotiable                  1.000000\n",
       "lease_term_Short Term                  0.000000\n",
       "type_Basement                          0.000000\n",
       "type_Condo Unit                        0.000000\n",
       "type_House                             0.000000\n",
       "type_Room For Rent                     0.000000\n",
       "smoking_Smoking Allowed                0.000000\n",
       "province_British Columbia              0.000000\n",
       "province_Manitoba                      0.000000\n",
       "province_Newfoundland and Labrador     0.000000\n",
       "province_Nova Scotia                   0.000000\n",
       "province_Ontario                       0.000000\n",
       "province_Quebec                        0.000000\n",
       "province_Saskatchewan                  0.000000\n",
       "city_Calgary                           0.000000\n",
       "city_Toronto                           0.000000\n",
       "city_Edmonton                          0.000000\n",
       "city_Montréal                          0.000000\n",
       "city_Ottawa                            0.000000\n",
       "city_Winnipeg                          0.000000\n",
       "city_Vancouver                         0.000000\n",
       "city_Victoria                          0.000000\n",
       "city_Regina                            0.000000\n",
       "city_West Vancouver                    0.000000\n",
       "Name: 0, dtype: float64"
      ]
     },
     "execution_count": 51,
     "metadata": {},
     "output_type": "execute_result"
    }
   ],
   "source": [
    "add1 = X.iloc[0:5]\n",
    "add1.iloc[0]"
   ]
  },
  {
   "cell_type": "code",
   "execution_count": 54,
   "id": "8dafc441-ce3f-4104-9755-3d132f382604",
   "metadata": {
    "execution": {
     "iopub.execute_input": "2025-02-24T23:44:53.382512Z",
     "iopub.status.busy": "2025-02-24T23:44:53.381967Z",
     "iopub.status.idle": "2025-02-24T23:44:53.406135Z",
     "shell.execute_reply": "2025-02-24T23:44:53.403993Z",
     "shell.execute_reply.started": "2025-02-24T23:44:53.382465Z"
    }
   },
   "outputs": [
    {
     "name": "stderr",
     "output_type": "stream",
     "text": [
      "/tmp/ipykernel_673452/3446551726.py:4: SettingWithCopyWarning: \n",
      "A value is trying to be set on a copy of a slice from a DataFrame\n",
      "\n",
      "See the caveats in the documentation: https://pandas.pydata.org/pandas-docs/stable/user_guide/indexing.html#returning-a-view-versus-a-copy\n",
      "  add1.iloc[0]['latitude'] = 53.516854\n",
      "/tmp/ipykernel_673452/3446551726.py:5: SettingWithCopyWarning: \n",
      "A value is trying to be set on a copy of a slice from a DataFrame\n",
      "\n",
      "See the caveats in the documentation: https://pandas.pydata.org/pandas-docs/stable/user_guide/indexing.html#returning-a-view-versus-a-copy\n",
      "  add1.iloc[0]['longitude'] = -113.463416\n",
      "/tmp/ipykernel_673452/3446551726.py:6: SettingWithCopyWarning: \n",
      "A value is trying to be set on a copy of a slice from a DataFrame\n",
      "\n",
      "See the caveats in the documentation: https://pandas.pydata.org/pandas-docs/stable/user_guide/indexing.html#returning-a-view-versus-a-copy\n",
      "  add1.iloc[0]['beds'] = 3\n",
      "/tmp/ipykernel_673452/3446551726.py:7: SettingWithCopyWarning: \n",
      "A value is trying to be set on a copy of a slice from a DataFrame\n",
      "\n",
      "See the caveats in the documentation: https://pandas.pydata.org/pandas-docs/stable/user_guide/indexing.html#returning-a-view-versus-a-copy\n",
      "  add1.iloc[0]['baths'] = 2.5\n",
      "/tmp/ipykernel_673452/3446551726.py:8: SettingWithCopyWarning: \n",
      "A value is trying to be set on a copy of a slice from a DataFrame\n",
      "\n",
      "See the caveats in the documentation: https://pandas.pydata.org/pandas-docs/stable/user_guide/indexing.html#returning-a-view-versus-a-copy\n",
      "  add1.iloc[0]['sq_feet'] = 1150.\n",
      "/tmp/ipykernel_673452/3446551726.py:9: SettingWithCopyWarning: \n",
      "A value is trying to be set on a copy of a slice from a DataFrame\n",
      "\n",
      "See the caveats in the documentation: https://pandas.pydata.org/pandas-docs/stable/user_guide/indexing.html#returning-a-view-versus-a-copy\n",
      "  add1.iloc[0]['lease_term_Negotiable'] = 0\n",
      "/tmp/ipykernel_673452/3446551726.py:10: SettingWithCopyWarning: \n",
      "A value is trying to be set on a copy of a slice from a DataFrame\n",
      "\n",
      "See the caveats in the documentation: https://pandas.pydata.org/pandas-docs/stable/user_guide/indexing.html#returning-a-view-versus-a-copy\n",
      "  add1.iloc[0]['city_Edmonton'] = 1\n"
     ]
    },
    {
     "data": {
      "text/plain": [
       "latitude                              51.271725\n",
       "longitude                            114.020135\n",
       "beds                                   0.000000\n",
       "baths                                  1.000000\n",
       "sq_feet                              361.000000\n",
       "lease_term_6 months                    0.000000\n",
       "lease_term_Negotiable                  1.000000\n",
       "lease_term_Short Term                  0.000000\n",
       "type_Basement                          0.000000\n",
       "type_Condo Unit                        0.000000\n",
       "type_House                             0.000000\n",
       "type_Room For Rent                     0.000000\n",
       "smoking_Smoking Allowed                0.000000\n",
       "province_British Columbia              0.000000\n",
       "province_Manitoba                      0.000000\n",
       "province_Newfoundland and Labrador     0.000000\n",
       "province_Nova Scotia                   0.000000\n",
       "province_Ontario                       0.000000\n",
       "province_Quebec                        0.000000\n",
       "province_Saskatchewan                  0.000000\n",
       "city_Calgary                           0.000000\n",
       "city_Toronto                           0.000000\n",
       "city_Edmonton                          0.000000\n",
       "city_Montréal                          0.000000\n",
       "city_Ottawa                            0.000000\n",
       "city_Winnipeg                          0.000000\n",
       "city_Vancouver                         0.000000\n",
       "city_Victoria                          0.000000\n",
       "city_Regina                            0.000000\n",
       "city_West Vancouver                    0.000000\n",
       "Name: 0, dtype: float64"
      ]
     },
     "execution_count": 54,
     "metadata": {},
     "output_type": "execute_result"
    }
   ],
   "source": [
    "add1 = X.iloc[0:5].copy()\n",
    "add1.columns\n",
    "\n",
    "add1.iloc[0]['latitude'] = 53.516854\n",
    "add1.iloc[0]['longitude'] = -113.463416\n",
    "add1.iloc[0]['beds'] = 3\n",
    "add1.iloc[0]['baths'] = 2.5\n",
    "add1.iloc[0]['sq_feet'] = 1150.\n",
    "add1.iloc[0]['lease_term_Negotiable'] = 0\n",
    "add1.iloc[0]['city_Edmonton'] = 1\n",
    "add1.iloc[0]"
   ]
  },
  {
   "cell_type": "code",
   "execution_count": 40,
   "id": "89fd8301-9535-4009-a53c-aa4b426ac68b",
   "metadata": {
    "execution": {
     "iopub.execute_input": "2025-02-24T23:33:57.290983Z",
     "iopub.status.busy": "2025-02-24T23:33:57.290439Z",
     "iopub.status.idle": "2025-02-24T23:33:57.308990Z",
     "shell.execute_reply": "2025-02-24T23:33:57.306860Z",
     "shell.execute_reply.started": "2025-02-24T23:33:57.290934Z"
    }
   },
   "outputs": [],
   "source": [
    "\n",
    "X_2025_feat = converter.fit_transform(add1)"
   ]
  },
  {
   "cell_type": "code",
   "execution_count": 41,
   "id": "15b9b037-924a-4321-9440-0e483d4d62f0",
   "metadata": {
    "execution": {
     "iopub.execute_input": "2025-02-24T23:33:59.672053Z",
     "iopub.status.busy": "2025-02-24T23:33:59.670615Z",
     "iopub.status.idle": "2025-02-24T23:33:59.702749Z",
     "shell.execute_reply": "2025-02-24T23:33:59.701153Z",
     "shell.execute_reply.started": "2025-02-24T23:33:59.672001Z"
    }
   },
   "outputs": [
    {
     "data": {
      "text/plain": [
       "array([[5.12717246e+01, 1.14020135e+02, 0.00000000e+00, 1.00000000e+00,\n",
       "        3.61000000e+02, 0.00000000e+00, 1.00000000e+00, 0.00000000e+00,\n",
       "        0.00000000e+00, 0.00000000e+00, 0.00000000e+00, 0.00000000e+00,\n",
       "        0.00000000e+00, 0.00000000e+00, 0.00000000e+00, 0.00000000e+00,\n",
       "        0.00000000e+00, 0.00000000e+00, 0.00000000e+00, 0.00000000e+00,\n",
       "        0.00000000e+00, 0.00000000e+00, 0.00000000e+00, 0.00000000e+00,\n",
       "        0.00000000e+00, 0.00000000e+00, 0.00000000e+00, 0.00000000e+00,\n",
       "        0.00000000e+00, 0.00000000e+00, 2.62878974e+03, 5.84600895e+03,\n",
       "        0.00000000e+00, 5.12717246e+01, 1.85090926e+04, 0.00000000e+00,\n",
       "        5.12717246e+01, 0.00000000e+00, 0.00000000e+00, 0.00000000e+00,\n",
       "        0.00000000e+00, 0.00000000e+00, 0.00000000e+00, 0.00000000e+00,\n",
       "        0.00000000e+00, 0.00000000e+00, 0.00000000e+00, 0.00000000e+00,\n",
       "        0.00000000e+00, 0.00000000e+00, 0.00000000e+00, 0.00000000e+00,\n",
       "        0.00000000e+00, 0.00000000e+00, 0.00000000e+00, 0.00000000e+00,\n",
       "        0.00000000e+00, 0.00000000e+00, 0.00000000e+00, 0.00000000e+00,\n",
       "        1.30005911e+04, 0.00000000e+00, 1.14020135e+02, 4.11612687e+04,\n",
       "        0.00000000e+00, 1.14020135e+02, 0.00000000e+00, 0.00000000e+00,\n",
       "        0.00000000e+00, 0.00000000e+00, 0.00000000e+00, 0.00000000e+00,\n",
       "        0.00000000e+00, 0.00000000e+00, 0.00000000e+00, 0.00000000e+00,\n",
       "        0.00000000e+00, 0.00000000e+00, 0.00000000e+00, 0.00000000e+00,\n",
       "        0.00000000e+00, 0.00000000e+00, 0.00000000e+00, 0.00000000e+00,\n",
       "        0.00000000e+00, 0.00000000e+00, 0.00000000e+00, 0.00000000e+00,\n",
       "        0.00000000e+00, 0.00000000e+00, 0.00000000e+00, 0.00000000e+00,\n",
       "        0.00000000e+00, 0.00000000e+00, 0.00000000e+00, 0.00000000e+00,\n",
       "        0.00000000e+00, 0.00000000e+00, 0.00000000e+00, 0.00000000e+00,\n",
       "        0.00000000e+00, 0.00000000e+00, 0.00000000e+00, 0.00000000e+00,\n",
       "        0.00000000e+00, 0.00000000e+00, 0.00000000e+00, 0.00000000e+00,\n",
       "        0.00000000e+00, 0.00000000e+00, 0.00000000e+00, 0.00000000e+00,\n",
       "        0.00000000e+00, 0.00000000e+00, 0.00000000e+00, 0.00000000e+00,\n",
       "        0.00000000e+00, 1.00000000e+00, 3.61000000e+02, 0.00000000e+00,\n",
       "        1.00000000e+00, 0.00000000e+00, 0.00000000e+00, 0.00000000e+00,\n",
       "        0.00000000e+00, 0.00000000e+00, 0.00000000e+00, 0.00000000e+00,\n",
       "        0.00000000e+00, 0.00000000e+00, 0.00000000e+00, 0.00000000e+00,\n",
       "        0.00000000e+00, 0.00000000e+00, 0.00000000e+00, 0.00000000e+00,\n",
       "        0.00000000e+00, 0.00000000e+00, 0.00000000e+00, 0.00000000e+00,\n",
       "        0.00000000e+00, 0.00000000e+00, 0.00000000e+00, 0.00000000e+00,\n",
       "        1.30321000e+05, 0.00000000e+00, 3.61000000e+02, 0.00000000e+00,\n",
       "        0.00000000e+00, 0.00000000e+00, 0.00000000e+00, 0.00000000e+00,\n",
       "        0.00000000e+00, 0.00000000e+00, 0.00000000e+00, 0.00000000e+00,\n",
       "        0.00000000e+00, 0.00000000e+00, 0.00000000e+00, 0.00000000e+00,\n",
       "        0.00000000e+00, 0.00000000e+00, 0.00000000e+00, 0.00000000e+00,\n",
       "        0.00000000e+00, 0.00000000e+00, 0.00000000e+00, 0.00000000e+00,\n",
       "        0.00000000e+00, 0.00000000e+00, 0.00000000e+00, 0.00000000e+00,\n",
       "        0.00000000e+00, 0.00000000e+00, 0.00000000e+00, 0.00000000e+00,\n",
       "        0.00000000e+00, 0.00000000e+00, 0.00000000e+00, 0.00000000e+00,\n",
       "        0.00000000e+00, 0.00000000e+00, 0.00000000e+00, 0.00000000e+00,\n",
       "        0.00000000e+00, 0.00000000e+00, 0.00000000e+00, 0.00000000e+00,\n",
       "        0.00000000e+00, 0.00000000e+00, 0.00000000e+00, 0.00000000e+00,\n",
       "        0.00000000e+00, 0.00000000e+00, 0.00000000e+00, 1.00000000e+00,\n",
       "        0.00000000e+00, 0.00000000e+00, 0.00000000e+00, 0.00000000e+00,\n",
       "        0.00000000e+00, 0.00000000e+00, 0.00000000e+00, 0.00000000e+00,\n",
       "        0.00000000e+00, 0.00000000e+00, 0.00000000e+00, 0.00000000e+00,\n",
       "        0.00000000e+00, 0.00000000e+00, 0.00000000e+00, 0.00000000e+00,\n",
       "        0.00000000e+00, 0.00000000e+00, 0.00000000e+00, 0.00000000e+00,\n",
       "        0.00000000e+00, 0.00000000e+00, 0.00000000e+00, 0.00000000e+00,\n",
       "        0.00000000e+00, 0.00000000e+00, 0.00000000e+00, 0.00000000e+00,\n",
       "        0.00000000e+00, 0.00000000e+00, 0.00000000e+00, 0.00000000e+00,\n",
       "        0.00000000e+00, 0.00000000e+00, 0.00000000e+00, 0.00000000e+00,\n",
       "        0.00000000e+00, 0.00000000e+00, 0.00000000e+00, 0.00000000e+00,\n",
       "        0.00000000e+00, 0.00000000e+00, 0.00000000e+00, 0.00000000e+00,\n",
       "        0.00000000e+00, 0.00000000e+00, 0.00000000e+00, 0.00000000e+00,\n",
       "        0.00000000e+00, 0.00000000e+00, 0.00000000e+00, 0.00000000e+00,\n",
       "        0.00000000e+00, 0.00000000e+00, 0.00000000e+00, 0.00000000e+00,\n",
       "        0.00000000e+00, 0.00000000e+00, 0.00000000e+00, 0.00000000e+00,\n",
       "        0.00000000e+00, 0.00000000e+00, 0.00000000e+00, 0.00000000e+00,\n",
       "        0.00000000e+00, 0.00000000e+00, 0.00000000e+00, 0.00000000e+00,\n",
       "        0.00000000e+00, 0.00000000e+00, 0.00000000e+00, 0.00000000e+00,\n",
       "        0.00000000e+00, 0.00000000e+00, 0.00000000e+00, 0.00000000e+00,\n",
       "        0.00000000e+00, 0.00000000e+00, 0.00000000e+00, 0.00000000e+00,\n",
       "        0.00000000e+00, 0.00000000e+00, 0.00000000e+00, 0.00000000e+00,\n",
       "        0.00000000e+00, 0.00000000e+00, 0.00000000e+00, 0.00000000e+00,\n",
       "        0.00000000e+00, 0.00000000e+00, 0.00000000e+00, 0.00000000e+00,\n",
       "        0.00000000e+00, 0.00000000e+00, 0.00000000e+00, 0.00000000e+00,\n",
       "        0.00000000e+00, 0.00000000e+00, 0.00000000e+00, 0.00000000e+00,\n",
       "        0.00000000e+00, 0.00000000e+00, 0.00000000e+00, 0.00000000e+00,\n",
       "        0.00000000e+00, 0.00000000e+00, 0.00000000e+00, 0.00000000e+00,\n",
       "        0.00000000e+00, 0.00000000e+00, 0.00000000e+00, 0.00000000e+00,\n",
       "        0.00000000e+00, 0.00000000e+00, 0.00000000e+00, 0.00000000e+00,\n",
       "        0.00000000e+00, 0.00000000e+00, 0.00000000e+00, 0.00000000e+00,\n",
       "        0.00000000e+00, 0.00000000e+00, 0.00000000e+00, 0.00000000e+00,\n",
       "        0.00000000e+00, 0.00000000e+00, 0.00000000e+00, 0.00000000e+00,\n",
       "        0.00000000e+00, 0.00000000e+00, 0.00000000e+00, 0.00000000e+00,\n",
       "        0.00000000e+00, 0.00000000e+00, 0.00000000e+00, 0.00000000e+00,\n",
       "        0.00000000e+00, 0.00000000e+00, 0.00000000e+00, 0.00000000e+00,\n",
       "        0.00000000e+00, 0.00000000e+00, 0.00000000e+00, 0.00000000e+00,\n",
       "        0.00000000e+00, 0.00000000e+00, 0.00000000e+00, 0.00000000e+00,\n",
       "        0.00000000e+00, 0.00000000e+00, 0.00000000e+00, 0.00000000e+00,\n",
       "        0.00000000e+00, 0.00000000e+00, 0.00000000e+00, 0.00000000e+00,\n",
       "        0.00000000e+00, 0.00000000e+00, 0.00000000e+00, 0.00000000e+00,\n",
       "        0.00000000e+00, 0.00000000e+00, 0.00000000e+00, 0.00000000e+00,\n",
       "        0.00000000e+00, 0.00000000e+00, 0.00000000e+00, 0.00000000e+00,\n",
       "        0.00000000e+00, 0.00000000e+00, 0.00000000e+00, 0.00000000e+00,\n",
       "        0.00000000e+00, 0.00000000e+00, 0.00000000e+00, 0.00000000e+00,\n",
       "        0.00000000e+00, 0.00000000e+00, 0.00000000e+00, 0.00000000e+00,\n",
       "        0.00000000e+00, 0.00000000e+00, 0.00000000e+00, 0.00000000e+00,\n",
       "        0.00000000e+00, 0.00000000e+00, 0.00000000e+00, 0.00000000e+00,\n",
       "        0.00000000e+00, 0.00000000e+00, 0.00000000e+00, 0.00000000e+00,\n",
       "        0.00000000e+00, 0.00000000e+00, 0.00000000e+00, 0.00000000e+00,\n",
       "        0.00000000e+00, 0.00000000e+00, 0.00000000e+00, 0.00000000e+00,\n",
       "        0.00000000e+00, 0.00000000e+00, 0.00000000e+00, 0.00000000e+00,\n",
       "        0.00000000e+00, 0.00000000e+00, 0.00000000e+00, 0.00000000e+00,\n",
       "        0.00000000e+00, 0.00000000e+00, 0.00000000e+00, 0.00000000e+00,\n",
       "        0.00000000e+00, 0.00000000e+00, 0.00000000e+00, 0.00000000e+00,\n",
       "        0.00000000e+00, 0.00000000e+00, 0.00000000e+00, 0.00000000e+00,\n",
       "        0.00000000e+00, 0.00000000e+00, 0.00000000e+00, 0.00000000e+00,\n",
       "        0.00000000e+00, 0.00000000e+00, 0.00000000e+00, 0.00000000e+00,\n",
       "        0.00000000e+00, 0.00000000e+00, 0.00000000e+00, 0.00000000e+00,\n",
       "        0.00000000e+00, 0.00000000e+00, 0.00000000e+00, 0.00000000e+00,\n",
       "        0.00000000e+00, 0.00000000e+00, 0.00000000e+00, 0.00000000e+00,\n",
       "        0.00000000e+00, 0.00000000e+00, 0.00000000e+00, 0.00000000e+00,\n",
       "        0.00000000e+00, 0.00000000e+00, 0.00000000e+00, 0.00000000e+00,\n",
       "        0.00000000e+00, 0.00000000e+00, 0.00000000e+00, 0.00000000e+00,\n",
       "        0.00000000e+00, 0.00000000e+00, 0.00000000e+00, 0.00000000e+00,\n",
       "        0.00000000e+00, 0.00000000e+00, 0.00000000e+00, 0.00000000e+00,\n",
       "        0.00000000e+00, 0.00000000e+00, 0.00000000e+00, 0.00000000e+00,\n",
       "        0.00000000e+00, 0.00000000e+00, 0.00000000e+00, 0.00000000e+00,\n",
       "        0.00000000e+00, 0.00000000e+00, 0.00000000e+00, 0.00000000e+00,\n",
       "        0.00000000e+00, 0.00000000e+00, 0.00000000e+00, 0.00000000e+00,\n",
       "        0.00000000e+00, 0.00000000e+00, 0.00000000e+00, 0.00000000e+00,\n",
       "        0.00000000e+00, 0.00000000e+00, 0.00000000e+00, 0.00000000e+00,\n",
       "        0.00000000e+00, 0.00000000e+00, 0.00000000e+00, 0.00000000e+00,\n",
       "        0.00000000e+00, 0.00000000e+00, 0.00000000e+00, 0.00000000e+00,\n",
       "        0.00000000e+00, 0.00000000e+00, 0.00000000e+00, 0.00000000e+00,\n",
       "        0.00000000e+00, 0.00000000e+00, 0.00000000e+00],\n",
       "       [5.12717246e+01, 1.14020135e+02, 1.00000000e+00, 1.00000000e+00,\n",
       "        5.25000000e+02, 0.00000000e+00, 1.00000000e+00, 0.00000000e+00,\n",
       "        0.00000000e+00, 0.00000000e+00, 0.00000000e+00, 0.00000000e+00,\n",
       "        0.00000000e+00, 0.00000000e+00, 0.00000000e+00, 0.00000000e+00,\n",
       "        0.00000000e+00, 0.00000000e+00, 0.00000000e+00, 0.00000000e+00,\n",
       "        0.00000000e+00, 0.00000000e+00, 0.00000000e+00, 0.00000000e+00,\n",
       "        0.00000000e+00, 0.00000000e+00, 0.00000000e+00, 0.00000000e+00,\n",
       "        0.00000000e+00, 0.00000000e+00, 2.62878974e+03, 5.84600895e+03,\n",
       "        5.12717246e+01, 5.12717246e+01, 2.69176554e+04, 0.00000000e+00,\n",
       "        5.12717246e+01, 0.00000000e+00, 0.00000000e+00, 0.00000000e+00,\n",
       "        0.00000000e+00, 0.00000000e+00, 0.00000000e+00, 0.00000000e+00,\n",
       "        0.00000000e+00, 0.00000000e+00, 0.00000000e+00, 0.00000000e+00,\n",
       "        0.00000000e+00, 0.00000000e+00, 0.00000000e+00, 0.00000000e+00,\n",
       "        0.00000000e+00, 0.00000000e+00, 0.00000000e+00, 0.00000000e+00,\n",
       "        0.00000000e+00, 0.00000000e+00, 0.00000000e+00, 0.00000000e+00,\n",
       "        1.30005911e+04, 1.14020135e+02, 1.14020135e+02, 5.98605708e+04,\n",
       "        0.00000000e+00, 1.14020135e+02, 0.00000000e+00, 0.00000000e+00,\n",
       "        0.00000000e+00, 0.00000000e+00, 0.00000000e+00, 0.00000000e+00,\n",
       "        0.00000000e+00, 0.00000000e+00, 0.00000000e+00, 0.00000000e+00,\n",
       "        0.00000000e+00, 0.00000000e+00, 0.00000000e+00, 0.00000000e+00,\n",
       "        0.00000000e+00, 0.00000000e+00, 0.00000000e+00, 0.00000000e+00,\n",
       "        0.00000000e+00, 0.00000000e+00, 0.00000000e+00, 0.00000000e+00,\n",
       "        0.00000000e+00, 1.00000000e+00, 1.00000000e+00, 5.25000000e+02,\n",
       "        0.00000000e+00, 1.00000000e+00, 0.00000000e+00, 0.00000000e+00,\n",
       "        0.00000000e+00, 0.00000000e+00, 0.00000000e+00, 0.00000000e+00,\n",
       "        0.00000000e+00, 0.00000000e+00, 0.00000000e+00, 0.00000000e+00,\n",
       "        0.00000000e+00, 0.00000000e+00, 0.00000000e+00, 0.00000000e+00,\n",
       "        0.00000000e+00, 0.00000000e+00, 0.00000000e+00, 0.00000000e+00,\n",
       "        0.00000000e+00, 0.00000000e+00, 0.00000000e+00, 0.00000000e+00,\n",
       "        0.00000000e+00, 1.00000000e+00, 5.25000000e+02, 0.00000000e+00,\n",
       "        1.00000000e+00, 0.00000000e+00, 0.00000000e+00, 0.00000000e+00,\n",
       "        0.00000000e+00, 0.00000000e+00, 0.00000000e+00, 0.00000000e+00,\n",
       "        0.00000000e+00, 0.00000000e+00, 0.00000000e+00, 0.00000000e+00,\n",
       "        0.00000000e+00, 0.00000000e+00, 0.00000000e+00, 0.00000000e+00,\n",
       "        0.00000000e+00, 0.00000000e+00, 0.00000000e+00, 0.00000000e+00,\n",
       "        0.00000000e+00, 0.00000000e+00, 0.00000000e+00, 0.00000000e+00,\n",
       "        2.75625000e+05, 0.00000000e+00, 5.25000000e+02, 0.00000000e+00,\n",
       "        0.00000000e+00, 0.00000000e+00, 0.00000000e+00, 0.00000000e+00,\n",
       "        0.00000000e+00, 0.00000000e+00, 0.00000000e+00, 0.00000000e+00,\n",
       "        0.00000000e+00, 0.00000000e+00, 0.00000000e+00, 0.00000000e+00,\n",
       "        0.00000000e+00, 0.00000000e+00, 0.00000000e+00, 0.00000000e+00,\n",
       "        0.00000000e+00, 0.00000000e+00, 0.00000000e+00, 0.00000000e+00,\n",
       "        0.00000000e+00, 0.00000000e+00, 0.00000000e+00, 0.00000000e+00,\n",
       "        0.00000000e+00, 0.00000000e+00, 0.00000000e+00, 0.00000000e+00,\n",
       "        0.00000000e+00, 0.00000000e+00, 0.00000000e+00, 0.00000000e+00,\n",
       "        0.00000000e+00, 0.00000000e+00, 0.00000000e+00, 0.00000000e+00,\n",
       "        0.00000000e+00, 0.00000000e+00, 0.00000000e+00, 0.00000000e+00,\n",
       "        0.00000000e+00, 0.00000000e+00, 0.00000000e+00, 0.00000000e+00,\n",
       "        0.00000000e+00, 0.00000000e+00, 0.00000000e+00, 1.00000000e+00,\n",
       "        0.00000000e+00, 0.00000000e+00, 0.00000000e+00, 0.00000000e+00,\n",
       "        0.00000000e+00, 0.00000000e+00, 0.00000000e+00, 0.00000000e+00,\n",
       "        0.00000000e+00, 0.00000000e+00, 0.00000000e+00, 0.00000000e+00,\n",
       "        0.00000000e+00, 0.00000000e+00, 0.00000000e+00, 0.00000000e+00,\n",
       "        0.00000000e+00, 0.00000000e+00, 0.00000000e+00, 0.00000000e+00,\n",
       "        0.00000000e+00, 0.00000000e+00, 0.00000000e+00, 0.00000000e+00,\n",
       "        0.00000000e+00, 0.00000000e+00, 0.00000000e+00, 0.00000000e+00,\n",
       "        0.00000000e+00, 0.00000000e+00, 0.00000000e+00, 0.00000000e+00,\n",
       "        0.00000000e+00, 0.00000000e+00, 0.00000000e+00, 0.00000000e+00,\n",
       "        0.00000000e+00, 0.00000000e+00, 0.00000000e+00, 0.00000000e+00,\n",
       "        0.00000000e+00, 0.00000000e+00, 0.00000000e+00, 0.00000000e+00,\n",
       "        0.00000000e+00, 0.00000000e+00, 0.00000000e+00, 0.00000000e+00,\n",
       "        0.00000000e+00, 0.00000000e+00, 0.00000000e+00, 0.00000000e+00,\n",
       "        0.00000000e+00, 0.00000000e+00, 0.00000000e+00, 0.00000000e+00,\n",
       "        0.00000000e+00, 0.00000000e+00, 0.00000000e+00, 0.00000000e+00,\n",
       "        0.00000000e+00, 0.00000000e+00, 0.00000000e+00, 0.00000000e+00,\n",
       "        0.00000000e+00, 0.00000000e+00, 0.00000000e+00, 0.00000000e+00,\n",
       "        0.00000000e+00, 0.00000000e+00, 0.00000000e+00, 0.00000000e+00,\n",
       "        0.00000000e+00, 0.00000000e+00, 0.00000000e+00, 0.00000000e+00,\n",
       "        0.00000000e+00, 0.00000000e+00, 0.00000000e+00, 0.00000000e+00,\n",
       "        0.00000000e+00, 0.00000000e+00, 0.00000000e+00, 0.00000000e+00,\n",
       "        0.00000000e+00, 0.00000000e+00, 0.00000000e+00, 0.00000000e+00,\n",
       "        0.00000000e+00, 0.00000000e+00, 0.00000000e+00, 0.00000000e+00,\n",
       "        0.00000000e+00, 0.00000000e+00, 0.00000000e+00, 0.00000000e+00,\n",
       "        0.00000000e+00, 0.00000000e+00, 0.00000000e+00, 0.00000000e+00,\n",
       "        0.00000000e+00, 0.00000000e+00, 0.00000000e+00, 0.00000000e+00,\n",
       "        0.00000000e+00, 0.00000000e+00, 0.00000000e+00, 0.00000000e+00,\n",
       "        0.00000000e+00, 0.00000000e+00, 0.00000000e+00, 0.00000000e+00,\n",
       "        0.00000000e+00, 0.00000000e+00, 0.00000000e+00, 0.00000000e+00,\n",
       "        0.00000000e+00, 0.00000000e+00, 0.00000000e+00, 0.00000000e+00,\n",
       "        0.00000000e+00, 0.00000000e+00, 0.00000000e+00, 0.00000000e+00,\n",
       "        0.00000000e+00, 0.00000000e+00, 0.00000000e+00, 0.00000000e+00,\n",
       "        0.00000000e+00, 0.00000000e+00, 0.00000000e+00, 0.00000000e+00,\n",
       "        0.00000000e+00, 0.00000000e+00, 0.00000000e+00, 0.00000000e+00,\n",
       "        0.00000000e+00, 0.00000000e+00, 0.00000000e+00, 0.00000000e+00,\n",
       "        0.00000000e+00, 0.00000000e+00, 0.00000000e+00, 0.00000000e+00,\n",
       "        0.00000000e+00, 0.00000000e+00, 0.00000000e+00, 0.00000000e+00,\n",
       "        0.00000000e+00, 0.00000000e+00, 0.00000000e+00, 0.00000000e+00,\n",
       "        0.00000000e+00, 0.00000000e+00, 0.00000000e+00, 0.00000000e+00,\n",
       "        0.00000000e+00, 0.00000000e+00, 0.00000000e+00, 0.00000000e+00,\n",
       "        0.00000000e+00, 0.00000000e+00, 0.00000000e+00, 0.00000000e+00,\n",
       "        0.00000000e+00, 0.00000000e+00, 0.00000000e+00, 0.00000000e+00,\n",
       "        0.00000000e+00, 0.00000000e+00, 0.00000000e+00, 0.00000000e+00,\n",
       "        0.00000000e+00, 0.00000000e+00, 0.00000000e+00, 0.00000000e+00,\n",
       "        0.00000000e+00, 0.00000000e+00, 0.00000000e+00, 0.00000000e+00,\n",
       "        0.00000000e+00, 0.00000000e+00, 0.00000000e+00, 0.00000000e+00,\n",
       "        0.00000000e+00, 0.00000000e+00, 0.00000000e+00, 0.00000000e+00,\n",
       "        0.00000000e+00, 0.00000000e+00, 0.00000000e+00, 0.00000000e+00,\n",
       "        0.00000000e+00, 0.00000000e+00, 0.00000000e+00, 0.00000000e+00,\n",
       "        0.00000000e+00, 0.00000000e+00, 0.00000000e+00, 0.00000000e+00,\n",
       "        0.00000000e+00, 0.00000000e+00, 0.00000000e+00, 0.00000000e+00,\n",
       "        0.00000000e+00, 0.00000000e+00, 0.00000000e+00, 0.00000000e+00,\n",
       "        0.00000000e+00, 0.00000000e+00, 0.00000000e+00, 0.00000000e+00,\n",
       "        0.00000000e+00, 0.00000000e+00, 0.00000000e+00, 0.00000000e+00,\n",
       "        0.00000000e+00, 0.00000000e+00, 0.00000000e+00, 0.00000000e+00,\n",
       "        0.00000000e+00, 0.00000000e+00, 0.00000000e+00, 0.00000000e+00,\n",
       "        0.00000000e+00, 0.00000000e+00, 0.00000000e+00, 0.00000000e+00,\n",
       "        0.00000000e+00, 0.00000000e+00, 0.00000000e+00, 0.00000000e+00,\n",
       "        0.00000000e+00, 0.00000000e+00, 0.00000000e+00, 0.00000000e+00,\n",
       "        0.00000000e+00, 0.00000000e+00, 0.00000000e+00, 0.00000000e+00,\n",
       "        0.00000000e+00, 0.00000000e+00, 0.00000000e+00, 0.00000000e+00,\n",
       "        0.00000000e+00, 0.00000000e+00, 0.00000000e+00, 0.00000000e+00,\n",
       "        0.00000000e+00, 0.00000000e+00, 0.00000000e+00, 0.00000000e+00,\n",
       "        0.00000000e+00, 0.00000000e+00, 0.00000000e+00, 0.00000000e+00,\n",
       "        0.00000000e+00, 0.00000000e+00, 0.00000000e+00, 0.00000000e+00,\n",
       "        0.00000000e+00, 0.00000000e+00, 0.00000000e+00, 0.00000000e+00,\n",
       "        0.00000000e+00, 0.00000000e+00, 0.00000000e+00, 0.00000000e+00,\n",
       "        0.00000000e+00, 0.00000000e+00, 0.00000000e+00, 0.00000000e+00,\n",
       "        0.00000000e+00, 0.00000000e+00, 0.00000000e+00, 0.00000000e+00,\n",
       "        0.00000000e+00, 0.00000000e+00, 0.00000000e+00, 0.00000000e+00,\n",
       "        0.00000000e+00, 0.00000000e+00, 0.00000000e+00, 0.00000000e+00,\n",
       "        0.00000000e+00, 0.00000000e+00, 0.00000000e+00, 0.00000000e+00,\n",
       "        0.00000000e+00, 0.00000000e+00, 0.00000000e+00, 0.00000000e+00,\n",
       "        0.00000000e+00, 0.00000000e+00, 0.00000000e+00, 0.00000000e+00,\n",
       "        0.00000000e+00, 0.00000000e+00, 0.00000000e+00]])"
      ]
     },
     "execution_count": 41,
     "metadata": {},
     "output_type": "execute_result"
    }
   ],
   "source": [
    "X_2025_feat"
   ]
  },
  {
   "cell_type": "code",
   "execution_count": 42,
   "id": "a1207065-d0cc-492a-8274-6b9f1749fca5",
   "metadata": {
    "execution": {
     "iopub.execute_input": "2025-02-24T23:34:06.649019Z",
     "iopub.status.busy": "2025-02-24T23:34:06.648476Z",
     "iopub.status.idle": "2025-02-24T23:34:06.658634Z",
     "shell.execute_reply": "2025-02-24T23:34:06.656228Z",
     "shell.execute_reply.started": "2025-02-24T23:34:06.648970Z"
    }
   },
   "outputs": [],
   "source": [
    "# Transform only on test data\n",
    "X_2025_feat_scaled = scaler.transform(X_2025_feat)"
   ]
  },
  {
   "cell_type": "code",
   "execution_count": 43,
   "id": "e4f5f940-c9f4-4f97-9517-5a5c7fb58598",
   "metadata": {
    "execution": {
     "iopub.execute_input": "2025-02-24T23:34:08.833928Z",
     "iopub.status.busy": "2025-02-24T23:34:08.833378Z",
     "iopub.status.idle": "2025-02-24T23:34:08.851992Z",
     "shell.execute_reply": "2025-02-24T23:34:08.849979Z",
     "shell.execute_reply.started": "2025-02-24T23:34:08.833884Z"
    }
   },
   "outputs": [],
   "source": [
    "# Get prediction for testing dataset\n",
    "y_pred = model.predict(X_2025_feat_scaled)"
   ]
  },
  {
   "cell_type": "code",
   "execution_count": 44,
   "id": "eb9a7d43-9d2c-4d9d-b478-d5fd51d56251",
   "metadata": {
    "execution": {
     "iopub.execute_input": "2025-02-24T23:34:11.786774Z",
     "iopub.status.busy": "2025-02-24T23:34:11.785794Z",
     "iopub.status.idle": "2025-02-24T23:34:11.801530Z",
     "shell.execute_reply": "2025-02-24T23:34:11.800488Z",
     "shell.execute_reply.started": "2025-02-24T23:34:11.786720Z"
    }
   },
   "outputs": [
    {
     "data": {
      "text/plain": [
       "array([1276.50839296, 1515.35403866])"
      ]
     },
     "execution_count": 44,
     "metadata": {},
     "output_type": "execute_result"
    }
   ],
   "source": [
    "y_pred"
   ]
  },
  {
   "cell_type": "code",
   "execution_count": 45,
   "id": "8fa53452-ea78-4527-9cea-b43d44752ac6",
   "metadata": {
    "execution": {
     "iopub.execute_input": "2025-02-24T23:34:13.833122Z",
     "iopub.status.busy": "2025-02-24T23:34:13.832596Z",
     "iopub.status.idle": "2025-02-24T23:34:13.846566Z",
     "shell.execute_reply": "2025-02-24T23:34:13.845334Z",
     "shell.execute_reply.started": "2025-02-24T23:34:13.833079Z"
    }
   },
   "outputs": [
    {
     "data": {
      "text/plain": [
       "array([1276.50839296, 1515.35403866])"
      ]
     },
     "execution_count": 45,
     "metadata": {},
     "output_type": "execute_result"
    }
   ],
   "source": [
    "y_pred"
   ]
  }
 ],
 "metadata": {
  "kernelspec": {
   "display_name": "graph",
   "language": "python",
   "name": "graph"
  },
  "language_info": {
   "codemirror_mode": {
    "name": "ipython",
    "version": 3
   },
   "file_extension": ".py",
   "mimetype": "text/x-python",
   "name": "python",
   "nbconvert_exporter": "python",
   "pygments_lexer": "ipython3",
   "version": "3.12.7"
  }
 },
 "nbformat": 4,
 "nbformat_minor": 5
}

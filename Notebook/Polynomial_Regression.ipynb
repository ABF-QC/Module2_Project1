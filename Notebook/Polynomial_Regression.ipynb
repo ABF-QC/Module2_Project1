{
 "cells": [
  {
   "cell_type": "markdown",
   "id": "2bb59be7-7607-461f-aa16-f0c3c097f326",
   "metadata": {},
   "source": [
    "### Importing necessary library"
   ]
  },
  {
   "cell_type": "code",
   "execution_count": 1,
   "id": "2e3928eb-14a8-4bdf-9494-af7002b535bf",
   "metadata": {
    "execution": {
     "iopub.execute_input": "2025-02-24T21:22:40.283099Z",
     "iopub.status.busy": "2025-02-24T21:22:40.282458Z",
     "iopub.status.idle": "2025-02-24T21:22:42.246931Z",
     "shell.execute_reply": "2025-02-24T21:22:42.244904Z",
     "shell.execute_reply.started": "2025-02-24T21:22:40.283039Z"
    }
   },
   "outputs": [],
   "source": [
    "import pandas as pd\n",
    "import numpy as np\n",
    "\n",
    "import datetime\n",
    "\n",
    "import seaborn as sns\n",
    "import matplotlib.pyplot as plt\n",
    "\n",
    "import scipy.stats as stats\n",
    "\n",
    "from sklearn.preprocessing import StandardScaler\n",
    "from sklearn.linear_model import LinearRegression\n",
    "from sklearn.preprocessing import PolynomialFeatures\n",
    "from sklearn.model_selection import train_test_split\n",
    "\n",
    "from sklearn.metrics import mean_absolute_error, mean_squared_error\n",
    "from sklearn.metrics import r2_score"
   ]
  },
  {
   "cell_type": "markdown",
   "id": "20742c6e-0a8d-4c89-bf88-09c0c2940c1c",
   "metadata": {},
   "source": [
    "### Define global settings"
   ]
  },
  {
   "cell_type": "code",
   "execution_count": 2,
   "id": "00afae7a-f958-423d-bd80-9a38d18cbabf",
   "metadata": {
    "execution": {
     "iopub.execute_input": "2025-02-24T21:22:42.248711Z",
     "iopub.status.busy": "2025-02-24T21:22:42.248172Z",
     "iopub.status.idle": "2025-02-24T21:22:42.254908Z",
     "shell.execute_reply": "2025-02-24T21:22:42.253818Z",
     "shell.execute_reply.started": "2025-02-24T21:22:42.248660Z"
    }
   },
   "outputs": [],
   "source": [
    "pd.options.display.float_format = '{:.6f}'.format"
   ]
  },
  {
   "cell_type": "markdown",
   "id": "336b5752-fcf4-4397-b545-72378d1ad7b2",
   "metadata": {},
   "source": [
    "### Reading the training and testing dataset files"
   ]
  },
  {
   "cell_type": "code",
   "execution_count": 3,
   "id": "9af36f3c-b794-4d98-9971-20857437ef8f",
   "metadata": {
    "execution": {
     "iopub.execute_input": "2025-02-24T21:22:42.256821Z",
     "iopub.status.busy": "2025-02-24T21:22:42.255989Z",
     "iopub.status.idle": "2025-02-24T21:22:42.419035Z",
     "shell.execute_reply": "2025-02-24T21:22:42.416965Z",
     "shell.execute_reply.started": "2025-02-24T21:22:42.256763Z"
    }
   },
   "outputs": [],
   "source": [
    "rent_df = pd.read_csv('../Data/canada_rent_clean_max5k.csv')\n"
   ]
  },
  {
   "cell_type": "markdown",
   "id": "a4f69c1f-e803-4802-9728-0db821cdceab",
   "metadata": {},
   "source": [
    "### Features to keep"
   ]
  },
  {
   "cell_type": "code",
   "execution_count": 4,
   "id": "f4a4309c-460c-4504-b6cc-87d0bc1d6cb0",
   "metadata": {
    "execution": {
     "iopub.execute_input": "2025-02-24T21:22:42.420858Z",
     "iopub.status.busy": "2025-02-24T21:22:42.420517Z",
     "iopub.status.idle": "2025-02-24T21:22:42.430584Z",
     "shell.execute_reply": "2025-02-24T21:22:42.428883Z",
     "shell.execute_reply.started": "2025-02-24T21:22:42.420832Z"
    }
   },
   "outputs": [],
   "source": [
    "kbest_15 = ['longitude', 'sq_feet', 'lease_term_6 months', 'type_Basement', 'type_House',\n",
    " 'type_Room For Rent', 'province_Manitoba',\n",
    " 'province_Newfoundland and Labrador', 'province_Ontario',\n",
    " 'province_Saskatchewan', 'city_Toronto', 'city_Edmonton' ,'city_Winnipeg',\n",
    " 'city_Regina', 'city_West Vancouver']\n",
    "\n",
    "kbest_20 = ['longitude','beds', 'sq_feet', 'lease_term_6 months',\n",
    " 'lease_term_Short Term', 'type_Basement', 'type_House', 'type_Room For Rent',\n",
    " 'province_Manitoba', 'province_Newfoundland and Labrador',\n",
    " 'province_Ontario', 'province_Saskatchewan', 'city_Calgary', 'city_Toronto',\n",
    " 'city_Edmonton', 'city_Ottawa', 'city_Winnipeg', 'city_Vancouver',\n",
    " 'city_Regina', 'city_West Vancouver']\n",
    "\n",
    "kbest_30 = ['latitude', 'longitude', 'beds', 'baths', 'sq_feet', 'lease_term_6 months',\n",
    " 'lease_term_Negotiable', 'lease_term_Short Term', 'type_Basement',\n",
    " 'type_Condo Unit', 'type_House', 'type_Room For Rent',\n",
    " 'smoking_Smoking Allowed', 'province_British Columbia', 'province_Manitoba',\n",
    " 'province_Newfoundland and Labrador', 'province_Nova Scotia',\n",
    " 'province_Ontario', 'province_Quebec', 'province_Saskatchewan',\n",
    " 'city_Calgary', 'city_Toronto', 'city_Edmonton', 'city_Montréal',\n",
    " 'city_Ottawa', 'city_Winnipeg', 'city_Vancouver', 'city_Victoria',\n",
    " 'city_Regina', 'city_West Vancouver']\n",
    "\n",
    "corBest_30 = ['baths', 'beds', 'type_House', 'city_Toronto', 'latitude',\n",
    "       'type_Room For Rent', 'province_Ontario', 'city_Edmonton',\n",
    "       'type_Basement', 'province_Saskatchewan', 'longitude', 'sq_feet',\n",
    "       'dogs', 'city_Vancouver', 'lease_term_Short Term', 'province_Manitoba',\n",
    "       'province_British Columbia', 'city_Winnipeg', 'city_Regina',\n",
    "       'city_West Vancouver', 'cats', 'city_Canmore', 'province_Nova Scotia',\n",
    "       'smoking_Smoking Allowed', 'city_Halifax', 'type_Duplex',\n",
    "       'lease_term_Negotiable', 'type_Condo Unit', 'lease_term_Long Term',\n",
    "       'city_Victoria']\n",
    "\n",
    "corBest_15 = corBest_30[0:15]\n",
    "corBest_20 = corBest_30[0:20]\n",
    "\n",
    "\n",
    "feat2keep = corBest_30"
   ]
  },
  {
   "cell_type": "markdown",
   "id": "b4c21e37-043a-4661-99f9-1ffb93bd27f0",
   "metadata": {},
   "source": [
    "### Keep only selected features from dataset"
   ]
  },
  {
   "cell_type": "code",
   "execution_count": 5,
   "id": "f9492eb8-3e32-4c93-8ce0-27c3537d2e99",
   "metadata": {
    "execution": {
     "iopub.execute_input": "2025-02-24T21:22:42.432320Z",
     "iopub.status.busy": "2025-02-24T21:22:42.431799Z",
     "iopub.status.idle": "2025-02-24T21:22:42.465256Z",
     "shell.execute_reply": "2025-02-24T21:22:42.463553Z",
     "shell.execute_reply.started": "2025-02-24T21:22:42.432271Z"
    }
   },
   "outputs": [],
   "source": [
    "# Separate independent variable from dependent variable\n",
    "X = rent_df[feat2keep]\n",
    "y = rent_df['price']"
   ]
  },
  {
   "cell_type": "markdown",
   "id": "647b6aa7-679e-4711-9b21-6812d7ac0e8d",
   "metadata": {},
   "source": [
    "### Split dataset into training and testing set"
   ]
  },
  {
   "cell_type": "code",
   "execution_count": 6,
   "id": "84061686-6509-40b8-948f-ef8a5db5f9cf",
   "metadata": {
    "execution": {
     "iopub.execute_input": "2025-02-24T21:22:42.469477Z",
     "iopub.status.busy": "2025-02-24T21:22:42.468535Z",
     "iopub.status.idle": "2025-02-24T21:22:42.496780Z",
     "shell.execute_reply": "2025-02-24T21:22:42.495669Z",
     "shell.execute_reply.started": "2025-02-24T21:22:42.469440Z"
    }
   },
   "outputs": [],
   "source": [
    "# Split data into training/testing dataset\n",
    "X_train, X_test, y_train, y_test = train_test_split(X, y, test_size = 0.2, random_state = 1)"
   ]
  },
  {
   "cell_type": "markdown",
   "id": "d1a323f6-74ec-40dd-91e5-eb25c7594e1b",
   "metadata": {},
   "source": [
    "## Part 1: Find the optimal polynomial degree\n",
    "---\n",
    "Conclusion :\n"
   ]
  },
  {
   "cell_type": "raw",
   "id": "a4115fdb-06b7-4749-9d7a-b9e96e5fa10d",
   "metadata": {
    "execution": {
     "iopub.execute_input": "2025-02-24T19:08:11.874642Z",
     "iopub.status.busy": "2025-02-24T19:08:11.874116Z",
     "iopub.status.idle": "2025-02-24T19:09:29.611144Z",
     "shell.execute_reply": "2025-02-24T19:09:29.607177Z",
     "shell.execute_reply.started": "2025-02-24T19:08:11.874596Z"
    },
    "tags": []
   },
   "source": [
    "# List of RMSE \n",
    "train_rmse_errors = []\n",
    "test_rmse_errors = []\n",
    "\n",
    "# Define the starting point and ending point of\n",
    "# the polynomial degrees to test \n",
    "degree_start = 1\n",
    "degree_end = 4\n",
    "\n",
    "# List to save degrees\n",
    "degrees = list(range(degree_start, degree_end + 1))\n",
    "\n",
    "# Create dataframe\n",
    "x_test_pred_df = pd.DataFrame(columns=list(degrees))\n",
    "y_test_pred_df = pd.DataFrame(columns=list(degrees))\n",
    "\n",
    "# Loop over polynomial degrees\n",
    "for degree in degrees:  \n",
    "    \n",
    "    # Create an instance of PolynomialFeatures\n",
    "    converter = PolynomialFeatures(degree=degree, include_bias=False)\n",
    "    \n",
    "    # Fit converter to X features + transform features\n",
    "    X_train_feat = converter.fit_transform(X_train)\n",
    "    X_test_feat = converter.fit_transform(X_test)\n",
    "    \n",
    "    # Create training and testing dataset\n",
    "    #X_train_feat, X_test_feat, y_train, y_test = train_test_split(X_fit_features, y, test_size=0.15, random_state=1)\n",
    "    \n",
    "    # Scale the features\n",
    "    scaler = StandardScaler()\n",
    "    X_train_feat_scaled = scaler.fit_transform(X_train_feat)\n",
    "    X_test_feat_scaled = scaler.transform(X_test_feat)\n",
    "    \n",
    "    # Create the model\n",
    "    model = LinearRegression()\n",
    "\n",
    "    # Train the model\n",
    "    model.fit(X_train_feat_scaled, y_train)\n",
    "    \n",
    "    # Get predictions for training dataset\n",
    "    y_train_pred = model.predict(X_train_feat_scaled)\n",
    "\n",
    "    # Get prediction for testing dataset\n",
    "    y_test_pred = model.predict(X_test_feat_scaled)\n",
    "    \n",
    "    # Calculate RMSE for training dataset\n",
    "    train_RMSE = np.sqrt(mean_squared_error(y_train, y_train_pred))\n",
    "    \n",
    "    # Calculate RMSE for testing dataset\n",
    "    test_RMSE = np.sqrt(mean_squared_error(y_test, y_test_pred))\n",
    "    \n",
    "    # Store errors and degrees to lists\n",
    "    train_rmse_errors.append(train_RMSE)\n",
    "    test_rmse_errors.append(test_RMSE)\n",
    "\n",
    "    # Store prediction from testing sample to dataframe\n",
    "    #x_test_pred_df[degree]=  pd.Series(x_t_feat_scaled.flatten())\n",
    "    #y_test_pred_df[degree] = pd.Series(y_test_pred.flatten())"
   ]
  },
  {
   "cell_type": "raw",
   "id": "f324ce99-9561-4162-ae67-58a577d6440e",
   "metadata": {
    "execution": {
     "iopub.execute_input": "2025-02-24T19:09:29.620094Z",
     "iopub.status.busy": "2025-02-24T19:09:29.617688Z",
     "iopub.status.idle": "2025-02-24T19:09:29.647196Z",
     "shell.execute_reply": "2025-02-24T19:09:29.645482Z",
     "shell.execute_reply.started": "2025-02-24T19:09:29.620048Z"
    }
   },
   "source": [
    "# Create df with RMSE scores + degrees\n",
    "results_df = pd.DataFrame({\n",
    "    'Polynomial Degree': degrees,\n",
    "    'RSME on training dataset': train_rmse_errors,\n",
    "    'RMSE on testing dataset': test_rmse_errors\n",
    "})\n",
    "\n",
    "# Show results\n",
    "results_df.set_index('Polynomial Degree')"
   ]
  },
  {
   "cell_type": "raw",
   "id": "8176fab3-a0f9-4145-aa80-fd2ea3ba7e76",
   "metadata": {
    "execution": {
     "iopub.execute_input": "2025-02-24T19:10:56.886504Z",
     "iopub.status.busy": "2025-02-24T19:10:56.885908Z",
     "iopub.status.idle": "2025-02-24T19:10:57.320293Z",
     "shell.execute_reply": "2025-02-24T19:10:57.319011Z",
     "shell.execute_reply.started": "2025-02-24T19:10:56.886453Z"
    }
   },
   "source": [
    "# Create figure\n",
    "plt.figure(figsize=(6, 4))\n",
    "\n",
    "# Add train RMSE line plot\n",
    "plt.plot(degrees, train_rmse_errors, label='Train RMSE', marker='o')\n",
    "\n",
    "# Add test RMSE line plot\n",
    "plt.plot(degrees, test_rmse_errors, label='Test RMSE', marker='o')\n",
    "\n",
    "# Add axis labels\n",
    "plt.xlabel(\"Polynomial Complexity (Degree)\")\n",
    "plt.ylabel(\"RMSE\")\n",
    "\n",
    "# Add legend\n",
    "plt.legend()\n",
    "\n",
    "# Add title\n",
    "plt.title(\"RMSE vs. Polynomial Complexity\")\n",
    "\n",
    "# Save fig\n",
    "plt.savefig('../Graph/PolynmialComplexity.png')\n",
    "\n",
    "# Show plot\n",
    "plt.show()"
   ]
  },
  {
   "cell_type": "markdown",
   "id": "a64496c8-0b7f-4e88-8471-63761df71cbc",
   "metadata": {},
   "source": [
    "## Part 2 : Building the model with the best polynomial degree\n",
    "---"
   ]
  },
  {
   "cell_type": "markdown",
   "id": "cb3edae0-6c9e-472e-8a0d-200e42618e60",
   "metadata": {},
   "source": [
    "### Create Polynomial Features"
   ]
  },
  {
   "cell_type": "code",
   "execution_count": 7,
   "id": "ed131a44-c47f-4e9a-b454-9f539df62cfb",
   "metadata": {
    "execution": {
     "iopub.execute_input": "2025-02-24T21:22:42.499684Z",
     "iopub.status.busy": "2025-02-24T21:22:42.498327Z",
     "iopub.status.idle": "2025-02-24T21:22:42.519169Z",
     "shell.execute_reply": "2025-02-24T21:22:42.517522Z",
     "shell.execute_reply.started": "2025-02-24T21:22:42.499616Z"
    }
   },
   "outputs": [],
   "source": [
    "pol_degree = 2"
   ]
  },
  {
   "cell_type": "code",
   "execution_count": 8,
   "id": "2c0d4ff6-e1d4-4a26-abbd-e64a3e3c74dd",
   "metadata": {
    "execution": {
     "iopub.execute_input": "2025-02-24T21:22:42.521555Z",
     "iopub.status.busy": "2025-02-24T21:22:42.520486Z",
     "iopub.status.idle": "2025-02-24T21:22:42.636202Z",
     "shell.execute_reply": "2025-02-24T21:22:42.634503Z",
     "shell.execute_reply.started": "2025-02-24T21:22:42.521504Z"
    }
   },
   "outputs": [],
   "source": [
    "# Create an instance of PolynomialFeatures\n",
    "converter = PolynomialFeatures(degree=pol_degree, include_bias=False)\n",
    "\n",
    "# Fit converter to X_train andX_testing features + transform features\n",
    "X_train_feat = converter.fit_transform(X_train)\n",
    "X_test_feat = converter.fit_transform(X_test)\n",
    "    "
   ]
  },
  {
   "cell_type": "markdown",
   "id": "c01d1877-d901-4ff3-9da2-f00dd4f8d009",
   "metadata": {},
   "source": [
    "### Data scaling"
   ]
  },
  {
   "cell_type": "code",
   "execution_count": 9,
   "id": "050a2cf4-bf22-4e59-b1a5-4f87a3bc9a75",
   "metadata": {
    "execution": {
     "iopub.execute_input": "2025-02-24T21:22:42.638387Z",
     "iopub.status.busy": "2025-02-24T21:22:42.637807Z",
     "iopub.status.idle": "2025-02-24T21:22:42.818483Z",
     "shell.execute_reply": "2025-02-24T21:22:42.816841Z",
     "shell.execute_reply.started": "2025-02-24T21:22:42.638342Z"
    }
   },
   "outputs": [],
   "source": [
    "# Initialize StandardScaler\n",
    "scaler = StandardScaler()\n",
    "\n",
    "# Fit-transform training data\n",
    "X_train_feat_scaled = scaler.fit_transform(X_train_feat)\n",
    "\n",
    "# Transform only on test data\n",
    "X_test_feat_scaled = scaler.transform(X_test_feat)"
   ]
  },
  {
   "cell_type": "markdown",
   "id": "81e8e5c4-a761-4491-bcec-363362e50e46",
   "metadata": {},
   "source": [
    "### Create a Polynomial Regression Model"
   ]
  },
  {
   "cell_type": "code",
   "execution_count": 10,
   "id": "140e2d6f-ee10-451e-be92-a47aa302543f",
   "metadata": {
    "execution": {
     "iopub.execute_input": "2025-02-24T21:22:42.820053Z",
     "iopub.status.busy": "2025-02-24T21:22:42.819700Z",
     "iopub.status.idle": "2025-02-24T21:22:44.045639Z",
     "shell.execute_reply": "2025-02-24T21:22:44.044683Z",
     "shell.execute_reply.started": "2025-02-24T21:22:42.820026Z"
    }
   },
   "outputs": [
    {
     "data": {
      "text/html": [
       "<style>#sk-container-id-1 {\n",
       "  /* Definition of color scheme common for light and dark mode */\n",
       "  --sklearn-color-text: #000;\n",
       "  --sklearn-color-text-muted: #666;\n",
       "  --sklearn-color-line: gray;\n",
       "  /* Definition of color scheme for unfitted estimators */\n",
       "  --sklearn-color-unfitted-level-0: #fff5e6;\n",
       "  --sklearn-color-unfitted-level-1: #f6e4d2;\n",
       "  --sklearn-color-unfitted-level-2: #ffe0b3;\n",
       "  --sklearn-color-unfitted-level-3: chocolate;\n",
       "  /* Definition of color scheme for fitted estimators */\n",
       "  --sklearn-color-fitted-level-0: #f0f8ff;\n",
       "  --sklearn-color-fitted-level-1: #d4ebff;\n",
       "  --sklearn-color-fitted-level-2: #b3dbfd;\n",
       "  --sklearn-color-fitted-level-3: cornflowerblue;\n",
       "\n",
       "  /* Specific color for light theme */\n",
       "  --sklearn-color-text-on-default-background: var(--sg-text-color, var(--theme-code-foreground, var(--jp-content-font-color1, black)));\n",
       "  --sklearn-color-background: var(--sg-background-color, var(--theme-background, var(--jp-layout-color0, white)));\n",
       "  --sklearn-color-border-box: var(--sg-text-color, var(--theme-code-foreground, var(--jp-content-font-color1, black)));\n",
       "  --sklearn-color-icon: #696969;\n",
       "\n",
       "  @media (prefers-color-scheme: dark) {\n",
       "    /* Redefinition of color scheme for dark theme */\n",
       "    --sklearn-color-text-on-default-background: var(--sg-text-color, var(--theme-code-foreground, var(--jp-content-font-color1, white)));\n",
       "    --sklearn-color-background: var(--sg-background-color, var(--theme-background, var(--jp-layout-color0, #111)));\n",
       "    --sklearn-color-border-box: var(--sg-text-color, var(--theme-code-foreground, var(--jp-content-font-color1, white)));\n",
       "    --sklearn-color-icon: #878787;\n",
       "  }\n",
       "}\n",
       "\n",
       "#sk-container-id-1 {\n",
       "  color: var(--sklearn-color-text);\n",
       "}\n",
       "\n",
       "#sk-container-id-1 pre {\n",
       "  padding: 0;\n",
       "}\n",
       "\n",
       "#sk-container-id-1 input.sk-hidden--visually {\n",
       "  border: 0;\n",
       "  clip: rect(1px 1px 1px 1px);\n",
       "  clip: rect(1px, 1px, 1px, 1px);\n",
       "  height: 1px;\n",
       "  margin: -1px;\n",
       "  overflow: hidden;\n",
       "  padding: 0;\n",
       "  position: absolute;\n",
       "  width: 1px;\n",
       "}\n",
       "\n",
       "#sk-container-id-1 div.sk-dashed-wrapped {\n",
       "  border: 1px dashed var(--sklearn-color-line);\n",
       "  margin: 0 0.4em 0.5em 0.4em;\n",
       "  box-sizing: border-box;\n",
       "  padding-bottom: 0.4em;\n",
       "  background-color: var(--sklearn-color-background);\n",
       "}\n",
       "\n",
       "#sk-container-id-1 div.sk-container {\n",
       "  /* jupyter's `normalize.less` sets `[hidden] { display: none; }`\n",
       "     but bootstrap.min.css set `[hidden] { display: none !important; }`\n",
       "     so we also need the `!important` here to be able to override the\n",
       "     default hidden behavior on the sphinx rendered scikit-learn.org.\n",
       "     See: https://github.com/scikit-learn/scikit-learn/issues/21755 */\n",
       "  display: inline-block !important;\n",
       "  position: relative;\n",
       "}\n",
       "\n",
       "#sk-container-id-1 div.sk-text-repr-fallback {\n",
       "  display: none;\n",
       "}\n",
       "\n",
       "div.sk-parallel-item,\n",
       "div.sk-serial,\n",
       "div.sk-item {\n",
       "  /* draw centered vertical line to link estimators */\n",
       "  background-image: linear-gradient(var(--sklearn-color-text-on-default-background), var(--sklearn-color-text-on-default-background));\n",
       "  background-size: 2px 100%;\n",
       "  background-repeat: no-repeat;\n",
       "  background-position: center center;\n",
       "}\n",
       "\n",
       "/* Parallel-specific style estimator block */\n",
       "\n",
       "#sk-container-id-1 div.sk-parallel-item::after {\n",
       "  content: \"\";\n",
       "  width: 100%;\n",
       "  border-bottom: 2px solid var(--sklearn-color-text-on-default-background);\n",
       "  flex-grow: 1;\n",
       "}\n",
       "\n",
       "#sk-container-id-1 div.sk-parallel {\n",
       "  display: flex;\n",
       "  align-items: stretch;\n",
       "  justify-content: center;\n",
       "  background-color: var(--sklearn-color-background);\n",
       "  position: relative;\n",
       "}\n",
       "\n",
       "#sk-container-id-1 div.sk-parallel-item {\n",
       "  display: flex;\n",
       "  flex-direction: column;\n",
       "}\n",
       "\n",
       "#sk-container-id-1 div.sk-parallel-item:first-child::after {\n",
       "  align-self: flex-end;\n",
       "  width: 50%;\n",
       "}\n",
       "\n",
       "#sk-container-id-1 div.sk-parallel-item:last-child::after {\n",
       "  align-self: flex-start;\n",
       "  width: 50%;\n",
       "}\n",
       "\n",
       "#sk-container-id-1 div.sk-parallel-item:only-child::after {\n",
       "  width: 0;\n",
       "}\n",
       "\n",
       "/* Serial-specific style estimator block */\n",
       "\n",
       "#sk-container-id-1 div.sk-serial {\n",
       "  display: flex;\n",
       "  flex-direction: column;\n",
       "  align-items: center;\n",
       "  background-color: var(--sklearn-color-background);\n",
       "  padding-right: 1em;\n",
       "  padding-left: 1em;\n",
       "}\n",
       "\n",
       "\n",
       "/* Toggleable style: style used for estimator/Pipeline/ColumnTransformer box that is\n",
       "clickable and can be expanded/collapsed.\n",
       "- Pipeline and ColumnTransformer use this feature and define the default style\n",
       "- Estimators will overwrite some part of the style using the `sk-estimator` class\n",
       "*/\n",
       "\n",
       "/* Pipeline and ColumnTransformer style (default) */\n",
       "\n",
       "#sk-container-id-1 div.sk-toggleable {\n",
       "  /* Default theme specific background. It is overwritten whether we have a\n",
       "  specific estimator or a Pipeline/ColumnTransformer */\n",
       "  background-color: var(--sklearn-color-background);\n",
       "}\n",
       "\n",
       "/* Toggleable label */\n",
       "#sk-container-id-1 label.sk-toggleable__label {\n",
       "  cursor: pointer;\n",
       "  display: flex;\n",
       "  width: 100%;\n",
       "  margin-bottom: 0;\n",
       "  padding: 0.5em;\n",
       "  box-sizing: border-box;\n",
       "  text-align: center;\n",
       "  align-items: start;\n",
       "  justify-content: space-between;\n",
       "  gap: 0.5em;\n",
       "}\n",
       "\n",
       "#sk-container-id-1 label.sk-toggleable__label .caption {\n",
       "  font-size: 0.6rem;\n",
       "  font-weight: lighter;\n",
       "  color: var(--sklearn-color-text-muted);\n",
       "}\n",
       "\n",
       "#sk-container-id-1 label.sk-toggleable__label-arrow:before {\n",
       "  /* Arrow on the left of the label */\n",
       "  content: \"▸\";\n",
       "  float: left;\n",
       "  margin-right: 0.25em;\n",
       "  color: var(--sklearn-color-icon);\n",
       "}\n",
       "\n",
       "#sk-container-id-1 label.sk-toggleable__label-arrow:hover:before {\n",
       "  color: var(--sklearn-color-text);\n",
       "}\n",
       "\n",
       "/* Toggleable content - dropdown */\n",
       "\n",
       "#sk-container-id-1 div.sk-toggleable__content {\n",
       "  max-height: 0;\n",
       "  max-width: 0;\n",
       "  overflow: hidden;\n",
       "  text-align: left;\n",
       "  /* unfitted */\n",
       "  background-color: var(--sklearn-color-unfitted-level-0);\n",
       "}\n",
       "\n",
       "#sk-container-id-1 div.sk-toggleable__content.fitted {\n",
       "  /* fitted */\n",
       "  background-color: var(--sklearn-color-fitted-level-0);\n",
       "}\n",
       "\n",
       "#sk-container-id-1 div.sk-toggleable__content pre {\n",
       "  margin: 0.2em;\n",
       "  border-radius: 0.25em;\n",
       "  color: var(--sklearn-color-text);\n",
       "  /* unfitted */\n",
       "  background-color: var(--sklearn-color-unfitted-level-0);\n",
       "}\n",
       "\n",
       "#sk-container-id-1 div.sk-toggleable__content.fitted pre {\n",
       "  /* unfitted */\n",
       "  background-color: var(--sklearn-color-fitted-level-0);\n",
       "}\n",
       "\n",
       "#sk-container-id-1 input.sk-toggleable__control:checked~div.sk-toggleable__content {\n",
       "  /* Expand drop-down */\n",
       "  max-height: 200px;\n",
       "  max-width: 100%;\n",
       "  overflow: auto;\n",
       "}\n",
       "\n",
       "#sk-container-id-1 input.sk-toggleable__control:checked~label.sk-toggleable__label-arrow:before {\n",
       "  content: \"▾\";\n",
       "}\n",
       "\n",
       "/* Pipeline/ColumnTransformer-specific style */\n",
       "\n",
       "#sk-container-id-1 div.sk-label input.sk-toggleable__control:checked~label.sk-toggleable__label {\n",
       "  color: var(--sklearn-color-text);\n",
       "  background-color: var(--sklearn-color-unfitted-level-2);\n",
       "}\n",
       "\n",
       "#sk-container-id-1 div.sk-label.fitted input.sk-toggleable__control:checked~label.sk-toggleable__label {\n",
       "  background-color: var(--sklearn-color-fitted-level-2);\n",
       "}\n",
       "\n",
       "/* Estimator-specific style */\n",
       "\n",
       "/* Colorize estimator box */\n",
       "#sk-container-id-1 div.sk-estimator input.sk-toggleable__control:checked~label.sk-toggleable__label {\n",
       "  /* unfitted */\n",
       "  background-color: var(--sklearn-color-unfitted-level-2);\n",
       "}\n",
       "\n",
       "#sk-container-id-1 div.sk-estimator.fitted input.sk-toggleable__control:checked~label.sk-toggleable__label {\n",
       "  /* fitted */\n",
       "  background-color: var(--sklearn-color-fitted-level-2);\n",
       "}\n",
       "\n",
       "#sk-container-id-1 div.sk-label label.sk-toggleable__label,\n",
       "#sk-container-id-1 div.sk-label label {\n",
       "  /* The background is the default theme color */\n",
       "  color: var(--sklearn-color-text-on-default-background);\n",
       "}\n",
       "\n",
       "/* On hover, darken the color of the background */\n",
       "#sk-container-id-1 div.sk-label:hover label.sk-toggleable__label {\n",
       "  color: var(--sklearn-color-text);\n",
       "  background-color: var(--sklearn-color-unfitted-level-2);\n",
       "}\n",
       "\n",
       "/* Label box, darken color on hover, fitted */\n",
       "#sk-container-id-1 div.sk-label.fitted:hover label.sk-toggleable__label.fitted {\n",
       "  color: var(--sklearn-color-text);\n",
       "  background-color: var(--sklearn-color-fitted-level-2);\n",
       "}\n",
       "\n",
       "/* Estimator label */\n",
       "\n",
       "#sk-container-id-1 div.sk-label label {\n",
       "  font-family: monospace;\n",
       "  font-weight: bold;\n",
       "  display: inline-block;\n",
       "  line-height: 1.2em;\n",
       "}\n",
       "\n",
       "#sk-container-id-1 div.sk-label-container {\n",
       "  text-align: center;\n",
       "}\n",
       "\n",
       "/* Estimator-specific */\n",
       "#sk-container-id-1 div.sk-estimator {\n",
       "  font-family: monospace;\n",
       "  border: 1px dotted var(--sklearn-color-border-box);\n",
       "  border-radius: 0.25em;\n",
       "  box-sizing: border-box;\n",
       "  margin-bottom: 0.5em;\n",
       "  /* unfitted */\n",
       "  background-color: var(--sklearn-color-unfitted-level-0);\n",
       "}\n",
       "\n",
       "#sk-container-id-1 div.sk-estimator.fitted {\n",
       "  /* fitted */\n",
       "  background-color: var(--sklearn-color-fitted-level-0);\n",
       "}\n",
       "\n",
       "/* on hover */\n",
       "#sk-container-id-1 div.sk-estimator:hover {\n",
       "  /* unfitted */\n",
       "  background-color: var(--sklearn-color-unfitted-level-2);\n",
       "}\n",
       "\n",
       "#sk-container-id-1 div.sk-estimator.fitted:hover {\n",
       "  /* fitted */\n",
       "  background-color: var(--sklearn-color-fitted-level-2);\n",
       "}\n",
       "\n",
       "/* Specification for estimator info (e.g. \"i\" and \"?\") */\n",
       "\n",
       "/* Common style for \"i\" and \"?\" */\n",
       "\n",
       ".sk-estimator-doc-link,\n",
       "a:link.sk-estimator-doc-link,\n",
       "a:visited.sk-estimator-doc-link {\n",
       "  float: right;\n",
       "  font-size: smaller;\n",
       "  line-height: 1em;\n",
       "  font-family: monospace;\n",
       "  background-color: var(--sklearn-color-background);\n",
       "  border-radius: 1em;\n",
       "  height: 1em;\n",
       "  width: 1em;\n",
       "  text-decoration: none !important;\n",
       "  margin-left: 0.5em;\n",
       "  text-align: center;\n",
       "  /* unfitted */\n",
       "  border: var(--sklearn-color-unfitted-level-1) 1pt solid;\n",
       "  color: var(--sklearn-color-unfitted-level-1);\n",
       "}\n",
       "\n",
       ".sk-estimator-doc-link.fitted,\n",
       "a:link.sk-estimator-doc-link.fitted,\n",
       "a:visited.sk-estimator-doc-link.fitted {\n",
       "  /* fitted */\n",
       "  border: var(--sklearn-color-fitted-level-1) 1pt solid;\n",
       "  color: var(--sklearn-color-fitted-level-1);\n",
       "}\n",
       "\n",
       "/* On hover */\n",
       "div.sk-estimator:hover .sk-estimator-doc-link:hover,\n",
       ".sk-estimator-doc-link:hover,\n",
       "div.sk-label-container:hover .sk-estimator-doc-link:hover,\n",
       ".sk-estimator-doc-link:hover {\n",
       "  /* unfitted */\n",
       "  background-color: var(--sklearn-color-unfitted-level-3);\n",
       "  color: var(--sklearn-color-background);\n",
       "  text-decoration: none;\n",
       "}\n",
       "\n",
       "div.sk-estimator.fitted:hover .sk-estimator-doc-link.fitted:hover,\n",
       ".sk-estimator-doc-link.fitted:hover,\n",
       "div.sk-label-container:hover .sk-estimator-doc-link.fitted:hover,\n",
       ".sk-estimator-doc-link.fitted:hover {\n",
       "  /* fitted */\n",
       "  background-color: var(--sklearn-color-fitted-level-3);\n",
       "  color: var(--sklearn-color-background);\n",
       "  text-decoration: none;\n",
       "}\n",
       "\n",
       "/* Span, style for the box shown on hovering the info icon */\n",
       ".sk-estimator-doc-link span {\n",
       "  display: none;\n",
       "  z-index: 9999;\n",
       "  position: relative;\n",
       "  font-weight: normal;\n",
       "  right: .2ex;\n",
       "  padding: .5ex;\n",
       "  margin: .5ex;\n",
       "  width: min-content;\n",
       "  min-width: 20ex;\n",
       "  max-width: 50ex;\n",
       "  color: var(--sklearn-color-text);\n",
       "  box-shadow: 2pt 2pt 4pt #999;\n",
       "  /* unfitted */\n",
       "  background: var(--sklearn-color-unfitted-level-0);\n",
       "  border: .5pt solid var(--sklearn-color-unfitted-level-3);\n",
       "}\n",
       "\n",
       ".sk-estimator-doc-link.fitted span {\n",
       "  /* fitted */\n",
       "  background: var(--sklearn-color-fitted-level-0);\n",
       "  border: var(--sklearn-color-fitted-level-3);\n",
       "}\n",
       "\n",
       ".sk-estimator-doc-link:hover span {\n",
       "  display: block;\n",
       "}\n",
       "\n",
       "/* \"?\"-specific style due to the `<a>` HTML tag */\n",
       "\n",
       "#sk-container-id-1 a.estimator_doc_link {\n",
       "  float: right;\n",
       "  font-size: 1rem;\n",
       "  line-height: 1em;\n",
       "  font-family: monospace;\n",
       "  background-color: var(--sklearn-color-background);\n",
       "  border-radius: 1rem;\n",
       "  height: 1rem;\n",
       "  width: 1rem;\n",
       "  text-decoration: none;\n",
       "  /* unfitted */\n",
       "  color: var(--sklearn-color-unfitted-level-1);\n",
       "  border: var(--sklearn-color-unfitted-level-1) 1pt solid;\n",
       "}\n",
       "\n",
       "#sk-container-id-1 a.estimator_doc_link.fitted {\n",
       "  /* fitted */\n",
       "  border: var(--sklearn-color-fitted-level-1) 1pt solid;\n",
       "  color: var(--sklearn-color-fitted-level-1);\n",
       "}\n",
       "\n",
       "/* On hover */\n",
       "#sk-container-id-1 a.estimator_doc_link:hover {\n",
       "  /* unfitted */\n",
       "  background-color: var(--sklearn-color-unfitted-level-3);\n",
       "  color: var(--sklearn-color-background);\n",
       "  text-decoration: none;\n",
       "}\n",
       "\n",
       "#sk-container-id-1 a.estimator_doc_link.fitted:hover {\n",
       "  /* fitted */\n",
       "  background-color: var(--sklearn-color-fitted-level-3);\n",
       "}\n",
       "</style><div id=\"sk-container-id-1\" class=\"sk-top-container\"><div class=\"sk-text-repr-fallback\"><pre>LinearRegression()</pre><b>In a Jupyter environment, please rerun this cell to show the HTML representation or trust the notebook. <br />On GitHub, the HTML representation is unable to render, please try loading this page with nbviewer.org.</b></div><div class=\"sk-container\" hidden><div class=\"sk-item\"><div class=\"sk-estimator fitted sk-toggleable\"><input class=\"sk-toggleable__control sk-hidden--visually\" id=\"sk-estimator-id-1\" type=\"checkbox\" checked><label for=\"sk-estimator-id-1\" class=\"sk-toggleable__label fitted sk-toggleable__label-arrow\"><div><div>LinearRegression</div></div><div><a class=\"sk-estimator-doc-link fitted\" rel=\"noreferrer\" target=\"_blank\" href=\"https://scikit-learn.org/1.6/modules/generated/sklearn.linear_model.LinearRegression.html\">?<span>Documentation for LinearRegression</span></a><span class=\"sk-estimator-doc-link fitted\">i<span>Fitted</span></span></div></label><div class=\"sk-toggleable__content fitted\"><pre>LinearRegression()</pre></div> </div></div></div></div>"
      ],
      "text/plain": [
       "LinearRegression()"
      ]
     },
     "execution_count": 10,
     "metadata": {},
     "output_type": "execute_result"
    }
   ],
   "source": [
    "# Create the model\n",
    "model = LinearRegression()\n",
    "\n",
    "# Train the model\n",
    "model.fit(X_train_feat_scaled, y_train)"
   ]
  },
  {
   "cell_type": "markdown",
   "id": "7b7b1fb7-3c45-4fce-a37f-c56ef93e91d1",
   "metadata": {},
   "source": [
    "### Use model on testing dataset"
   ]
  },
  {
   "cell_type": "code",
   "execution_count": 11,
   "id": "54cba027-22b8-446f-bcae-a6bcfe8b9b48",
   "metadata": {
    "execution": {
     "iopub.execute_input": "2025-02-24T21:22:44.046739Z",
     "iopub.status.busy": "2025-02-24T21:22:44.046410Z",
     "iopub.status.idle": "2025-02-24T21:22:44.062216Z",
     "shell.execute_reply": "2025-02-24T21:22:44.058795Z",
     "shell.execute_reply.started": "2025-02-24T21:22:44.046706Z"
    }
   },
   "outputs": [],
   "source": [
    "# Get prediction for testing dataset\n",
    "y_pred = model.predict(X_test_feat_scaled)"
   ]
  },
  {
   "cell_type": "code",
   "execution_count": null,
   "id": "b892b577-e99f-491e-98cb-ef5b0418b98e",
   "metadata": {},
   "outputs": [],
   "source": []
  },
  {
   "cell_type": "markdown",
   "id": "835820e3-530c-416d-a5a0-048e817cf092",
   "metadata": {},
   "source": [
    "### Plot the residuals"
   ]
  },
  {
   "cell_type": "code",
   "execution_count": 12,
   "id": "99dfd033-990f-45fb-9c7c-e9ad1d225e4e",
   "metadata": {
    "execution": {
     "iopub.execute_input": "2025-02-24T21:22:44.063511Z",
     "iopub.status.busy": "2025-02-24T21:22:44.063147Z",
     "iopub.status.idle": "2025-02-24T21:22:44.746113Z",
     "shell.execute_reply": "2025-02-24T21:22:44.744456Z",
     "shell.execute_reply.started": "2025-02-24T21:22:44.063475Z"
    }
   },
   "outputs": [
    {
     "data": {
      "text/plain": [
       "Text(0.5, 1.0, 'QQ plot')"
      ]
     },
     "execution_count": 12,
     "metadata": {},
     "output_type": "execute_result"
    },
    {
     "data": {
      "image/png": "[encoded data removed]",
      "text/plain": [
       "<Figure size 1600x800 with 2 Axes>"
      ]
     },
     "metadata": {},
     "output_type": "display_data"
    }
   ],
   "source": [
    "# Residual plot\n",
    "\n",
    "# Create subplots and adjust their size\n",
    "fig, (ax1, ax2) = plt.subplots(1,2,figsize = (8*2, 8))\n",
    "\n",
    "# Add scatter plot\n",
    "sns.scatterplot(x=y_test, y=y_pred, zorder=3, ax = ax1)\n",
    "\n",
    "# Add legend to ax1\n",
    "ax1.set_title('Residual plot')\n",
    "\n",
    "# Add grid y-axis line at 0\n",
    "ax1.axhline(0, linestyle='--', color='gray', zorder=0, linewidth=0.5)\n",
    "\n",
    "# Add QQ plot\n",
    "stats.probplot(y_test-y_pred, dist=\"norm\", plot=ax2);\n",
    "\n",
    "# Add grid y-axis line at 0\n",
    "ax2.axhline(0, linestyle='--', color='gray', zorder=0, linewidth=0.5)\n",
    "\n",
    "# Add legend to ax2\n",
    "ax2.set_title('QQ plot')"
   ]
  },
  {
   "cell_type": "markdown",
   "id": "40827d4c-dbb8-4831-a7dc-0b076639619b",
   "metadata": {
    "execution": {
     "iopub.execute_input": "2025-02-22T22:51:03.185816Z",
     "iopub.status.busy": "2025-02-22T22:51:03.184942Z",
     "iopub.status.idle": "2025-02-22T22:51:03.192520Z",
     "shell.execute_reply": "2025-02-22T22:51:03.191000Z",
     "shell.execute_reply.started": "2025-02-22T22:51:03.185758Z"
    }
   },
   "source": [
    "### Compute error scores"
   ]
  },
  {
   "cell_type": "code",
   "execution_count": 13,
   "id": "816b5ca3-c08e-4cfb-ba6f-6597acd39a76",
   "metadata": {
    "execution": {
     "iopub.execute_input": "2025-02-24T21:22:44.747825Z",
     "iopub.status.busy": "2025-02-24T21:22:44.747463Z",
     "iopub.status.idle": "2025-02-24T21:22:44.757416Z",
     "shell.execute_reply": "2025-02-24T21:22:44.756351Z",
     "shell.execute_reply.started": "2025-02-24T21:22:44.747796Z"
    }
   },
   "outputs": [
    {
     "name": "stdout",
     "output_type": "stream",
     "text": [
      "The Mean Absolute Error = 266\n",
      "The Mean Square Error = 138808\n",
      "The Root Mean Square Error = 372.57\n",
      "The R2 scores = 0.74\n"
     ]
    }
   ],
   "source": [
    "mae = mean_absolute_error(y_test, y_pred)\n",
    "\n",
    "mse = mean_squared_error(y_test, y_pred)\n",
    "\n",
    "rmse = np.sqrt(mse)\n",
    "\n",
    "r2 = r2_score(y_test, y_pred)\n",
    "\n",
    "print(f'The Mean Absolute Error = {mae:.0f}\\n\\\n",
    "The Mean Square Error = {mse:.0f}\\n\\\n",
    "The Root Mean Square Error = {rmse:.2f}\\n\\\n",
    "The R2 scores = {r2:.2f}')"
   ]
  },
  {
   "cell_type": "code",
   "execution_count": 14,
   "id": "14470c77-67fe-456d-991b-86516a8d786a",
   "metadata": {
    "execution": {
     "iopub.execute_input": "2025-02-24T21:22:44.759933Z",
     "iopub.status.busy": "2025-02-24T21:22:44.759386Z",
     "iopub.status.idle": "2025-02-24T21:22:44.780216Z",
     "shell.execute_reply": "2025-02-24T21:22:44.779223Z",
     "shell.execute_reply.started": "2025-02-24T21:22:44.759883Z"
    }
   },
   "outputs": [
    {
     "data": {
      "text/plain": [
       "138807.85391827358"
      ]
     },
     "execution_count": 14,
     "metadata": {},
     "output_type": "execute_result"
    }
   ],
   "source": [
    "sum((y_test-y_pred)**2)/len(y_test)"
   ]
  },
  {
   "cell_type": "code",
   "execution_count": 15,
   "id": "9d646877-579d-4f63-9367-d74a9304576b",
   "metadata": {
    "execution": {
     "iopub.execute_input": "2025-02-24T21:22:44.783152Z",
     "iopub.status.busy": "2025-02-24T21:22:44.781803Z",
     "iopub.status.idle": "2025-02-24T21:22:44.807576Z",
     "shell.execute_reply": "2025-02-24T21:22:44.805888Z",
     "shell.execute_reply.started": "2025-02-24T21:22:44.783096Z"
    }
   },
   "outputs": [
    {
     "data": {
      "text/plain": [
       "138807.85391827358"
      ]
     },
     "execution_count": 15,
     "metadata": {},
     "output_type": "execute_result"
    }
   ],
   "source": [
    "mean_squared_error(y_test, y_pred)"
   ]
  },
  {
   "cell_type": "markdown",
   "id": "86c512df-653b-4324-8b31-a8f324adf207",
   "metadata": {},
   "source": [
    "\n",
    "| Regression Method   | Predictors  | Mean Absolute Error | Mean Square Error    | Root Mean Square Error | R2 scores   |\n",
    "| ------------------- | ----------- | ------------------- | -------------------- | ---------------------- | ----------- |\n",
    "| Linear              | SelectKBest (15) | 407                | 309293             | 556                   | 0.41           |\n",
    "|                     | Highest corr (15)| 322                | 200112             | 447                   | 0.62           |\n",
    "|                     | SelectKBest (20) | 345                | 226796             | 476                   | 0.57           |\n",
    "|                     | Highest corr (20)| 316                | 194185             | 441                   | 0.63           |\n",
    "|                     | SelectKBest (30) | 307                | 182991             | 428                   | 0.65           |\n",
    "|                     | Highest corr (30)| 308                | 185664             | 431                   | 0.65           |\n",
    "| Polynomial          | SelectKBest (15) | 319                | 197348             | 444                   | 0.63           |\n",
    "|                     | Highest corr (15)| 278                | 150742             | 388                   | 0.71           |\n",
    "|                     | SelectKBest (20) | 302                | 176505             | 420                   | 0.67           |\n",
    "|                     | Highest corr (20)| 274                | 147937             | 385                   | 0.72           |\n",
    "|                     | SelectKBest (30) | 263                | 134968             | 367                   | 0.74           |\n",
    "|                     | Highest corr (30)| 266                | 138808             | 373                   | 0.74           |\n",
    "\n",
    "The errors (Mean Absolute, Mean Square and Root Mean Square) are all lower for the polynomial regression model than the linear regression model. A lower error is an indication that the prediction values are closer to the true value. \n",
    "\n",
    "** Conclusion ** </br>\n",
    "The model built from a polynomial regression with an order of 2 performs better than the linear regression model, since its predicted values are closer to the true values.\n"
   ]
  }
 ],
 "metadata": {
  "kernelspec": {
   "display_name": "graph",
   "language": "python",
   "name": "graph"
  },
  "language_info": {
   "codemirror_mode": {
    "name": "ipython",
    "version": 3
   },
   "file_extension": ".py",
   "mimetype": "text/x-python",
   "name": "python",
   "nbconvert_exporter": "python",
   "pygments_lexer": "ipython3",
   "version": "3.12.7"
  }
 },
 "nbformat": 4,
 "nbformat_minor": 5
}

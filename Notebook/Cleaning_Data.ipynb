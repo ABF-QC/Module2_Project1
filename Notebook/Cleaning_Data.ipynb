{
 "cells": [
  {
   "cell_type": "markdown",
   "id": "7ecfab99-6a3b-47f5-8155-4a5dea52c6ba",
   "metadata": {},
   "source": [
    "### Importing necessary library"
   ]
  },
  {
   "cell_type": "code",
   "execution_count": 1,
   "id": "a990b971-9054-42c1-a889-8f4959b4fb0b",
   "metadata": {
    "execution": {
     "iopub.execute_input": "2025-02-22T14:57:06.191821Z",
     "iopub.status.busy": "2025-02-22T14:57:06.191427Z",
     "iopub.status.idle": "2025-02-22T14:57:06.652400Z",
     "shell.execute_reply": "2025-02-22T14:57:06.650480Z",
     "shell.execute_reply.started": "2025-02-22T14:57:06.191791Z"
    }
   },
   "outputs": [],
   "source": [
    "import pandas as pd\n",
    "import numpy as np\n",
    "\n",
    "import datetime"
   ]
  },
  {
   "cell_type": "markdown",
   "id": "47bdcb37-63a5-4450-9b9d-45079ea9607e",
   "metadata": {},
   "source": [
    "### Reading the data file"
   ]
  },
  {
   "cell_type": "code",
   "execution_count": 2,
   "id": "f55c120d-97ec-4ec9-80ff-69e08a7161cc",
   "metadata": {
    "execution": {
     "iopub.execute_input": "2025-02-22T14:57:06.654833Z",
     "iopub.status.busy": "2025-02-22T14:57:06.654056Z",
     "iopub.status.idle": "2025-02-22T14:57:06.838912Z",
     "shell.execute_reply": "2025-02-22T14:57:06.837536Z",
     "shell.execute_reply.started": "2025-02-22T14:57:06.654788Z"
    }
   },
   "outputs": [
    {
     "data": {
      "text/html": [
       "<div>\n",
       "<style scoped>\n",
       "    .dataframe tbody tr th:only-of-type {\n",
       "        vertical-align: middle;\n",
       "    }\n",
       "\n",
       "    .dataframe tbody tr th {\n",
       "        vertical-align: top;\n",
       "    }\n",
       "\n",
       "    .dataframe thead th {\n",
       "        text-align: right;\n",
       "    }\n",
       "</style>\n",
       "<table border=\"1\" class=\"dataframe\">\n",
       "  <thead>\n",
       "    <tr style=\"text-align: right;\">\n",
       "      <th></th>\n",
       "      <th>rentfaster_id</th>\n",
       "      <th>city</th>\n",
       "      <th>province</th>\n",
       "      <th>address</th>\n",
       "      <th>latitude</th>\n",
       "      <th>longitude</th>\n",
       "      <th>lease_term</th>\n",
       "      <th>type</th>\n",
       "      <th>price</th>\n",
       "      <th>beds</th>\n",
       "      <th>baths</th>\n",
       "      <th>sq_feet</th>\n",
       "      <th>link</th>\n",
       "      <th>furnishing</th>\n",
       "      <th>availability_date</th>\n",
       "      <th>smoking</th>\n",
       "      <th>cats</th>\n",
       "      <th>dogs</th>\n",
       "    </tr>\n",
       "  </thead>\n",
       "  <tbody>\n",
       "    <tr>\n",
       "      <th>0</th>\n",
       "      <td>468622</td>\n",
       "      <td>Airdrie</td>\n",
       "      <td>Alberta</td>\n",
       "      <td>69 Gateway Dr NE</td>\n",
       "      <td>51.305962</td>\n",
       "      <td>-114.012515</td>\n",
       "      <td>Long Term</td>\n",
       "      <td>Townhouse</td>\n",
       "      <td>2495.0</td>\n",
       "      <td>2 Beds</td>\n",
       "      <td>2.5</td>\n",
       "      <td>1403</td>\n",
       "      <td>/ab/airdrie/rentals/townhouse/2-bedrooms/pet-f...</td>\n",
       "      <td>Unfurnished</td>\n",
       "      <td>Immediate</td>\n",
       "      <td>Non-Smoking</td>\n",
       "      <td>True</td>\n",
       "      <td>True</td>\n",
       "    </tr>\n",
       "    <tr>\n",
       "      <th>1</th>\n",
       "      <td>468622</td>\n",
       "      <td>Airdrie</td>\n",
       "      <td>Alberta</td>\n",
       "      <td>69 Gateway Dr NE</td>\n",
       "      <td>51.305962</td>\n",
       "      <td>-114.012515</td>\n",
       "      <td>Long Term</td>\n",
       "      <td>Townhouse</td>\n",
       "      <td>2695.0</td>\n",
       "      <td>3 Beds</td>\n",
       "      <td>2.5</td>\n",
       "      <td>1496</td>\n",
       "      <td>/ab/airdrie/rentals/townhouse/2-bedrooms/pet-f...</td>\n",
       "      <td>Unfurnished</td>\n",
       "      <td>Immediate</td>\n",
       "      <td>Non-Smoking</td>\n",
       "      <td>True</td>\n",
       "      <td>True</td>\n",
       "    </tr>\n",
       "    <tr>\n",
       "      <th>2</th>\n",
       "      <td>468622</td>\n",
       "      <td>Airdrie</td>\n",
       "      <td>Alberta</td>\n",
       "      <td>69 Gateway Dr NE</td>\n",
       "      <td>51.305962</td>\n",
       "      <td>-114.012515</td>\n",
       "      <td>Long Term</td>\n",
       "      <td>Townhouse</td>\n",
       "      <td>2295.0</td>\n",
       "      <td>2 Beds</td>\n",
       "      <td>2.5</td>\n",
       "      <td>1180</td>\n",
       "      <td>/ab/airdrie/rentals/townhouse/2-bedrooms/pet-f...</td>\n",
       "      <td>Unfurnished</td>\n",
       "      <td>Immediate</td>\n",
       "      <td>Non-Smoking</td>\n",
       "      <td>True</td>\n",
       "      <td>True</td>\n",
       "    </tr>\n",
       "    <tr>\n",
       "      <th>3</th>\n",
       "      <td>468622</td>\n",
       "      <td>Airdrie</td>\n",
       "      <td>Alberta</td>\n",
       "      <td>69 Gateway Dr NE</td>\n",
       "      <td>51.305962</td>\n",
       "      <td>-114.012515</td>\n",
       "      <td>Long Term</td>\n",
       "      <td>Townhouse</td>\n",
       "      <td>2095.0</td>\n",
       "      <td>2 Beds</td>\n",
       "      <td>2.5</td>\n",
       "      <td>1403</td>\n",
       "      <td>/ab/airdrie/rentals/townhouse/2-bedrooms/pet-f...</td>\n",
       "      <td>Unfurnished</td>\n",
       "      <td>November 18</td>\n",
       "      <td>Non-Smoking</td>\n",
       "      <td>True</td>\n",
       "      <td>True</td>\n",
       "    </tr>\n",
       "    <tr>\n",
       "      <th>4</th>\n",
       "      <td>468622</td>\n",
       "      <td>Airdrie</td>\n",
       "      <td>Alberta</td>\n",
       "      <td>69 Gateway Dr NE</td>\n",
       "      <td>51.305962</td>\n",
       "      <td>-114.012515</td>\n",
       "      <td>Long Term</td>\n",
       "      <td>Townhouse</td>\n",
       "      <td>2495.0</td>\n",
       "      <td>2 Beds</td>\n",
       "      <td>2.5</td>\n",
       "      <td>1403</td>\n",
       "      <td>/ab/airdrie/rentals/townhouse/2-bedrooms/pet-f...</td>\n",
       "      <td>Unfurnished</td>\n",
       "      <td>Immediate</td>\n",
       "      <td>Non-Smoking</td>\n",
       "      <td>True</td>\n",
       "      <td>True</td>\n",
       "    </tr>\n",
       "    <tr>\n",
       "      <th>...</th>\n",
       "      <td>...</td>\n",
       "      <td>...</td>\n",
       "      <td>...</td>\n",
       "      <td>...</td>\n",
       "      <td>...</td>\n",
       "      <td>...</td>\n",
       "      <td>...</td>\n",
       "      <td>...</td>\n",
       "      <td>...</td>\n",
       "      <td>...</td>\n",
       "      <td>...</td>\n",
       "      <td>...</td>\n",
       "      <td>...</td>\n",
       "      <td>...</td>\n",
       "      <td>...</td>\n",
       "      <td>...</td>\n",
       "      <td>...</td>\n",
       "      <td>...</td>\n",
       "    </tr>\n",
       "    <tr>\n",
       "      <th>25766</th>\n",
       "      <td>334285</td>\n",
       "      <td>Yorkton</td>\n",
       "      <td>Saskatchewan</td>\n",
       "      <td>18 Allanbrooke Dr</td>\n",
       "      <td>51.203024</td>\n",
       "      <td>-102.484782</td>\n",
       "      <td>Long Term</td>\n",
       "      <td>Apartment</td>\n",
       "      <td>920.0</td>\n",
       "      <td>Studio</td>\n",
       "      <td>1</td>\n",
       "      <td>400</td>\n",
       "      <td>/sk/yorkton/rentals/apartment/3-bedrooms/pet-f...</td>\n",
       "      <td>Unfurnished</td>\n",
       "      <td>Immediate</td>\n",
       "      <td>Non-Smoking</td>\n",
       "      <td>True</td>\n",
       "      <td>True</td>\n",
       "    </tr>\n",
       "    <tr>\n",
       "      <th>25767</th>\n",
       "      <td>334285</td>\n",
       "      <td>Yorkton</td>\n",
       "      <td>Saskatchewan</td>\n",
       "      <td>18 Allanbrooke Dr</td>\n",
       "      <td>51.203024</td>\n",
       "      <td>-102.484782</td>\n",
       "      <td>Long Term</td>\n",
       "      <td>Apartment</td>\n",
       "      <td>1450.0</td>\n",
       "      <td>3 Beds</td>\n",
       "      <td>1</td>\n",
       "      <td>810</td>\n",
       "      <td>/sk/yorkton/rentals/apartment/3-bedrooms/pet-f...</td>\n",
       "      <td>Unfurnished</td>\n",
       "      <td>Immediate</td>\n",
       "      <td>Non-Smoking</td>\n",
       "      <td>True</td>\n",
       "      <td>True</td>\n",
       "    </tr>\n",
       "    <tr>\n",
       "      <th>25768</th>\n",
       "      <td>334284</td>\n",
       "      <td>Yorkton</td>\n",
       "      <td>Saskatchewan</td>\n",
       "      <td>363 Northview Rd</td>\n",
       "      <td>51.202667</td>\n",
       "      <td>-102.485765</td>\n",
       "      <td>Long Term</td>\n",
       "      <td>Apartment</td>\n",
       "      <td>1125.0</td>\n",
       "      <td>1 Bed</td>\n",
       "      <td>1</td>\n",
       "      <td>520</td>\n",
       "      <td>/sk/yorkton/rentals/apartment/1-bedroom/pet-fr...</td>\n",
       "      <td>Unfurnished</td>\n",
       "      <td>Immediate</td>\n",
       "      <td>Non-Smoking</td>\n",
       "      <td>True</td>\n",
       "      <td>True</td>\n",
       "    </tr>\n",
       "    <tr>\n",
       "      <th>25769</th>\n",
       "      <td>334284</td>\n",
       "      <td>Yorkton</td>\n",
       "      <td>Saskatchewan</td>\n",
       "      <td>363 Northview Rd</td>\n",
       "      <td>51.202667</td>\n",
       "      <td>-102.485765</td>\n",
       "      <td>Long Term</td>\n",
       "      <td>Apartment</td>\n",
       "      <td>920.0</td>\n",
       "      <td>Studio</td>\n",
       "      <td>1</td>\n",
       "      <td>400</td>\n",
       "      <td>/sk/yorkton/rentals/apartment/1-bedroom/pet-fr...</td>\n",
       "      <td>Unfurnished</td>\n",
       "      <td>Immediate</td>\n",
       "      <td>Non-Smoking</td>\n",
       "      <td>True</td>\n",
       "      <td>True</td>\n",
       "    </tr>\n",
       "    <tr>\n",
       "      <th>25770</th>\n",
       "      <td>334284</td>\n",
       "      <td>Yorkton</td>\n",
       "      <td>Saskatchewan</td>\n",
       "      <td>363 Northview Rd</td>\n",
       "      <td>51.202667</td>\n",
       "      <td>-102.485765</td>\n",
       "      <td>Long Term</td>\n",
       "      <td>Apartment</td>\n",
       "      <td>1285.0</td>\n",
       "      <td>2 Beds</td>\n",
       "      <td>1</td>\n",
       "      <td>700</td>\n",
       "      <td>/sk/yorkton/rentals/apartment/1-bedroom/pet-fr...</td>\n",
       "      <td>Unfurnished</td>\n",
       "      <td>Immediate</td>\n",
       "      <td>Non-Smoking</td>\n",
       "      <td>True</td>\n",
       "      <td>True</td>\n",
       "    </tr>\n",
       "  </tbody>\n",
       "</table>\n",
       "<p>25771 rows × 18 columns</p>\n",
       "</div>"
      ],
      "text/plain": [
       "       rentfaster_id     city      province            address   latitude  \\\n",
       "0             468622  Airdrie       Alberta   69 Gateway Dr NE  51.305962   \n",
       "1             468622  Airdrie       Alberta   69 Gateway Dr NE  51.305962   \n",
       "2             468622  Airdrie       Alberta   69 Gateway Dr NE  51.305962   \n",
       "3             468622  Airdrie       Alberta   69 Gateway Dr NE  51.305962   \n",
       "4             468622  Airdrie       Alberta   69 Gateway Dr NE  51.305962   \n",
       "...              ...      ...           ...                ...        ...   \n",
       "25766         334285  Yorkton  Saskatchewan  18 Allanbrooke Dr  51.203024   \n",
       "25767         334285  Yorkton  Saskatchewan  18 Allanbrooke Dr  51.203024   \n",
       "25768         334284  Yorkton  Saskatchewan   363 Northview Rd  51.202667   \n",
       "25769         334284  Yorkton  Saskatchewan   363 Northview Rd  51.202667   \n",
       "25770         334284  Yorkton  Saskatchewan   363 Northview Rd  51.202667   \n",
       "\n",
       "        longitude lease_term       type   price    beds baths sq_feet  \\\n",
       "0     -114.012515  Long Term  Townhouse  2495.0  2 Beds   2.5    1403   \n",
       "1     -114.012515  Long Term  Townhouse  2695.0  3 Beds   2.5    1496   \n",
       "2     -114.012515  Long Term  Townhouse  2295.0  2 Beds   2.5    1180   \n",
       "3     -114.012515  Long Term  Townhouse  2095.0  2 Beds   2.5    1403   \n",
       "4     -114.012515  Long Term  Townhouse  2495.0  2 Beds   2.5    1403   \n",
       "...           ...        ...        ...     ...     ...   ...     ...   \n",
       "25766 -102.484782  Long Term  Apartment   920.0  Studio     1     400   \n",
       "25767 -102.484782  Long Term  Apartment  1450.0  3 Beds     1     810   \n",
       "25768 -102.485765  Long Term  Apartment  1125.0   1 Bed     1     520   \n",
       "25769 -102.485765  Long Term  Apartment   920.0  Studio     1     400   \n",
       "25770 -102.485765  Long Term  Apartment  1285.0  2 Beds     1     700   \n",
       "\n",
       "                                                    link   furnishing  \\\n",
       "0      /ab/airdrie/rentals/townhouse/2-bedrooms/pet-f...  Unfurnished   \n",
       "1      /ab/airdrie/rentals/townhouse/2-bedrooms/pet-f...  Unfurnished   \n",
       "2      /ab/airdrie/rentals/townhouse/2-bedrooms/pet-f...  Unfurnished   \n",
       "3      /ab/airdrie/rentals/townhouse/2-bedrooms/pet-f...  Unfurnished   \n",
       "4      /ab/airdrie/rentals/townhouse/2-bedrooms/pet-f...  Unfurnished   \n",
       "...                                                  ...          ...   \n",
       "25766  /sk/yorkton/rentals/apartment/3-bedrooms/pet-f...  Unfurnished   \n",
       "25767  /sk/yorkton/rentals/apartment/3-bedrooms/pet-f...  Unfurnished   \n",
       "25768  /sk/yorkton/rentals/apartment/1-bedroom/pet-fr...  Unfurnished   \n",
       "25769  /sk/yorkton/rentals/apartment/1-bedroom/pet-fr...  Unfurnished   \n",
       "25770  /sk/yorkton/rentals/apartment/1-bedroom/pet-fr...  Unfurnished   \n",
       "\n",
       "      availability_date      smoking  cats  dogs  \n",
       "0             Immediate  Non-Smoking  True  True  \n",
       "1             Immediate  Non-Smoking  True  True  \n",
       "2             Immediate  Non-Smoking  True  True  \n",
       "3           November 18  Non-Smoking  True  True  \n",
       "4             Immediate  Non-Smoking  True  True  \n",
       "...                 ...          ...   ...   ...  \n",
       "25766         Immediate  Non-Smoking  True  True  \n",
       "25767         Immediate  Non-Smoking  True  True  \n",
       "25768         Immediate  Non-Smoking  True  True  \n",
       "25769         Immediate  Non-Smoking  True  True  \n",
       "25770         Immediate  Non-Smoking  True  True  \n",
       "\n",
       "[25771 rows x 18 columns]"
      ]
     },
     "execution_count": 2,
     "metadata": {},
     "output_type": "execute_result"
    }
   ],
   "source": [
    "rent_df = pd.read_csv('../Data/canada_rent.csv')\n",
    "rent_df"
   ]
  },
  {
   "cell_type": "markdown",
   "id": "401e7987-3739-442a-925e-05b973dab693",
   "metadata": {},
   "source": [
    "### Investigate the possibility of each categorical columns"
   ]
  },
  {
   "cell_type": "code",
   "execution_count": 3,
   "id": "ccc69e5e-c490-44dd-8d08-acf77ae3e240",
   "metadata": {
    "execution": {
     "iopub.execute_input": "2025-02-22T14:57:06.840580Z",
     "iopub.status.busy": "2025-02-22T14:57:06.840067Z",
     "iopub.status.idle": "2025-02-22T14:57:06.862988Z",
     "shell.execute_reply": "2025-02-22T14:57:06.861402Z",
     "shell.execute_reply.started": "2025-02-22T14:57:06.840544Z"
    }
   },
   "outputs": [
    {
     "name": "stdout",
     "output_type": "stream",
     "text": [
      "The options for lease_term are :  ['Long Term' 'Negotiable' 'Short Term' '12 months' 'months' '6 months' nan] \n",
      "\n",
      "The options for type are :  ['Townhouse' 'Apartment' 'Main Floor' 'House' 'Basement' 'Duplex'\n",
      " 'Storage' 'Condo Unit' 'Room For Rent' 'Loft' 'Acreage' 'Office Space'\n",
      " 'Parking Spot' 'Vacation Home' 'Mobile'] \n",
      "\n",
      "The options for furnishing are :  ['Unfurnished' 'Furnished' 'Negotiable' 'Unfurnished, Negotiable'] \n",
      "\n",
      "The options for smoking are :  ['Non-Smoking' 'Smoke Free Building' nan 'Negotiable' 'Smoking Allowed'] \n",
      "\n",
      "The options for cats are :  [True False nan] \n",
      "\n",
      "The options for dogs are :  [True False nan] \n",
      "\n",
      "The options for beds are :  ['2 Beds' '3 Beds' 'Studio' '1 Bed' '5 Beds' '4 Beds' nan '6 Beds'\n",
      " 'none Beds' '8 Beds' '7 Beds' '9 Beds'] \n",
      "\n"
     ]
    }
   ],
   "source": [
    "\n",
    "print('The options for lease_term are : ', rent_df['lease_term'].unique(), '\\n')\n",
    "\n",
    "print('The options for type are : ', rent_df['type'].unique(), '\\n')\n",
    "\n",
    "print('The options for furnishing are : ', rent_df['furnishing'].unique(), '\\n')\n",
    "\n",
    "print('The options for smoking are : ', rent_df['smoking'].unique(), '\\n')\n",
    "\n",
    "print('The options for cats are : ', rent_df['cats'].unique(), '\\n')\n",
    "\n",
    "print('The options for dogs are : ', rent_df['dogs'].unique(), '\\n')\n",
    "\n",
    "print('The options for beds are : ', rent_df['beds'].unique(), '\\n')"
   ]
  },
  {
   "cell_type": "code",
   "execution_count": 4,
   "id": "6648ee2c-4a60-491d-a015-9d17e0753a10",
   "metadata": {
    "execution": {
     "iopub.execute_input": "2025-02-22T14:57:06.865450Z",
     "iopub.status.busy": "2025-02-22T14:57:06.864284Z",
     "iopub.status.idle": "2025-02-22T14:57:06.885760Z",
     "shell.execute_reply": "2025-02-22T14:57:06.884221Z",
     "shell.execute_reply.started": "2025-02-22T14:57:06.865408Z"
    }
   },
   "outputs": [
    {
     "name": "stderr",
     "output_type": "stream",
     "text": [
      "/tmp/ipykernel_61131/4036404593.py:1: FutureWarning: A value is trying to be set on a copy of a DataFrame or Series through chained assignment using an inplace method.\n",
      "The behavior will change in pandas 3.0. This inplace method will never work because the intermediate object on which we are setting values always behaves as a copy.\n",
      "\n",
      "For example, when doing 'df[col].method(value, inplace=True)', try using 'df.method({col: value}, inplace=True)' or df[col] = df[col].method(value) instead, to perform the operation inplace on the original object.\n",
      "\n",
      "\n",
      "  rent_df['furnishing'].replace({'Unfurnished, Negotiable': 'Negotiable'}, inplace=True)\n"
     ]
    }
   ],
   "source": [
    "rent_df['furnishing'].replace({'Unfurnished, Negotiable': 'Negotiable'}, inplace=True)"
   ]
  },
  {
   "cell_type": "markdown",
   "id": "366988dc-a40e-4c3e-a5c7-95ebdcede497",
   "metadata": {},
   "source": [
    "### Cleaning up the dataframe"
   ]
  },
  {
   "cell_type": "markdown",
   "id": "d9a0094a-1797-40ab-bbcb-a784490b5855",
   "metadata": {},
   "source": [
    "I will be removing columns that will bring no additional value to the regression analysis\n",
    "  * such as link and rentfaster_id columns.\n",
    "\n",
    "I will also be working with the latitude and longitude instead of address, since converting the addresses to 1/0 columns would be massive.\n",
    "  * I will be removing the address column.\n",
    "  * However, I will keep the city and Province for now.\n",
    "\n",
    "I will be removing the string 'Beds' from the beds column and will be replacing studio and none Beds by 0.\n",
    "\n",
    "I will be replacing the string immediate in the column availability_date by today's date, in order to change the column to a datetime stamp.\n",
    "\n",
    "I will be dropping all the rows where the column availability_date has the string 'No Vacancy'.\n",
    "\n",
    "I will be replacing the string 'Negotiable' and 'Call for Availability' in the column availability_date by today's date.\n",
    "\n",
    "I will be combining similar terms in the furnishing column.  'Unfurnished, Negotiable' will become 'Negotiable'.\n",
    "\n",
    "I will be replacingsimilar terms in the smoking column. 'Smoke Free Building' replaced by 'Non-Smoking'.\n",
    "\n",
    "I will be removing rental adds with the price of 0."
   ]
  },
  {
   "cell_type": "code",
   "execution_count": 5,
   "id": "57300749-d2a7-490d-bf8f-d51184ccc579",
   "metadata": {
    "execution": {
     "iopub.execute_input": "2025-02-22T14:57:06.887817Z",
     "iopub.status.busy": "2025-02-22T14:57:06.887328Z",
     "iopub.status.idle": "2025-02-22T14:57:06.910509Z",
     "shell.execute_reply": "2025-02-22T14:57:06.909171Z",
     "shell.execute_reply.started": "2025-02-22T14:57:06.887787Z"
    }
   },
   "outputs": [],
   "source": [
    "# Removing unecessary columns\n",
    "rent_df.drop(columns=['link', 'rentfaster_id','address'], inplace=True)"
   ]
  },
  {
   "cell_type": "markdown",
   "id": "30df09a1-4fb0-4b0e-9e9b-6941e31de9bb",
   "metadata": {
    "execution": {
     "iopub.execute_input": "2025-02-21T15:59:15.638841Z",
     "iopub.status.busy": "2025-02-21T15:59:15.636319Z",
     "iopub.status.idle": "2025-02-21T15:59:15.664900Z",
     "shell.execute_reply": "2025-02-21T15:59:15.658773Z",
     "shell.execute_reply.started": "2025-02-21T15:59:15.638711Z"
    }
   },
   "source": [
    "**Filtering the beds column**"
   ]
  },
  {
   "cell_type": "code",
   "execution_count": 6,
   "id": "bc12bac6-6551-4603-a6ae-99cac580c045",
   "metadata": {
    "execution": {
     "iopub.execute_input": "2025-02-22T14:57:06.915317Z",
     "iopub.status.busy": "2025-02-22T14:57:06.914807Z",
     "iopub.status.idle": "2025-02-22T14:57:06.972543Z",
     "shell.execute_reply": "2025-02-22T14:57:06.971251Z",
     "shell.execute_reply.started": "2025-02-22T14:57:06.915292Z"
    }
   },
   "outputs": [
    {
     "name": "stdout",
     "output_type": "stream",
     "text": [
      "Before => ['2 Beds' '3 Beds' 'Studio' '1 Bed' '5 Beds' '4 Beds' nan '6 Beds'\n",
      " 'none Beds' '8 Beds' '7 Beds' '9 Beds']\n",
      "After => ['2' '3' '0' '1' '5' '4' nan '6' '8' '7' '9']\n"
     ]
    },
    {
     "name": "stderr",
     "output_type": "stream",
     "text": [
      "/tmp/ipykernel_61131/4177830194.py:5: FutureWarning: A value is trying to be set on a copy of a DataFrame or Series through chained assignment using an inplace method.\n",
      "The behavior will change in pandas 3.0. This inplace method will never work because the intermediate object on which we are setting values always behaves as a copy.\n",
      "\n",
      "For example, when doing 'df[col].method(value, inplace=True)', try using 'df.method({col: value}, inplace=True)' or df[col] = df[col].method(value) instead, to perform the operation inplace on the original object.\n",
      "\n",
      "\n",
      "  rent_df['beds'].replace(r'\\s*Beds?\\s*','', regex=True, inplace=True)\n",
      "/tmp/ipykernel_61131/4177830194.py:8: FutureWarning: A value is trying to be set on a copy of a DataFrame or Series through chained assignment using an inplace method.\n",
      "The behavior will change in pandas 3.0. This inplace method will never work because the intermediate object on which we are setting values always behaves as a copy.\n",
      "\n",
      "For example, when doing 'df[col].method(value, inplace=True)', try using 'df.method({col: value}, inplace=True)' or df[col] = df[col].method(value) instead, to perform the operation inplace on the original object.\n",
      "\n",
      "\n",
      "  rent_df['beds'].replace(r'\\b(Studio|none)\\b','0', regex=True, inplace=True)\n"
     ]
    }
   ],
   "source": [
    "# Looking at the beds possibilities\n",
    "print('Before =>',rent_df['beds'].unique())\n",
    "\n",
    "# Removing Beds, Bed from column beds\n",
    "rent_df['beds'].replace(r'\\s*Beds?\\s*','', regex=True, inplace=True)\n",
    "\n",
    "# Replacing Studio and none by 0\n",
    "rent_df['beds'].replace(r'\\b(Studio|none)\\b','0', regex=True, inplace=True)\n",
    "\n",
    "# Verifying that the string replacement was done correctly\n",
    "print('After =>',rent_df['beds'].unique())"
   ]
  },
  {
   "cell_type": "markdown",
   "id": "47906cc2-4323-484b-8b9a-4274bec094d6",
   "metadata": {
    "execution": {
     "iopub.execute_input": "2025-02-21T15:39:23.783221Z",
     "iopub.status.busy": "2025-02-21T15:39:23.781714Z",
     "iopub.status.idle": "2025-02-21T15:39:23.805687Z",
     "shell.execute_reply": "2025-02-21T15:39:23.804506Z",
     "shell.execute_reply.started": "2025-02-21T15:39:23.783162Z"
    }
   },
   "source": [
    "**Filtering the availability_date column**"
   ]
  },
  {
   "cell_type": "code",
   "execution_count": 7,
   "id": "d1a8c9da-2d00-4e2e-be35-f5e49f350a8f",
   "metadata": {
    "execution": {
     "iopub.execute_input": "2025-02-22T14:57:06.974812Z",
     "iopub.status.busy": "2025-02-22T14:57:06.974277Z",
     "iopub.status.idle": "2025-02-22T14:57:06.994193Z",
     "shell.execute_reply": "2025-02-22T14:57:06.992954Z",
     "shell.execute_reply.started": "2025-02-22T14:57:06.974781Z"
    }
   },
   "outputs": [
    {
     "name": "stdout",
     "output_type": "stream",
     "text": [
      "Before => ['Immediate' 'November 18' 'July 01' 'August 01' 'June 15' 'July 31'\n",
      " 'June 30' 'July 15' 'July 07' 'July 18' 'August 07' 'August 15'\n",
      " 'September 01' 'Negotiable' 'No Vacancy' 'June 14' 'July 04' 'July 05'\n",
      " 'August 06' 'July 11' 'June 19' 'Call for Availability' 'September 07'\n",
      " 'July 12' 'June 17' 'October 03' 'June 25' 'June 18' 'August 23'\n",
      " 'July 23' 'July 02' 'October 01' 'July 08' 'June 16' 'June 20' 'June 21'\n",
      " 'June 22' 'June 23' 'June 24' 'June 26' 'June 28' 'June 29' 'July 22'\n",
      " 'November 01' 'July 03' 'July 09' 'July 06' 'July 10' 'July 16' 'July 17'\n",
      " 'July 20' 'July 27' 'July 30' 'August 02' 'August 04' 'August 05'\n",
      " 'August 09' 'August 10' 'August 11' 'August 16' 'August 20' 'August 22'\n",
      " 'August 25' 'August 26' 'August 29' 'August 30' 'August 31'\n",
      " 'September 02' 'September 03' 'September 05' 'September 08'\n",
      " 'September 15' 'September 30' 'October 04' 'October 07' 'October 11'\n",
      " 'October 16' 'October 19' 'October 31' 'November 15' 'December 01'\n",
      " 'December 30' nan 'September 10' 'June 27' 'October 15' 'July 13'\n",
      " 'July 14' 'August 14' 'July 21' 'July 28' 'August 21' 'March 15' 'May 01'\n",
      " 'August 13' 'July 29' 'July 26' 'August 03' 'September 09' 'August 12'\n",
      " 'July 25' 'August 17' 'September 04' 'September 29' 'November 24'\n",
      " 'May 08' 'July 24' 'September 06' 'August 08' 'October 02' 'September 14'\n",
      " 'January 01' 'November 05' 'September 19' 'October 10' 'November 07'\n",
      " 'December 04' 'December 10' 'May 10' 'May 24' 'January 31' 'March 31'\n",
      " 'January 05' 'May 05' 'October 30' 'March 05' 'February 28' 'November 29'\n",
      " 'August 28' 'September 12' 'December 31' 'May 31' 'October 05']\n",
      "city                 548\n",
      "province             548\n",
      "latitude             548\n",
      "longitude            548\n",
      "lease_term           548\n",
      "type                 548\n",
      "price                548\n",
      "beds                 544\n",
      "baths                544\n",
      "sq_feet              425\n",
      "furnishing           548\n",
      "availability_date    548\n",
      "smoking              548\n",
      "cats                 544\n",
      "dogs                 544\n",
      "dtype: int64\n",
      "city                 971\n",
      "province             971\n",
      "latitude             971\n",
      "longitude            971\n",
      "lease_term           937\n",
      "type                 971\n",
      "price                971\n",
      "beds                 971\n",
      "baths                971\n",
      "sq_feet              729\n",
      "furnishing           971\n",
      "availability_date    971\n",
      "smoking              971\n",
      "cats                 971\n",
      "dogs                 971\n",
      "dtype: int64\n"
     ]
    }
   ],
   "source": [
    "# Look the possible string the column availability_date\n",
    "print('Before =>', rent_df['availability_date'].unique())\n",
    "\n",
    "# Looking at frequency of occurency of 'Negotiable', 'Call for Availability' in the column availability_date\n",
    "print(rent_df[rent_df['availability_date'].isin(['Negotiable', 'Call for Availability'])].count())\n",
    "\n",
    "# Looking at frequency of occurency of 'No Vacancy' in the column availability_dateabs\n",
    "print(rent_df[rent_df['availability_date'].isin(['No Vacancy'])].count())\n"
   ]
  },
  {
   "cell_type": "code",
   "execution_count": 8,
   "id": "e5f185d2-9a8a-4866-b296-61e2285d4d69",
   "metadata": {
    "execution": {
     "iopub.execute_input": "2025-02-22T14:57:06.996000Z",
     "iopub.status.busy": "2025-02-22T14:57:06.995485Z",
     "iopub.status.idle": "2025-02-22T14:57:07.022004Z",
     "shell.execute_reply": "2025-02-22T14:57:07.020545Z",
     "shell.execute_reply.started": "2025-02-22T14:57:06.995956Z"
    }
   },
   "outputs": [],
   "source": [
    "# Removing adds (removing the entire row) where there is 'No Vacancy'\n",
    "rent_df = rent_df[~rent_df['availability_date'].isin(['No Vacancy'])]"
   ]
  },
  {
   "cell_type": "code",
   "execution_count": 9,
   "id": "207a9df3-ef2c-4efc-8cf1-da0c87ad5224",
   "metadata": {
    "execution": {
     "iopub.execute_input": "2025-02-22T14:57:07.023579Z",
     "iopub.status.busy": "2025-02-22T14:57:07.023141Z",
     "iopub.status.idle": "2025-02-22T14:57:07.067580Z",
     "shell.execute_reply": "2025-02-22T14:57:07.066414Z",
     "shell.execute_reply.started": "2025-02-22T14:57:07.023552Z"
    }
   },
   "outputs": [
    {
     "name": "stdout",
     "output_type": "stream",
     "text": [
      "After => ['February 22' 'November 18' 'July 01' 'August 01' 'June 15' 'July 31'\n",
      " 'June 30' 'July 15' 'July 07' 'July 18' 'August 07' 'August 15'\n",
      " 'September 01' 'June 14' 'July 04' 'July 05' 'August 06' 'July 11'\n",
      " 'June 19' 'September 07' 'July 12' 'June 17' 'October 03' 'June 25'\n",
      " 'June 18' 'August 23' 'July 23' 'July 02' 'October 01' 'July 08'\n",
      " 'June 16' 'June 20' 'June 21' 'June 22' 'June 23' 'June 24' 'June 26'\n",
      " 'June 28' 'June 29' 'July 22' 'November 01' 'July 03' 'July 09' 'July 06'\n",
      " 'July 10' 'July 16' 'July 17' 'July 20' 'July 27' 'July 30' 'August 02'\n",
      " 'August 04' 'August 05' 'August 09' 'August 10' 'August 11' 'August 16'\n",
      " 'August 20' 'August 22' 'August 25' 'August 26' 'August 29' 'August 30'\n",
      " 'August 31' 'September 02' 'September 03' 'September 05' 'September 08'\n",
      " 'September 15' 'September 30' 'October 04' 'October 07' 'October 11'\n",
      " 'October 16' 'October 19' 'October 31' 'November 15' 'December 01'\n",
      " 'December 30' nan 'September 10' 'June 27' 'October 15' 'July 13'\n",
      " 'July 14' 'August 14' 'July 21' 'July 28' 'August 21' 'March 15' 'May 01'\n",
      " 'August 13' 'July 29' 'July 26' 'August 03' 'September 09' 'August 12'\n",
      " 'July 25' 'August 17' 'September 04' 'September 29' 'November 24'\n",
      " 'May 08' 'July 24' 'September 06' 'August 08' 'October 02' 'September 14'\n",
      " 'January 01' 'November 05' 'September 19' 'October 10' 'November 07'\n",
      " 'December 04' 'December 10' 'May 10' 'May 24' 'January 31' 'March 31'\n",
      " 'January 05' 'May 05' 'October 30' 'March 05' 'February 28' 'November 29'\n",
      " 'August 28' 'September 12' 'December 31' 'May 31' 'October 05']\n"
     ]
    },
    {
     "name": "stderr",
     "output_type": "stream",
     "text": [
      "/tmp/ipykernel_61131/1564827880.py:5: FutureWarning: A value is trying to be set on a copy of a DataFrame or Series through chained assignment using an inplace method.\n",
      "The behavior will change in pandas 3.0. This inplace method will never work because the intermediate object on which we are setting values always behaves as a copy.\n",
      "\n",
      "For example, when doing 'df[col].method(value, inplace=True)', try using 'df.method({col: value}, inplace=True)' or df[col] = df[col].method(value) instead, to perform the operation inplace on the original object.\n",
      "\n",
      "\n",
      "  rent_df['availability_date'].replace({'Immediate': today}, inplace=True)\n",
      "/tmp/ipykernel_61131/1564827880.py:5: SettingWithCopyWarning: \n",
      "A value is trying to be set on a copy of a slice from a DataFrame\n",
      "\n",
      "See the caveats in the documentation: https://pandas.pydata.org/pandas-docs/stable/user_guide/indexing.html#returning-a-view-versus-a-copy\n",
      "  rent_df['availability_date'].replace({'Immediate': today}, inplace=True)\n",
      "/tmp/ipykernel_61131/1564827880.py:6: SettingWithCopyWarning: \n",
      "A value is trying to be set on a copy of a slice from a DataFrame\n",
      "\n",
      "See the caveats in the documentation: https://pandas.pydata.org/pandas-docs/stable/user_guide/indexing.html#returning-a-view-versus-a-copy\n",
      "  rent_df['availability_date'].replace({'Negotiable': today}, inplace=True)\n",
      "/tmp/ipykernel_61131/1564827880.py:7: SettingWithCopyWarning: \n",
      "A value is trying to be set on a copy of a slice from a DataFrame\n",
      "\n",
      "See the caveats in the documentation: https://pandas.pydata.org/pandas-docs/stable/user_guide/indexing.html#returning-a-view-versus-a-copy\n",
      "  rent_df['availability_date'].replace({'Call for Availability': today}, inplace=True)\n",
      "/tmp/ipykernel_61131/1564827880.py:12: SettingWithCopyWarning: \n",
      "A value is trying to be set on a copy of a slice from a DataFrame.\n",
      "Try using .loc[row_indexer,col_indexer] = value instead\n",
      "\n",
      "See the caveats in the documentation: https://pandas.pydata.org/pandas-docs/stable/user_guide/indexing.html#returning-a-view-versus-a-copy\n",
      "  rent_df['availability_date'] = pd.to_datetime(rent_df['availability_date'] + f\", {datetime.date.today().year}\", format=\"%B %d, %Y\")\n"
     ]
    },
    {
     "data": {
      "text/plain": [
       "0       2025-02-22\n",
       "1       2025-02-22\n",
       "2       2025-02-22\n",
       "3       2025-11-18\n",
       "4       2025-02-22\n",
       "           ...    \n",
       "25766   2025-02-22\n",
       "25767   2025-02-22\n",
       "25768   2025-02-22\n",
       "25769   2025-02-22\n",
       "25770   2025-02-22\n",
       "Name: availability_date, Length: 24800, dtype: datetime64[ns]"
      ]
     },
     "execution_count": 9,
     "metadata": {},
     "output_type": "execute_result"
    }
   ],
   "source": [
    "# Retrieve today's date\n",
    "today = datetime.date.today().strftime('%B %d') #pd.Timestamp.today()\n",
    "\n",
    "# Replace the strings by today's date\n",
    "rent_df['availability_date'].replace({'Immediate': today}, inplace=True)\n",
    "rent_df['availability_date'].replace({'Negotiable': today}, inplace=True)\n",
    "rent_df['availability_date'].replace({'Call for Availability': today}, inplace=True)\n",
    "\n",
    "print('After =>', rent_df['availability_date'].unique())\n",
    "\n",
    "# Convert the column availability_date to a timestamp\n",
    "rent_df['availability_date'] = pd.to_datetime(rent_df['availability_date'] + f\", {datetime.date.today().year}\", format=\"%B %d, %Y\")\n",
    "\n",
    "rent_df['availability_date']"
   ]
  },
  {
   "cell_type": "markdown",
   "id": "3425fb1c-4a43-4c5d-bb13-607bcf6c4b18",
   "metadata": {
    "execution": {
     "iopub.execute_input": "2025-02-21T16:19:21.072927Z",
     "iopub.status.busy": "2025-02-21T16:19:21.070294Z",
     "iopub.status.idle": "2025-02-21T16:19:21.093735Z",
     "shell.execute_reply": "2025-02-21T16:19:21.090746Z",
     "shell.execute_reply.started": "2025-02-21T16:19:21.072785Z"
    }
   },
   "source": [
    "**Combining similar string in the furnishing column**"
   ]
  },
  {
   "cell_type": "code",
   "execution_count": 10,
   "id": "a99abea8-fb44-4f25-b033-931f220f80e2",
   "metadata": {
    "execution": {
     "iopub.execute_input": "2025-02-22T14:57:07.069480Z",
     "iopub.status.busy": "2025-02-22T14:57:07.068970Z",
     "iopub.status.idle": "2025-02-22T14:57:07.086358Z",
     "shell.execute_reply": "2025-02-22T14:57:07.085261Z",
     "shell.execute_reply.started": "2025-02-22T14:57:07.069437Z"
    }
   },
   "outputs": [
    {
     "name": "stderr",
     "output_type": "stream",
     "text": [
      "/tmp/ipykernel_61131/3560924799.py:4: FutureWarning: A value is trying to be set on a copy of a DataFrame or Series through chained assignment using an inplace method.\n",
      "The behavior will change in pandas 3.0. This inplace method will never work because the intermediate object on which we are setting values always behaves as a copy.\n",
      "\n",
      "For example, when doing 'df[col].method(value, inplace=True)', try using 'df.method({col: value}, inplace=True)' or df[col] = df[col].method(value) instead, to perform the operation inplace on the original object.\n",
      "\n",
      "\n",
      "  rent_df['furnishing'].replace({'Unfurnished, Negotiable': 'Negotiable'}, inplace=True)\n",
      "/tmp/ipykernel_61131/3560924799.py:4: SettingWithCopyWarning: \n",
      "A value is trying to be set on a copy of a slice from a DataFrame\n",
      "\n",
      "See the caveats in the documentation: https://pandas.pydata.org/pandas-docs/stable/user_guide/indexing.html#returning-a-view-versus-a-copy\n",
      "  rent_df['furnishing'].replace({'Unfurnished, Negotiable': 'Negotiable'}, inplace=True)\n"
     ]
    },
    {
     "name": "stdout",
     "output_type": "stream",
     "text": [
      "Before => ['Unfurnished' 'Furnished' 'Negotiable']\n",
      "After => ['Unfurnished' 'Furnished' 'Negotiable']\n"
     ]
    }
   ],
   "source": [
    "# Look the possible string the column furnishing\n",
    "print('Before =>', rent_df['furnishing'].unique())\n",
    "\n",
    "rent_df['furnishing'].replace({'Unfurnished, Negotiable': 'Negotiable'}, inplace=True)\n",
    "\n",
    "# Look the possible string the column furnishing\n",
    "print('After =>', rent_df['furnishing'].unique())"
   ]
  },
  {
   "cell_type": "markdown",
   "id": "a01c9262-2a82-4076-a420-861ca4404a63",
   "metadata": {
    "execution": {
     "iopub.execute_input": "2025-02-21T16:19:21.072927Z",
     "iopub.status.busy": "2025-02-21T16:19:21.070294Z",
     "iopub.status.idle": "2025-02-21T16:19:21.093735Z",
     "shell.execute_reply": "2025-02-21T16:19:21.090746Z",
     "shell.execute_reply.started": "2025-02-21T16:19:21.072785Z"
    }
   },
   "source": [
    "**Combining similar string in the smoking column**"
   ]
  },
  {
   "cell_type": "code",
   "execution_count": 11,
   "id": "e8e9d04b-e9f8-4042-8cee-a7faf277f595",
   "metadata": {
    "execution": {
     "iopub.execute_input": "2025-02-22T14:57:07.088264Z",
     "iopub.status.busy": "2025-02-22T14:57:07.087475Z",
     "iopub.status.idle": "2025-02-22T14:57:07.124738Z",
     "shell.execute_reply": "2025-02-22T14:57:07.123293Z",
     "shell.execute_reply.started": "2025-02-22T14:57:07.088223Z"
    }
   },
   "outputs": [
    {
     "name": "stdout",
     "output_type": "stream",
     "text": [
      "Before => ['Non-Smoking' 'Smoke Free Building' nan 'Negotiable' 'Smoking Allowed']\n",
      "After => ['Non-Smoking' nan 'Smoking Allowed']\n"
     ]
    },
    {
     "name": "stderr",
     "output_type": "stream",
     "text": [
      "/tmp/ipykernel_61131/2798230204.py:5: FutureWarning: A value is trying to be set on a copy of a DataFrame or Series through chained assignment using an inplace method.\n",
      "The behavior will change in pandas 3.0. This inplace method will never work because the intermediate object on which we are setting values always behaves as a copy.\n",
      "\n",
      "For example, when doing 'df[col].method(value, inplace=True)', try using 'df.method({col: value}, inplace=True)' or df[col] = df[col].method(value) instead, to perform the operation inplace on the original object.\n",
      "\n",
      "\n",
      "  rent_df['smoking'].replace({'Smoke Free Building': 'Non-Smoking'}, inplace=True)\n",
      "/tmp/ipykernel_61131/2798230204.py:5: SettingWithCopyWarning: \n",
      "A value is trying to be set on a copy of a slice from a DataFrame\n",
      "\n",
      "See the caveats in the documentation: https://pandas.pydata.org/pandas-docs/stable/user_guide/indexing.html#returning-a-view-versus-a-copy\n",
      "  rent_df['smoking'].replace({'Smoke Free Building': 'Non-Smoking'}, inplace=True)\n",
      "/tmp/ipykernel_61131/2798230204.py:8: SettingWithCopyWarning: \n",
      "A value is trying to be set on a copy of a slice from a DataFrame\n",
      "\n",
      "See the caveats in the documentation: https://pandas.pydata.org/pandas-docs/stable/user_guide/indexing.html#returning-a-view-versus-a-copy\n",
      "  rent_df['smoking'].replace({'Negotiable': 'Smoking Allowed'}, inplace=True)\n"
     ]
    }
   ],
   "source": [
    "# Look the possible string the column smoking\n",
    "print('Before =>', rent_df['smoking'].unique())\n",
    "\n",
    "# Replace 'Smoke Free Building' by 'Non-Smoking'\n",
    "rent_df['smoking'].replace({'Smoke Free Building': 'Non-Smoking'}, inplace=True)\n",
    "\n",
    "# Replace 'Negotiable' by 'Smoking Allowed'\n",
    "rent_df['smoking'].replace({'Negotiable': 'Smoking Allowed'}, inplace=True)\n",
    "\n",
    "# Look the possible string the column smoking\n",
    "print('After =>', rent_df['smoking'].unique())"
   ]
  },
  {
   "cell_type": "markdown",
   "id": "6e76eae8-a015-41db-b3f8-538ccaca1aaf",
   "metadata": {},
   "source": [
    "**Cleaning up the sq_feet column**"
   ]
  },
  {
   "cell_type": "code",
   "execution_count": 12,
   "id": "6598f987-47bc-4d40-b314-b5f4e4cc7e34",
   "metadata": {
    "execution": {
     "iopub.execute_input": "2025-02-22T14:57:07.127879Z",
     "iopub.status.busy": "2025-02-22T14:57:07.126060Z",
     "iopub.status.idle": "2025-02-22T14:57:07.526006Z",
     "shell.execute_reply": "2025-02-22T14:57:07.524843Z",
     "shell.execute_reply.started": "2025-02-22T14:57:07.127820Z"
    }
   },
   "outputs": [
    {
     "name": "stderr",
     "output_type": "stream",
     "text": [
      "/tmp/ipykernel_61131/3982144455.py:2: SettingWithCopyWarning: \n",
      "A value is trying to be set on a copy of a slice from a DataFrame.\n",
      "Try using .loc[row_indexer,col_indexer] = value instead\n",
      "\n",
      "See the caveats in the documentation: https://pandas.pydata.org/pandas-docs/stable/user_guide/indexing.html#returning-a-view-versus-a-copy\n",
      "  rent_df['sq_feet'] = rent_df['sq_feet'].str.split(' ', expand=True)[0]\n",
      "/tmp/ipykernel_61131/3982144455.py:5: SettingWithCopyWarning: \n",
      "A value is trying to be set on a copy of a slice from a DataFrame.\n",
      "Try using .loc[row_indexer,col_indexer] = value instead\n",
      "\n",
      "See the caveats in the documentation: https://pandas.pydata.org/pandas-docs/stable/user_guide/indexing.html#returning-a-view-versus-a-copy\n",
      "  rent_df['sq_feet'] = rent_df['sq_feet'].str.split('+', expand=True)[0]\n",
      "/tmp/ipykernel_61131/3982144455.py:8: SettingWithCopyWarning: \n",
      "A value is trying to be set on a copy of a slice from a DataFrame.\n",
      "Try using .loc[row_indexer,col_indexer] = value instead\n",
      "\n",
      "See the caveats in the documentation: https://pandas.pydata.org/pandas-docs/stable/user_guide/indexing.html#returning-a-view-versus-a-copy\n",
      "  rent_df['sq_feet'] = rent_df['sq_feet'].str.replace(',', '', regex=True)\n",
      "/tmp/ipykernel_61131/3982144455.py:12: SettingWithCopyWarning: \n",
      "A value is trying to be set on a copy of a slice from a DataFrame.\n",
      "Try using .loc[row_indexer,col_indexer] = value instead\n",
      "\n",
      "See the caveats in the documentation: https://pandas.pydata.org/pandas-docs/stable/user_guide/indexing.html#returning-a-view-versus-a-copy\n",
      "  rent_df['sq_feet'] = rent_df['sq_feet'].str.split('-', expand=True)[0]\n",
      "/tmp/ipykernel_61131/3982144455.py:15: SettingWithCopyWarning: \n",
      "A value is trying to be set on a copy of a slice from a DataFrame.\n",
      "Try using .loc[row_indexer,col_indexer] = value instead\n",
      "\n",
      "See the caveats in the documentation: https://pandas.pydata.org/pandas-docs/stable/user_guide/indexing.html#returning-a-view-versus-a-copy\n",
      "  rent_df['sq_feet'] = rent_df['sq_feet'].str.split('.', expand=True)[0]\n",
      "/tmp/ipykernel_61131/3982144455.py:18: SettingWithCopyWarning: \n",
      "A value is trying to be set on a copy of a slice from a DataFrame.\n",
      "Try using .loc[row_indexer,col_indexer] = value instead\n",
      "\n",
      "See the caveats in the documentation: https://pandas.pydata.org/pandas-docs/stable/user_guide/indexing.html#returning-a-view-versus-a-copy\n",
      "  rent_df['sq_feet'] = rent_df['sq_feet'].str.replace('~', '', regex=True)\n",
      "/tmp/ipykernel_61131/3982144455.py:21: SettingWithCopyWarning: \n",
      "A value is trying to be set on a copy of a slice from a DataFrame.\n",
      "Try using .loc[row_indexer,col_indexer] = value instead\n",
      "\n",
      "See the caveats in the documentation: https://pandas.pydata.org/pandas-docs/stable/user_guide/indexing.html#returning-a-view-versus-a-copy\n",
      "  rent_df['sq_feet'] = rent_df['sq_feet'].str.replace('sf', '', regex=True)\n",
      "/tmp/ipykernel_61131/3982144455.py:24: SettingWithCopyWarning: \n",
      "A value is trying to be set on a copy of a slice from a DataFrame.\n",
      "Try using .loc[row_indexer,col_indexer] = value instead\n",
      "\n",
      "See the caveats in the documentation: https://pandas.pydata.org/pandas-docs/stable/user_guide/indexing.html#returning-a-view-versus-a-copy\n",
      "  rent_df['sq_feet'] = rent_df['sq_feet'].str.replace('Large', '', regex=True)\n",
      "/tmp/ipykernel_61131/3982144455.py:27: SettingWithCopyWarning: \n",
      "A value is trying to be set on a copy of a slice from a DataFrame.\n",
      "Try using .loc[row_indexer,col_indexer] = value instead\n",
      "\n",
      "See the caveats in the documentation: https://pandas.pydata.org/pandas-docs/stable/user_guide/indexing.html#returning-a-view-versus-a-copy\n",
      "  rent_df['sq_feet'] = rent_df['sq_feet'].str.replace('Large', '', regex=True)\n",
      "/tmp/ipykernel_61131/3982144455.py:30: SettingWithCopyWarning: \n",
      "A value is trying to be set on a copy of a slice from a DataFrame.\n",
      "Try using .loc[row_indexer,col_indexer] = value instead\n",
      "\n",
      "See the caveats in the documentation: https://pandas.pydata.org/pandas-docs/stable/user_guide/indexing.html#returning-a-view-versus-a-copy\n",
      "  rent_df['sq_feet'] = rent_df['sq_feet'].replace(r'approx', np.nan, regex=True)\n",
      "/tmp/ipykernel_61131/3982144455.py:31: SettingWithCopyWarning: \n",
      "A value is trying to be set on a copy of a slice from a DataFrame.\n",
      "Try using .loc[row_indexer,col_indexer] = value instead\n",
      "\n",
      "See the caveats in the documentation: https://pandas.pydata.org/pandas-docs/stable/user_guide/indexing.html#returning-a-view-versus-a-copy\n",
      "  rent_df['sq_feet'] = rent_df['sq_feet'].str.replace('Approximately.', '', regex=True)\n",
      "/tmp/ipykernel_61131/3982144455.py:32: SettingWithCopyWarning: \n",
      "A value is trying to be set on a copy of a slice from a DataFrame.\n",
      "Try using .loc[row_indexer,col_indexer] = value instead\n",
      "\n",
      "See the caveats in the documentation: https://pandas.pydata.org/pandas-docs/stable/user_guide/indexing.html#returning-a-view-versus-a-copy\n",
      "  rent_df['sq_feet'] = rent_df['sq_feet'].str.replace('Approximately', '', regex=True)\n",
      "/tmp/ipykernel_61131/3982144455.py:35: SettingWithCopyWarning: \n",
      "A value is trying to be set on a copy of a slice from a DataFrame.\n",
      "Try using .loc[row_indexer,col_indexer] = value instead\n",
      "\n",
      "See the caveats in the documentation: https://pandas.pydata.org/pandas-docs/stable/user_guide/indexing.html#returning-a-view-versus-a-copy\n",
      "  rent_df['sq_feet'] = rent_df['sq_feet'].replace(r'TOL', np.nan, regex=True)\n",
      "/tmp/ipykernel_61131/3982144455.py:37: SettingWithCopyWarning: \n",
      "A value is trying to be set on a copy of a slice from a DataFrame.\n",
      "Try using .loc[row_indexer,col_indexer] = value instead\n",
      "\n",
      "See the caveats in the documentation: https://pandas.pydata.org/pandas-docs/stable/user_guide/indexing.html#returning-a-view-versus-a-copy\n",
      "  rent_df['sq_feet'] = rent_df['sq_feet'].str.replace(r'[^\\d]', '', regex=True)\n",
      "/tmp/ipykernel_61131/3982144455.py:40: SettingWithCopyWarning: \n",
      "A value is trying to be set on a copy of a slice from a DataFrame.\n",
      "Try using .loc[row_indexer,col_indexer] = value instead\n",
      "\n",
      "See the caveats in the documentation: https://pandas.pydata.org/pandas-docs/stable/user_guide/indexing.html#returning-a-view-versus-a-copy\n",
      "  rent_df['sq_feet'] = rent_df['sq_feet'].replace('', np.nan, regex=True)\n",
      "/tmp/ipykernel_61131/3982144455.py:42: SettingWithCopyWarning: \n",
      "A value is trying to be set on a copy of a slice from a DataFrame.\n",
      "Try using .loc[row_indexer,col_indexer] = value instead\n",
      "\n",
      "See the caveats in the documentation: https://pandas.pydata.org/pandas-docs/stable/user_guide/indexing.html#returning-a-view-versus-a-copy\n",
      "  rent_df['sq_feet'] = pd.to_numeric(rent_df['sq_feet'], errors='coerce')\n"
     ]
    }
   ],
   "source": [
    "# Removing the sq ft unit sometimes mentioned\n",
    "rent_df['sq_feet'] = rent_df['sq_feet'].str.split(' ', expand=True)[0]\n",
    "\n",
    "# Replace + sign\n",
    "rent_df['sq_feet'] = rent_df['sq_feet'].str.split('+', expand=True)[0]\n",
    "\n",
    "# Replace , \n",
    "rent_df['sq_feet'] = rent_df['sq_feet'].str.replace(',', '', regex=True)\n",
    "\n",
    "\n",
    "# Removing range.\n",
    "rent_df['sq_feet'] = rent_df['sq_feet'].str.split('-', expand=True)[0]\n",
    "\n",
    "# Removing range.\n",
    "rent_df['sq_feet'] = rent_df['sq_feet'].str.split('.', expand=True)[0]\n",
    "\n",
    "# Replace , \n",
    "rent_df['sq_feet'] = rent_df['sq_feet'].str.replace('~', '', regex=True)\n",
    "\n",
    "# Replace , \n",
    "rent_df['sq_feet'] = rent_df['sq_feet'].str.replace('sf', '', regex=True)\n",
    "\n",
    "# Replace , \n",
    "rent_df['sq_feet'] = rent_df['sq_feet'].str.replace('Large', '', regex=True)\n",
    "\n",
    "# Replace , \n",
    "rent_df['sq_feet'] = rent_df['sq_feet'].str.replace('Large', '', regex=True)\n",
    "\n",
    "# Replace 'approx.' \n",
    "rent_df['sq_feet'] = rent_df['sq_feet'].replace(r'approx', np.nan, regex=True)\n",
    "rent_df['sq_feet'] = rent_df['sq_feet'].str.replace('Approximately.', '', regex=True)\n",
    "rent_df['sq_feet'] = rent_df['sq_feet'].str.replace('Approximately', '', regex=True)\n",
    "\n",
    "# Replace 'approx.' \n",
    "rent_df['sq_feet'] = rent_df['sq_feet'].replace(r'TOL', np.nan, regex=True)\n",
    "\n",
    "rent_df['sq_feet'] = rent_df['sq_feet'].str.replace(r'[^\\d]', '', regex=True)\n",
    "\n",
    "# Replace '' \n",
    "rent_df['sq_feet'] = rent_df['sq_feet'].replace('', np.nan, regex=True)\n",
    "\n",
    "rent_df['sq_feet'] = pd.to_numeric(rent_df['sq_feet'], errors='coerce')"
   ]
  },
  {
   "cell_type": "markdown",
   "id": "3a11fe12-9c0c-4b90-82e3-7d0269881c6d",
   "metadata": {},
   "source": [
    "**Cleaning up the price column**\n",
    "Removing all potential typo and no mention of price (0$)"
   ]
  },
  {
   "cell_type": "code",
   "execution_count": 13,
   "id": "3a03d84a-f86d-406f-b528-c978b11e4b09",
   "metadata": {
    "execution": {
     "iopub.execute_input": "2025-02-22T14:57:07.527639Z",
     "iopub.status.busy": "2025-02-22T14:57:07.527108Z",
     "iopub.status.idle": "2025-02-22T14:57:07.552034Z",
     "shell.execute_reply": "2025-02-22T14:57:07.549927Z",
     "shell.execute_reply.started": "2025-02-22T14:57:07.527592Z"
    }
   },
   "outputs": [],
   "source": [
    "rent_df = rent_df[rent_df['price'] > 100.]"
   ]
  },
  {
   "cell_type": "markdown",
   "id": "aa9ca753-4330-44d4-bd40-2c84e32ecfde",
   "metadata": {},
   "source": [
    "**Cleaning up the baths column**"
   ]
  },
  {
   "cell_type": "code",
   "execution_count": 14,
   "id": "2eb68291-568f-4724-b00a-bf21ea0ca84a",
   "metadata": {
    "execution": {
     "iopub.execute_input": "2025-02-22T14:57:07.556176Z",
     "iopub.status.busy": "2025-02-22T14:57:07.553495Z",
     "iopub.status.idle": "2025-02-22T14:57:07.586537Z",
     "shell.execute_reply": "2025-02-22T14:57:07.585152Z",
     "shell.execute_reply.started": "2025-02-22T14:57:07.556121Z"
    }
   },
   "outputs": [
    {
     "name": "stderr",
     "output_type": "stream",
     "text": [
      "/tmp/ipykernel_61131/2598480892.py:2: FutureWarning: A value is trying to be set on a copy of a DataFrame or Series through chained assignment using an inplace method.\n",
      "The behavior will change in pandas 3.0. This inplace method will never work because the intermediate object on which we are setting values always behaves as a copy.\n",
      "\n",
      "For example, when doing 'df[col].method(value, inplace=True)', try using 'df.method({col: value}, inplace=True)' or df[col] = df[col].method(value) instead, to perform the operation inplace on the original object.\n",
      "\n",
      "\n",
      "  rent_df['baths'].replace(r'\\b(none)\\b','0', regex=True, inplace=True)\n"
     ]
    }
   ],
   "source": [
    "# Replacing Studio and none by 0\n",
    "rent_df['baths'].replace(r'\\b(none)\\b','0', regex=True, inplace=True)"
   ]
  },
  {
   "cell_type": "markdown",
   "id": "6decd210-b28f-41bc-81d2-96fdf39d6149",
   "metadata": {
    "execution": {
     "iopub.execute_input": "2025-02-21T22:56:05.976260Z",
     "iopub.status.busy": "2025-02-21T22:56:05.974131Z",
     "iopub.status.idle": "2025-02-21T22:56:05.992978Z",
     "shell.execute_reply": "2025-02-21T22:56:05.989951Z",
     "shell.execute_reply.started": "2025-02-21T22:56:05.976197Z"
    }
   },
   "source": [
    "**Creating new column for pets**\n",
    "\n",
    "**Removing previous cats/dogs column**"
   ]
  },
  {
   "cell_type": "raw",
   "id": "7d505d81-1983-43bf-b822-5faddec0db92",
   "metadata": {
    "execution": {
     "iopub.execute_input": "2025-02-21T22:58:48.294668Z",
     "iopub.status.busy": "2025-02-21T22:58:48.294114Z",
     "iopub.status.idle": "2025-02-21T22:58:48.336588Z",
     "shell.execute_reply": "2025-02-21T22:58:48.335467Z",
     "shell.execute_reply.started": "2025-02-21T22:58:48.294636Z"
    }
   },
   "source": [
    "rent_df['pet_category'] = 'no pets'\n",
    "rent_df.loc[rent_df['cats'] == True, 'pet_category'] = 'Cats Allowed'\n",
    "rent_df.loc[rent_df['dogs'] == True, 'pet_category'] = 'Dogs Allowed'\n",
    "\n",
    "rent_df.drop(columns=['cats','dogs'])"
   ]
  },
  {
   "cell_type": "markdown",
   "id": "75603625-7951-45bc-b8db-45fa05acee6a",
   "metadata": {},
   "source": [
    "### Investigate if the dataset contains missing values"
   ]
  },
  {
   "cell_type": "code",
   "execution_count": 15,
   "id": "bd267952-7f11-4a74-9b09-13b9288d8b67",
   "metadata": {
    "execution": {
     "iopub.execute_input": "2025-02-22T14:57:07.589116Z",
     "iopub.status.busy": "2025-02-22T14:57:07.588204Z",
     "iopub.status.idle": "2025-02-22T14:57:07.619058Z",
     "shell.execute_reply": "2025-02-22T14:57:07.617471Z",
     "shell.execute_reply.started": "2025-02-22T14:57:07.589057Z"
    }
   },
   "outputs": [
    {
     "data": {
      "text/plain": [
       "city                    0\n",
       "province                0\n",
       "latitude                0\n",
       "longitude               0\n",
       "lease_term             12\n",
       "type                    0\n",
       "price                   0\n",
       "beds                  128\n",
       "baths                 130\n",
       "sq_feet              3936\n",
       "furnishing              0\n",
       "availability_date      12\n",
       "smoking              2656\n",
       "cats                  143\n",
       "dogs                  143\n",
       "dtype: int64"
      ]
     },
     "execution_count": 15,
     "metadata": {},
     "output_type": "execute_result"
    }
   ],
   "source": [
    "rent_df.isna().sum()"
   ]
  },
  {
   "cell_type": "markdown",
   "id": "79eabd46-25af-4f2c-9115-1b70652331e1",
   "metadata": {},
   "source": [
    "I want to dig into the missing value.\n",
    "\n",
    "I will look for what type of property has no square footage indicated. I might want to drop certain property type (ie: storage, garage, ...)"
   ]
  },
  {
   "cell_type": "code",
   "execution_count": 16,
   "id": "c88c13bc-0700-469c-8511-b382d11de24f",
   "metadata": {
    "execution": {
     "iopub.execute_input": "2025-02-22T14:57:07.622045Z",
     "iopub.status.busy": "2025-02-22T14:57:07.620879Z",
     "iopub.status.idle": "2025-02-22T14:57:07.656389Z",
     "shell.execute_reply": "2025-02-22T14:57:07.655112Z",
     "shell.execute_reply.started": "2025-02-22T14:57:07.621999Z"
    }
   },
   "outputs": [
    {
     "data": {
      "text/plain": [
       "type\n",
       "Acreage           36.363636\n",
       "Apartment         12.109146\n",
       "Basement          25.890163\n",
       "Condo Unit        15.193247\n",
       "Duplex            20.000000\n",
       "House             18.306351\n",
       "Loft              29.166667\n",
       "Main Floor        19.876543\n",
       "Mobile            50.000000\n",
       "Office Space      91.935484\n",
       "Parking Spot      88.095238\n",
       "Room For Rent     51.675978\n",
       "Storage          100.000000\n",
       "Townhouse         15.350032\n",
       "Vacation Home           NaN\n",
       "Name: city, dtype: float64"
      ]
     },
     "execution_count": 16,
     "metadata": {},
     "output_type": "execute_result"
    }
   ],
   "source": [
    "(rent_df[rent_df['sq_feet'].isna()].groupby(['type'])['city'].count() / rent_df.groupby(['type'])['city'].count()) *100"
   ]
  },
  {
   "cell_type": "markdown",
   "id": "16fd75da-e3c3-4f1c-9f0b-4a930d298761",
   "metadata": {},
   "source": [
    "I will be removing all the storage, since they all don't include square footage.\n",
    "\n",
    "I will also be removing the Parking spot category, since most of them are missing the square footage.\n",
    "\n",
    "I will also be removing the Office Space and Acreage to focus mainly on standard housing\n"
   ]
  },
  {
   "cell_type": "code",
   "execution_count": 17,
   "id": "a9237c2a-f760-4556-a7b7-6be9f417cdd7",
   "metadata": {
    "execution": {
     "iopub.execute_input": "2025-02-22T14:57:07.658212Z",
     "iopub.status.busy": "2025-02-22T14:57:07.657663Z",
     "iopub.status.idle": "2025-02-22T14:57:07.672758Z",
     "shell.execute_reply": "2025-02-22T14:57:07.671761Z",
     "shell.execute_reply.started": "2025-02-22T14:57:07.658159Z"
    }
   },
   "outputs": [],
   "source": [
    "# Removing the Property type based on the previous analysis\n",
    "rent_df = rent_df[~rent_df['type'].isin(['Acreage', 'Office Space', 'Parking Spot', 'Storage'])]"
   ]
  },
  {
   "cell_type": "code",
   "execution_count": 18,
   "id": "12b8b112-bb01-4e6f-96d9-ff84f564cb3c",
   "metadata": {
    "execution": {
     "iopub.execute_input": "2025-02-22T14:57:07.674556Z",
     "iopub.status.busy": "2025-02-22T14:57:07.674057Z",
     "iopub.status.idle": "2025-02-22T14:57:07.720144Z",
     "shell.execute_reply": "2025-02-22T14:57:07.717332Z",
     "shell.execute_reply.started": "2025-02-22T14:57:07.674515Z"
    }
   },
   "outputs": [
    {
     "data": {
      "text/plain": [
       "city                    0\n",
       "province                0\n",
       "latitude                0\n",
       "longitude               0\n",
       "lease_term             12\n",
       "type                    0\n",
       "price                   0\n",
       "beds                    0\n",
       "baths                   0\n",
       "sq_feet              3797\n",
       "furnishing              0\n",
       "availability_date       8\n",
       "smoking              2654\n",
       "cats                    0\n",
       "dogs                    0\n",
       "dtype: int64"
      ]
     },
     "execution_count": 18,
     "metadata": {},
     "output_type": "execute_result"
    }
   ],
   "source": [
    "rent_df.isna().sum()"
   ]
  },
  {
   "cell_type": "code",
   "execution_count": 19,
   "id": "085bd5e6-43aa-4dec-9bf8-ae98abc09b98",
   "metadata": {
    "execution": {
     "iopub.execute_input": "2025-02-22T14:57:07.723631Z",
     "iopub.status.busy": "2025-02-22T14:57:07.721765Z",
     "iopub.status.idle": "2025-02-22T14:57:07.756888Z",
     "shell.execute_reply": "2025-02-22T14:57:07.755152Z",
     "shell.execute_reply.started": "2025-02-22T14:57:07.723578Z"
    }
   },
   "outputs": [
    {
     "data": {
      "text/plain": [
       "type\n",
       "Apartment        12.109146\n",
       "Basement         25.890163\n",
       "Condo Unit       15.193247\n",
       "Duplex           20.000000\n",
       "House            18.306351\n",
       "Loft             29.166667\n",
       "Main Floor       19.876543\n",
       "Mobile           50.000000\n",
       "Room For Rent    51.675978\n",
       "Townhouse        15.350032\n",
       "Vacation Home          NaN\n",
       "Name: city, dtype: float64"
      ]
     },
     "execution_count": 19,
     "metadata": {},
     "output_type": "execute_result"
    }
   ],
   "source": [
    "(rent_df[rent_df['sq_feet'].isna()].groupby(['type'])['city'].count() / rent_df.groupby(['type'])['city'].count()) *100"
   ]
  },
  {
   "cell_type": "markdown",
   "id": "4d312138-197b-4676-8796-22955c4d9206",
   "metadata": {},
   "source": [
    "Replacing the the Nan value in sq_feet by the grouped mean on building type and # of beds\n",
    "  * Even after replacing the Nan value there are some group categories that just don't have non nan data to produce a mean.\n",
    "  * I will be dropping two remaining rows of nan value"
   ]
  },
  {
   "cell_type": "code",
   "execution_count": 20,
   "id": "e41dfc33-374e-446d-92d8-25e88de1c478",
   "metadata": {
    "execution": {
     "iopub.execute_input": "2025-02-22T14:57:07.758841Z",
     "iopub.status.busy": "2025-02-22T14:57:07.758386Z",
     "iopub.status.idle": "2025-02-22T14:57:07.873650Z",
     "shell.execute_reply": "2025-02-22T14:57:07.871666Z",
     "shell.execute_reply.started": "2025-02-22T14:57:07.758804Z"
    }
   },
   "outputs": [
    {
     "name": "stdout",
     "output_type": "stream",
     "text": [
      "type           beds\n",
      "Duplex         0      NaN\n",
      "               6      NaN\n",
      "House          9      NaN\n",
      "Loft           0      NaN\n",
      "Mobile         2      NaN\n",
      "Room For Rent  0      NaN\n",
      "Name: sq_feet, dtype: float64\n",
      "beds\n",
      "0    2056.666667\n",
      "1     716.833333\n",
      "2    1086.728395\n",
      "3    1707.000000\n",
      "4    2108.715311\n",
      "5    2262.888158\n",
      "6    2088.000000\n",
      "7    4000.000000\n",
      "8    9133.333333\n",
      "9            NaN\n",
      "Name: sq_feet, dtype: float64\n"
     ]
    },
    {
     "data": {
      "text/plain": [
       "city                    0\n",
       "province                0\n",
       "latitude                0\n",
       "longitude               0\n",
       "lease_term             12\n",
       "type                    0\n",
       "price                   0\n",
       "beds                    0\n",
       "baths                   0\n",
       "sq_feet                 0\n",
       "furnishing              0\n",
       "availability_date       8\n",
       "smoking              2653\n",
       "cats                    0\n",
       "dogs                    0\n",
       "dtype: int64"
      ]
     },
     "execution_count": 20,
     "metadata": {},
     "output_type": "execute_result"
    }
   ],
   "source": [
    "# Replacing Nan\n",
    "rent_df['sq_feet'] = rent_df.groupby(['type', 'beds'])['sq_feet'].transform(lambda x: x.fillna(x.mean()))\n",
    "\n",
    "# Verifying that there is no longer nan value for the sq_feet\n",
    "rent_df.isna().sum()\n",
    "\n",
    "# Investigating the remaining Nan\n",
    "group_means = rent_df.groupby(['type', 'beds'])['sq_feet'].mean()\n",
    "\n",
    "print(group_means[group_means.isna()])\n",
    "\n",
    "print(rent_df[rent_df['type'] == 'House'].groupby('beds')['sq_feet'].mean())\n",
    "\n",
    "# Dropping remaininf Nan in sq_feet\n",
    "rent_df = rent_df[~rent_df['sq_feet'].isna()]\n",
    "\n",
    "# Converting the column to int\n",
    "rent_df['sq_feet'] = rent_df['sq_feet'].astype(int)\n",
    "\n",
    "# Verifying that there is no longer nan value for the sq_feet\n",
    "rent_df.isna().sum()"
   ]
  },
  {
   "cell_type": "markdown",
   "id": "f2dc7550-e37c-4e39-859d-f0524beb45b1",
   "metadata": {},
   "source": [
    "I will be dropping the Nan value of lease_term because it implies only a small amount of data on the entire dataset"
   ]
  },
  {
   "cell_type": "code",
   "execution_count": 21,
   "id": "46fb2641-b17c-47c9-aae3-bde1fa5ef21c",
   "metadata": {
    "execution": {
     "iopub.execute_input": "2025-02-22T14:57:07.880728Z",
     "iopub.status.busy": "2025-02-22T14:57:07.880306Z",
     "iopub.status.idle": "2025-02-22T14:57:07.914817Z",
     "shell.execute_reply": "2025-02-22T14:57:07.913574Z",
     "shell.execute_reply.started": "2025-02-22T14:57:07.880699Z"
    }
   },
   "outputs": [
    {
     "data": {
      "text/plain": [
       "city                    0\n",
       "province                0\n",
       "latitude                0\n",
       "longitude               0\n",
       "lease_term              0\n",
       "type                    0\n",
       "price                   0\n",
       "beds                    0\n",
       "baths                   0\n",
       "sq_feet                 0\n",
       "furnishing              0\n",
       "availability_date       8\n",
       "smoking              2653\n",
       "cats                    0\n",
       "dogs                    0\n",
       "dtype: int64"
      ]
     },
     "execution_count": 21,
     "metadata": {},
     "output_type": "execute_result"
    }
   ],
   "source": [
    "# Dropping remaininf Nan in sq_feet\n",
    "rent_df = rent_df[~rent_df['lease_term'].isna()]\n",
    "\n",
    "# Verifying that there is no longer nan value for the sq_feet\n",
    "rent_df.isna().sum()"
   ]
  },
  {
   "cell_type": "markdown",
   "id": "a5cccd8a-7165-4270-8217-c7f1939c7c50",
   "metadata": {},
   "source": [
    "I will be replacing Nan value in smoking according to the most frequent smoking category, which is Non-Smocking."
   ]
  },
  {
   "cell_type": "code",
   "execution_count": 22,
   "id": "d62e3df1-2dfd-43bf-ae7a-064f6d497d5c",
   "metadata": {
    "execution": {
     "iopub.execute_input": "2025-02-22T14:57:07.916422Z",
     "iopub.status.busy": "2025-02-22T14:57:07.915970Z",
     "iopub.status.idle": "2025-02-22T14:57:07.963672Z",
     "shell.execute_reply": "2025-02-22T14:57:07.962613Z",
     "shell.execute_reply.started": "2025-02-22T14:57:07.916395Z"
    }
   },
   "outputs": [
    {
     "name": "stdout",
     "output_type": "stream",
     "text": [
      "smoking\n",
      "Non-Smoking        21497\n",
      "Smoking Allowed      269\n",
      "Name: city, dtype: int64\n"
     ]
    },
    {
     "data": {
      "text/plain": [
       "city                 0\n",
       "province             0\n",
       "latitude             0\n",
       "longitude            0\n",
       "lease_term           0\n",
       "type                 0\n",
       "price                0\n",
       "beds                 0\n",
       "baths                0\n",
       "sq_feet              0\n",
       "furnishing           0\n",
       "availability_date    8\n",
       "smoking              0\n",
       "cats                 0\n",
       "dogs                 0\n",
       "dtype: int64"
      ]
     },
     "execution_count": 22,
     "metadata": {},
     "output_type": "execute_result"
    }
   ],
   "source": [
    "# Look at the occurence count of each smoking category\n",
    "print(rent_df.groupby(['smoking'])['city'].count())\n",
    "\n",
    "# Replace Nan value in smoking\n",
    "rent_df['smoking'] = rent_df['smoking'].fillna('Non-Smoking')\n",
    "\n",
    "# Verifying that there is no longer nan value for the smoking\n",
    "rent_df.isna().sum()"
   ]
  },
  {
   "cell_type": "markdown",
   "id": "e113aa1e-4224-455f-8892-5ddbcb01b05f",
   "metadata": {},
   "source": [
    "I will be replacing Nan value in availability_date by today's date "
   ]
  },
  {
   "cell_type": "code",
   "execution_count": 23,
   "id": "fff600a3-70e2-444a-ba71-915fa3064c69",
   "metadata": {
    "execution": {
     "iopub.execute_input": "2025-02-22T14:57:07.965406Z",
     "iopub.status.busy": "2025-02-22T14:57:07.964912Z",
     "iopub.status.idle": "2025-02-22T14:57:07.999293Z",
     "shell.execute_reply": "2025-02-22T14:57:07.998021Z",
     "shell.execute_reply.started": "2025-02-22T14:57:07.965364Z"
    }
   },
   "outputs": [
    {
     "data": {
      "text/plain": [
       "city                 0\n",
       "province             0\n",
       "latitude             0\n",
       "longitude            0\n",
       "lease_term           0\n",
       "type                 0\n",
       "price                0\n",
       "beds                 0\n",
       "baths                0\n",
       "sq_feet              0\n",
       "furnishing           0\n",
       "availability_date    0\n",
       "smoking              0\n",
       "cats                 0\n",
       "dogs                 0\n",
       "dtype: int64"
      ]
     },
     "execution_count": 23,
     "metadata": {},
     "output_type": "execute_result"
    }
   ],
   "source": [
    "rent_df['availability_date'] = rent_df['availability_date'].fillna(f\"{datetime.date.today().strftime('%B %d')}, {datetime.date.today().year}\")\n",
    "\n",
    "# Verifying that there is no longer nan value for the smoking\n",
    "rent_df.isna().sum()"
   ]
  },
  {
   "cell_type": "markdown",
   "id": "227300b0-ffe8-4c61-ba4f-1bbf819caf56",
   "metadata": {
    "execution": {
     "iopub.execute_input": "2025-02-21T19:32:24.517455Z",
     "iopub.status.busy": "2025-02-21T19:32:24.515497Z",
     "iopub.status.idle": "2025-02-21T19:32:24.522409Z",
     "shell.execute_reply": "2025-02-21T19:32:24.520810Z",
     "shell.execute_reply.started": "2025-02-21T19:32:24.517402Z"
    }
   },
   "source": [
    "#### Converting price column data type to int"
   ]
  },
  {
   "cell_type": "code",
   "execution_count": 24,
   "id": "9b872e71-0f06-4236-84fd-fc366a6c2fad",
   "metadata": {
    "execution": {
     "iopub.execute_input": "2025-02-22T14:57:08.000863Z",
     "iopub.status.busy": "2025-02-22T14:57:08.000382Z",
     "iopub.status.idle": "2025-02-22T14:57:08.013878Z",
     "shell.execute_reply": "2025-02-22T14:57:08.012925Z",
     "shell.execute_reply.started": "2025-02-22T14:57:08.000820Z"
    }
   },
   "outputs": [],
   "source": [
    "rent_df['price'] = rent_df['price'].astype(int)"
   ]
  },
  {
   "cell_type": "markdown",
   "id": "f9a87166-dee6-4bc4-9840-7c94c549c2f3",
   "metadata": {},
   "source": [
    "### Saving the cleaned data to a csv file"
   ]
  },
  {
   "cell_type": "code",
   "execution_count": 25,
   "id": "34402b10-3018-4546-9b9b-fbe10852c515",
   "metadata": {
    "execution": {
     "iopub.execute_input": "2025-02-22T14:57:08.015568Z",
     "iopub.status.busy": "2025-02-22T14:57:08.015053Z",
     "iopub.status.idle": "2025-02-22T14:57:08.461452Z",
     "shell.execute_reply": "2025-02-22T14:57:08.460508Z",
     "shell.execute_reply.started": "2025-02-22T14:57:08.015522Z"
    }
   },
   "outputs": [],
   "source": [
    "# Reset index\n",
    "rent_df.reset_index(drop=True)\n",
    "\n",
    "# Writing to file \n",
    "rent_df.to_csv('../Data/canada_rent_clean.csv', index=False)\n"
   ]
  }
 ],
 "metadata": {
  "kernelspec": {
   "display_name": "graph",
   "language": "python",
   "name": "graph"
  },
  "language_info": {
   "codemirror_mode": {
    "name": "ipython",
    "version": 3
   },
   "file_extension": ".py",
   "mimetype": "text/x-python",
   "name": "python",
   "nbconvert_exporter": "python",
   "pygments_lexer": "ipython3",
   "version": "3.12.7"
  }
 },
 "nbformat": 4,
 "nbformat_minor": 5
}

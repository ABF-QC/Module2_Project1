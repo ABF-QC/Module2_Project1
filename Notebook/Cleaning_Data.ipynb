{
 "cells": [
  {
   "cell_type": "markdown",
   "id": "7ecfab99-6a3b-47f5-8155-4a5dea52c6ba",
   "metadata": {},
   "source": [
    "### Importing necessary library"
   ]
  },
  {
   "cell_type": "code",
   "execution_count": null,
   "id": "a990b971-9054-42c1-a889-8f4959b4fb0b",
   "metadata": {},
   "outputs": [],
   "source": [
    "import pandas as pd\n",
    "import numpy as np\n",
    "\n",
    "import datetime"
   ]
  },
  {
   "cell_type": "markdown",
   "id": "47bdcb37-63a5-4450-9b9d-45079ea9607e",
   "metadata": {},
   "source": [
    "### Reading the data file"
   ]
  },
  {
   "cell_type": "code",
   "execution_count": null,
   "id": "f55c120d-97ec-4ec9-80ff-69e08a7161cc",
   "metadata": {},
   "outputs": [],
   "source": [
    "rent_df = pd.read_csv('../Data/canada_rent.csv')\n",
    "rent_df"
   ]
  },
  {
   "cell_type": "markdown",
   "id": "401e7987-3739-442a-925e-05b973dab693",
   "metadata": {},
   "source": [
    "### Investigate the possibility of each categorical columns"
   ]
  },
  {
   "cell_type": "code",
   "execution_count": null,
   "id": "ccc69e5e-c490-44dd-8d08-acf77ae3e240",
   "metadata": {},
   "outputs": [],
   "source": [
    "\n",
    "print('The options for lease_term are : ', rent_df['lease_term'].unique(), '\\n')\n",
    "\n",
    "print('The options for type are : ', rent_df['type'].unique(), '\\n')\n",
    "\n",
    "print('The options for furnishing are : ', rent_df['furnishing'].unique(), '\\n')\n",
    "\n",
    "print('The options for smoking are : ', rent_df['smoking'].unique(), '\\n')\n",
    "\n",
    "print('The options for cats are : ', rent_df['cats'].unique(), '\\n')\n",
    "\n",
    "print('The options for dogs are : ', rent_df['dogs'].unique(), '\\n')\n",
    "\n",
    "print('The options for beds are : ', rent_df['beds'].unique(), '\\n')"
   ]
  },
  {
   "cell_type": "code",
   "execution_count": null,
   "id": "6648ee2c-4a60-491d-a015-9d17e0753a10",
   "metadata": {},
   "outputs": [],
   "source": [
    "rent_df['furnishing'].replace({'Unfurnished, Negotiable': 'Negotiable'}, inplace=True)"
   ]
  },
  {
   "cell_type": "markdown",
   "id": "366988dc-a40e-4c3e-a5c7-95ebdcede497",
   "metadata": {},
   "source": [
    "### Cleaning up the dataframe"
   ]
  },
  {
   "cell_type": "markdown",
   "id": "d9a0094a-1797-40ab-bbcb-a784490b5855",
   "metadata": {},
   "source": [
    "I will be removing columns that will bring no additional value to the regression analysis\n",
    "  * such as link and rentfaster_id columns.\n",
    "\n",
    "I will also be working with the latitude and longitude instead of address, since converting the addresses to 1/0 columns would be massive.\n",
    "  * I will be removing the address column.\n",
    "  * However, I will keep the city and Province for now.\n",
    "\n",
    "I will be removing the string 'Beds' from the beds column and will be replacing studio and none Beds by 0.\n",
    "\n",
    "I will be replacing the string immediate in the column availability_date by today's date, in order to change the column to a datetime stamp.\n",
    "\n",
    "I will be dropping all the rows where the column availability_date has the string 'No Vacancy'.\n",
    "\n",
    "I will be replacing the string 'Negotiable' and 'Call for Availability' in the column availability_date by today's date.\n",
    "\n",
    "I will be combining similar terms in the furnishing column.  'Unfurnished, Negotiable' will become 'Negotiable'.\n",
    "\n",
    "I will be replacingsimilar terms in the smoking column. 'Smoke Free Building' replaced by 'Non-Smoking'."
   ]
  },
  {
   "cell_type": "code",
   "execution_count": null,
   "id": "57300749-d2a7-490d-bf8f-d51184ccc579",
   "metadata": {},
   "outputs": [],
   "source": [
    "# Removing unecessary columns\n",
    "rent_df.drop(columns=['link', 'rentfaster_id','address'], inplace=True)"
   ]
  },
  {
   "cell_type": "markdown",
   "id": "30df09a1-4fb0-4b0e-9e9b-6941e31de9bb",
   "metadata": {
    "execution": {
     "iopub.execute_input": "2025-02-21T15:59:15.638841Z",
     "iopub.status.busy": "2025-02-21T15:59:15.636319Z",
     "iopub.status.idle": "2025-02-21T15:59:15.664900Z",
     "shell.execute_reply": "2025-02-21T15:59:15.658773Z",
     "shell.execute_reply.started": "2025-02-21T15:59:15.638711Z"
    }
   },
   "source": [
    "**Filtering the beds column**"
   ]
  },
  {
   "cell_type": "code",
   "execution_count": null,
   "id": "bc12bac6-6551-4603-a6ae-99cac580c045",
   "metadata": {},
   "outputs": [],
   "source": [
    "# Looking at the beds possibilities\n",
    "print('Before =>',rent_df['beds'].unique())\n",
    "\n",
    "# Removing Beds, Bed from column beds\n",
    "rent_df['beds'].replace(r'\\s*Beds?\\s*','', regex=True, inplace=True)\n",
    "\n",
    "# Replacing Studio and none by 0\n",
    "rent_df['beds'].replace(r'\\b(Studio|none)\\b','0', regex=True, inplace=True)\n",
    "\n",
    "# Verifying that the string replacement was done correctly\n",
    "print('After =>',rent_df['beds'].unique())"
   ]
  },
  {
   "cell_type": "markdown",
   "id": "47906cc2-4323-484b-8b9a-4274bec094d6",
   "metadata": {
    "execution": {
     "iopub.execute_input": "2025-02-21T15:39:23.783221Z",
     "iopub.status.busy": "2025-02-21T15:39:23.781714Z",
     "iopub.status.idle": "2025-02-21T15:39:23.805687Z",
     "shell.execute_reply": "2025-02-21T15:39:23.804506Z",
     "shell.execute_reply.started": "2025-02-21T15:39:23.783162Z"
    }
   },
   "source": [
    "**Filtering the availability_date column**"
   ]
  },
  {
   "cell_type": "code",
   "execution_count": null,
   "id": "d1a8c9da-2d00-4e2e-be35-f5e49f350a8f",
   "metadata": {},
   "outputs": [],
   "source": [
    "# Look the possible string the column availability_date\n",
    "print('Before =>', rent_df['availability_date'].unique())\n",
    "\n",
    "# Looking at frequency of occurency of 'Negotiable', 'Call for Availability' in the column availability_date\n",
    "print(rent_df[rent_df['availability_date'].isin(['Negotiable', 'Call for Availability'])].count())\n",
    "\n",
    "# Looking at frequency of occurency of 'No Vacancy' in the column availability_dateabs\n",
    "print(rent_df[rent_df['availability_date'].isin(['No Vacancy'])].count())\n"
   ]
  },
  {
   "cell_type": "code",
   "execution_count": null,
   "id": "e5f185d2-9a8a-4866-b296-61e2285d4d69",
   "metadata": {},
   "outputs": [],
   "source": [
    "# Removing adds (removing the entire row) where there is 'No Vacancy'\n",
    "rent_df = rent_df[~rent_df['availability_date'].isin(['No Vacancy'])]"
   ]
  },
  {
   "cell_type": "code",
   "execution_count": null,
   "id": "207a9df3-ef2c-4efc-8cf1-da0c87ad5224",
   "metadata": {},
   "outputs": [],
   "source": [
    "# Retrieve today's date\n",
    "today = datetime.date.today().strftime('%B %d') #pd.Timestamp.today()\n",
    "\n",
    "# Replace the strings by today's date\n",
    "rent_df['availability_date'].replace({'Immediate': today}, inplace=True)\n",
    "rent_df['availability_date'].replace({'Negotiable': today}, inplace=True)\n",
    "rent_df['availability_date'].replace({'Call for Availability': today}, inplace=True)\n",
    "\n",
    "print('After =>', rent_df['availability_date'].unique())\n",
    "\n",
    "# Convert the column availability_date to a timestamp\n",
    "rent_df['availability_date'] = pd.to_datetime(rent_df['availability_date'] + f\", {datetime.date.today().year}\", format=\"%B %d, %Y\")\n",
    "\n",
    "rent_df['availability_date']"
   ]
  },
  {
   "cell_type": "markdown",
   "id": "3425fb1c-4a43-4c5d-bb13-607bcf6c4b18",
   "metadata": {
    "execution": {
     "iopub.execute_input": "2025-02-21T16:19:21.072927Z",
     "iopub.status.busy": "2025-02-21T16:19:21.070294Z",
     "iopub.status.idle": "2025-02-21T16:19:21.093735Z",
     "shell.execute_reply": "2025-02-21T16:19:21.090746Z",
     "shell.execute_reply.started": "2025-02-21T16:19:21.072785Z"
    }
   },
   "source": [
    "**Combining similar string in the furnishing column**"
   ]
  },
  {
   "cell_type": "code",
   "execution_count": null,
   "id": "a99abea8-fb44-4f25-b033-931f220f80e2",
   "metadata": {},
   "outputs": [],
   "source": [
    "# Look the possible string the column furnishing\n",
    "print('Before =>', rent_df['furnishing'].unique())\n",
    "\n",
    "rent_df['furnishing'].replace({'Unfurnished, Negotiable': 'Negotiable'}, inplace=True)\n",
    "\n",
    "# Look the possible string the column furnishing\n",
    "print('After =>', rent_df['furnishing'].unique())"
   ]
  },
  {
   "cell_type": "markdown",
   "id": "a01c9262-2a82-4076-a420-861ca4404a63",
   "metadata": {
    "execution": {
     "iopub.execute_input": "2025-02-21T16:19:21.072927Z",
     "iopub.status.busy": "2025-02-21T16:19:21.070294Z",
     "iopub.status.idle": "2025-02-21T16:19:21.093735Z",
     "shell.execute_reply": "2025-02-21T16:19:21.090746Z",
     "shell.execute_reply.started": "2025-02-21T16:19:21.072785Z"
    }
   },
   "source": [
    "**Combining similar string in the smoking column**"
   ]
  },
  {
   "cell_type": "code",
   "execution_count": null,
   "id": "e8e9d04b-e9f8-4042-8cee-a7faf277f595",
   "metadata": {},
   "outputs": [],
   "source": [
    "# Look the possible string the column smoking\n",
    "print('Before =>', rent_df['smoking'].unique())\n",
    "\n",
    "# Replace 'Smoke Free Building' by 'Non-Smoking'\n",
    "rent_df['smoking'].replace({'Smoke Free Building': 'Non-Smoking'}, inplace=True)\n",
    "\n",
    "# Replace 'Negotiable' by 'Smoking Allowed'\n",
    "rent_df['smoking'].replace({'Negotiable': 'Smoking Allowed'}, inplace=True)\n",
    "\n",
    "# Look the possible string the column smoking\n",
    "print('After =>', rent_df['smoking'].unique())"
   ]
  },
  {
   "cell_type": "markdown",
   "id": "6e76eae8-a015-41db-b3f8-538ccaca1aaf",
   "metadata": {},
   "source": [
    "**Cleaning up the sq_feet column**"
   ]
  },
  {
   "cell_type": "code",
   "execution_count": null,
   "id": "6598f987-47bc-4d40-b314-b5f4e4cc7e34",
   "metadata": {},
   "outputs": [],
   "source": [
    "# Removing the sq ft unit sometimes mentioned\n",
    "rent_df['sq_feet'] = rent_df['sq_feet'].str.split(' ', expand=True)[0]\n",
    "\n",
    "# Replace + sign\n",
    "rent_df['sq_feet'] = rent_df['sq_feet'].str.split('+', expand=True)[0]\n",
    "\n",
    "# Replace , \n",
    "rent_df['sq_feet'] = rent_df['sq_feet'].str.replace(',', '', regex=True)\n",
    "\n",
    "\n",
    "# Removing range.\n",
    "rent_df['sq_feet'] = rent_df['sq_feet'].str.split('-', expand=True)[0]\n",
    "\n",
    "# Removing range.\n",
    "rent_df['sq_feet'] = rent_df['sq_feet'].str.split('.', expand=True)[0]\n",
    "\n",
    "# Replace , \n",
    "rent_df['sq_feet'] = rent_df['sq_feet'].str.replace('~', '', regex=True)\n",
    "\n",
    "# Replace , \n",
    "rent_df['sq_feet'] = rent_df['sq_feet'].str.replace('sf', '', regex=True)\n",
    "\n",
    "# Replace , \n",
    "rent_df['sq_feet'] = rent_df['sq_feet'].str.replace('Large', '', regex=True)\n",
    "\n",
    "# Replace , \n",
    "rent_df['sq_feet'] = rent_df['sq_feet'].str.replace('Large', '', regex=True)\n",
    "\n",
    "# Replace 'approx.' \n",
    "rent_df['sq_feet'] = rent_df['sq_feet'].replace(r'approx', np.nan, regex=True)\n",
    "rent_df['sq_feet'] = rent_df['sq_feet'].str.replace('Approximately.', '', regex=True)\n",
    "rent_df['sq_feet'] = rent_df['sq_feet'].str.replace('Approximately', '', regex=True)\n",
    "\n",
    "# Replace 'approx.' \n",
    "rent_df['sq_feet'] = rent_df['sq_feet'].replace(r'TOL', np.nan, regex=True)\n",
    "\n",
    "rent_df['sq_feet'] = rent_df['sq_feet'].str.replace(r'[^\\d]', '', regex=True)\n",
    "\n",
    "# Replace '' \n",
    "rent_df['sq_feet'] = rent_df['sq_feet'].replace('', np.nan, regex=True)\n",
    "\n",
    "rent_df['sq_feet'] = pd.to_numeric(rent_df['sq_feet'], errors='coerce')"
   ]
  },
  {
   "cell_type": "markdown",
   "id": "75603625-7951-45bc-b8db-45fa05acee6a",
   "metadata": {},
   "source": [
    "### Investigate if the dataset contains missing values"
   ]
  },
  {
   "cell_type": "code",
   "execution_count": null,
   "id": "bd267952-7f11-4a74-9b09-13b9288d8b67",
   "metadata": {},
   "outputs": [],
   "source": [
    "rent_df.isna().sum()"
   ]
  },
  {
   "cell_type": "markdown",
   "id": "79eabd46-25af-4f2c-9115-1b70652331e1",
   "metadata": {},
   "source": [
    "I want to dig into the missing value.\n",
    "\n",
    "I will look for what type of property has no square footage indicated. I might want to drop certain property type (ie: storage, garage, ...)"
   ]
  },
  {
   "cell_type": "code",
   "execution_count": null,
   "id": "c88c13bc-0700-469c-8511-b382d11de24f",
   "metadata": {},
   "outputs": [],
   "source": [
    "(rent_df[rent_df['sq_feet'].isna()].groupby(['type'])['city'].count() / rent_df.groupby(['type'])['city'].count()) *100"
   ]
  },
  {
   "cell_type": "markdown",
   "id": "16fd75da-e3c3-4f1c-9f0b-4a930d298761",
   "metadata": {},
   "source": [
    "I will be removing all the storage, since they all don't include square footage.\n",
    "\n",
    "I will also be removing the Parking spot category, since most of them are missing the square footage.\n",
    "\n",
    "I will also be removing the Office Space and Acreage to focus mainly on standard housing\n"
   ]
  },
  {
   "cell_type": "code",
   "execution_count": null,
   "id": "a9237c2a-f760-4556-a7b7-6be9f417cdd7",
   "metadata": {},
   "outputs": [],
   "source": [
    "# Removing the Property type based on the previous analysis\n",
    "rent_df = rent_df[~rent_df['type'].isin(['Acreage', 'Office Space', 'Parking Spot', 'Storage'])]"
   ]
  },
  {
   "cell_type": "code",
   "execution_count": null,
   "id": "12b8b112-bb01-4e6f-96d9-ff84f564cb3c",
   "metadata": {},
   "outputs": [],
   "source": [
    "rent_df.isna().sum()"
   ]
  },
  {
   "cell_type": "code",
   "execution_count": null,
   "id": "085bd5e6-43aa-4dec-9bf8-ae98abc09b98",
   "metadata": {},
   "outputs": [],
   "source": [
    "(rent_df[rent_df['sq_feet'].isna()].groupby(['type'])['city'].count() / rent_df.groupby(['type'])['city'].count()) *100"
   ]
  },
  {
   "cell_type": "markdown",
   "id": "4d312138-197b-4676-8796-22955c4d9206",
   "metadata": {},
   "source": [
    "Replacing the the Nan value in sq_feet by the grouped mean on building type and # of beds\n",
    "  * Even after replacing the Nan value there are some group categories that just don't have non nan data to produce a mean.\n",
    "  * I will be dropping two remaining rows of nan value"
   ]
  },
  {
   "cell_type": "code",
   "execution_count": null,
   "id": "e41dfc33-374e-446d-92d8-25e88de1c478",
   "metadata": {},
   "outputs": [],
   "source": [
    "# Replacing Nan\n",
    "rent_df['sq_feet'] = rent_df.groupby(['type', 'beds'])['sq_feet'].transform(lambda x: x.fillna(x.mean()))\n",
    "\n",
    "# Verifying that there is no longer nan value for the sq_feet\n",
    "rent_df.isna().sum()\n",
    "\n",
    "# Investigating the remaining Nan\n",
    "group_means = rent_df.groupby(['type', 'beds'])['sq_feet'].mean()\n",
    "\n",
    "print(group_means[group_means.isna()])\n",
    "\n",
    "print(rent_df[rent_df['type'] == 'House'].groupby('beds')['sq_feet'].mean())\n",
    "\n",
    "# Dropping remaininf Nan in sq_feet\n",
    "rent_df = rent_df[~rent_df['sq_feet'].isna()]\n",
    "\n",
    "# Converting the column to int\n",
    "rent_df['sq_feet'] = rent_df['sq_feet'].astype(int)\n",
    "\n",
    "# Verifying that there is no longer nan value for the sq_feet\n",
    "rent_df.isna().sum()"
   ]
  },
  {
   "cell_type": "markdown",
   "id": "f2dc7550-e37c-4e39-859d-f0524beb45b1",
   "metadata": {},
   "source": [
    "I will be dropping the Nan value of lease_term because it implies only a small amount of data on the entire dataset"
   ]
  },
  {
   "cell_type": "code",
   "execution_count": null,
   "id": "46fb2641-b17c-47c9-aae3-bde1fa5ef21c",
   "metadata": {},
   "outputs": [],
   "source": [
    "# Dropping remaininf Nan in sq_feet\n",
    "rent_df = rent_df[~rent_df['lease_term'].isna()]\n",
    "\n",
    "# Verifying that there is no longer nan value for the sq_feet\n",
    "rent_df.isna().sum()"
   ]
  },
  {
   "cell_type": "markdown",
   "id": "a5cccd8a-7165-4270-8217-c7f1939c7c50",
   "metadata": {},
   "source": [
    "I will be replacing Nan value in smoking according to the most frequent smoking category, which is Non-Smocking."
   ]
  },
  {
   "cell_type": "code",
   "execution_count": null,
   "id": "d62e3df1-2dfd-43bf-ae7a-064f6d497d5c",
   "metadata": {},
   "outputs": [],
   "source": [
    "# Look at the occurence count of each smoking category\n",
    "print(rent_df.groupby(['smoking'])['city'].count())\n",
    "\n",
    "# Replace Nan value in smoking\n",
    "rent_df['smoking'] = rent_df['smoking'].fillna('Non-Smoking')\n",
    "\n",
    "# Verifying that there is no longer nan value for the smoking\n",
    "rent_df.isna().sum()"
   ]
  },
  {
   "cell_type": "markdown",
   "id": "e113aa1e-4224-455f-8892-5ddbcb01b05f",
   "metadata": {},
   "source": [
    "I will be replacing Nan value in availability_date by today's date "
   ]
  },
  {
   "cell_type": "code",
   "execution_count": null,
   "id": "fff600a3-70e2-444a-ba71-915fa3064c69",
   "metadata": {},
   "outputs": [],
   "source": [
    "rent_df['availability_date'] = rent_df['availability_date'].fillna(f\"{datetime.date.today().strftime('%B %d')}, {datetime.date.today().year}\")\n",
    "\n",
    "# Verifying that there is no longer nan value for the smoking\n",
    "rent_df.isna().sum()"
   ]
  },
  {
   "cell_type": "markdown",
   "id": "f9a87166-dee6-4bc4-9840-7c94c549c2f3",
   "metadata": {},
   "source": [
    "### Saving the cleaned data to a csv file"
   ]
  },
  {
   "cell_type": "code",
   "execution_count": null,
   "id": "34402b10-3018-4546-9b9b-fbe10852c515",
   "metadata": {},
   "outputs": [],
   "source": [
    "# Reset index\n",
    "rent_df.reset_index(drop=True)\n",
    "\n",
    "# Writing to file \n",
    "rent_df.to_csv('../Data/canada_rent_clean.csv', index=False)\n"
   ]
  }
 ],
 "metadata": {
  "kernelspec": {
   "display_name": "graph",
   "language": "python",
   "name": "graph"
  },
  "language_info": {
   "codemirror_mode": {
    "name": "ipython",
    "version": 3
   },
   "file_extension": ".py",
   "mimetype": "text/x-python",
   "name": "python",
   "nbconvert_exporter": "python",
   "pygments_lexer": "ipython3",
   "version": "3.12.7"
  }
 },
 "nbformat": 4,
 "nbformat_minor": 5
}

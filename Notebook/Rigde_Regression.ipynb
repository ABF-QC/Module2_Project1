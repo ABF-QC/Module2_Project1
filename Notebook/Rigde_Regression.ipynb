{
 "cells": [
  {
   "cell_type": "markdown",
   "id": "256830c7-5436-4a54-8993-440d8156f09d",
   "metadata": {},
   "source": [
    "### Importing necessary library"
   ]
  },
  {
   "cell_type": "code",
   "execution_count": 1,
   "id": "1a96ad21-4c43-4a4f-97c3-15f1612447ce",
   "metadata": {
    "execution": {
     "iopub.execute_input": "2025-02-22T22:47:52.670616Z",
     "iopub.status.busy": "2025-02-22T22:47:52.670284Z",
     "iopub.status.idle": "2025-02-22T22:47:56.518515Z",
     "shell.execute_reply": "2025-02-22T22:47:56.517178Z",
     "shell.execute_reply.started": "2025-02-22T22:47:52.670585Z"
    }
   },
   "outputs": [],
   "source": [
    "import pandas as pd\n",
    "import numpy as np\n",
    "\n",
    "import datetime\n",
    "\n",
    "import seaborn as sns\n",
    "import matplotlib.pyplot as plt\n",
    "\n",
    "from sklearn.preprocessing import StandardScaler\n",
    "from sklearn.linear_model import LinearRegression\n",
    "from sklearn.preprocessing import PolynomialFeatures\n",
    "\n",
    "from sklearn.metrics import mean_absolute_error, mean_squared_error\n",
    "from sklearn.metrics import r2_score"
   ]
  },
  {
   "cell_type": "markdown",
   "id": "0bb67240-bb2c-4c75-9630-e1892a49e642",
   "metadata": {},
   "source": [
    "### Define global settings"
   ]
  },
  {
   "cell_type": "code",
   "execution_count": 2,
   "id": "d317315a-4ab2-42e3-88d7-2b8119fa395e",
   "metadata": {
    "execution": {
     "iopub.execute_input": "2025-02-22T22:47:56.520364Z",
     "iopub.status.busy": "2025-02-22T22:47:56.519837Z",
     "iopub.status.idle": "2025-02-22T22:47:56.525381Z",
     "shell.execute_reply": "2025-02-22T22:47:56.523959Z",
     "shell.execute_reply.started": "2025-02-22T22:47:56.520330Z"
    }
   },
   "outputs": [],
   "source": [
    "pd.options.display.float_format = '{:.6f}'.format"
   ]
  },
  {
   "cell_type": "markdown",
   "id": "8fc8551c-2810-4a1e-b2f8-848ba671488d",
   "metadata": {},
   "source": [
    "### Reading the training and testing dataset files"
   ]
  },
  {
   "cell_type": "code",
   "execution_count": 3,
   "id": "ad0cadfb-fe74-4e82-9529-6e7bd3c18c4f",
   "metadata": {
    "execution": {
     "iopub.execute_input": "2025-02-22T22:47:56.527414Z",
     "iopub.status.busy": "2025-02-22T22:47:56.526842Z",
     "iopub.status.idle": "2025-02-22T22:47:56.701397Z",
     "shell.execute_reply": "2025-02-22T22:47:56.699658Z",
     "shell.execute_reply.started": "2025-02-22T22:47:56.527359Z"
    }
   },
   "outputs": [],
   "source": [
    "X_train = pd.read_csv('../Data/X_Training_Can.csv')\n",
    "X_test = pd.read_csv('../Data/X_Testing_Can.csv')\n",
    "\n",
    "y_train = pd.read_csv('../Data/y_Training_Can.csv')\n",
    "y_test = pd.read_csv('../Data/y_Testing_Can.csv')"
   ]
  },
  {
   "cell_type": "markdown",
   "id": "57195f4b-7d83-4208-b09a-c46d95620afa",
   "metadata": {},
   "source": [
    "### Features to keep"
   ]
  },
  {
   "cell_type": "code",
   "execution_count": 35,
   "id": "2ca89921-0dc1-4d13-8073-17415ebabc8e",
   "metadata": {
    "execution": {
     "iopub.execute_input": "2025-02-23T00:12:14.684205Z",
     "iopub.status.busy": "2025-02-23T00:12:14.681514Z",
     "iopub.status.idle": "2025-02-23T00:12:14.701169Z",
     "shell.execute_reply": "2025-02-23T00:12:14.699773Z",
     "shell.execute_reply.started": "2025-02-23T00:12:14.684139Z"
    }
   },
   "outputs": [],
   "source": [
    "# feat2keep = ['longitude', 'beds', 'baths', 'sq_feet' ,'lease_term_6 months',\n",
    "#  'lease_term_Negotiable' ,'lease_term_Short Term', 'type_Basement',\n",
    "#  'type_Condo Unit' ,'type_House','type_Room For Rent', 'type_Townhouse',\n",
    "#  'smoking_Smoking Allowed' ,'province_British Columbia', 'province_Manitoba',\n",
    "#  'province_Newfoundland and Labrador' ,'province_Nova Scotia',\n",
    "#  'province_Ontario', 'province_Quebec', 'province_Saskatchewan']\n",
    "\n",
    "# feat2keep = ['longitude', 'beds', 'baths', 'sq_feet', 'lease_term_6 months',\n",
    "#  'lease_term_Short Term' ,'type_Basement' ,'type_House' ,'type_Room For Rent',\n",
    "#  'province_British Columbia' ,'province_Manitoba',\n",
    "#  'province_Newfoundland and Labrador' ,'province_Ontario', 'province_Quebec',\n",
    "#  'province_Saskatchewan']\n",
    "\n",
    "# feat2keep = ['longitude' ,'sq_feet', 'type_Basement' ,'type_Room For Rent',\n",
    "#  'province_Manitoba']\n",
    "# feat2keep = ['baths','beds','type_House','province_Ontario'\t,'longitude',\n",
    "# 'sq_feet','province_Manitoba','province_Saskatchewan',\n",
    "# 'type_Basement','type_Room For Rent','latitude', 'lease_term_6 months',\n",
    "#             'lease_term_Short Term', 'province_Northwest Territories',\n",
    "#             'cats','dogs']\n",
    "\n",
    "\n",
    "feat2keep = ['baths','beds','type_House','province_Ontario'\t,'longitude',\n",
    "'sq_feet','province_Saskatchewan',\n",
    "'type_Basement','type_Room For Rent','latitude', ]\n",
    "\n",
    "X_train = X_train[feat2keep]\n",
    "X_test = X_test[feat2keep]"
   ]
  },
  {
   "cell_type": "markdown",
   "id": "94a750e7-d2e5-4e05-9b1d-f8e7ecff1117",
   "metadata": {},
   "source": [
    "## Part 1: Find the optimal polynomial degree\n",
    "---\n",
    "Conclusion :\n"
   ]
  },
  {
   "cell_type": "markdown",
   "id": "7a2522a4-d5f2-4811-b55c-1d210692bbb8",
   "metadata": {},
   "source": [
    "## Part 2 : Building the model with the best polynomial degree\n",
    "---"
   ]
  },
  {
   "cell_type": "markdown",
   "id": "d1b1e543-9535-445d-a03f-1f9ea57d3045",
   "metadata": {},
   "source": [
    "### Create Polynomial Features"
   ]
  },
  {
   "cell_type": "markdown",
   "id": "93749ed6-00d9-455e-a467-0891bc8436c3",
   "metadata": {},
   "source": [
    "### Data scaling"
   ]
  },
  {
   "cell_type": "markdown",
   "id": "b19ec523-c898-414c-b545-8509c7c24f6a",
   "metadata": {},
   "source": [
    "### Create a Polynomial Regression Model"
   ]
  },
  {
   "cell_type": "markdown",
   "id": "6b22834f-a1f6-4c37-9c51-1f0b5393f662",
   "metadata": {},
   "source": [
    "### Use model on testing dataset"
   ]
  },
  {
   "cell_type": "markdown",
   "id": "49e0ce99-deaa-4bf8-85c3-f6bf2cc8439e",
   "metadata": {
    "execution": {
     "iopub.execute_input": "2025-02-22T22:51:03.185816Z",
     "iopub.status.busy": "2025-02-22T22:51:03.184942Z",
     "iopub.status.idle": "2025-02-22T22:51:03.192520Z",
     "shell.execute_reply": "2025-02-22T22:51:03.191000Z",
     "shell.execute_reply.started": "2025-02-22T22:51:03.185758Z"
    }
   },
   "source": [
    "### Compute error scores"
   ]
  },
  {
   "cell_type": "markdown",
   "id": "a13e6249-71f7-424d-b9db-872065a28f2f",
   "metadata": {},
   "source": [
    "\n",
    "| Regression Method   | Mean Absolute Error | Mean Square Error    | Root Mean Square Error | R2 scores   |\n",
    "| ------------------- | ------------------- | -------------------- | ---------------------- | ----------- |\n",
    "| Linear              | 391                | 375721             | 613                   | 1           |\n",
    "| Polynomial          | 362                | 297611             | 546                   | 1           |\n",
    "\n",
    "The errors (Mean Absolute, Mean Square and Root Mean Square) are all lower for the polynomial regression model than the linear regression model. A lower error is an indication that the prediction values are closer to the true value. \n",
    "\n",
    "** Conclusion ** </br>\n",
    "The model built from a polynomial regression with an order of 2 performs better than the linear regression model, since its predicted values are closer to the true values.\n"
   ]
  },
  {
   "cell_type": "code",
   "execution_count": null,
   "id": "84342b1b-99ff-4b9f-a2a2-45612794e90d",
   "metadata": {},
   "outputs": [],
   "source": []
  }
 ],
 "metadata": {
  "kernelspec": {
   "display_name": "graph",
   "language": "python",
   "name": "graph"
  },
  "language_info": {
   "codemirror_mode": {
    "name": "ipython",
    "version": 3
   },
   "file_extension": ".py",
   "mimetype": "text/x-python",
   "name": "python",
   "nbconvert_exporter": "python",
   "pygments_lexer": "ipython3",
   "version": "3.12.7"
  }
 },
 "nbformat": 4,
 "nbformat_minor": 5
}

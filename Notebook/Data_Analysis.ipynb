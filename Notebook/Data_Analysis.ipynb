{
 "cells": [
  {
   "cell_type": "markdown",
   "id": "c79e8fda-0765-4815-af0f-35caab3fc7b9",
   "metadata": {},
   "source": [
    "---\n",
    "\n",
    "# Data analysis\n",
    "\n",
    "This step is needed to understand the dataset. Understand the trend, the distribution and the range of the various information available in the dataset\n",
    "\n",
    "1. Investigate the price distribution\n",
    "\n",
    "2. Investigate the representativity of the dataset\n",
    "\n",
    "3. Investigate Province vs Price\n",
    "\n",
    "4. Investigate Price vs rental allowing Pets\n",
    "\n",
    "5. Investigate Price vs rental smoking rules\n",
    "\n",
    "6. Investigate Price vs rental bulding type\n",
    "\n",
    "7. Investigate Price vs furnishing \n",
    "\n",
    "8. Investigate Price vs # of bedrooms\n",
    "\n",
    "9. Investigate Price vs Area of rental in square feet\n",
    "\n",
    "10. Investigate Price vs City\n",
    "\n",
    "11. Investigating Price vs Latitude\n",
    "\n",
    "12. Investigating Price vs lease term\n",
    "\n",
    "13. Investigate Price vs # of bathrooms\n",
    "\n",
    "---"
   ]
  },
  {
   "cell_type": "markdown",
   "id": "126e6ca6-a808-4677-a054-da80985c854d",
   "metadata": {},
   "source": [
    "---\n",
    "# Results\n",
    "\n",
    "\n",
    "1. Investigate the price distribution\n",
    "\n",
    "  * The original dataset is severely skewed to the left (far from a  normal distribution)\n",
    "  * A second dataset will be created with its price being limited at 5 000$. This dataset a had more near normal distribution.\n",
    "\n",
    "2. Investigate the representativity\n",
    "  * A few province are well represented in the dataset.\n",
    "  * The rest are under-represented or even almost not represented in the dataset\n",
    "  * **The models will perform poorly over certain Province, such as - New Brunswick - Newfoundland and Labrador - Northwest Territories, due to under representativity of the sample dataset.**\n",
    "\n",
    "3. Investigate Province vs Price\n",
    "  * The province itself has an impact on the price of an housing rental across Canada\n",
    "  * However, over the well represented province the gap is not significant and the Province itself my not be a significant forecast predictor.\n",
    "\n",
    "4. Investigate Price vs rental allowing Pets\n",
    "  * Pets will be a predicting factor of the price. Mostly, the cats since it seems to be links to lower rent prices.\n",
    "\n",
    "5. Investigate Price vs rental smoking rules\n",
    "  * Smoking allowed rental is not present for all province.\n",
    "  * However, over the well represented province smoking is a good predictor, since rental that allowed smoking have a lower mean price\n",
    "\n",
    "6. Investigate Price vs rental bulding type\n",
    "  * Room for rent, basement and house are going to be good rpedictors since their mean price are distinguishable from the other types.\n",
    "\n",
    "7. Investigate Price vs furnishing \n",
    "  * Furnishing will not be a strong predictor.\n",
    "\n",
    "8. Investigate Price vs # of bedrooms\n",
    "  * The number of bedrooms will be a strong predictor of the price.\n",
    "  * However, it might not be a linear trend, most likely a x² equation.\n",
    "\n",
    "9. Investigate Price vs Area of rental in square feet\n",
    "  * The sq_foot is has a linear trend. Over the data are very dispersed and not well gathered along aline.\n",
    "  * The square footage will not be a good predictor.\n",
    "\n",
    "10. Investigate Price vs City \n",
    "  * The best city for predicting factors would be\n",
    "      - Camrose\n",
    "      - Vancouver\n",
    "      - West Vancouver\n",
    "      - Rocky View\n",
    "\n",
    "11. Investigating Price vs Latitude\n",
    "  * The latitude impacts the price. Thus, it might be a better to use the latitude and longitude in the model, since they are numeric instead of using the City name.\n",
    "\n",
    "  * By using the City name, we would need to transform the categorical city column in a numeric column and this would create a zillon of column.\n",
    "\n",
    "  * The best combinaison would be to use the 4 best city predictors and the latitudes and longitudes.\n",
    "\n",
    "12. Investigating Price vs lease term\n",
    "  * Lease terms could be a moderately low predictor.\n",
    "  * The best predictors for the lease type are:\n",
    "      - Short term\n",
    "      - Long term\n",
    "    \n",
    "13. Investigate Price vs # of bathrooms\n",
    "  * The number of bathrooms in a rental has a direct impact on the price.\n",
    "  * Maybe not linear though\n",
    "---"
   ]
  },
  {
   "cell_type": "markdown",
   "id": "bafdc030-f0f9-40bc-9c2b-c2b5da1190e2",
   "metadata": {},
   "source": [
    "### Importing necessary library"
   ]
  },
  {
   "cell_type": "code",
   "execution_count": 1,
   "id": "3486f6d8-2696-41ce-a195-d0e0a5be481a",
   "metadata": {
    "execution": {
     "iopub.execute_input": "2025-02-24T16:27:03.380094Z",
     "iopub.status.busy": "2025-02-24T16:27:03.378859Z",
     "iopub.status.idle": "2025-02-24T16:27:06.321079Z",
     "shell.execute_reply": "2025-02-24T16:27:06.319590Z",
     "shell.execute_reply.started": "2025-02-24T16:27:03.380029Z"
    }
   },
   "outputs": [],
   "source": [
    "import pandas as pd\n",
    "import numpy as np\n",
    "\n",
    "import datetime\n",
    "\n",
    "import seaborn as sns\n",
    "import matplotlib.pyplot as plt"
   ]
  },
  {
   "cell_type": "markdown",
   "id": "b01b8a42-1b87-46bb-b34d-47d73eb90db7",
   "metadata": {},
   "source": [
    "### Reading the cleaned data file"
   ]
  },
  {
   "cell_type": "code",
   "execution_count": 2,
   "id": "ae082473-adc6-4c7c-b64c-6303f42956ed",
   "metadata": {
    "execution": {
     "iopub.execute_input": "2025-02-24T16:27:06.323280Z",
     "iopub.status.busy": "2025-02-24T16:27:06.322616Z",
     "iopub.status.idle": "2025-02-24T16:27:06.416083Z",
     "shell.execute_reply": "2025-02-24T16:27:06.415010Z",
     "shell.execute_reply.started": "2025-02-24T16:27:06.323244Z"
    }
   },
   "outputs": [
    {
     "data": {
      "text/html": [
       "<div>\n",
       "<style scoped>\n",
       "    .dataframe tbody tr th:only-of-type {\n",
       "        vertical-align: middle;\n",
       "    }\n",
       "\n",
       "    .dataframe tbody tr th {\n",
       "        vertical-align: top;\n",
       "    }\n",
       "\n",
       "    .dataframe thead th {\n",
       "        text-align: right;\n",
       "    }\n",
       "</style>\n",
       "<table border=\"1\" class=\"dataframe\">\n",
       "  <thead>\n",
       "    <tr style=\"text-align: right;\">\n",
       "      <th></th>\n",
       "      <th>city</th>\n",
       "      <th>province</th>\n",
       "      <th>latitude</th>\n",
       "      <th>longitude</th>\n",
       "      <th>lease_term</th>\n",
       "      <th>type</th>\n",
       "      <th>price</th>\n",
       "      <th>beds</th>\n",
       "      <th>baths</th>\n",
       "      <th>sq_feet</th>\n",
       "      <th>furnishing</th>\n",
       "      <th>availability_date</th>\n",
       "      <th>smoking</th>\n",
       "      <th>cats</th>\n",
       "      <th>dogs</th>\n",
       "    </tr>\n",
       "  </thead>\n",
       "  <tbody>\n",
       "    <tr>\n",
       "      <th>0</th>\n",
       "      <td>Airdrie</td>\n",
       "      <td>Alberta</td>\n",
       "      <td>51.271725</td>\n",
       "      <td>-114.020135</td>\n",
       "      <td>Negotiable</td>\n",
       "      <td>Apartment</td>\n",
       "      <td>2390</td>\n",
       "      <td>0</td>\n",
       "      <td>1.0</td>\n",
       "      <td>361</td>\n",
       "      <td>Unfurnished</td>\n",
       "      <td>2025-02-24</td>\n",
       "      <td>Non-Smoking</td>\n",
       "      <td>1</td>\n",
       "      <td>1</td>\n",
       "    </tr>\n",
       "    <tr>\n",
       "      <th>1</th>\n",
       "      <td>Airdrie</td>\n",
       "      <td>Alberta</td>\n",
       "      <td>51.271725</td>\n",
       "      <td>-114.020135</td>\n",
       "      <td>Negotiable</td>\n",
       "      <td>Apartment</td>\n",
       "      <td>3615</td>\n",
       "      <td>1</td>\n",
       "      <td>1.0</td>\n",
       "      <td>525</td>\n",
       "      <td>Unfurnished</td>\n",
       "      <td>2025-02-24</td>\n",
       "      <td>Non-Smoking</td>\n",
       "      <td>1</td>\n",
       "      <td>1</td>\n",
       "    </tr>\n",
       "    <tr>\n",
       "      <th>2</th>\n",
       "      <td>Airdrie</td>\n",
       "      <td>Alberta</td>\n",
       "      <td>51.271725</td>\n",
       "      <td>-114.020135</td>\n",
       "      <td>Negotiable</td>\n",
       "      <td>Apartment</td>\n",
       "      <td>4520</td>\n",
       "      <td>2</td>\n",
       "      <td>1.0</td>\n",
       "      <td>810</td>\n",
       "      <td>Unfurnished</td>\n",
       "      <td>2025-02-24</td>\n",
       "      <td>Non-Smoking</td>\n",
       "      <td>1</td>\n",
       "      <td>1</td>\n",
       "    </tr>\n",
       "    <tr>\n",
       "      <th>3</th>\n",
       "      <td>Airdrie</td>\n",
       "      <td>Alberta</td>\n",
       "      <td>51.271725</td>\n",
       "      <td>-114.020135</td>\n",
       "      <td>Negotiable</td>\n",
       "      <td>Apartment</td>\n",
       "      <td>1930</td>\n",
       "      <td>0</td>\n",
       "      <td>1.0</td>\n",
       "      <td>265</td>\n",
       "      <td>Unfurnished</td>\n",
       "      <td>2025-02-24</td>\n",
       "      <td>Non-Smoking</td>\n",
       "      <td>1</td>\n",
       "      <td>1</td>\n",
       "    </tr>\n",
       "    <tr>\n",
       "      <th>4</th>\n",
       "      <td>Airdrie</td>\n",
       "      <td>Alberta</td>\n",
       "      <td>51.285251</td>\n",
       "      <td>-114.010128</td>\n",
       "      <td>Long Term</td>\n",
       "      <td>Main Floor</td>\n",
       "      <td>1700</td>\n",
       "      <td>2</td>\n",
       "      <td>1.0</td>\n",
       "      <td>997</td>\n",
       "      <td>Unfurnished</td>\n",
       "      <td>2025-02-24</td>\n",
       "      <td>Non-Smoking</td>\n",
       "      <td>0</td>\n",
       "      <td>0</td>\n",
       "    </tr>\n",
       "  </tbody>\n",
       "</table>\n",
       "</div>"
      ],
      "text/plain": [
       "      city province   latitude   longitude  lease_term        type  price  \\\n",
       "0  Airdrie  Alberta  51.271725 -114.020135  Negotiable   Apartment   2390   \n",
       "1  Airdrie  Alberta  51.271725 -114.020135  Negotiable   Apartment   3615   \n",
       "2  Airdrie  Alberta  51.271725 -114.020135  Negotiable   Apartment   4520   \n",
       "3  Airdrie  Alberta  51.271725 -114.020135  Negotiable   Apartment   1930   \n",
       "4  Airdrie  Alberta  51.285251 -114.010128   Long Term  Main Floor   1700   \n",
       "\n",
       "   beds  baths  sq_feet   furnishing availability_date      smoking  cats  \\\n",
       "0     0    1.0      361  Unfurnished        2025-02-24  Non-Smoking     1   \n",
       "1     1    1.0      525  Unfurnished        2025-02-24  Non-Smoking     1   \n",
       "2     2    1.0      810  Unfurnished        2025-02-24  Non-Smoking     1   \n",
       "3     0    1.0      265  Unfurnished        2025-02-24  Non-Smoking     1   \n",
       "4     2    1.0      997  Unfurnished        2025-02-24  Non-Smoking     0   \n",
       "\n",
       "   dogs  \n",
       "0     1  \n",
       "1     1  \n",
       "2     1  \n",
       "3     1  \n",
       "4     0  "
      ]
     },
     "execution_count": 2,
     "metadata": {},
     "output_type": "execute_result"
    }
   ],
   "source": [
    "rent_df = pd.read_csv('../Data/canada_rent_clean.csv')\n",
    "rent_df.head(5)"
   ]
  },
  {
   "cell_type": "markdown",
   "id": "b5363a5f-5d26-43f9-a5f9-cb84f548e066",
   "metadata": {
    "execution": {
     "iopub.execute_input": "2025-02-21T20:00:55.781000Z",
     "iopub.status.busy": "2025-02-21T20:00:55.780416Z",
     "iopub.status.idle": "2025-02-21T20:00:55.790330Z",
     "shell.execute_reply": "2025-02-21T20:00:55.786943Z",
     "shell.execute_reply.started": "2025-02-21T20:00:55.780949Z"
    }
   },
   "source": [
    "### Investigating data distribution"
   ]
  },
  {
   "cell_type": "markdown",
   "id": "84722212-811c-4d23-911d-12e0487f7a6e",
   "metadata": {},
   "source": [
    "**Price distribution**\n",
    "\n",
    "Conclusion: the dataset is far from the normal distribution. It is significantly skewed to the left. This will propably impact any capacity of building a decent model with this dataset, since the outliers will probably have a significat impact on the accuray of the model"
   ]
  },
  {
   "cell_type": "code",
   "execution_count": 3,
   "id": "d0d5edfb-3dc4-4d5f-bd44-86f13e5a3a66",
   "metadata": {
    "execution": {
     "iopub.execute_input": "2025-02-24T16:27:06.418101Z",
     "iopub.status.busy": "2025-02-24T16:27:06.417420Z",
     "iopub.status.idle": "2025-02-24T16:27:09.753707Z",
     "shell.execute_reply": "2025-02-24T16:27:09.749027Z",
     "shell.execute_reply.started": "2025-02-24T16:27:06.418059Z"
    }
   },
   "outputs": [
    {
     "ename": "FileNotFoundError",
     "evalue": "[Errno 2] No such file or directory: 'Graph/OriginalPriceHistogramme.png'",
     "output_type": "error",
     "traceback": [
      "\u001b[0;31m---------------------------------------------------------------------------\u001b[0m",
      "\u001b[0;31mFileNotFoundError\u001b[0m                         Traceback (most recent call last)",
      "Cell \u001b[0;32mIn[3], line 21\u001b[0m\n\u001b[1;32m     18\u001b[0m ax\u001b[38;5;241m.\u001b[39mgrid(axis\u001b[38;5;241m=\u001b[39m\u001b[38;5;124m'\u001b[39m\u001b[38;5;124my\u001b[39m\u001b[38;5;124m'\u001b[39m, zorder \u001b[38;5;241m=\u001b[39m \u001b[38;5;241m0\u001b[39m, color\u001b[38;5;241m=\u001b[39m\u001b[38;5;124m'\u001b[39m\u001b[38;5;124mlightgray\u001b[39m\u001b[38;5;124m'\u001b[39m, linestyle\u001b[38;5;241m=\u001b[39m\u001b[38;5;124m'\u001b[39m\u001b[38;5;124mdashed\u001b[39m\u001b[38;5;124m'\u001b[39m)\n\u001b[1;32m     20\u001b[0m \u001b[38;5;66;03m# Save graph\u001b[39;00m\n\u001b[0;32m---> 21\u001b[0m \u001b[43mplt\u001b[49m\u001b[38;5;241;43m.\u001b[39;49m\u001b[43msavefig\u001b[49m\u001b[43m(\u001b[49m\u001b[38;5;124;43m'\u001b[39;49m\u001b[38;5;124;43mGraph/OriginalPriceHistogramme.png\u001b[39;49m\u001b[38;5;124;43m'\u001b[39;49m\u001b[43m)\u001b[49m\n\u001b[1;32m     23\u001b[0m \u001b[38;5;66;03m# Show plot\u001b[39;00m\n\u001b[1;32m     24\u001b[0m plt\u001b[38;5;241m.\u001b[39mshow()\n",
      "File \u001b[0;32m~/Dev/graph/lib/python3.12/site-packages/matplotlib/pyplot.py:1243\u001b[0m, in \u001b[0;36msavefig\u001b[0;34m(*args, **kwargs)\u001b[0m\n\u001b[1;32m   1240\u001b[0m fig \u001b[38;5;241m=\u001b[39m gcf()\n\u001b[1;32m   1241\u001b[0m \u001b[38;5;66;03m# savefig default implementation has no return, so mypy is unhappy\u001b[39;00m\n\u001b[1;32m   1242\u001b[0m \u001b[38;5;66;03m# presumably this is here because subclasses can return?\u001b[39;00m\n\u001b[0;32m-> 1243\u001b[0m res \u001b[38;5;241m=\u001b[39m \u001b[43mfig\u001b[49m\u001b[38;5;241;43m.\u001b[39;49m\u001b[43msavefig\u001b[49m\u001b[43m(\u001b[49m\u001b[38;5;241;43m*\u001b[39;49m\u001b[43margs\u001b[49m\u001b[43m,\u001b[49m\u001b[43m \u001b[49m\u001b[38;5;241;43m*\u001b[39;49m\u001b[38;5;241;43m*\u001b[39;49m\u001b[43mkwargs\u001b[49m\u001b[43m)\u001b[49m  \u001b[38;5;66;03m# type: ignore[func-returns-value]\u001b[39;00m\n\u001b[1;32m   1244\u001b[0m fig\u001b[38;5;241m.\u001b[39mcanvas\u001b[38;5;241m.\u001b[39mdraw_idle()  \u001b[38;5;66;03m# Need this if 'transparent=True', to reset colors.\u001b[39;00m\n\u001b[1;32m   1245\u001b[0m \u001b[38;5;28;01mreturn\u001b[39;00m res\n",
      "File \u001b[0;32m~/Dev/graph/lib/python3.12/site-packages/matplotlib/figure.py:3490\u001b[0m, in \u001b[0;36mFigure.savefig\u001b[0;34m(self, fname, transparent, **kwargs)\u001b[0m\n\u001b[1;32m   3488\u001b[0m     \u001b[38;5;28;01mfor\u001b[39;00m ax \u001b[38;5;129;01min\u001b[39;00m \u001b[38;5;28mself\u001b[39m\u001b[38;5;241m.\u001b[39maxes:\n\u001b[1;32m   3489\u001b[0m         _recursively_make_axes_transparent(stack, ax)\n\u001b[0;32m-> 3490\u001b[0m \u001b[38;5;28;43mself\u001b[39;49m\u001b[38;5;241;43m.\u001b[39;49m\u001b[43mcanvas\u001b[49m\u001b[38;5;241;43m.\u001b[39;49m\u001b[43mprint_figure\u001b[49m\u001b[43m(\u001b[49m\u001b[43mfname\u001b[49m\u001b[43m,\u001b[49m\u001b[43m \u001b[49m\u001b[38;5;241;43m*\u001b[39;49m\u001b[38;5;241;43m*\u001b[39;49m\u001b[43mkwargs\u001b[49m\u001b[43m)\u001b[49m\n",
      "File \u001b[0;32m~/Dev/graph/lib/python3.12/site-packages/matplotlib/backend_bases.py:2184\u001b[0m, in \u001b[0;36mFigureCanvasBase.print_figure\u001b[0;34m(self, filename, dpi, facecolor, edgecolor, orientation, format, bbox_inches, pad_inches, bbox_extra_artists, backend, **kwargs)\u001b[0m\n\u001b[1;32m   2180\u001b[0m \u001b[38;5;28;01mtry\u001b[39;00m:\n\u001b[1;32m   2181\u001b[0m     \u001b[38;5;66;03m# _get_renderer may change the figure dpi (as vector formats\u001b[39;00m\n\u001b[1;32m   2182\u001b[0m     \u001b[38;5;66;03m# force the figure dpi to 72), so we need to set it again here.\u001b[39;00m\n\u001b[1;32m   2183\u001b[0m     \u001b[38;5;28;01mwith\u001b[39;00m cbook\u001b[38;5;241m.\u001b[39m_setattr_cm(\u001b[38;5;28mself\u001b[39m\u001b[38;5;241m.\u001b[39mfigure, dpi\u001b[38;5;241m=\u001b[39mdpi):\n\u001b[0;32m-> 2184\u001b[0m         result \u001b[38;5;241m=\u001b[39m \u001b[43mprint_method\u001b[49m\u001b[43m(\u001b[49m\n\u001b[1;32m   2185\u001b[0m \u001b[43m            \u001b[49m\u001b[43mfilename\u001b[49m\u001b[43m,\u001b[49m\n\u001b[1;32m   2186\u001b[0m \u001b[43m            \u001b[49m\u001b[43mfacecolor\u001b[49m\u001b[38;5;241;43m=\u001b[39;49m\u001b[43mfacecolor\u001b[49m\u001b[43m,\u001b[49m\n\u001b[1;32m   2187\u001b[0m \u001b[43m            \u001b[49m\u001b[43medgecolor\u001b[49m\u001b[38;5;241;43m=\u001b[39;49m\u001b[43medgecolor\u001b[49m\u001b[43m,\u001b[49m\n\u001b[1;32m   2188\u001b[0m \u001b[43m            \u001b[49m\u001b[43morientation\u001b[49m\u001b[38;5;241;43m=\u001b[39;49m\u001b[43morientation\u001b[49m\u001b[43m,\u001b[49m\n\u001b[1;32m   2189\u001b[0m \u001b[43m            \u001b[49m\u001b[43mbbox_inches_restore\u001b[49m\u001b[38;5;241;43m=\u001b[39;49m\u001b[43m_bbox_inches_restore\u001b[49m\u001b[43m,\u001b[49m\n\u001b[1;32m   2190\u001b[0m \u001b[43m            \u001b[49m\u001b[38;5;241;43m*\u001b[39;49m\u001b[38;5;241;43m*\u001b[39;49m\u001b[43mkwargs\u001b[49m\u001b[43m)\u001b[49m\n\u001b[1;32m   2191\u001b[0m \u001b[38;5;28;01mfinally\u001b[39;00m:\n\u001b[1;32m   2192\u001b[0m     \u001b[38;5;28;01mif\u001b[39;00m bbox_inches \u001b[38;5;129;01mand\u001b[39;00m restore_bbox:\n",
      "File \u001b[0;32m~/Dev/graph/lib/python3.12/site-packages/matplotlib/backend_bases.py:2040\u001b[0m, in \u001b[0;36mFigureCanvasBase._switch_canvas_and_return_print_method.<locals>.<lambda>\u001b[0;34m(*args, **kwargs)\u001b[0m\n\u001b[1;32m   2036\u001b[0m     optional_kws \u001b[38;5;241m=\u001b[39m {  \u001b[38;5;66;03m# Passed by print_figure for other renderers.\u001b[39;00m\n\u001b[1;32m   2037\u001b[0m         \u001b[38;5;124m\"\u001b[39m\u001b[38;5;124mdpi\u001b[39m\u001b[38;5;124m\"\u001b[39m, \u001b[38;5;124m\"\u001b[39m\u001b[38;5;124mfacecolor\u001b[39m\u001b[38;5;124m\"\u001b[39m, \u001b[38;5;124m\"\u001b[39m\u001b[38;5;124medgecolor\u001b[39m\u001b[38;5;124m\"\u001b[39m, \u001b[38;5;124m\"\u001b[39m\u001b[38;5;124morientation\u001b[39m\u001b[38;5;124m\"\u001b[39m,\n\u001b[1;32m   2038\u001b[0m         \u001b[38;5;124m\"\u001b[39m\u001b[38;5;124mbbox_inches_restore\u001b[39m\u001b[38;5;124m\"\u001b[39m}\n\u001b[1;32m   2039\u001b[0m     skip \u001b[38;5;241m=\u001b[39m optional_kws \u001b[38;5;241m-\u001b[39m {\u001b[38;5;241m*\u001b[39minspect\u001b[38;5;241m.\u001b[39msignature(meth)\u001b[38;5;241m.\u001b[39mparameters}\n\u001b[0;32m-> 2040\u001b[0m     print_method \u001b[38;5;241m=\u001b[39m functools\u001b[38;5;241m.\u001b[39mwraps(meth)(\u001b[38;5;28;01mlambda\u001b[39;00m \u001b[38;5;241m*\u001b[39margs, \u001b[38;5;241m*\u001b[39m\u001b[38;5;241m*\u001b[39mkwargs: \u001b[43mmeth\u001b[49m\u001b[43m(\u001b[49m\n\u001b[1;32m   2041\u001b[0m \u001b[43m        \u001b[49m\u001b[38;5;241;43m*\u001b[39;49m\u001b[43margs\u001b[49m\u001b[43m,\u001b[49m\u001b[43m \u001b[49m\u001b[38;5;241;43m*\u001b[39;49m\u001b[38;5;241;43m*\u001b[39;49m\u001b[43m{\u001b[49m\u001b[43mk\u001b[49m\u001b[43m:\u001b[49m\u001b[43m \u001b[49m\u001b[43mv\u001b[49m\u001b[43m \u001b[49m\u001b[38;5;28;43;01mfor\u001b[39;49;00m\u001b[43m \u001b[49m\u001b[43mk\u001b[49m\u001b[43m,\u001b[49m\u001b[43m \u001b[49m\u001b[43mv\u001b[49m\u001b[43m \u001b[49m\u001b[38;5;129;43;01min\u001b[39;49;00m\u001b[43m \u001b[49m\u001b[43mkwargs\u001b[49m\u001b[38;5;241;43m.\u001b[39;49m\u001b[43mitems\u001b[49m\u001b[43m(\u001b[49m\u001b[43m)\u001b[49m\u001b[43m \u001b[49m\u001b[38;5;28;43;01mif\u001b[39;49;00m\u001b[43m \u001b[49m\u001b[43mk\u001b[49m\u001b[43m \u001b[49m\u001b[38;5;129;43;01mnot\u001b[39;49;00m\u001b[43m \u001b[49m\u001b[38;5;129;43;01min\u001b[39;49;00m\u001b[43m \u001b[49m\u001b[43mskip\u001b[49m\u001b[43m}\u001b[49m\u001b[43m)\u001b[49m)\n\u001b[1;32m   2042\u001b[0m \u001b[38;5;28;01melse\u001b[39;00m:  \u001b[38;5;66;03m# Let third-parties do as they see fit.\u001b[39;00m\n\u001b[1;32m   2043\u001b[0m     print_method \u001b[38;5;241m=\u001b[39m meth\n",
      "File \u001b[0;32m~/Dev/graph/lib/python3.12/site-packages/matplotlib/backends/backend_agg.py:481\u001b[0m, in \u001b[0;36mFigureCanvasAgg.print_png\u001b[0;34m(self, filename_or_obj, metadata, pil_kwargs)\u001b[0m\n\u001b[1;32m    434\u001b[0m \u001b[38;5;28;01mdef\u001b[39;00m\u001b[38;5;250m \u001b[39m\u001b[38;5;21mprint_png\u001b[39m(\u001b[38;5;28mself\u001b[39m, filename_or_obj, \u001b[38;5;241m*\u001b[39m, metadata\u001b[38;5;241m=\u001b[39m\u001b[38;5;28;01mNone\u001b[39;00m, pil_kwargs\u001b[38;5;241m=\u001b[39m\u001b[38;5;28;01mNone\u001b[39;00m):\n\u001b[1;32m    435\u001b[0m \u001b[38;5;250m    \u001b[39m\u001b[38;5;124;03m\"\"\"\u001b[39;00m\n\u001b[1;32m    436\u001b[0m \u001b[38;5;124;03m    Write the figure to a PNG file.\u001b[39;00m\n\u001b[1;32m    437\u001b[0m \n\u001b[0;32m   (...)\u001b[0m\n\u001b[1;32m    479\u001b[0m \u001b[38;5;124;03m        *metadata*, including the default 'Software' key.\u001b[39;00m\n\u001b[1;32m    480\u001b[0m \u001b[38;5;124;03m    \"\"\"\u001b[39;00m\n\u001b[0;32m--> 481\u001b[0m     \u001b[38;5;28;43mself\u001b[39;49m\u001b[38;5;241;43m.\u001b[39;49m\u001b[43m_print_pil\u001b[49m\u001b[43m(\u001b[49m\u001b[43mfilename_or_obj\u001b[49m\u001b[43m,\u001b[49m\u001b[43m \u001b[49m\u001b[38;5;124;43m\"\u001b[39;49m\u001b[38;5;124;43mpng\u001b[39;49m\u001b[38;5;124;43m\"\u001b[39;49m\u001b[43m,\u001b[49m\u001b[43m \u001b[49m\u001b[43mpil_kwargs\u001b[49m\u001b[43m,\u001b[49m\u001b[43m \u001b[49m\u001b[43mmetadata\u001b[49m\u001b[43m)\u001b[49m\n",
      "File \u001b[0;32m~/Dev/graph/lib/python3.12/site-packages/matplotlib/backends/backend_agg.py:430\u001b[0m, in \u001b[0;36mFigureCanvasAgg._print_pil\u001b[0;34m(self, filename_or_obj, fmt, pil_kwargs, metadata)\u001b[0m\n\u001b[1;32m    425\u001b[0m \u001b[38;5;250m\u001b[39m\u001b[38;5;124;03m\"\"\"\u001b[39;00m\n\u001b[1;32m    426\u001b[0m \u001b[38;5;124;03mDraw the canvas, then save it using `.image.imsave` (to which\u001b[39;00m\n\u001b[1;32m    427\u001b[0m \u001b[38;5;124;03m*pil_kwargs* and *metadata* are forwarded).\u001b[39;00m\n\u001b[1;32m    428\u001b[0m \u001b[38;5;124;03m\"\"\"\u001b[39;00m\n\u001b[1;32m    429\u001b[0m FigureCanvasAgg\u001b[38;5;241m.\u001b[39mdraw(\u001b[38;5;28mself\u001b[39m)\n\u001b[0;32m--> 430\u001b[0m \u001b[43mmpl\u001b[49m\u001b[38;5;241;43m.\u001b[39;49m\u001b[43mimage\u001b[49m\u001b[38;5;241;43m.\u001b[39;49m\u001b[43mimsave\u001b[49m\u001b[43m(\u001b[49m\n\u001b[1;32m    431\u001b[0m \u001b[43m    \u001b[49m\u001b[43mfilename_or_obj\u001b[49m\u001b[43m,\u001b[49m\u001b[43m \u001b[49m\u001b[38;5;28;43mself\u001b[39;49m\u001b[38;5;241;43m.\u001b[39;49m\u001b[43mbuffer_rgba\u001b[49m\u001b[43m(\u001b[49m\u001b[43m)\u001b[49m\u001b[43m,\u001b[49m\u001b[43m \u001b[49m\u001b[38;5;28;43mformat\u001b[39;49m\u001b[38;5;241;43m=\u001b[39;49m\u001b[43mfmt\u001b[49m\u001b[43m,\u001b[49m\u001b[43m \u001b[49m\u001b[43morigin\u001b[49m\u001b[38;5;241;43m=\u001b[39;49m\u001b[38;5;124;43m\"\u001b[39;49m\u001b[38;5;124;43mupper\u001b[39;49m\u001b[38;5;124;43m\"\u001b[39;49m\u001b[43m,\u001b[49m\n\u001b[1;32m    432\u001b[0m \u001b[43m    \u001b[49m\u001b[43mdpi\u001b[49m\u001b[38;5;241;43m=\u001b[39;49m\u001b[38;5;28;43mself\u001b[39;49m\u001b[38;5;241;43m.\u001b[39;49m\u001b[43mfigure\u001b[49m\u001b[38;5;241;43m.\u001b[39;49m\u001b[43mdpi\u001b[49m\u001b[43m,\u001b[49m\u001b[43m \u001b[49m\u001b[43mmetadata\u001b[49m\u001b[38;5;241;43m=\u001b[39;49m\u001b[43mmetadata\u001b[49m\u001b[43m,\u001b[49m\u001b[43m \u001b[49m\u001b[43mpil_kwargs\u001b[49m\u001b[38;5;241;43m=\u001b[39;49m\u001b[43mpil_kwargs\u001b[49m\u001b[43m)\u001b[49m\n",
      "File \u001b[0;32m~/Dev/graph/lib/python3.12/site-packages/matplotlib/image.py:1634\u001b[0m, in \u001b[0;36mimsave\u001b[0;34m(fname, arr, vmin, vmax, cmap, format, origin, dpi, metadata, pil_kwargs)\u001b[0m\n\u001b[1;32m   1632\u001b[0m pil_kwargs\u001b[38;5;241m.\u001b[39msetdefault(\u001b[38;5;124m\"\u001b[39m\u001b[38;5;124mformat\u001b[39m\u001b[38;5;124m\"\u001b[39m, \u001b[38;5;28mformat\u001b[39m)\n\u001b[1;32m   1633\u001b[0m pil_kwargs\u001b[38;5;241m.\u001b[39msetdefault(\u001b[38;5;124m\"\u001b[39m\u001b[38;5;124mdpi\u001b[39m\u001b[38;5;124m\"\u001b[39m, (dpi, dpi))\n\u001b[0;32m-> 1634\u001b[0m \u001b[43mimage\u001b[49m\u001b[38;5;241;43m.\u001b[39;49m\u001b[43msave\u001b[49m\u001b[43m(\u001b[49m\u001b[43mfname\u001b[49m\u001b[43m,\u001b[49m\u001b[43m \u001b[49m\u001b[38;5;241;43m*\u001b[39;49m\u001b[38;5;241;43m*\u001b[39;49m\u001b[43mpil_kwargs\u001b[49m\u001b[43m)\u001b[49m\n",
      "File \u001b[0;32m~/Dev/graph/lib/python3.12/site-packages/PIL/Image.py:2591\u001b[0m, in \u001b[0;36mImage.save\u001b[0;34m(self, fp, format, **params)\u001b[0m\n\u001b[1;32m   2589\u001b[0m         fp \u001b[38;5;241m=\u001b[39m builtins\u001b[38;5;241m.\u001b[39mopen(filename, \u001b[38;5;124m\"\u001b[39m\u001b[38;5;124mr+b\u001b[39m\u001b[38;5;124m\"\u001b[39m)\n\u001b[1;32m   2590\u001b[0m     \u001b[38;5;28;01melse\u001b[39;00m:\n\u001b[0;32m-> 2591\u001b[0m         fp \u001b[38;5;241m=\u001b[39m \u001b[43mbuiltins\u001b[49m\u001b[38;5;241;43m.\u001b[39;49m\u001b[43mopen\u001b[49m\u001b[43m(\u001b[49m\u001b[43mfilename\u001b[49m\u001b[43m,\u001b[49m\u001b[43m \u001b[49m\u001b[38;5;124;43m\"\u001b[39;49m\u001b[38;5;124;43mw+b\u001b[39;49m\u001b[38;5;124;43m\"\u001b[39;49m\u001b[43m)\u001b[49m\n\u001b[1;32m   2592\u001b[0m \u001b[38;5;28;01melse\u001b[39;00m:\n\u001b[1;32m   2593\u001b[0m     fp \u001b[38;5;241m=\u001b[39m cast(IO[\u001b[38;5;28mbytes\u001b[39m], fp)\n",
      "\u001b[0;31mFileNotFoundError\u001b[0m: [Errno 2] No such file or directory: 'Graph/OriginalPriceHistogramme.png'"
     ]
    },
    {
     "data": {
      "image/png": "[encoded data removed]",
      "text/plain": [
       "<Figure size 1800x800 with 1 Axes>"
      ]
     },
     "metadata": {},
     "output_type": "display_data"
    }
   ],
   "source": [
    "# Create the plot and adjust its size\n",
    "plt.figure( figsize=(18, 8))\n",
    "\n",
    "# Create histogramme\n",
    "ax = sns.histplot(rent_df, x= 'price', shrink = 0.8,  stat='count', legend=False, color='cornflowerblue')\n",
    "\n",
    "# Set title\n",
    "ax.set_title('Housing rental Price Histogram')\n",
    "\n",
    "# Adjust the axis label\n",
    "ax.set(xlabel='Price', ylabel='# Housing rentals')\n",
    "\n",
    "# Removed white margin on the x axis\n",
    "ax.margins(x=0) \n",
    "\n",
    "# Keep only he grid line along the x-axis\n",
    "ax.set_axisbelow(True)\n",
    "ax.grid(axis='y', zorder = 0, color='lightgray', linestyle='dashed')\n",
    "\n",
    "# Save graph\n",
    "plt.savefig('../Graph/OriginalPriceHistogramme.png')\n",
    "\n",
    "# Show plot\n",
    "plt.show()"
   ]
  },
  {
   "cell_type": "markdown",
   "id": "6aac6ee5-1210-4e7d-9529-c0e7d8370ff6",
   "metadata": {},
   "source": [
    "**Price distribution - cutting outliers**\n",
    "\n",
    "Conslusion : Removing less than 1.15% of the data significantly improve the price distribution. A second dataset with price data limited at 5 000$ will be created. I believe this dataset will lead to a significant better model thans the previous dataset due to its more normal fitted distribution."
   ]
  },
  {
   "cell_type": "code",
   "execution_count": null,
   "id": "5544fa9f-bd52-48ef-9078-d9874cc4197c",
   "metadata": {
    "execution": {
     "iopub.status.busy": "2025-02-24T16:27:09.754954Z",
     "iopub.status.idle": "2025-02-24T16:27:09.755612Z",
     "shell.execute_reply": "2025-02-24T16:27:09.755302Z",
     "shell.execute_reply.started": "2025-02-24T16:27:09.755274Z"
    }
   },
   "outputs": [],
   "source": [
    "lst = [(rent_df[rent_df['price'] > 10000]['city'].count() / len(rent_df)) * 100,\n",
    "       (rent_df[rent_df['price'] > 8000]['city'].count() / len(rent_df)) * 100,\n",
    "       (rent_df[rent_df['price'] > 7000]['city'].count() / len(rent_df)) * 100,\n",
    "       (rent_df[rent_df['price'] > 5000]['city'].count() / len(rent_df)) * 100,\n",
    "      ]\n",
    "\n",
    "col = ['Adds with price > 10 000$',\n",
    "       'Adds with price > 8 000$',\n",
    "       'Adds with price > 7 000$',\n",
    "       'Adds with price > 5 000$',\n",
    "      ]\n",
    "\n",
    "pd.DataFrame(lst, columns=['%'], index=col)"
   ]
  },
  {
   "cell_type": "code",
   "execution_count": null,
   "id": "72093ec9-41d7-427e-a14e-c8c681ad976d",
   "metadata": {
    "execution": {
     "iopub.status.busy": "2025-02-24T16:27:09.757594Z",
     "iopub.status.idle": "2025-02-24T16:27:09.758279Z",
     "shell.execute_reply": "2025-02-24T16:27:09.757970Z",
     "shell.execute_reply.started": "2025-02-24T16:27:09.757942Z"
    }
   },
   "outputs": [],
   "source": [
    "# Create the plot and adjust its size\n",
    "plt.figure( figsize=(18, 8))\n",
    "\n",
    "# Create histogramme\n",
    "ax = sns.histplot(rent_df[rent_df['price'] <= 5000], x= 'price', shrink = 0.8,  stat='count', legend=False, color='cornflowerblue')\n",
    "\n",
    "# Set title\n",
    "ax.set_title('Housing rental Price Histogram')\n",
    "\n",
    "# Adjust the axis label\n",
    "ax.set(xlabel='Price', ylabel='# Housing rentals')\n",
    "\n",
    "# Removed white margin on the x axis\n",
    "ax.margins(x=0) \n",
    "\n",
    "# Keep only he grid line along the x-axis\n",
    "ax.set_axisbelow(True)\n",
    "ax.grid(axis='y', zorder = 0, color='lightgray', linestyle='dashed')\n",
    "\n",
    "# Save graph\n",
    "plt.savefig('../Graph/CutPriceHistogramme.png')\n",
    "\n",
    "# Show plot\n",
    "plt.show()"
   ]
  },
  {
   "cell_type": "markdown",
   "id": "7df436d1-c34c-429c-a96a-31d2fc49a575",
   "metadata": {},
   "source": [
    "**Is all Province represented equally in the dataset?**\n",
    "\n",
    "Conclusion the model will perform poorly over certain Province due to under representativity of the sample dataset.\n",
    "\n",
    "  * Province such as - New Brunswick\n",
    "                     - Newfoundland and Labrador\n",
    "                     - Northwest Territories\n",
    "\n",
    "    will most likely has very poor result by trying to perform a forecast with any model"
   ]
  },
  {
   "cell_type": "code",
   "execution_count": null,
   "id": "f149eb36-1e87-420a-95c5-88b066ead726",
   "metadata": {
    "execution": {
     "iopub.status.busy": "2025-02-24T16:27:09.761563Z",
     "iopub.status.idle": "2025-02-24T16:27:09.762604Z",
     "shell.execute_reply": "2025-02-24T16:27:09.762294Z",
     "shell.execute_reply.started": "2025-02-24T16:27:09.762264Z"
    }
   },
   "outputs": [],
   "source": [
    "# Create the plot and adjust its size\n",
    "plt.figure( figsize=(15, 6))\n",
    "\n",
    "# Create histogramme\n",
    "ax = sns.countplot(rent_df, x= 'province', legend=False)\n",
    "\n",
    "# Set title\n",
    "ax.set_title('Number of Renting Add by Province')\n",
    "\n",
    "# Adjust the ticks\n",
    "ax.tick_params(axis='x', labelrotation=45, labelsize = 10)\n",
    "ax.tick_params(axis='y', labelsize = 10)\n",
    "\n",
    "# Adjust the axis label\n",
    "ax.set(xlabel='Province', ylabel='# of renting add')\n",
    "\n",
    "# Add bar labels\n",
    "for index, artist in enumerate(ax.containers) :\n",
    "    labels = [str(v) if v else '' for v in artist.datavalues]\n",
    "    ax.bar_label(artist, labels=labels, fontsize = 7)\n",
    "\n",
    "# Show plot\n",
    "plt.show()"
   ]
  },
  {
   "cell_type": "markdown",
   "id": "7b95a29d-cf34-429c-9830-5576081d8ae8",
   "metadata": {},
   "source": [
    "**Price vs Province**\n",
    "\n",
    "Conclusion :\n",
    "  * The province itself has an impact on the price of an housing rental across Canada\n",
    "  * However, over the well represented province the gap is not significant and the Province itself my not be a significant forecast predictor."
   ]
  },
  {
   "cell_type": "code",
   "execution_count": null,
   "id": "dcf9a80e-6b92-449b-ba3d-e173c711a277",
   "metadata": {
    "execution": {
     "iopub.status.busy": "2025-02-24T16:27:09.765757Z",
     "iopub.status.idle": "2025-02-24T16:27:09.766467Z",
     "shell.execute_reply": "2025-02-24T16:27:09.766146Z",
     "shell.execute_reply.started": "2025-02-24T16:27:09.766117Z"
    }
   },
   "outputs": [],
   "source": [
    "\n",
    "\n",
    "plt.figure(figsize = (14,4))\n",
    "\n",
    "ax = sns.boxplot(data=rent_df, x='province', y='price') \n",
    "\n",
    "# Add Title\n",
    "ax.set_title(f'Distribution of price by Province')\n",
    "\n",
    "# Adjust the ticks label size\n",
    "ax.tick_params(axis='x', labelrotation=45, labelsize = 8)\n",
    "ax.tick_params(axis='y', labelsize = 8)\n",
    "\n",
    "# Set the axis labels \n",
    "ax.set_xlabel('Province',fontsize = 10)\n",
    "ax.set_ylabel('Price',fontsize = 10)\n",
    "\n",
    "# Zooming in to removed outliers\n",
    "ax.set_ylim(0,5000)\n",
    "\n",
    "# Show plot\n",
    "plt.show()"
   ]
  },
  {
   "cell_type": "markdown",
   "id": "c0187bbf-fcb5-43f7-ab2b-ee2381da093a",
   "metadata": {},
   "source": [
    "**Price vs Province for allowing Pets**\n",
    "\n",
    " Conclusion :\n",
    "   * Pets will be a predicting factor of the price. Mostly, the cats since it seems to be links to lower rent prices."
   ]
  },
  {
   "cell_type": "code",
   "execution_count": null,
   "id": "7b857eaf-8e57-4da5-b964-99e0d20367ce",
   "metadata": {
    "execution": {
     "iopub.status.busy": "2025-02-24T16:27:09.767477Z",
     "iopub.status.idle": "2025-02-24T16:27:09.768894Z",
     "shell.execute_reply": "2025-02-24T16:27:09.768506Z",
     "shell.execute_reply.started": "2025-02-24T16:27:09.768471Z"
    }
   },
   "outputs": [],
   "source": [
    "# Creating new column for to get a nice graph\n",
    "rent_df['pet_category'] = 'no pets'\n",
    "rent_df.loc[rent_df['cats'] == True, 'pet_category'] = 'Cats Allowed'\n",
    "rent_df.loc[rent_df['dogs'] == True, 'pet_category'] = 'Dogs Allowed'\n",
    "\n",
    "plt.figure(figsize = (16,6))\n",
    "\n",
    "ax = sns.boxplot(data=rent_df, x='province', y='price', hue='pet_category') \n",
    "# Add Title\n",
    "ax.set_title(f'Distribution of price by Province')\n",
    "\n",
    "# Adjust the ticks label size\n",
    "ax.tick_params(axis='x', labelrotation=45, labelsize = 8)\n",
    "ax.tick_params(axis='y', labelsize = 8)\n",
    "\n",
    "# Set the axis labels \n",
    "ax.set_xlabel('Province',fontsize = 10)\n",
    "ax.set_ylabel('Price',fontsize = 10)\n",
    "\n",
    "# Zooming in to removed outliers\n",
    "ax.set_ylim(0,5000)\n",
    "\n",
    "# Show plot\n",
    "plt.show()"
   ]
  },
  {
   "cell_type": "markdown",
   "id": "38b48b90-b991-4493-8514-f5d59e2c6f5b",
   "metadata": {},
   "source": [
    "**Price vs Province for allowing smoking**\n",
    "\n",
    " Conclusion : \n",
    "   * Smoking allowed rental is not present for all province. \n",
    "   * However, over the well represented province smoking is a good predictor, since rental that allowed smoking have a lower mean price"
   ]
  },
  {
   "cell_type": "code",
   "execution_count": null,
   "id": "da71a26c-46df-41eb-ad13-30ae7ab5bc79",
   "metadata": {
    "execution": {
     "iopub.status.busy": "2025-02-24T16:27:09.770263Z",
     "iopub.status.idle": "2025-02-24T16:27:09.771142Z",
     "shell.execute_reply": "2025-02-24T16:27:09.770795Z",
     "shell.execute_reply.started": "2025-02-24T16:27:09.770763Z"
    }
   },
   "outputs": [],
   "source": [
    "\n",
    "plt.figure(figsize = (16,6))\n",
    "\n",
    "ax = sns.boxplot(data=rent_df, x='province', y='price', hue='smoking') \n",
    "# Add Title\n",
    "ax.set_title(f'Distribution of price by Province')\n",
    "\n",
    "# Adjust the ticks label size\n",
    "ax.tick_params(axis='x', labelrotation=45, labelsize = 8)\n",
    "ax.tick_params(axis='y', labelsize = 8)\n",
    "\n",
    "# Set the axis labels \n",
    "ax.set_xlabel('Province',fontsize = 10)\n",
    "ax.set_ylabel('Price',fontsize = 10)\n",
    "\n",
    "# Zooming in to removed outliers\n",
    "ax.set_ylim(0,5000)\n",
    "\n",
    "# Show plot\n",
    "plt.show()"
   ]
  },
  {
   "cell_type": "markdown",
   "id": "8febbcca-a359-4ba6-8195-a857054c3580",
   "metadata": {},
   "source": [
    "**Price vs type**\n",
    "\n",
    "Conclusion: The type of rental influences the price.\n",
    "  * Room for rent, basement and house are going to be good rpedictors since their mean price are distinguishable from the other types."
   ]
  },
  {
   "cell_type": "code",
   "execution_count": null,
   "id": "0c900c0b-2f26-429a-9e95-edc2a5374a2d",
   "metadata": {
    "execution": {
     "iopub.status.busy": "2025-02-24T16:27:09.773767Z",
     "iopub.status.idle": "2025-02-24T16:27:09.774426Z",
     "shell.execute_reply": "2025-02-24T16:27:09.774126Z",
     "shell.execute_reply.started": "2025-02-24T16:27:09.774100Z"
    }
   },
   "outputs": [],
   "source": [
    "\n",
    "plt.figure(figsize = (16,6))\n",
    "\n",
    "ax = sns.boxplot(data=rent_df, x='type', y='price') \n",
    "# Add Title\n",
    "ax.set_title(f'Distribution of price by rental type')\n",
    "\n",
    "# Adjust the ticks label size\n",
    "ax.tick_params(axis='x', labelrotation=45, labelsize = 8)\n",
    "ax.tick_params(axis='y', labelsize = 8)\n",
    "\n",
    "# Set the axis labels \n",
    "ax.set_xlabel('Rental type',fontsize = 10)\n",
    "ax.set_ylabel('Price',fontsize = 10)\n",
    "\n",
    "# Zooming in to removed outliers\n",
    "ax.set_ylim(0,8000)\n",
    "\n",
    "# Show plot\n",
    "plt.show()"
   ]
  },
  {
   "cell_type": "code",
   "execution_count": null,
   "id": "49e245fc-fe30-498b-b8b4-7f98a8b36905",
   "metadata": {
    "execution": {
     "iopub.status.busy": "2025-02-24T16:27:09.775396Z",
     "iopub.status.idle": "2025-02-24T16:27:09.776292Z",
     "shell.execute_reply": "2025-02-24T16:27:09.775777Z",
     "shell.execute_reply.started": "2025-02-24T16:27:09.775750Z"
    }
   },
   "outputs": [],
   "source": [
    "for province in rent_df['province'].unique() :\n",
    "    plt.figure(figsize = (16,6))\n",
    "\n",
    "    ax = sns.boxplot(data=rent_df[rent_df['province'] == province], x='type', y='price') \n",
    "    \n",
    "    # Add Title\n",
    "    ax.set_title(f'Distribution of price by rental type for {province}')\n",
    "\n",
    "    # Adjust the ticks label size\n",
    "    ax.tick_params(axis='x', labelrotation=45, labelsize = 8)\n",
    "    ax.tick_params(axis='y', labelsize = 8)\n",
    "\n",
    "    # Set the axis labels \n",
    "    ax.set_xlabel('Rental type',fontsize = 10)\n",
    "    ax.set_ylabel('Price',fontsize = 10)\n",
    "\n",
    "    # Zooming in to removed outliers\n",
    "    ax.set_ylim(0,7000)\n",
    "\n",
    "    # Show plot\n",
    "    plt.show()"
   ]
  },
  {
   "cell_type": "markdown",
   "id": "7fe3727b-3b46-4018-a4c0-bb78acdaf6ad",
   "metadata": {},
   "source": [
    "**Price vs furnished**\n",
    "\n",
    "Conclusion : furnishing will not be a strong predictor."
   ]
  },
  {
   "cell_type": "code",
   "execution_count": null,
   "id": "0dfc28a9-d240-414e-b181-2e3752b729d8",
   "metadata": {
    "execution": {
     "iopub.status.busy": "2025-02-24T16:27:09.778778Z",
     "iopub.status.idle": "2025-02-24T16:27:09.779557Z",
     "shell.execute_reply": "2025-02-24T16:27:09.779254Z",
     "shell.execute_reply.started": "2025-02-24T16:27:09.779222Z"
    }
   },
   "outputs": [],
   "source": [
    "plt.figure(figsize = (16,6))\n",
    "\n",
    "ax = sns.boxplot(data=rent_df, x='furnishing', y='price') \n",
    "\n",
    "# Add Title\n",
    "ax.set_title(f'Distribution of price by furnishing categoery')\n",
    "\n",
    "# Adjust the ticks label size\n",
    "ax.tick_params(axis='x', labelrotation=45, labelsize = 8)\n",
    "ax.tick_params(axis='y', labelsize = 8)\n",
    "\n",
    "# Set the axis labels \n",
    "ax.set_xlabel('furnishing',fontsize = 10)\n",
    "ax.set_ylabel('Price',fontsize = 10)\n",
    "\n",
    "# Zooming in to removed outliers\n",
    "ax.set_ylim(0,10000)\n",
    "\n",
    "# Show plot\n",
    "plt.show()"
   ]
  },
  {
   "cell_type": "code",
   "execution_count": null,
   "id": "8853a9fb-bf5a-427c-8cba-f926858a7130",
   "metadata": {
    "execution": {
     "iopub.status.busy": "2025-02-24T16:27:09.784255Z",
     "iopub.status.idle": "2025-02-24T16:27:09.785646Z",
     "shell.execute_reply": "2025-02-24T16:27:09.785314Z",
     "shell.execute_reply.started": "2025-02-24T16:27:09.785280Z"
    }
   },
   "outputs": [],
   "source": [
    "for province in rent_df['province'].unique() :\n",
    "    plt.figure(figsize = (16,6))\n",
    "\n",
    "    ax = sns.boxplot(data=rent_df[rent_df['province'] == province], x='furnishing', y='price') \n",
    "    \n",
    "    # Add Title\n",
    "    ax.set_title(f'Distribution of price by furnishing category for {province}')\n",
    "\n",
    "    # Adjust the ticks label size\n",
    "    ax.tick_params(axis='x', labelrotation=45, labelsize = 8)\n",
    "    ax.tick_params(axis='y', labelsize = 8)\n",
    "\n",
    "    # Set the axis labels \n",
    "    ax.set_xlabel('furnishing category',fontsize = 10)\n",
    "    ax.set_ylabel('Price',fontsize = 10)\n",
    "\n",
    "    # Zooming in to removed outliers\n",
    "    ax.set_ylim(0,7000)\n",
    "\n",
    "    # Show plot\n",
    "    plt.show()"
   ]
  },
  {
   "cell_type": "markdown",
   "id": "03c60d46-137b-44d7-a817-ef4f17370609",
   "metadata": {},
   "source": [
    "**Price vs # of bedrooms**\n",
    "\n",
    "Conclusion :\n",
    "  * The number of bedrooms will be a strong predictor of the price.\n",
    "  * However, it might not be a linear trend, most likely a x² equation."
   ]
  },
  {
   "cell_type": "code",
   "execution_count": null,
   "id": "d711452c-182e-49d6-b50b-a865b2b9ee69",
   "metadata": {
    "execution": {
     "iopub.status.busy": "2025-02-24T16:27:09.787253Z",
     "iopub.status.idle": "2025-02-24T16:27:09.787988Z",
     "shell.execute_reply": "2025-02-24T16:27:09.787634Z",
     "shell.execute_reply.started": "2025-02-24T16:27:09.787604Z"
    }
   },
   "outputs": [],
   "source": [
    "plt.figure(figsize = (16,6))\n",
    "\n",
    "ax = sns.boxplot(data=rent_df, x='beds', y='price') \n",
    "# Add Title\n",
    "ax.set_title(f'Distribution of price by number of bedrooms')\n",
    "\n",
    "# Adjust the ticks label size\n",
    "ax.tick_params(axis='x', labelrotation=45, labelsize = 8)\n",
    "ax.tick_params(axis='y', labelsize = 8)\n",
    "\n",
    "# Set the axis labels \n",
    "ax.set_xlabel('# of bedrooms',fontsize = 10)\n",
    "ax.set_ylabel('Price',fontsize = 10)\n",
    "\n",
    "# Zooming in to removed outliers\n",
    "ax.set_ylim(0,10000)\n",
    "\n",
    "# Show plot\n",
    "plt.show()"
   ]
  },
  {
   "cell_type": "code",
   "execution_count": null,
   "id": "5e8dbb05-b4f0-4313-ac93-9c09a22e2e9d",
   "metadata": {
    "execution": {
     "iopub.status.busy": "2025-02-24T16:27:09.789176Z",
     "iopub.status.idle": "2025-02-24T16:27:09.791232Z",
     "shell.execute_reply": "2025-02-24T16:27:09.790912Z",
     "shell.execute_reply.started": "2025-02-24T16:27:09.790879Z"
    }
   },
   "outputs": [],
   "source": [
    "for province in rent_df['province'].unique() :\n",
    "    plt.figure(figsize = (16,6))\n",
    "\n",
    "    ax = sns.boxplot(data=rent_df[rent_df['province'] == province], x='beds', y='price') \n",
    "    \n",
    "    # Add Title\n",
    "    ax.set_title(f'Distribution of price by the # of bedrooms for {province}')\n",
    "\n",
    "    # Adjust the ticks label size\n",
    "    ax.tick_params(axis='x', labelrotation=45, labelsize = 8)\n",
    "    ax.tick_params(axis='y', labelsize = 8)\n",
    "\n",
    "    # Set the axis labels \n",
    "    ax.set_xlabel('# of bedrooms',fontsize = 10)\n",
    "    ax.set_ylabel('Price',fontsize = 10)\n",
    "\n",
    "    # Zooming in to removed outliers\n",
    "    ax.set_ylim(0,7000)\n",
    "\n",
    "    # Show plot\n",
    "    plt.show()"
   ]
  },
  {
   "cell_type": "markdown",
   "id": "e4de2ee9-aaf1-4dc3-89ea-766e1a2ec22f",
   "metadata": {},
   "source": [
    "**Price vs sq_feet**\n",
    "\n",
    "  * The sq_foot is has a linear trend. Over the data are very dispersed and not well gathered along aline.\n",
    "  * The square footage will not be a good predictor."
   ]
  },
  {
   "cell_type": "code",
   "execution_count": null,
   "id": "7f9cb0ea-529e-4f73-a728-faa89cf3e4b1",
   "metadata": {
    "execution": {
     "iopub.status.busy": "2025-02-24T16:27:09.792515Z",
     "iopub.status.idle": "2025-02-24T16:27:09.793365Z",
     "shell.execute_reply": "2025-02-24T16:27:09.793079Z",
     "shell.execute_reply.started": "2025-02-24T16:27:09.793052Z"
    }
   },
   "outputs": [],
   "source": [
    "plt.figure(figsize = (8,6))\n",
    "\n",
    "ax = sns.scatterplot(data=rent_df, x=\"sq_feet\", y=\"price\")\n",
    "\n",
    "# Add Title\n",
    "ax.set_title(f'Distribution of price by the square footage of a rental over Canada')\n",
    "\n",
    "# Adjust the ticks label size\n",
    "ax.tick_params(axis='x', labelrotation=45, labelsize = 8)\n",
    "ax.tick_params(axis='y', labelsize = 8)\n",
    "\n",
    "# Set the axis labels \n",
    "ax.set_xlabel('Square footage',fontsize = 10)\n",
    "ax.set_ylabel('Price',fontsize = 10)\n",
    "\n",
    "# Zooming in to removed outliers\n",
    "ax.set_ylim(0, 15000)\n",
    "ax.set_xlim(0,6000)\n",
    "\n",
    "plt.show()"
   ]
  },
  {
   "cell_type": "code",
   "execution_count": null,
   "id": "df96a148-69a9-415c-9c67-02d7a4fb5033",
   "metadata": {
    "execution": {
     "iopub.status.busy": "2025-02-24T16:27:09.795080Z",
     "iopub.status.idle": "2025-02-24T16:27:09.796009Z",
     "shell.execute_reply": "2025-02-24T16:27:09.795670Z",
     "shell.execute_reply.started": "2025-02-24T16:27:09.795622Z"
    }
   },
   "outputs": [],
   "source": [
    "for province in rent_df['province'].unique() :\n",
    "    plt.figure(figsize = (8,6))\n",
    "\n",
    "    ax = sns.scatterplot(data=rent_df[rent_df['province'] == province], x='sq_feet', y='price') \n",
    "    \n",
    "    # Add Title\n",
    "    ax.set_title(f'Distribution of price by the square footage of a rental for {province}')\n",
    "\n",
    "    # Adjust the ticks label size\n",
    "    ax.tick_params(axis='x', labelrotation=45, labelsize = 8)\n",
    "    ax.tick_params(axis='y', labelsize = 8)\n",
    "\n",
    "    # Set the axis labels \n",
    "    ax.set_xlabel('Square footage',fontsize = 10)\n",
    "    ax.set_ylabel('Price',fontsize = 10)\n",
    "\n",
    "    # Zooming in to removed outliers\n",
    "    ax.set_ylim(0, 15000)\n",
    "    ax.set_xlim(0,6000)\n",
    "\n",
    "    # Show plot\n",
    "    plt.show()"
   ]
  },
  {
   "cell_type": "markdown",
   "id": "a031f9cd-78a7-492d-ac45-ce6ec25e3ecb",
   "metadata": {},
   "source": [
    "**Price vs City by Province**\n",
    "\n",
    "Conclusion:\n",
    "\n",
    "  * The best city for predicting factors would be\n",
    "      - Camrose\n",
    "      - West Vancouver\n",
    "      - Rocky View\n",
    "  "
   ]
  },
  {
   "cell_type": "code",
   "execution_count": null,
   "id": "c0cbb9b3-fac1-4c36-aa1f-b0ea894ed131",
   "metadata": {
    "execution": {
     "iopub.status.busy": "2025-02-24T16:27:09.798009Z",
     "iopub.status.idle": "2025-02-24T16:27:09.798789Z",
     "shell.execute_reply": "2025-02-24T16:27:09.798476Z",
     "shell.execute_reply.started": "2025-02-24T16:27:09.798446Z"
    }
   },
   "outputs": [],
   "source": [
    "for province in rent_df['province'].unique() :\n",
    "    plt.figure(figsize = (14,6))\n",
    "\n",
    "    ax = sns.boxplot(data=rent_df[rent_df['province'] == province], x='city', y='price') \n",
    "    \n",
    "    # Add Title\n",
    "    ax.set_title(f'Distribution of price by City for {province}')\n",
    "\n",
    "    # Adjust the ticks label size\n",
    "    ax.tick_params(axis='x', labelrotation=90, labelsize = 8)\n",
    "    ax.tick_params(axis='y', labelsize = 8)\n",
    "\n",
    "    # Set the axis labels \n",
    "    ax.set_xlabel('City',fontsize = 10)\n",
    "    ax.set_ylabel('Price',fontsize = 10)\n",
    "\n",
    "    # Zooming in to removed outliers\n",
    "    ax.set_ylim(0, 8000)\n",
    "#    ax.set_xlim(0,6000)\n",
    "\n",
    "    # Show plot\n",
    "    plt.show()"
   ]
  },
  {
   "cell_type": "markdown",
   "id": "cfb4f5f1-8d45-401d-9fa0-4130f794fef5",
   "metadata": {},
   "source": [
    "**Price by latitute**\n",
    "\n",
    "Conclusion the latitude impacts the price. Thus, it might be a better to use the latitude and longitude in the model, since they are numeric instaed of using the City name.\n",
    "\n",
    "By using the City name, we would need to transform the categorical city column in a numeric column and this would create a zillon of column.\n",
    "\n",
    "For simplificity, I will be using latitudes and longitudes in my model."
   ]
  },
  {
   "cell_type": "code",
   "execution_count": null,
   "id": "b44a5f38-841c-4dd9-a684-6bac986679dd",
   "metadata": {
    "execution": {
     "iopub.status.busy": "2025-02-24T16:27:09.800441Z",
     "iopub.status.idle": "2025-02-24T16:27:09.800823Z",
     "shell.execute_reply": "2025-02-24T16:27:09.800642Z",
     "shell.execute_reply.started": "2025-02-24T16:27:09.800626Z"
    }
   },
   "outputs": [],
   "source": [
    "rent_df['lat'] = rent_df['latitude'].round(0)\n",
    "rent_df['lat'].nunique()\n",
    "\n",
    "for province in rent_df['province'].unique() :\n",
    "    plt.figure(figsize = (8,6))\n",
    "\n",
    "    ax = sns.boxplot(data=rent_df[rent_df['province'] == province], x='lat', y='price') \n",
    "    \n",
    "    # Add Title\n",
    "    ax.set_title(f'Distribution of price by the latitude for {province}')\n",
    "\n",
    "    # Adjust the ticks label size\n",
    "    ax.tick_params(axis='x', labelsize = 8)\n",
    "    ax.tick_params(axis='y', labelsize = 8)\n",
    "\n",
    "    # Set the axis labels \n",
    "    ax.set_xlabel('Latitude',fontsize = 10)\n",
    "    ax.set_ylabel('Price',fontsize = 10)\n",
    "\n",
    "    # Zooming in to removed outliers\n",
    "    ax.set_ylim(0, 15000)\n",
    "#    ax.set_xlim(0,6000)\n",
    "\n",
    "    # Show plot\n",
    "    plt.show()"
   ]
  },
  {
   "cell_type": "markdown",
   "id": "beb7b9a2-6426-4033-81a5-05e21ec3f6c3",
   "metadata": {},
   "source": [
    "**Price vs lease_term**\n",
    "\n",
    "Conclusion :\n",
    "  * Lease terms could be a moderately low predictor.\n",
    "  * The best predictors for the lease type are:\n",
    "      - Short term\n",
    "      - Long term"
   ]
  },
  {
   "cell_type": "code",
   "execution_count": null,
   "id": "0096cee1-f04e-4d2f-8faf-27fae84c4ebd",
   "metadata": {
    "execution": {
     "iopub.status.busy": "2025-02-24T16:27:09.802022Z",
     "iopub.status.idle": "2025-02-24T16:27:09.802397Z",
     "shell.execute_reply": "2025-02-24T16:27:09.802229Z",
     "shell.execute_reply.started": "2025-02-24T16:27:09.802213Z"
    }
   },
   "outputs": [],
   "source": [
    "plt.figure(figsize = (8,6))\n",
    "\n",
    "ax = sns.boxplot(data=rent_df, x=\"lease_term\", y=\"price\")\n",
    "\n",
    "# Add Title\n",
    "ax.set_title(f'Distribution of price by the lease term')\n",
    "\n",
    "# Adjust the ticks label size\n",
    "ax.tick_params(axis='x', labelrotation=45, labelsize = 8)\n",
    "ax.tick_params(axis='y', labelsize = 8)\n",
    "\n",
    "# Set the axis labels \n",
    "ax.set_xlabel('Lease term',fontsize = 10)\n",
    "ax.set_ylabel('Price',fontsize = 10)\n",
    "\n",
    "# Zooming in to removed outliers\n",
    "ax.set_ylim(0, 15000)\n",
    "\n",
    "plt.show()"
   ]
  },
  {
   "cell_type": "code",
   "execution_count": null,
   "id": "d56e65da-c1f6-4760-a762-fe993819514e",
   "metadata": {
    "execution": {
     "iopub.status.busy": "2025-02-24T16:27:09.803874Z",
     "iopub.status.idle": "2025-02-24T16:27:09.804251Z",
     "shell.execute_reply": "2025-02-24T16:27:09.804084Z",
     "shell.execute_reply.started": "2025-02-24T16:27:09.804068Z"
    }
   },
   "outputs": [],
   "source": [
    "for province in rent_df['province'].unique() :\n",
    "    plt.figure(figsize = (8,6))\n",
    "\n",
    "    ax = sns.boxplot(data=rent_df[rent_df['province'] == province], x='lease_term', y='price') \n",
    "    \n",
    "    # Add Title\n",
    "    ax.set_title(f'Distribution of price by the lease_term for {province}')\n",
    "\n",
    "    # Adjust the ticks label size\n",
    "    ax.tick_params(axis='x', labelsize = 8)\n",
    "    ax.tick_params(axis='y', labelsize = 8)\n",
    "\n",
    "    # Set the axis labels \n",
    "    ax.set_xlabel('lease_term',fontsize = 10)\n",
    "    ax.set_ylabel('Price',fontsize = 10)\n",
    "\n",
    "    # Zooming in to removed outliers\n",
    "    ax.set_ylim(0, 15000)\n",
    "#    ax.set_xlim(0,6000)\n",
    "\n",
    "    # Show plot\n",
    "    plt.show()"
   ]
  },
  {
   "cell_type": "markdown",
   "id": "88d4374d-be72-4456-80db-68ad2c1c8755",
   "metadata": {
    "execution": {
     "iopub.execute_input": "2025-02-21T22:45:28.869476Z",
     "iopub.status.busy": "2025-02-21T22:45:28.868584Z",
     "iopub.status.idle": "2025-02-21T22:45:28.875235Z",
     "shell.execute_reply": "2025-02-21T22:45:28.873814Z",
     "shell.execute_reply.started": "2025-02-21T22:45:28.869429Z"
    }
   },
   "source": [
    "**Price vs # of bathroom**\n",
    "\n",
    "Conclusion :\n",
    "  * The number of bathrooms in a rental has a direct impact on the price.\n",
    "  * Maybe not linear though"
   ]
  },
  {
   "cell_type": "code",
   "execution_count": null,
   "id": "ef1baf4d-8d0c-4c7f-9de3-96f188ba0d1c",
   "metadata": {
    "execution": {
     "iopub.status.busy": "2025-02-24T16:27:09.807360Z",
     "iopub.status.idle": "2025-02-24T16:27:09.808566Z",
     "shell.execute_reply": "2025-02-24T16:27:09.808221Z",
     "shell.execute_reply.started": "2025-02-24T16:27:09.808190Z"
    }
   },
   "outputs": [],
   "source": [
    "plt.figure(figsize = (8,6))\n",
    "\n",
    "ax = sns.boxplot(data=rent_df, x=\"baths\", y=\"price\")\n",
    "\n",
    "# Add Title\n",
    "ax.set_title(f'Distribution of price vs # of bath')\n",
    "\n",
    "# Adjust the ticks label size\n",
    "ax.tick_params(axis='x', labelsize = 8)\n",
    "ax.tick_params(axis='y', labelsize = 8)\n",
    "\n",
    "# Set the axis labels \n",
    "ax.set_xlabel('# of bath',fontsize = 10)\n",
    "ax.set_ylabel('Price',fontsize = 10)\n",
    "\n",
    "# Zooming in to removed outliers\n",
    "ax.set_ylim(0, 15000)\n",
    "\n",
    "plt.show()"
   ]
  }
 ],
 "metadata": {
  "kernelspec": {
   "display_name": "graph",
   "language": "python",
   "name": "graph"
  },
  "language_info": {
   "codemirror_mode": {
    "name": "ipython",
    "version": 3
   },
   "file_extension": ".py",
   "mimetype": "text/x-python",
   "name": "python",
   "nbconvert_exporter": "python",
   "pygments_lexer": "ipython3",
   "version": "3.12.7"
  }
 },
 "nbformat": 4,
 "nbformat_minor": 5
}

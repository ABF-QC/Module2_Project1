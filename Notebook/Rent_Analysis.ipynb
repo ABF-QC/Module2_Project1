{
 "cells": [
  {
   "cell_type": "markdown",
   "id": "7ecfab99-6a3b-47f5-8155-4a5dea52c6ba",
   "metadata": {},
   "source": [
    "### Importing necessary library"
   ]
  },
  {
   "cell_type": "code",
   "execution_count": 1,
   "id": "a990b971-9054-42c1-a889-8f4959b4fb0b",
   "metadata": {
    "execution": {
     "iopub.execute_input": "2025-02-21T18:48:18.696001Z",
     "iopub.status.busy": "2025-02-21T18:48:18.695631Z",
     "iopub.status.idle": "2025-02-21T18:48:19.244778Z",
     "shell.execute_reply": "2025-02-21T18:48:19.243448Z",
     "shell.execute_reply.started": "2025-02-21T18:48:18.695974Z"
    }
   },
   "outputs": [],
   "source": [
    "import pandas as pd\n",
    "import numpy as np\n",
    "\n",
    "import datetime"
   ]
  },
  {
   "cell_type": "markdown",
   "id": "47bdcb37-63a5-4450-9b9d-45079ea9607e",
   "metadata": {},
   "source": [
    "### Reading the data file"
   ]
  },
  {
   "cell_type": "code",
   "execution_count": 2,
   "id": "f55c120d-97ec-4ec9-80ff-69e08a7161cc",
   "metadata": {
    "execution": {
     "iopub.execute_input": "2025-02-21T18:48:19.247151Z",
     "iopub.status.busy": "2025-02-21T18:48:19.246519Z",
     "iopub.status.idle": "2025-02-21T18:48:19.480609Z",
     "shell.execute_reply": "2025-02-21T18:48:19.479399Z",
     "shell.execute_reply.started": "2025-02-21T18:48:19.247099Z"
    }
   },
   "outputs": [
    {
     "data": {
      "text/html": [
       "<div>\n",
       "<style scoped>\n",
       "    .dataframe tbody tr th:only-of-type {\n",
       "        vertical-align: middle;\n",
       "    }\n",
       "\n",
       "    .dataframe tbody tr th {\n",
       "        vertical-align: top;\n",
       "    }\n",
       "\n",
       "    .dataframe thead th {\n",
       "        text-align: right;\n",
       "    }\n",
       "</style>\n",
       "<table border=\"1\" class=\"dataframe\">\n",
       "  <thead>\n",
       "    <tr style=\"text-align: right;\">\n",
       "      <th></th>\n",
       "      <th>rentfaster_id</th>\n",
       "      <th>city</th>\n",
       "      <th>province</th>\n",
       "      <th>address</th>\n",
       "      <th>latitude</th>\n",
       "      <th>longitude</th>\n",
       "      <th>lease_term</th>\n",
       "      <th>type</th>\n",
       "      <th>price</th>\n",
       "      <th>beds</th>\n",
       "      <th>baths</th>\n",
       "      <th>sq_feet</th>\n",
       "      <th>link</th>\n",
       "      <th>furnishing</th>\n",
       "      <th>availability_date</th>\n",
       "      <th>smoking</th>\n",
       "      <th>cats</th>\n",
       "      <th>dogs</th>\n",
       "    </tr>\n",
       "  </thead>\n",
       "  <tbody>\n",
       "    <tr>\n",
       "      <th>0</th>\n",
       "      <td>468622</td>\n",
       "      <td>Airdrie</td>\n",
       "      <td>Alberta</td>\n",
       "      <td>69 Gateway Dr NE</td>\n",
       "      <td>51.305962</td>\n",
       "      <td>-114.012515</td>\n",
       "      <td>Long Term</td>\n",
       "      <td>Townhouse</td>\n",
       "      <td>2495.0</td>\n",
       "      <td>2 Beds</td>\n",
       "      <td>2.5</td>\n",
       "      <td>1403</td>\n",
       "      <td>/ab/airdrie/rentals/townhouse/2-bedrooms/pet-f...</td>\n",
       "      <td>Unfurnished</td>\n",
       "      <td>Immediate</td>\n",
       "      <td>Non-Smoking</td>\n",
       "      <td>True</td>\n",
       "      <td>True</td>\n",
       "    </tr>\n",
       "    <tr>\n",
       "      <th>1</th>\n",
       "      <td>468622</td>\n",
       "      <td>Airdrie</td>\n",
       "      <td>Alberta</td>\n",
       "      <td>69 Gateway Dr NE</td>\n",
       "      <td>51.305962</td>\n",
       "      <td>-114.012515</td>\n",
       "      <td>Long Term</td>\n",
       "      <td>Townhouse</td>\n",
       "      <td>2695.0</td>\n",
       "      <td>3 Beds</td>\n",
       "      <td>2.5</td>\n",
       "      <td>1496</td>\n",
       "      <td>/ab/airdrie/rentals/townhouse/2-bedrooms/pet-f...</td>\n",
       "      <td>Unfurnished</td>\n",
       "      <td>Immediate</td>\n",
       "      <td>Non-Smoking</td>\n",
       "      <td>True</td>\n",
       "      <td>True</td>\n",
       "    </tr>\n",
       "    <tr>\n",
       "      <th>2</th>\n",
       "      <td>468622</td>\n",
       "      <td>Airdrie</td>\n",
       "      <td>Alberta</td>\n",
       "      <td>69 Gateway Dr NE</td>\n",
       "      <td>51.305962</td>\n",
       "      <td>-114.012515</td>\n",
       "      <td>Long Term</td>\n",
       "      <td>Townhouse</td>\n",
       "      <td>2295.0</td>\n",
       "      <td>2 Beds</td>\n",
       "      <td>2.5</td>\n",
       "      <td>1180</td>\n",
       "      <td>/ab/airdrie/rentals/townhouse/2-bedrooms/pet-f...</td>\n",
       "      <td>Unfurnished</td>\n",
       "      <td>Immediate</td>\n",
       "      <td>Non-Smoking</td>\n",
       "      <td>True</td>\n",
       "      <td>True</td>\n",
       "    </tr>\n",
       "    <tr>\n",
       "      <th>3</th>\n",
       "      <td>468622</td>\n",
       "      <td>Airdrie</td>\n",
       "      <td>Alberta</td>\n",
       "      <td>69 Gateway Dr NE</td>\n",
       "      <td>51.305962</td>\n",
       "      <td>-114.012515</td>\n",
       "      <td>Long Term</td>\n",
       "      <td>Townhouse</td>\n",
       "      <td>2095.0</td>\n",
       "      <td>2 Beds</td>\n",
       "      <td>2.5</td>\n",
       "      <td>1403</td>\n",
       "      <td>/ab/airdrie/rentals/townhouse/2-bedrooms/pet-f...</td>\n",
       "      <td>Unfurnished</td>\n",
       "      <td>November 18</td>\n",
       "      <td>Non-Smoking</td>\n",
       "      <td>True</td>\n",
       "      <td>True</td>\n",
       "    </tr>\n",
       "    <tr>\n",
       "      <th>4</th>\n",
       "      <td>468622</td>\n",
       "      <td>Airdrie</td>\n",
       "      <td>Alberta</td>\n",
       "      <td>69 Gateway Dr NE</td>\n",
       "      <td>51.305962</td>\n",
       "      <td>-114.012515</td>\n",
       "      <td>Long Term</td>\n",
       "      <td>Townhouse</td>\n",
       "      <td>2495.0</td>\n",
       "      <td>2 Beds</td>\n",
       "      <td>2.5</td>\n",
       "      <td>1403</td>\n",
       "      <td>/ab/airdrie/rentals/townhouse/2-bedrooms/pet-f...</td>\n",
       "      <td>Unfurnished</td>\n",
       "      <td>Immediate</td>\n",
       "      <td>Non-Smoking</td>\n",
       "      <td>True</td>\n",
       "      <td>True</td>\n",
       "    </tr>\n",
       "    <tr>\n",
       "      <th>...</th>\n",
       "      <td>...</td>\n",
       "      <td>...</td>\n",
       "      <td>...</td>\n",
       "      <td>...</td>\n",
       "      <td>...</td>\n",
       "      <td>...</td>\n",
       "      <td>...</td>\n",
       "      <td>...</td>\n",
       "      <td>...</td>\n",
       "      <td>...</td>\n",
       "      <td>...</td>\n",
       "      <td>...</td>\n",
       "      <td>...</td>\n",
       "      <td>...</td>\n",
       "      <td>...</td>\n",
       "      <td>...</td>\n",
       "      <td>...</td>\n",
       "      <td>...</td>\n",
       "    </tr>\n",
       "    <tr>\n",
       "      <th>25766</th>\n",
       "      <td>334285</td>\n",
       "      <td>Yorkton</td>\n",
       "      <td>Saskatchewan</td>\n",
       "      <td>18 Allanbrooke Dr</td>\n",
       "      <td>51.203024</td>\n",
       "      <td>-102.484782</td>\n",
       "      <td>Long Term</td>\n",
       "      <td>Apartment</td>\n",
       "      <td>920.0</td>\n",
       "      <td>Studio</td>\n",
       "      <td>1</td>\n",
       "      <td>400</td>\n",
       "      <td>/sk/yorkton/rentals/apartment/3-bedrooms/pet-f...</td>\n",
       "      <td>Unfurnished</td>\n",
       "      <td>Immediate</td>\n",
       "      <td>Non-Smoking</td>\n",
       "      <td>True</td>\n",
       "      <td>True</td>\n",
       "    </tr>\n",
       "    <tr>\n",
       "      <th>25767</th>\n",
       "      <td>334285</td>\n",
       "      <td>Yorkton</td>\n",
       "      <td>Saskatchewan</td>\n",
       "      <td>18 Allanbrooke Dr</td>\n",
       "      <td>51.203024</td>\n",
       "      <td>-102.484782</td>\n",
       "      <td>Long Term</td>\n",
       "      <td>Apartment</td>\n",
       "      <td>1450.0</td>\n",
       "      <td>3 Beds</td>\n",
       "      <td>1</td>\n",
       "      <td>810</td>\n",
       "      <td>/sk/yorkton/rentals/apartment/3-bedrooms/pet-f...</td>\n",
       "      <td>Unfurnished</td>\n",
       "      <td>Immediate</td>\n",
       "      <td>Non-Smoking</td>\n",
       "      <td>True</td>\n",
       "      <td>True</td>\n",
       "    </tr>\n",
       "    <tr>\n",
       "      <th>25768</th>\n",
       "      <td>334284</td>\n",
       "      <td>Yorkton</td>\n",
       "      <td>Saskatchewan</td>\n",
       "      <td>363 Northview Rd</td>\n",
       "      <td>51.202667</td>\n",
       "      <td>-102.485765</td>\n",
       "      <td>Long Term</td>\n",
       "      <td>Apartment</td>\n",
       "      <td>1125.0</td>\n",
       "      <td>1 Bed</td>\n",
       "      <td>1</td>\n",
       "      <td>520</td>\n",
       "      <td>/sk/yorkton/rentals/apartment/1-bedroom/pet-fr...</td>\n",
       "      <td>Unfurnished</td>\n",
       "      <td>Immediate</td>\n",
       "      <td>Non-Smoking</td>\n",
       "      <td>True</td>\n",
       "      <td>True</td>\n",
       "    </tr>\n",
       "    <tr>\n",
       "      <th>25769</th>\n",
       "      <td>334284</td>\n",
       "      <td>Yorkton</td>\n",
       "      <td>Saskatchewan</td>\n",
       "      <td>363 Northview Rd</td>\n",
       "      <td>51.202667</td>\n",
       "      <td>-102.485765</td>\n",
       "      <td>Long Term</td>\n",
       "      <td>Apartment</td>\n",
       "      <td>920.0</td>\n",
       "      <td>Studio</td>\n",
       "      <td>1</td>\n",
       "      <td>400</td>\n",
       "      <td>/sk/yorkton/rentals/apartment/1-bedroom/pet-fr...</td>\n",
       "      <td>Unfurnished</td>\n",
       "      <td>Immediate</td>\n",
       "      <td>Non-Smoking</td>\n",
       "      <td>True</td>\n",
       "      <td>True</td>\n",
       "    </tr>\n",
       "    <tr>\n",
       "      <th>25770</th>\n",
       "      <td>334284</td>\n",
       "      <td>Yorkton</td>\n",
       "      <td>Saskatchewan</td>\n",
       "      <td>363 Northview Rd</td>\n",
       "      <td>51.202667</td>\n",
       "      <td>-102.485765</td>\n",
       "      <td>Long Term</td>\n",
       "      <td>Apartment</td>\n",
       "      <td>1285.0</td>\n",
       "      <td>2 Beds</td>\n",
       "      <td>1</td>\n",
       "      <td>700</td>\n",
       "      <td>/sk/yorkton/rentals/apartment/1-bedroom/pet-fr...</td>\n",
       "      <td>Unfurnished</td>\n",
       "      <td>Immediate</td>\n",
       "      <td>Non-Smoking</td>\n",
       "      <td>True</td>\n",
       "      <td>True</td>\n",
       "    </tr>\n",
       "  </tbody>\n",
       "</table>\n",
       "<p>25771 rows × 18 columns</p>\n",
       "</div>"
      ],
      "text/plain": [
       "       rentfaster_id     city      province            address   latitude  \\\n",
       "0             468622  Airdrie       Alberta   69 Gateway Dr NE  51.305962   \n",
       "1             468622  Airdrie       Alberta   69 Gateway Dr NE  51.305962   \n",
       "2             468622  Airdrie       Alberta   69 Gateway Dr NE  51.305962   \n",
       "3             468622  Airdrie       Alberta   69 Gateway Dr NE  51.305962   \n",
       "4             468622  Airdrie       Alberta   69 Gateway Dr NE  51.305962   \n",
       "...              ...      ...           ...                ...        ...   \n",
       "25766         334285  Yorkton  Saskatchewan  18 Allanbrooke Dr  51.203024   \n",
       "25767         334285  Yorkton  Saskatchewan  18 Allanbrooke Dr  51.203024   \n",
       "25768         334284  Yorkton  Saskatchewan   363 Northview Rd  51.202667   \n",
       "25769         334284  Yorkton  Saskatchewan   363 Northview Rd  51.202667   \n",
       "25770         334284  Yorkton  Saskatchewan   363 Northview Rd  51.202667   \n",
       "\n",
       "        longitude lease_term       type   price    beds baths sq_feet  \\\n",
       "0     -114.012515  Long Term  Townhouse  2495.0  2 Beds   2.5    1403   \n",
       "1     -114.012515  Long Term  Townhouse  2695.0  3 Beds   2.5    1496   \n",
       "2     -114.012515  Long Term  Townhouse  2295.0  2 Beds   2.5    1180   \n",
       "3     -114.012515  Long Term  Townhouse  2095.0  2 Beds   2.5    1403   \n",
       "4     -114.012515  Long Term  Townhouse  2495.0  2 Beds   2.5    1403   \n",
       "...           ...        ...        ...     ...     ...   ...     ...   \n",
       "25766 -102.484782  Long Term  Apartment   920.0  Studio     1     400   \n",
       "25767 -102.484782  Long Term  Apartment  1450.0  3 Beds     1     810   \n",
       "25768 -102.485765  Long Term  Apartment  1125.0   1 Bed     1     520   \n",
       "25769 -102.485765  Long Term  Apartment   920.0  Studio     1     400   \n",
       "25770 -102.485765  Long Term  Apartment  1285.0  2 Beds     1     700   \n",
       "\n",
       "                                                    link   furnishing  \\\n",
       "0      /ab/airdrie/rentals/townhouse/2-bedrooms/pet-f...  Unfurnished   \n",
       "1      /ab/airdrie/rentals/townhouse/2-bedrooms/pet-f...  Unfurnished   \n",
       "2      /ab/airdrie/rentals/townhouse/2-bedrooms/pet-f...  Unfurnished   \n",
       "3      /ab/airdrie/rentals/townhouse/2-bedrooms/pet-f...  Unfurnished   \n",
       "4      /ab/airdrie/rentals/townhouse/2-bedrooms/pet-f...  Unfurnished   \n",
       "...                                                  ...          ...   \n",
       "25766  /sk/yorkton/rentals/apartment/3-bedrooms/pet-f...  Unfurnished   \n",
       "25767  /sk/yorkton/rentals/apartment/3-bedrooms/pet-f...  Unfurnished   \n",
       "25768  /sk/yorkton/rentals/apartment/1-bedroom/pet-fr...  Unfurnished   \n",
       "25769  /sk/yorkton/rentals/apartment/1-bedroom/pet-fr...  Unfurnished   \n",
       "25770  /sk/yorkton/rentals/apartment/1-bedroom/pet-fr...  Unfurnished   \n",
       "\n",
       "      availability_date      smoking  cats  dogs  \n",
       "0             Immediate  Non-Smoking  True  True  \n",
       "1             Immediate  Non-Smoking  True  True  \n",
       "2             Immediate  Non-Smoking  True  True  \n",
       "3           November 18  Non-Smoking  True  True  \n",
       "4             Immediate  Non-Smoking  True  True  \n",
       "...                 ...          ...   ...   ...  \n",
       "25766         Immediate  Non-Smoking  True  True  \n",
       "25767         Immediate  Non-Smoking  True  True  \n",
       "25768         Immediate  Non-Smoking  True  True  \n",
       "25769         Immediate  Non-Smoking  True  True  \n",
       "25770         Immediate  Non-Smoking  True  True  \n",
       "\n",
       "[25771 rows x 18 columns]"
      ]
     },
     "execution_count": 2,
     "metadata": {},
     "output_type": "execute_result"
    }
   ],
   "source": [
    "rent_df = pd.read_csv('../Data/canada_rent.csv')\n",
    "rent_df"
   ]
  },
  {
   "cell_type": "markdown",
   "id": "401e7987-3739-442a-925e-05b973dab693",
   "metadata": {},
   "source": [
    "### Investigate the possibility of each categorical columns"
   ]
  },
  {
   "cell_type": "code",
   "execution_count": 3,
   "id": "ccc69e5e-c490-44dd-8d08-acf77ae3e240",
   "metadata": {
    "execution": {
     "iopub.execute_input": "2025-02-21T18:48:19.484465Z",
     "iopub.status.busy": "2025-02-21T18:48:19.483930Z",
     "iopub.status.idle": "2025-02-21T18:48:19.508478Z",
     "shell.execute_reply": "2025-02-21T18:48:19.507604Z",
     "shell.execute_reply.started": "2025-02-21T18:48:19.484404Z"
    }
   },
   "outputs": [
    {
     "name": "stdout",
     "output_type": "stream",
     "text": [
      "The options for lease_term are :  ['Long Term' 'Negotiable' 'Short Term' '12 months' 'months' '6 months' nan] \n",
      "\n",
      "The options for type are :  ['Townhouse' 'Apartment' 'Main Floor' 'House' 'Basement' 'Duplex'\n",
      " 'Storage' 'Condo Unit' 'Room For Rent' 'Loft' 'Acreage' 'Office Space'\n",
      " 'Parking Spot' 'Vacation Home' 'Mobile'] \n",
      "\n",
      "The options for furnishing are :  ['Unfurnished' 'Furnished' 'Negotiable' 'Unfurnished, Negotiable'] \n",
      "\n",
      "The options for smoking are :  ['Non-Smoking' 'Smoke Free Building' nan 'Negotiable' 'Smoking Allowed'] \n",
      "\n",
      "The options for cats are :  [True False nan] \n",
      "\n",
      "The options for dogs are :  [True False nan] \n",
      "\n",
      "The options for beds are :  ['2 Beds' '3 Beds' 'Studio' '1 Bed' '5 Beds' '4 Beds' nan '6 Beds'\n",
      " 'none Beds' '8 Beds' '7 Beds' '9 Beds'] \n",
      "\n"
     ]
    }
   ],
   "source": [
    "\n",
    "print('The options for lease_term are : ', rent_df['lease_term'].unique(), '\\n')\n",
    "\n",
    "print('The options for type are : ', rent_df['type'].unique(), '\\n')\n",
    "\n",
    "print('The options for furnishing are : ', rent_df['furnishing'].unique(), '\\n')\n",
    "\n",
    "print('The options for smoking are : ', rent_df['smoking'].unique(), '\\n')\n",
    "\n",
    "print('The options for cats are : ', rent_df['cats'].unique(), '\\n')\n",
    "\n",
    "print('The options for dogs are : ', rent_df['dogs'].unique(), '\\n')\n",
    "\n",
    "print('The options for beds are : ', rent_df['beds'].unique(), '\\n')"
   ]
  },
  {
   "cell_type": "code",
   "execution_count": 4,
   "id": "6648ee2c-4a60-491d-a015-9d17e0753a10",
   "metadata": {
    "execution": {
     "iopub.execute_input": "2025-02-21T18:48:19.511117Z",
     "iopub.status.busy": "2025-02-21T18:48:19.509799Z",
     "iopub.status.idle": "2025-02-21T18:48:19.529775Z",
     "shell.execute_reply": "2025-02-21T18:48:19.528344Z",
     "shell.execute_reply.started": "2025-02-21T18:48:19.511067Z"
    }
   },
   "outputs": [
    {
     "name": "stderr",
     "output_type": "stream",
     "text": [
      "/tmp/ipykernel_342033/4036404593.py:1: FutureWarning: A value is trying to be set on a copy of a DataFrame or Series through chained assignment using an inplace method.\n",
      "The behavior will change in pandas 3.0. This inplace method will never work because the intermediate object on which we are setting values always behaves as a copy.\n",
      "\n",
      "For example, when doing 'df[col].method(value, inplace=True)', try using 'df.method({col: value}, inplace=True)' or df[col] = df[col].method(value) instead, to perform the operation inplace on the original object.\n",
      "\n",
      "\n",
      "  rent_df['furnishing'].replace({'Unfurnished, Negotiable': 'Negotiable'}, inplace=True)\n"
     ]
    }
   ],
   "source": [
    "rent_df['furnishing'].replace({'Unfurnished, Negotiable': 'Negotiable'}, inplace=True)"
   ]
  },
  {
   "cell_type": "markdown",
   "id": "366988dc-a40e-4c3e-a5c7-95ebdcede497",
   "metadata": {},
   "source": [
    "### Cleaning up the dataframe"
   ]
  },
  {
   "cell_type": "markdown",
   "id": "d9a0094a-1797-40ab-bbcb-a784490b5855",
   "metadata": {},
   "source": [
    "I will be removing columns that will bring no additional value to the regression analysis, such as the link and rentfaster_id columns.\n",
    "\n",
    "I will also be removing the latitude and longitude columns to work with the address, city and Province instead.\n",
    "\n",
    "I will be removing the string 'Beds' from the beds column and will be replacing studio and none Beds by 0.\n",
    "\n",
    "I will be replacing the string immediate in the column availability_date by today's date, in order to change the column to a datetime stamp.\n",
    "\n",
    "I will be dropping all the rows where the column availability_date has the string 'No Vacancy'.\n",
    "\n",
    "I will be replacing the string 'Negotiable' and 'Call for Availability' in the column availability_date by today's date.\n",
    "\n",
    "I will be combining similar terms in the furnishing column.  'Unfurnished, Negotiable' will become 'Negotiable'.\n",
    "\n",
    "I will be replacingsimilar terms in the smoking column. 'Smoke Free Building' replaced by 'Non-Smoking'."
   ]
  },
  {
   "cell_type": "code",
   "execution_count": 5,
   "id": "57300749-d2a7-490d-bf8f-d51184ccc579",
   "metadata": {
    "execution": {
     "iopub.execute_input": "2025-02-21T18:48:19.532297Z",
     "iopub.status.busy": "2025-02-21T18:48:19.531542Z",
     "iopub.status.idle": "2025-02-21T18:48:19.551790Z",
     "shell.execute_reply": "2025-02-21T18:48:19.549767Z",
     "shell.execute_reply.started": "2025-02-21T18:48:19.532236Z"
    }
   },
   "outputs": [],
   "source": [
    "# Removing unecessary columns\n",
    "rent_df.drop(columns=['link', 'rentfaster_id','latitude','longitude'], inplace=True)"
   ]
  },
  {
   "cell_type": "markdown",
   "id": "30df09a1-4fb0-4b0e-9e9b-6941e31de9bb",
   "metadata": {
    "execution": {
     "iopub.execute_input": "2025-02-21T15:59:15.638841Z",
     "iopub.status.busy": "2025-02-21T15:59:15.636319Z",
     "iopub.status.idle": "2025-02-21T15:59:15.664900Z",
     "shell.execute_reply": "2025-02-21T15:59:15.658773Z",
     "shell.execute_reply.started": "2025-02-21T15:59:15.638711Z"
    }
   },
   "source": [
    "**Filtering the beds column**"
   ]
  },
  {
   "cell_type": "code",
   "execution_count": 6,
   "id": "bc12bac6-6551-4603-a6ae-99cac580c045",
   "metadata": {
    "execution": {
     "iopub.execute_input": "2025-02-21T18:48:19.558643Z",
     "iopub.status.busy": "2025-02-21T18:48:19.557664Z",
     "iopub.status.idle": "2025-02-21T18:48:19.626513Z",
     "shell.execute_reply": "2025-02-21T18:48:19.625369Z",
     "shell.execute_reply.started": "2025-02-21T18:48:19.558562Z"
    }
   },
   "outputs": [
    {
     "name": "stdout",
     "output_type": "stream",
     "text": [
      "Before => ['2 Beds' '3 Beds' 'Studio' '1 Bed' '5 Beds' '4 Beds' nan '6 Beds'\n",
      " 'none Beds' '8 Beds' '7 Beds' '9 Beds']\n",
      "After => ['2' '3' '0' '1' '5' '4' nan '6' '8' '7' '9']\n"
     ]
    },
    {
     "name": "stderr",
     "output_type": "stream",
     "text": [
      "/tmp/ipykernel_342033/4177830194.py:5: FutureWarning: A value is trying to be set on a copy of a DataFrame or Series through chained assignment using an inplace method.\n",
      "The behavior will change in pandas 3.0. This inplace method will never work because the intermediate object on which we are setting values always behaves as a copy.\n",
      "\n",
      "For example, when doing 'df[col].method(value, inplace=True)', try using 'df.method({col: value}, inplace=True)' or df[col] = df[col].method(value) instead, to perform the operation inplace on the original object.\n",
      "\n",
      "\n",
      "  rent_df['beds'].replace(r'\\s*Beds?\\s*','', regex=True, inplace=True)\n",
      "/tmp/ipykernel_342033/4177830194.py:8: FutureWarning: A value is trying to be set on a copy of a DataFrame or Series through chained assignment using an inplace method.\n",
      "The behavior will change in pandas 3.0. This inplace method will never work because the intermediate object on which we are setting values always behaves as a copy.\n",
      "\n",
      "For example, when doing 'df[col].method(value, inplace=True)', try using 'df.method({col: value}, inplace=True)' or df[col] = df[col].method(value) instead, to perform the operation inplace on the original object.\n",
      "\n",
      "\n",
      "  rent_df['beds'].replace(r'\\b(Studio|none)\\b','0', regex=True, inplace=True)\n"
     ]
    }
   ],
   "source": [
    "# Looking at the beds possibilities\n",
    "print('Before =>',rent_df['beds'].unique())\n",
    "\n",
    "# Removing Beds, Bed from column beds\n",
    "rent_df['beds'].replace(r'\\s*Beds?\\s*','', regex=True, inplace=True)\n",
    "\n",
    "# Replacing Studio and none by 0\n",
    "rent_df['beds'].replace(r'\\b(Studio|none)\\b','0', regex=True, inplace=True)\n",
    "\n",
    "# Verifying that the string replacement was done correctly\n",
    "print('After =>',rent_df['beds'].unique())"
   ]
  },
  {
   "cell_type": "markdown",
   "id": "47906cc2-4323-484b-8b9a-4274bec094d6",
   "metadata": {
    "execution": {
     "iopub.execute_input": "2025-02-21T15:39:23.783221Z",
     "iopub.status.busy": "2025-02-21T15:39:23.781714Z",
     "iopub.status.idle": "2025-02-21T15:39:23.805687Z",
     "shell.execute_reply": "2025-02-21T15:39:23.804506Z",
     "shell.execute_reply.started": "2025-02-21T15:39:23.783162Z"
    }
   },
   "source": [
    "**Filtering the availability_date column**"
   ]
  },
  {
   "cell_type": "code",
   "execution_count": 7,
   "id": "d1a8c9da-2d00-4e2e-be35-f5e49f350a8f",
   "metadata": {
    "execution": {
     "iopub.execute_input": "2025-02-21T18:48:19.628458Z",
     "iopub.status.busy": "2025-02-21T18:48:19.627964Z",
     "iopub.status.idle": "2025-02-21T18:48:19.655032Z",
     "shell.execute_reply": "2025-02-21T18:48:19.653604Z",
     "shell.execute_reply.started": "2025-02-21T18:48:19.628413Z"
    }
   },
   "outputs": [
    {
     "name": "stdout",
     "output_type": "stream",
     "text": [
      "Before => ['Immediate' 'November 18' 'July 01' 'August 01' 'June 15' 'July 31'\n",
      " 'June 30' 'July 15' 'July 07' 'July 18' 'August 07' 'August 15'\n",
      " 'September 01' 'Negotiable' 'No Vacancy' 'June 14' 'July 04' 'July 05'\n",
      " 'August 06' 'July 11' 'June 19' 'Call for Availability' 'September 07'\n",
      " 'July 12' 'June 17' 'October 03' 'June 25' 'June 18' 'August 23'\n",
      " 'July 23' 'July 02' 'October 01' 'July 08' 'June 16' 'June 20' 'June 21'\n",
      " 'June 22' 'June 23' 'June 24' 'June 26' 'June 28' 'June 29' 'July 22'\n",
      " 'November 01' 'July 03' 'July 09' 'July 06' 'July 10' 'July 16' 'July 17'\n",
      " 'July 20' 'July 27' 'July 30' 'August 02' 'August 04' 'August 05'\n",
      " 'August 09' 'August 10' 'August 11' 'August 16' 'August 20' 'August 22'\n",
      " 'August 25' 'August 26' 'August 29' 'August 30' 'August 31'\n",
      " 'September 02' 'September 03' 'September 05' 'September 08'\n",
      " 'September 15' 'September 30' 'October 04' 'October 07' 'October 11'\n",
      " 'October 16' 'October 19' 'October 31' 'November 15' 'December 01'\n",
      " 'December 30' nan 'September 10' 'June 27' 'October 15' 'July 13'\n",
      " 'July 14' 'August 14' 'July 21' 'July 28' 'August 21' 'March 15' 'May 01'\n",
      " 'August 13' 'July 29' 'July 26' 'August 03' 'September 09' 'August 12'\n",
      " 'July 25' 'August 17' 'September 04' 'September 29' 'November 24'\n",
      " 'May 08' 'July 24' 'September 06' 'August 08' 'October 02' 'September 14'\n",
      " 'January 01' 'November 05' 'September 19' 'October 10' 'November 07'\n",
      " 'December 04' 'December 10' 'May 10' 'May 24' 'January 31' 'March 31'\n",
      " 'January 05' 'May 05' 'October 30' 'March 05' 'February 28' 'November 29'\n",
      " 'August 28' 'September 12' 'December 31' 'May 31' 'October 05']\n",
      "city                 548\n",
      "province             548\n",
      "address              539\n",
      "lease_term           548\n",
      "type                 548\n",
      "price                548\n",
      "beds                 544\n",
      "baths                544\n",
      "sq_feet              425\n",
      "furnishing           548\n",
      "availability_date    548\n",
      "smoking              548\n",
      "cats                 544\n",
      "dogs                 544\n",
      "dtype: int64\n",
      "city                 971\n",
      "province             971\n",
      "address              971\n",
      "lease_term           937\n",
      "type                 971\n",
      "price                971\n",
      "beds                 971\n",
      "baths                971\n",
      "sq_feet              729\n",
      "furnishing           971\n",
      "availability_date    971\n",
      "smoking              971\n",
      "cats                 971\n",
      "dogs                 971\n",
      "dtype: int64\n"
     ]
    }
   ],
   "source": [
    "# Look the possible string the column availability_date\n",
    "print('Before =>', rent_df['availability_date'].unique())\n",
    "\n",
    "# Looking at frequency of occurency of 'Negotiable', 'Call for Availability' in the column availability_date\n",
    "print(rent_df[rent_df['availability_date'].isin(['Negotiable', 'Call for Availability'])].count())\n",
    "\n",
    "# Looking at frequency of occurency of 'No Vacancy' in the column availability_dateabs\n",
    "print(rent_df[rent_df['availability_date'].isin(['No Vacancy'])].count())\n"
   ]
  },
  {
   "cell_type": "code",
   "execution_count": 8,
   "id": "e5f185d2-9a8a-4866-b296-61e2285d4d69",
   "metadata": {
    "execution": {
     "iopub.execute_input": "2025-02-21T18:48:19.657029Z",
     "iopub.status.busy": "2025-02-21T18:48:19.656384Z",
     "iopub.status.idle": "2025-02-21T18:48:19.679340Z",
     "shell.execute_reply": "2025-02-21T18:48:19.678458Z",
     "shell.execute_reply.started": "2025-02-21T18:48:19.656994Z"
    }
   },
   "outputs": [],
   "source": [
    "# Removing adds (removing the entire row) where there is 'No Vacancy'\n",
    "rent_df = rent_df[~rent_df['availability_date'].isin(['No Vacancy'])]"
   ]
  },
  {
   "cell_type": "code",
   "execution_count": 9,
   "id": "207a9df3-ef2c-4efc-8cf1-da0c87ad5224",
   "metadata": {
    "execution": {
     "iopub.execute_input": "2025-02-21T18:48:19.682227Z",
     "iopub.status.busy": "2025-02-21T18:48:19.681029Z",
     "iopub.status.idle": "2025-02-21T18:48:19.738278Z",
     "shell.execute_reply": "2025-02-21T18:48:19.737029Z",
     "shell.execute_reply.started": "2025-02-21T18:48:19.682170Z"
    }
   },
   "outputs": [
    {
     "name": "stderr",
     "output_type": "stream",
     "text": [
      "/tmp/ipykernel_342033/1564827880.py:5: FutureWarning: A value is trying to be set on a copy of a DataFrame or Series through chained assignment using an inplace method.\n",
      "The behavior will change in pandas 3.0. This inplace method will never work because the intermediate object on which we are setting values always behaves as a copy.\n",
      "\n",
      "For example, when doing 'df[col].method(value, inplace=True)', try using 'df.method({col: value}, inplace=True)' or df[col] = df[col].method(value) instead, to perform the operation inplace on the original object.\n",
      "\n",
      "\n",
      "  rent_df['availability_date'].replace({'Immediate': today}, inplace=True)\n",
      "/tmp/ipykernel_342033/1564827880.py:5: SettingWithCopyWarning: \n",
      "A value is trying to be set on a copy of a slice from a DataFrame\n",
      "\n",
      "See the caveats in the documentation: https://pandas.pydata.org/pandas-docs/stable/user_guide/indexing.html#returning-a-view-versus-a-copy\n",
      "  rent_df['availability_date'].replace({'Immediate': today}, inplace=True)\n",
      "/tmp/ipykernel_342033/1564827880.py:6: SettingWithCopyWarning: \n",
      "A value is trying to be set on a copy of a slice from a DataFrame\n",
      "\n",
      "See the caveats in the documentation: https://pandas.pydata.org/pandas-docs/stable/user_guide/indexing.html#returning-a-view-versus-a-copy\n",
      "  rent_df['availability_date'].replace({'Negotiable': today}, inplace=True)\n",
      "/tmp/ipykernel_342033/1564827880.py:7: SettingWithCopyWarning: \n",
      "A value is trying to be set on a copy of a slice from a DataFrame\n",
      "\n",
      "See the caveats in the documentation: https://pandas.pydata.org/pandas-docs/stable/user_guide/indexing.html#returning-a-view-versus-a-copy\n",
      "  rent_df['availability_date'].replace({'Call for Availability': today}, inplace=True)\n"
     ]
    },
    {
     "name": "stdout",
     "output_type": "stream",
     "text": [
      "After => ['February 21' 'November 18' 'July 01' 'August 01' 'June 15' 'July 31'\n",
      " 'June 30' 'July 15' 'July 07' 'July 18' 'August 07' 'August 15'\n",
      " 'September 01' 'June 14' 'July 04' 'July 05' 'August 06' 'July 11'\n",
      " 'June 19' 'September 07' 'July 12' 'June 17' 'October 03' 'June 25'\n",
      " 'June 18' 'August 23' 'July 23' 'July 02' 'October 01' 'July 08'\n",
      " 'June 16' 'June 20' 'June 21' 'June 22' 'June 23' 'June 24' 'June 26'\n",
      " 'June 28' 'June 29' 'July 22' 'November 01' 'July 03' 'July 09' 'July 06'\n",
      " 'July 10' 'July 16' 'July 17' 'July 20' 'July 27' 'July 30' 'August 02'\n",
      " 'August 04' 'August 05' 'August 09' 'August 10' 'August 11' 'August 16'\n",
      " 'August 20' 'August 22' 'August 25' 'August 26' 'August 29' 'August 30'\n",
      " 'August 31' 'September 02' 'September 03' 'September 05' 'September 08'\n",
      " 'September 15' 'September 30' 'October 04' 'October 07' 'October 11'\n",
      " 'October 16' 'October 19' 'October 31' 'November 15' 'December 01'\n",
      " 'December 30' nan 'September 10' 'June 27' 'October 15' 'July 13'\n",
      " 'July 14' 'August 14' 'July 21' 'July 28' 'August 21' 'March 15' 'May 01'\n",
      " 'August 13' 'July 29' 'July 26' 'August 03' 'September 09' 'August 12'\n",
      " 'July 25' 'August 17' 'September 04' 'September 29' 'November 24'\n",
      " 'May 08' 'July 24' 'September 06' 'August 08' 'October 02' 'September 14'\n",
      " 'January 01' 'November 05' 'September 19' 'October 10' 'November 07'\n",
      " 'December 04' 'December 10' 'May 10' 'May 24' 'January 31' 'March 31'\n",
      " 'January 05' 'May 05' 'October 30' 'March 05' 'February 28' 'November 29'\n",
      " 'August 28' 'September 12' 'December 31' 'May 31' 'October 05']\n"
     ]
    },
    {
     "name": "stderr",
     "output_type": "stream",
     "text": [
      "/tmp/ipykernel_342033/1564827880.py:12: SettingWithCopyWarning: \n",
      "A value is trying to be set on a copy of a slice from a DataFrame.\n",
      "Try using .loc[row_indexer,col_indexer] = value instead\n",
      "\n",
      "See the caveats in the documentation: https://pandas.pydata.org/pandas-docs/stable/user_guide/indexing.html#returning-a-view-versus-a-copy\n",
      "  rent_df['availability_date'] = pd.to_datetime(rent_df['availability_date'] + f\", {datetime.date.today().year}\", format=\"%B %d, %Y\")\n"
     ]
    },
    {
     "data": {
      "text/plain": [
       "0       2025-02-21\n",
       "1       2025-02-21\n",
       "2       2025-02-21\n",
       "3       2025-11-18\n",
       "4       2025-02-21\n",
       "           ...    \n",
       "25766   2025-02-21\n",
       "25767   2025-02-21\n",
       "25768   2025-02-21\n",
       "25769   2025-02-21\n",
       "25770   2025-02-21\n",
       "Name: availability_date, Length: 24800, dtype: datetime64[ns]"
      ]
     },
     "execution_count": 9,
     "metadata": {},
     "output_type": "execute_result"
    }
   ],
   "source": [
    "# Retrieve today's date\n",
    "today = datetime.date.today().strftime('%B %d') #pd.Timestamp.today()\n",
    "\n",
    "# Replace the strings by today's date\n",
    "rent_df['availability_date'].replace({'Immediate': today}, inplace=True)\n",
    "rent_df['availability_date'].replace({'Negotiable': today}, inplace=True)\n",
    "rent_df['availability_date'].replace({'Call for Availability': today}, inplace=True)\n",
    "\n",
    "print('After =>', rent_df['availability_date'].unique())\n",
    "\n",
    "# Convert the column availability_date to a timestamp\n",
    "rent_df['availability_date'] = pd.to_datetime(rent_df['availability_date'] + f\", {datetime.date.today().year}\", format=\"%B %d, %Y\")\n",
    "\n",
    "rent_df['availability_date']"
   ]
  },
  {
   "cell_type": "markdown",
   "id": "3425fb1c-4a43-4c5d-bb13-607bcf6c4b18",
   "metadata": {
    "execution": {
     "iopub.execute_input": "2025-02-21T16:19:21.072927Z",
     "iopub.status.busy": "2025-02-21T16:19:21.070294Z",
     "iopub.status.idle": "2025-02-21T16:19:21.093735Z",
     "shell.execute_reply": "2025-02-21T16:19:21.090746Z",
     "shell.execute_reply.started": "2025-02-21T16:19:21.072785Z"
    }
   },
   "source": [
    "**Combining similar string in the furnishing column**"
   ]
  },
  {
   "cell_type": "code",
   "execution_count": 10,
   "id": "a99abea8-fb44-4f25-b033-931f220f80e2",
   "metadata": {
    "execution": {
     "iopub.execute_input": "2025-02-21T18:48:19.740619Z",
     "iopub.status.busy": "2025-02-21T18:48:19.739762Z",
     "iopub.status.idle": "2025-02-21T18:48:19.757883Z",
     "shell.execute_reply": "2025-02-21T18:48:19.756662Z",
     "shell.execute_reply.started": "2025-02-21T18:48:19.740568Z"
    }
   },
   "outputs": [
    {
     "name": "stdout",
     "output_type": "stream",
     "text": [
      "Before => ['Unfurnished' 'Furnished' 'Negotiable']\n",
      "After => ['Unfurnished' 'Furnished' 'Negotiable']\n"
     ]
    },
    {
     "name": "stderr",
     "output_type": "stream",
     "text": [
      "/tmp/ipykernel_342033/3560924799.py:4: FutureWarning: A value is trying to be set on a copy of a DataFrame or Series through chained assignment using an inplace method.\n",
      "The behavior will change in pandas 3.0. This inplace method will never work because the intermediate object on which we are setting values always behaves as a copy.\n",
      "\n",
      "For example, when doing 'df[col].method(value, inplace=True)', try using 'df.method({col: value}, inplace=True)' or df[col] = df[col].method(value) instead, to perform the operation inplace on the original object.\n",
      "\n",
      "\n",
      "  rent_df['furnishing'].replace({'Unfurnished, Negotiable': 'Negotiable'}, inplace=True)\n",
      "/tmp/ipykernel_342033/3560924799.py:4: SettingWithCopyWarning: \n",
      "A value is trying to be set on a copy of a slice from a DataFrame\n",
      "\n",
      "See the caveats in the documentation: https://pandas.pydata.org/pandas-docs/stable/user_guide/indexing.html#returning-a-view-versus-a-copy\n",
      "  rent_df['furnishing'].replace({'Unfurnished, Negotiable': 'Negotiable'}, inplace=True)\n"
     ]
    }
   ],
   "source": [
    "# Look the possible string the column furnishing\n",
    "print('Before =>', rent_df['furnishing'].unique())\n",
    "\n",
    "rent_df['furnishing'].replace({'Unfurnished, Negotiable': 'Negotiable'}, inplace=True)\n",
    "\n",
    "# Look the possible string the column furnishing\n",
    "print('After =>', rent_df['furnishing'].unique())"
   ]
  },
  {
   "cell_type": "markdown",
   "id": "a01c9262-2a82-4076-a420-861ca4404a63",
   "metadata": {
    "execution": {
     "iopub.execute_input": "2025-02-21T16:19:21.072927Z",
     "iopub.status.busy": "2025-02-21T16:19:21.070294Z",
     "iopub.status.idle": "2025-02-21T16:19:21.093735Z",
     "shell.execute_reply": "2025-02-21T16:19:21.090746Z",
     "shell.execute_reply.started": "2025-02-21T16:19:21.072785Z"
    }
   },
   "source": [
    "**Combining similar string in the smoking column**"
   ]
  },
  {
   "cell_type": "code",
   "execution_count": 11,
   "id": "e8e9d04b-e9f8-4042-8cee-a7faf277f595",
   "metadata": {
    "execution": {
     "iopub.execute_input": "2025-02-21T18:48:19.759930Z",
     "iopub.status.busy": "2025-02-21T18:48:19.759338Z",
     "iopub.status.idle": "2025-02-21T18:48:19.781261Z",
     "shell.execute_reply": "2025-02-21T18:48:19.779809Z",
     "shell.execute_reply.started": "2025-02-21T18:48:19.759881Z"
    }
   },
   "outputs": [
    {
     "name": "stdout",
     "output_type": "stream",
     "text": [
      "Before => ['Non-Smoking' 'Smoke Free Building' nan 'Negotiable' 'Smoking Allowed']\n"
     ]
    },
    {
     "name": "stderr",
     "output_type": "stream",
     "text": [
      "/tmp/ipykernel_342033/2798230204.py:5: FutureWarning: A value is trying to be set on a copy of a DataFrame or Series through chained assignment using an inplace method.\n",
      "The behavior will change in pandas 3.0. This inplace method will never work because the intermediate object on which we are setting values always behaves as a copy.\n",
      "\n",
      "For example, when doing 'df[col].method(value, inplace=True)', try using 'df.method({col: value}, inplace=True)' or df[col] = df[col].method(value) instead, to perform the operation inplace on the original object.\n",
      "\n",
      "\n",
      "  rent_df['smoking'].replace({'Smoke Free Building': 'Non-Smoking'}, inplace=True)\n"
     ]
    },
    {
     "name": "stdout",
     "output_type": "stream",
     "text": [
      "After => ['Non-Smoking' nan 'Smoking Allowed']\n"
     ]
    },
    {
     "name": "stderr",
     "output_type": "stream",
     "text": [
      "/tmp/ipykernel_342033/2798230204.py:5: SettingWithCopyWarning: \n",
      "A value is trying to be set on a copy of a slice from a DataFrame\n",
      "\n",
      "See the caveats in the documentation: https://pandas.pydata.org/pandas-docs/stable/user_guide/indexing.html#returning-a-view-versus-a-copy\n",
      "  rent_df['smoking'].replace({'Smoke Free Building': 'Non-Smoking'}, inplace=True)\n",
      "/tmp/ipykernel_342033/2798230204.py:8: SettingWithCopyWarning: \n",
      "A value is trying to be set on a copy of a slice from a DataFrame\n",
      "\n",
      "See the caveats in the documentation: https://pandas.pydata.org/pandas-docs/stable/user_guide/indexing.html#returning-a-view-versus-a-copy\n",
      "  rent_df['smoking'].replace({'Negotiable': 'Smoking Allowed'}, inplace=True)\n"
     ]
    }
   ],
   "source": [
    "# Look the possible string the column smoking\n",
    "print('Before =>', rent_df['smoking'].unique())\n",
    "\n",
    "# Replace 'Smoke Free Building' by 'Non-Smoking'\n",
    "rent_df['smoking'].replace({'Smoke Free Building': 'Non-Smoking'}, inplace=True)\n",
    "\n",
    "# Replace 'Negotiable' by 'Smoking Allowed'\n",
    "rent_df['smoking'].replace({'Negotiable': 'Smoking Allowed'}, inplace=True)\n",
    "\n",
    "# Look the possible string the column smoking\n",
    "print('After =>', rent_df['smoking'].unique())"
   ]
  },
  {
   "cell_type": "markdown",
   "id": "6e76eae8-a015-41db-b3f8-538ccaca1aaf",
   "metadata": {},
   "source": [
    "**Cleaning up the sq_feet column**"
   ]
  },
  {
   "cell_type": "code",
   "execution_count": 12,
   "id": "6598f987-47bc-4d40-b314-b5f4e4cc7e34",
   "metadata": {
    "execution": {
     "iopub.execute_input": "2025-02-21T18:48:19.783097Z",
     "iopub.status.busy": "2025-02-21T18:48:19.782483Z",
     "iopub.status.idle": "2025-02-21T18:48:20.171503Z",
     "shell.execute_reply": "2025-02-21T18:48:20.170154Z",
     "shell.execute_reply.started": "2025-02-21T18:48:19.783048Z"
    }
   },
   "outputs": [
    {
     "name": "stderr",
     "output_type": "stream",
     "text": [
      "/tmp/ipykernel_342033/3982144455.py:2: SettingWithCopyWarning: \n",
      "A value is trying to be set on a copy of a slice from a DataFrame.\n",
      "Try using .loc[row_indexer,col_indexer] = value instead\n",
      "\n",
      "See the caveats in the documentation: https://pandas.pydata.org/pandas-docs/stable/user_guide/indexing.html#returning-a-view-versus-a-copy\n",
      "  rent_df['sq_feet'] = rent_df['sq_feet'].str.split(' ', expand=True)[0]\n",
      "/tmp/ipykernel_342033/3982144455.py:5: SettingWithCopyWarning: \n",
      "A value is trying to be set on a copy of a slice from a DataFrame.\n",
      "Try using .loc[row_indexer,col_indexer] = value instead\n",
      "\n",
      "See the caveats in the documentation: https://pandas.pydata.org/pandas-docs/stable/user_guide/indexing.html#returning-a-view-versus-a-copy\n",
      "  rent_df['sq_feet'] = rent_df['sq_feet'].str.split('+', expand=True)[0]\n",
      "/tmp/ipykernel_342033/3982144455.py:8: SettingWithCopyWarning: \n",
      "A value is trying to be set on a copy of a slice from a DataFrame.\n",
      "Try using .loc[row_indexer,col_indexer] = value instead\n",
      "\n",
      "See the caveats in the documentation: https://pandas.pydata.org/pandas-docs/stable/user_guide/indexing.html#returning-a-view-versus-a-copy\n",
      "  rent_df['sq_feet'] = rent_df['sq_feet'].str.replace(',', '', regex=True)\n",
      "/tmp/ipykernel_342033/3982144455.py:12: SettingWithCopyWarning: \n",
      "A value is trying to be set on a copy of a slice from a DataFrame.\n",
      "Try using .loc[row_indexer,col_indexer] = value instead\n",
      "\n",
      "See the caveats in the documentation: https://pandas.pydata.org/pandas-docs/stable/user_guide/indexing.html#returning-a-view-versus-a-copy\n",
      "  rent_df['sq_feet'] = rent_df['sq_feet'].str.split('-', expand=True)[0]\n",
      "/tmp/ipykernel_342033/3982144455.py:15: SettingWithCopyWarning: \n",
      "A value is trying to be set on a copy of a slice from a DataFrame.\n",
      "Try using .loc[row_indexer,col_indexer] = value instead\n",
      "\n",
      "See the caveats in the documentation: https://pandas.pydata.org/pandas-docs/stable/user_guide/indexing.html#returning-a-view-versus-a-copy\n",
      "  rent_df['sq_feet'] = rent_df['sq_feet'].str.split('.', expand=True)[0]\n",
      "/tmp/ipykernel_342033/3982144455.py:18: SettingWithCopyWarning: \n",
      "A value is trying to be set on a copy of a slice from a DataFrame.\n",
      "Try using .loc[row_indexer,col_indexer] = value instead\n",
      "\n",
      "See the caveats in the documentation: https://pandas.pydata.org/pandas-docs/stable/user_guide/indexing.html#returning-a-view-versus-a-copy\n",
      "  rent_df['sq_feet'] = rent_df['sq_feet'].str.replace('~', '', regex=True)\n",
      "/tmp/ipykernel_342033/3982144455.py:21: SettingWithCopyWarning: \n",
      "A value is trying to be set on a copy of a slice from a DataFrame.\n",
      "Try using .loc[row_indexer,col_indexer] = value instead\n",
      "\n",
      "See the caveats in the documentation: https://pandas.pydata.org/pandas-docs/stable/user_guide/indexing.html#returning-a-view-versus-a-copy\n",
      "  rent_df['sq_feet'] = rent_df['sq_feet'].str.replace('sf', '', regex=True)\n",
      "/tmp/ipykernel_342033/3982144455.py:24: SettingWithCopyWarning: \n",
      "A value is trying to be set on a copy of a slice from a DataFrame.\n",
      "Try using .loc[row_indexer,col_indexer] = value instead\n",
      "\n",
      "See the caveats in the documentation: https://pandas.pydata.org/pandas-docs/stable/user_guide/indexing.html#returning-a-view-versus-a-copy\n",
      "  rent_df['sq_feet'] = rent_df['sq_feet'].str.replace('Large', '', regex=True)\n",
      "/tmp/ipykernel_342033/3982144455.py:27: SettingWithCopyWarning: \n",
      "A value is trying to be set on a copy of a slice from a DataFrame.\n",
      "Try using .loc[row_indexer,col_indexer] = value instead\n",
      "\n",
      "See the caveats in the documentation: https://pandas.pydata.org/pandas-docs/stable/user_guide/indexing.html#returning-a-view-versus-a-copy\n",
      "  rent_df['sq_feet'] = rent_df['sq_feet'].str.replace('Large', '', regex=True)\n",
      "/tmp/ipykernel_342033/3982144455.py:30: SettingWithCopyWarning: \n",
      "A value is trying to be set on a copy of a slice from a DataFrame.\n",
      "Try using .loc[row_indexer,col_indexer] = value instead\n",
      "\n",
      "See the caveats in the documentation: https://pandas.pydata.org/pandas-docs/stable/user_guide/indexing.html#returning-a-view-versus-a-copy\n",
      "  rent_df['sq_feet'] = rent_df['sq_feet'].replace(r'approx', np.nan, regex=True)\n",
      "/tmp/ipykernel_342033/3982144455.py:31: SettingWithCopyWarning: \n",
      "A value is trying to be set on a copy of a slice from a DataFrame.\n",
      "Try using .loc[row_indexer,col_indexer] = value instead\n",
      "\n",
      "See the caveats in the documentation: https://pandas.pydata.org/pandas-docs/stable/user_guide/indexing.html#returning-a-view-versus-a-copy\n",
      "  rent_df['sq_feet'] = rent_df['sq_feet'].str.replace('Approximately.', '', regex=True)\n",
      "/tmp/ipykernel_342033/3982144455.py:32: SettingWithCopyWarning: \n",
      "A value is trying to be set on a copy of a slice from a DataFrame.\n",
      "Try using .loc[row_indexer,col_indexer] = value instead\n",
      "\n",
      "See the caveats in the documentation: https://pandas.pydata.org/pandas-docs/stable/user_guide/indexing.html#returning-a-view-versus-a-copy\n",
      "  rent_df['sq_feet'] = rent_df['sq_feet'].str.replace('Approximately', '', regex=True)\n",
      "/tmp/ipykernel_342033/3982144455.py:35: SettingWithCopyWarning: \n",
      "A value is trying to be set on a copy of a slice from a DataFrame.\n",
      "Try using .loc[row_indexer,col_indexer] = value instead\n",
      "\n",
      "See the caveats in the documentation: https://pandas.pydata.org/pandas-docs/stable/user_guide/indexing.html#returning-a-view-versus-a-copy\n",
      "  rent_df['sq_feet'] = rent_df['sq_feet'].replace(r'TOL', np.nan, regex=True)\n",
      "/tmp/ipykernel_342033/3982144455.py:37: SettingWithCopyWarning: \n",
      "A value is trying to be set on a copy of a slice from a DataFrame.\n",
      "Try using .loc[row_indexer,col_indexer] = value instead\n",
      "\n",
      "See the caveats in the documentation: https://pandas.pydata.org/pandas-docs/stable/user_guide/indexing.html#returning-a-view-versus-a-copy\n",
      "  rent_df['sq_feet'] = rent_df['sq_feet'].str.replace(r'[^\\d]', '', regex=True)\n",
      "/tmp/ipykernel_342033/3982144455.py:40: SettingWithCopyWarning: \n",
      "A value is trying to be set on a copy of a slice from a DataFrame.\n",
      "Try using .loc[row_indexer,col_indexer] = value instead\n",
      "\n",
      "See the caveats in the documentation: https://pandas.pydata.org/pandas-docs/stable/user_guide/indexing.html#returning-a-view-versus-a-copy\n",
      "  rent_df['sq_feet'] = rent_df['sq_feet'].replace('', np.nan, regex=True)\n",
      "/tmp/ipykernel_342033/3982144455.py:42: SettingWithCopyWarning: \n",
      "A value is trying to be set on a copy of a slice from a DataFrame.\n",
      "Try using .loc[row_indexer,col_indexer] = value instead\n",
      "\n",
      "See the caveats in the documentation: https://pandas.pydata.org/pandas-docs/stable/user_guide/indexing.html#returning-a-view-versus-a-copy\n",
      "  rent_df['sq_feet'] = pd.to_numeric(rent_df['sq_feet'], errors='coerce')\n"
     ]
    }
   ],
   "source": [
    "# Removing the sq ft unit sometimes mentioned\n",
    "rent_df['sq_feet'] = rent_df['sq_feet'].str.split(' ', expand=True)[0]\n",
    "\n",
    "# Replace + sign\n",
    "rent_df['sq_feet'] = rent_df['sq_feet'].str.split('+', expand=True)[0]\n",
    "\n",
    "# Replace , \n",
    "rent_df['sq_feet'] = rent_df['sq_feet'].str.replace(',', '', regex=True)\n",
    "\n",
    "\n",
    "# Removing range.\n",
    "rent_df['sq_feet'] = rent_df['sq_feet'].str.split('-', expand=True)[0]\n",
    "\n",
    "# Removing range.\n",
    "rent_df['sq_feet'] = rent_df['sq_feet'].str.split('.', expand=True)[0]\n",
    "\n",
    "# Replace , \n",
    "rent_df['sq_feet'] = rent_df['sq_feet'].str.replace('~', '', regex=True)\n",
    "\n",
    "# Replace , \n",
    "rent_df['sq_feet'] = rent_df['sq_feet'].str.replace('sf', '', regex=True)\n",
    "\n",
    "# Replace , \n",
    "rent_df['sq_feet'] = rent_df['sq_feet'].str.replace('Large', '', regex=True)\n",
    "\n",
    "# Replace , \n",
    "rent_df['sq_feet'] = rent_df['sq_feet'].str.replace('Large', '', regex=True)\n",
    "\n",
    "# Replace 'approx.' \n",
    "rent_df['sq_feet'] = rent_df['sq_feet'].replace(r'approx', np.nan, regex=True)\n",
    "rent_df['sq_feet'] = rent_df['sq_feet'].str.replace('Approximately.', '', regex=True)\n",
    "rent_df['sq_feet'] = rent_df['sq_feet'].str.replace('Approximately', '', regex=True)\n",
    "\n",
    "# Replace 'approx.' \n",
    "rent_df['sq_feet'] = rent_df['sq_feet'].replace(r'TOL', np.nan, regex=True)\n",
    "\n",
    "rent_df['sq_feet'] = rent_df['sq_feet'].str.replace(r'[^\\d]', '', regex=True)\n",
    "\n",
    "# Replace '' \n",
    "rent_df['sq_feet'] = rent_df['sq_feet'].replace('', np.nan, regex=True)\n",
    "\n",
    "rent_df['sq_feet'] = pd.to_numeric(rent_df['sq_feet'], errors='coerce')"
   ]
  },
  {
   "cell_type": "markdown",
   "id": "75603625-7951-45bc-b8db-45fa05acee6a",
   "metadata": {},
   "source": [
    "### Investigate if the dataset contains missing values"
   ]
  },
  {
   "cell_type": "code",
   "execution_count": 13,
   "id": "bd267952-7f11-4a74-9b09-13b9288d8b67",
   "metadata": {
    "execution": {
     "iopub.execute_input": "2025-02-21T18:48:20.173115Z",
     "iopub.status.busy": "2025-02-21T18:48:20.172582Z",
     "iopub.status.idle": "2025-02-21T18:48:20.205631Z",
     "shell.execute_reply": "2025-02-21T18:48:20.204606Z",
     "shell.execute_reply.started": "2025-02-21T18:48:20.173068Z"
    }
   },
   "outputs": [
    {
     "data": {
      "text/plain": [
       "city                    0\n",
       "province                0\n",
       "address               125\n",
       "lease_term             12\n",
       "type                    0\n",
       "price                   0\n",
       "beds                  132\n",
       "baths                 134\n",
       "sq_feet              3945\n",
       "furnishing              0\n",
       "availability_date      12\n",
       "smoking              2702\n",
       "cats                  173\n",
       "dogs                  173\n",
       "dtype: int64"
      ]
     },
     "execution_count": 13,
     "metadata": {},
     "output_type": "execute_result"
    }
   ],
   "source": [
    "rent_df.isna().sum()"
   ]
  },
  {
   "cell_type": "markdown",
   "id": "79eabd46-25af-4f2c-9115-1b70652331e1",
   "metadata": {},
   "source": [
    "I want to dig into the missing value.\n",
    "\n",
    "I will look for what type of property has no square footage indicated. I might want to drop certain property type (ie: storage, garage, ...)"
   ]
  },
  {
   "cell_type": "code",
   "execution_count": 14,
   "id": "c88c13bc-0700-469c-8511-b382d11de24f",
   "metadata": {
    "execution": {
     "iopub.execute_input": "2025-02-21T18:48:20.206925Z",
     "iopub.status.busy": "2025-02-21T18:48:20.206608Z",
     "iopub.status.idle": "2025-02-21T18:48:20.243185Z",
     "shell.execute_reply": "2025-02-21T18:48:20.242142Z",
     "shell.execute_reply.started": "2025-02-21T18:48:20.206899Z"
    }
   },
   "outputs": [
    {
     "data": {
      "text/plain": [
       "type\n",
       "Acreage           36.363636\n",
       "Apartment         11.994061\n",
       "Basement          25.890163\n",
       "Condo Unit        15.193247\n",
       "Duplex            20.000000\n",
       "House             18.294960\n",
       "Loft              29.166667\n",
       "Main Floor        19.876543\n",
       "Mobile            50.000000\n",
       "Office Space      66.666667\n",
       "Parking Spot      88.888889\n",
       "Room For Rent     51.675978\n",
       "Storage          100.000000\n",
       "Townhouse         15.350032\n",
       "Vacation Home           NaN\n",
       "Name: city, dtype: float64"
      ]
     },
     "execution_count": 14,
     "metadata": {},
     "output_type": "execute_result"
    }
   ],
   "source": [
    "(rent_df[rent_df['sq_feet'].isna()].groupby(['type'])['city'].count() / rent_df.groupby(['type'])['city'].count()) *100"
   ]
  },
  {
   "cell_type": "markdown",
   "id": "16fd75da-e3c3-4f1c-9f0b-4a930d298761",
   "metadata": {},
   "source": [
    "I will be removing all the storage, since they all don't include square footage.\n",
    "\n",
    "I will also be removing the Parking spot category, since most of them are missing the square footage.\n",
    "\n",
    "I will also be removing the Office Space and Acreage to focus mainly on standard housing\n"
   ]
  },
  {
   "cell_type": "code",
   "execution_count": 15,
   "id": "a9237c2a-f760-4556-a7b7-6be9f417cdd7",
   "metadata": {
    "execution": {
     "iopub.execute_input": "2025-02-21T18:48:20.245245Z",
     "iopub.status.busy": "2025-02-21T18:48:20.244517Z",
     "iopub.status.idle": "2025-02-21T18:48:20.263724Z",
     "shell.execute_reply": "2025-02-21T18:48:20.262322Z",
     "shell.execute_reply.started": "2025-02-21T18:48:20.245196Z"
    }
   },
   "outputs": [],
   "source": [
    "# Removing the Property type based on the previous analysis\n",
    "rent_df = rent_df[~rent_df['type'].isin(['Acreage', 'Office Space', 'Parking Spot', 'Storage'])]"
   ]
  },
  {
   "cell_type": "code",
   "execution_count": 16,
   "id": "12b8b112-bb01-4e6f-96d9-ff84f564cb3c",
   "metadata": {
    "execution": {
     "iopub.execute_input": "2025-02-21T18:48:20.265644Z",
     "iopub.status.busy": "2025-02-21T18:48:20.265227Z",
     "iopub.status.idle": "2025-02-21T18:48:20.301409Z",
     "shell.execute_reply": "2025-02-21T18:48:20.300217Z",
     "shell.execute_reply.started": "2025-02-21T18:48:20.265601Z"
    }
   },
   "outputs": [
    {
     "data": {
      "text/plain": [
       "city                    0\n",
       "province                0\n",
       "address               121\n",
       "lease_term             12\n",
       "type                    0\n",
       "price                   0\n",
       "beds                    0\n",
       "baths                   0\n",
       "sq_feet              3800\n",
       "furnishing              0\n",
       "availability_date       8\n",
       "smoking              2676\n",
       "cats                    0\n",
       "dogs                    0\n",
       "dtype: int64"
      ]
     },
     "execution_count": 16,
     "metadata": {},
     "output_type": "execute_result"
    }
   ],
   "source": [
    "rent_df.isna().sum()"
   ]
  },
  {
   "cell_type": "code",
   "execution_count": 17,
   "id": "085bd5e6-43aa-4dec-9bf8-ae98abc09b98",
   "metadata": {
    "execution": {
     "iopub.execute_input": "2025-02-21T18:48:20.303274Z",
     "iopub.status.busy": "2025-02-21T18:48:20.302767Z",
     "iopub.status.idle": "2025-02-21T18:48:20.330199Z",
     "shell.execute_reply": "2025-02-21T18:48:20.328508Z",
     "shell.execute_reply.started": "2025-02-21T18:48:20.303224Z"
    }
   },
   "outputs": [
    {
     "data": {
      "text/plain": [
       "type\n",
       "Apartment        11.994061\n",
       "Basement         25.890163\n",
       "Condo Unit       15.193247\n",
       "Duplex           20.000000\n",
       "House            18.294960\n",
       "Loft             29.166667\n",
       "Main Floor       19.876543\n",
       "Mobile           50.000000\n",
       "Room For Rent    51.675978\n",
       "Townhouse        15.350032\n",
       "Vacation Home          NaN\n",
       "Name: city, dtype: float64"
      ]
     },
     "execution_count": 17,
     "metadata": {},
     "output_type": "execute_result"
    }
   ],
   "source": [
    "(rent_df[rent_df['sq_feet'].isna()].groupby(['type'])['city'].count() / rent_df.groupby(['type'])['city'].count()) *100"
   ]
  },
  {
   "cell_type": "markdown",
   "id": "4d312138-197b-4676-8796-22955c4d9206",
   "metadata": {},
   "source": [
    "Replacing the the Nan value in sq_feet by the grouped mean on building type and # of beds\n",
    "  * Even after replacing the Nan value there are some group categories that just don't have non nan data to produce a mean.\n",
    "  * I will be dropping two remaining rows of nan value"
   ]
  },
  {
   "cell_type": "code",
   "execution_count": 30,
   "id": "e41dfc33-374e-446d-92d8-25e88de1c478",
   "metadata": {
    "execution": {
     "iopub.execute_input": "2025-02-21T18:56:06.420066Z",
     "iopub.status.busy": "2025-02-21T18:56:06.419195Z",
     "iopub.status.idle": "2025-02-21T18:56:06.530215Z",
     "shell.execute_reply": "2025-02-21T18:56:06.529113Z",
     "shell.execute_reply.started": "2025-02-21T18:56:06.419994Z"
    }
   },
   "outputs": [
    {
     "name": "stdout",
     "output_type": "stream",
     "text": [
      "type           beds\n",
      "Duplex         0      NaN\n",
      "               6      NaN\n",
      "House          9      NaN\n",
      "Loft           0      NaN\n",
      "Mobile         2      NaN\n",
      "Room For Rent  0      NaN\n",
      "Name: sq_feet, dtype: float64\n",
      "beds\n",
      "0    2056.666667\n",
      "1     716.833333\n",
      "2    1086.728395\n",
      "3    1707.000000\n",
      "4    2108.715311\n",
      "5    2262.888158\n",
      "6    2064.761905\n",
      "7    4000.000000\n",
      "8    9133.333333\n",
      "9            NaN\n",
      "Name: sq_feet, dtype: float64\n"
     ]
    },
    {
     "data": {
      "text/plain": [
       "city                    0\n",
       "province                0\n",
       "address               120\n",
       "lease_term             12\n",
       "type                    0\n",
       "price                   0\n",
       "beds                    0\n",
       "baths                   0\n",
       "sq_feet                 0\n",
       "furnishing              0\n",
       "availability_date       8\n",
       "smoking              2675\n",
       "cats                    0\n",
       "dogs                    0\n",
       "dtype: int64"
      ]
     },
     "execution_count": 30,
     "metadata": {},
     "output_type": "execute_result"
    }
   ],
   "source": [
    "# Replacing Nan\n",
    "rent_df['sq_feet'] = rent_df.groupby(['type', 'beds'])['sq_feet'].transform(lambda x: x.fillna(x.mean()))\n",
    "\n",
    "# Verifying that there is no longer nan value for the sq_feet\n",
    "rent_df.isna().sum()\n",
    "\n",
    "# Investigating the remaining Nan\n",
    "group_means = rent_df.groupby(['type', 'beds'])['sq_feet'].mean()\n",
    "\n",
    "print(group_means[group_means.isna()])\n",
    "\n",
    "print(rent_df[rent_df['type'] == 'House'].groupby('beds')['sq_feet'].mean())\n",
    "\n",
    "# Dropping remaininf Nan in sq_feet\n",
    "rent_df = rent_df[~rent_df['sq_feet'].isna()]\n",
    "\n",
    "# Verifying that there is no longer nan value for the sq_feet\n",
    "rent_df.isna().sum()"
   ]
  },
  {
   "cell_type": "markdown",
   "id": "f2dc7550-e37c-4e39-859d-f0524beb45b1",
   "metadata": {},
   "source": [
    "I will be dropping the Nan value of address and lease_term because it implies only a small amount of data on the entire dataset"
   ]
  },
  {
   "cell_type": "code",
   "execution_count": 28,
   "id": "46fb2641-b17c-47c9-aae3-bde1fa5ef21c",
   "metadata": {
    "execution": {
     "iopub.execute_input": "2025-02-21T18:51:55.804093Z",
     "iopub.status.busy": "2025-02-21T18:51:55.803073Z",
     "iopub.status.idle": "2025-02-21T18:51:55.846133Z",
     "shell.execute_reply": "2025-02-21T18:51:55.844630Z",
     "shell.execute_reply.started": "2025-02-21T18:51:55.804038Z"
    }
   },
   "outputs": [
    {
     "data": {
      "text/plain": [
       "city                    0\n",
       "province                0\n",
       "address               121\n",
       "lease_term             12\n",
       "type                    0\n",
       "price                   0\n",
       "beds                    0\n",
       "baths                   0\n",
       "sq_feet                10\n",
       "furnishing              0\n",
       "availability_date       8\n",
       "smoking              2676\n",
       "cats                    0\n",
       "dogs                    0\n",
       "dtype: int64"
      ]
     },
     "execution_count": 28,
     "metadata": {},
     "output_type": "execute_result"
    }
   ],
   "source": []
  },
  {
   "cell_type": "code",
   "execution_count": null,
   "id": "90464724-a0fc-4fc6-a915-cd1284fb777a",
   "metadata": {
    "execution": {
     "iopub.execute_input": "2025-02-21T18:48:20.333834Z",
     "iopub.status.busy": "2025-02-21T18:48:20.333279Z",
     "iopub.status.idle": "2025-02-21T18:48:20.414739Z",
     "shell.execute_reply": "2025-02-21T18:48:20.413602Z",
     "shell.execute_reply.started": "2025-02-21T18:48:20.333790Z"
    }
   },
   "outputs": [],
   "source": [
    "#rent_df['sq_feet'] = rent_df.groupby(['type', 'beds'])['sq_feet'].transform(lambda x: x.fillna(x.mean()))\n",
    "rent_df[rent_df['sq_feet'].isna()]"
   ]
  },
  {
   "cell_type": "code",
   "execution_count": null,
   "id": "6c6a674a-ad02-4269-873d-42d376e1b5b8",
   "metadata": {
    "execution": {
     "iopub.execute_input": "2025-02-21T18:48:20.333834Z",
     "iopub.status.busy": "2025-02-21T18:48:20.333279Z",
     "iopub.status.idle": "2025-02-21T18:48:20.414739Z",
     "shell.execute_reply": "2025-02-21T18:48:20.413602Z",
     "shell.execute_reply.started": "2025-02-21T18:48:20.333790Z"
    }
   },
   "outputs": [],
   "source": []
  },
  {
   "cell_type": "code",
   "execution_count": null,
   "id": "a0170226-11cf-4e0b-9ba2-ccc35da9e84d",
   "metadata": {
    "execution": {
     "iopub.execute_input": "2025-02-21T18:48:20.333834Z",
     "iopub.status.busy": "2025-02-21T18:48:20.333279Z",
     "iopub.status.idle": "2025-02-21T18:48:20.414739Z",
     "shell.execute_reply": "2025-02-21T18:48:20.413602Z",
     "shell.execute_reply.started": "2025-02-21T18:48:20.333790Z"
    }
   },
   "outputs": [
    {
     "data": {
      "text/html": [
       "<div>\n",
       "<style scoped>\n",
       "    .dataframe tbody tr th:only-of-type {\n",
       "        vertical-align: middle;\n",
       "    }\n",
       "\n",
       "    .dataframe tbody tr th {\n",
       "        vertical-align: top;\n",
       "    }\n",
       "\n",
       "    .dataframe thead th {\n",
       "        text-align: right;\n",
       "    }\n",
       "</style>\n",
       "<table border=\"1\" class=\"dataframe\">\n",
       "  <thead>\n",
       "    <tr style=\"text-align: right;\">\n",
       "      <th></th>\n",
       "      <th>city</th>\n",
       "      <th>province</th>\n",
       "      <th>address</th>\n",
       "      <th>lease_term</th>\n",
       "      <th>type</th>\n",
       "      <th>price</th>\n",
       "      <th>beds</th>\n",
       "      <th>baths</th>\n",
       "      <th>sq_feet</th>\n",
       "      <th>furnishing</th>\n",
       "      <th>availability_date</th>\n",
       "      <th>smoking</th>\n",
       "      <th>cats</th>\n",
       "      <th>dogs</th>\n",
       "    </tr>\n",
       "  </thead>\n",
       "  <tbody>\n",
       "    <tr>\n",
       "      <th>861</th>\n",
       "      <td>Calgary</td>\n",
       "      <td>Alberta</td>\n",
       "      <td>522 21 Avenue Northwest</td>\n",
       "      <td>Long Term</td>\n",
       "      <td>Room For Rent</td>\n",
       "      <td>829.0</td>\n",
       "      <td>0</td>\n",
       "      <td>1</td>\n",
       "      <td>NaN</td>\n",
       "      <td>Furnished</td>\n",
       "      <td>2025-02-21</td>\n",
       "      <td>Non-Smoking</td>\n",
       "      <td>False</td>\n",
       "      <td>False</td>\n",
       "    </tr>\n",
       "    <tr>\n",
       "      <th>1431</th>\n",
       "      <td>Calgary</td>\n",
       "      <td>Alberta</td>\n",
       "      <td>155 Homestead Park NE</td>\n",
       "      <td>Long Term</td>\n",
       "      <td>Duplex</td>\n",
       "      <td>2795.0</td>\n",
       "      <td>6</td>\n",
       "      <td>4</td>\n",
       "      <td>NaN</td>\n",
       "      <td>Unfurnished</td>\n",
       "      <td>2025-02-21</td>\n",
       "      <td>NaN</td>\n",
       "      <td>False</td>\n",
       "      <td>False</td>\n",
       "    </tr>\n",
       "    <tr>\n",
       "      <th>2503</th>\n",
       "      <td>Calgary</td>\n",
       "      <td>Alberta</td>\n",
       "      <td>4 Prestwick Road Southeast</td>\n",
       "      <td>Long Term</td>\n",
       "      <td>Loft</td>\n",
       "      <td>1150.0</td>\n",
       "      <td>0</td>\n",
       "      <td>1</td>\n",
       "      <td>NaN</td>\n",
       "      <td>Unfurnished</td>\n",
       "      <td>2025-02-21</td>\n",
       "      <td>Non-Smoking</td>\n",
       "      <td>False</td>\n",
       "      <td>False</td>\n",
       "    </tr>\n",
       "    <tr>\n",
       "      <th>2509</th>\n",
       "      <td>Calgary</td>\n",
       "      <td>Alberta</td>\n",
       "      <td>4 Prestwick Road Southeast</td>\n",
       "      <td>Long Term</td>\n",
       "      <td>Loft</td>\n",
       "      <td>1150.0</td>\n",
       "      <td>0</td>\n",
       "      <td>1</td>\n",
       "      <td>NaN</td>\n",
       "      <td>Unfurnished</td>\n",
       "      <td>2025-02-21</td>\n",
       "      <td>Non-Smoking</td>\n",
       "      <td>False</td>\n",
       "      <td>False</td>\n",
       "    </tr>\n",
       "    <tr>\n",
       "      <th>4481</th>\n",
       "      <td>Calgary</td>\n",
       "      <td>Alberta</td>\n",
       "      <td>1209 Renfrew Drive Northeast</td>\n",
       "      <td>Negotiable</td>\n",
       "      <td>Duplex</td>\n",
       "      <td>7500.0</td>\n",
       "      <td>6</td>\n",
       "      <td>3.5</td>\n",
       "      <td>NaN</td>\n",
       "      <td>Furnished</td>\n",
       "      <td>2025-09-01</td>\n",
       "      <td>Non-Smoking</td>\n",
       "      <td>True</td>\n",
       "      <td>True</td>\n",
       "    </tr>\n",
       "    <tr>\n",
       "      <th>6488</th>\n",
       "      <td>Edmonton</td>\n",
       "      <td>Alberta</td>\n",
       "      <td>9514 102A Avenue Northwest</td>\n",
       "      <td>Negotiable</td>\n",
       "      <td>Room For Rent</td>\n",
       "      <td>550.0</td>\n",
       "      <td>0</td>\n",
       "      <td>8</td>\n",
       "      <td>NaN</td>\n",
       "      <td>Furnished</td>\n",
       "      <td>2025-02-21</td>\n",
       "      <td>Smoking Allowed</td>\n",
       "      <td>False</td>\n",
       "      <td>False</td>\n",
       "    </tr>\n",
       "    <tr>\n",
       "      <th>7700</th>\n",
       "      <td>Edmonton</td>\n",
       "      <td>Alberta</td>\n",
       "      <td>11918 68 Street Northwest</td>\n",
       "      <td>Long Term</td>\n",
       "      <td>House</td>\n",
       "      <td>2700.0</td>\n",
       "      <td>9</td>\n",
       "      <td>4</td>\n",
       "      <td>NaN</td>\n",
       "      <td>Unfurnished</td>\n",
       "      <td>2025-07-01</td>\n",
       "      <td>Non-Smoking</td>\n",
       "      <td>False</td>\n",
       "      <td>False</td>\n",
       "    </tr>\n",
       "    <tr>\n",
       "      <th>8771</th>\n",
       "      <td>Strathmore</td>\n",
       "      <td>Alberta</td>\n",
       "      <td>NaN</td>\n",
       "      <td>Negotiable</td>\n",
       "      <td>Mobile</td>\n",
       "      <td>1500.0</td>\n",
       "      <td>2</td>\n",
       "      <td>1</td>\n",
       "      <td>NaN</td>\n",
       "      <td>Unfurnished</td>\n",
       "      <td>2025-02-21</td>\n",
       "      <td>Non-Smoking</td>\n",
       "      <td>False</td>\n",
       "      <td>False</td>\n",
       "    </tr>\n",
       "    <tr>\n",
       "      <th>13744</th>\n",
       "      <td>Calgary</td>\n",
       "      <td>Alberta</td>\n",
       "      <td>1209 Renfrew Drive Northeast</td>\n",
       "      <td>Negotiable</td>\n",
       "      <td>Duplex</td>\n",
       "      <td>7500.0</td>\n",
       "      <td>6</td>\n",
       "      <td>3.5</td>\n",
       "      <td>NaN</td>\n",
       "      <td>Furnished</td>\n",
       "      <td>2025-09-01</td>\n",
       "      <td>Non-Smoking</td>\n",
       "      <td>True</td>\n",
       "      <td>True</td>\n",
       "    </tr>\n",
       "    <tr>\n",
       "      <th>22435</th>\n",
       "      <td>Toronto</td>\n",
       "      <td>Ontario</td>\n",
       "      <td>159 Lawrence Ave W</td>\n",
       "      <td>Long Term</td>\n",
       "      <td>Duplex</td>\n",
       "      <td>1500.0</td>\n",
       "      <td>0</td>\n",
       "      <td>1</td>\n",
       "      <td>NaN</td>\n",
       "      <td>Unfurnished</td>\n",
       "      <td>2025-08-01</td>\n",
       "      <td>Non-Smoking</td>\n",
       "      <td>True</td>\n",
       "      <td>True</td>\n",
       "    </tr>\n",
       "  </tbody>\n",
       "</table>\n",
       "</div>"
      ],
      "text/plain": [
       "             city province                       address  lease_term  \\\n",
       "861       Calgary  Alberta       522 21 Avenue Northwest   Long Term   \n",
       "1431      Calgary  Alberta         155 Homestead Park NE   Long Term   \n",
       "2503      Calgary  Alberta    4 Prestwick Road Southeast   Long Term   \n",
       "2509      Calgary  Alberta    4 Prestwick Road Southeast   Long Term   \n",
       "4481      Calgary  Alberta  1209 Renfrew Drive Northeast  Negotiable   \n",
       "6488     Edmonton  Alberta    9514 102A Avenue Northwest  Negotiable   \n",
       "7700     Edmonton  Alberta     11918 68 Street Northwest   Long Term   \n",
       "8771   Strathmore  Alberta                           NaN  Negotiable   \n",
       "13744     Calgary  Alberta  1209 Renfrew Drive Northeast  Negotiable   \n",
       "22435     Toronto  Ontario            159 Lawrence Ave W   Long Term   \n",
       "\n",
       "                type   price beds baths  sq_feet   furnishing  \\\n",
       "861    Room For Rent   829.0    0     1      NaN    Furnished   \n",
       "1431          Duplex  2795.0    6     4      NaN  Unfurnished   \n",
       "2503            Loft  1150.0    0     1      NaN  Unfurnished   \n",
       "2509            Loft  1150.0    0     1      NaN  Unfurnished   \n",
       "4481          Duplex  7500.0    6   3.5      NaN    Furnished   \n",
       "6488   Room For Rent   550.0    0     8      NaN    Furnished   \n",
       "7700           House  2700.0    9     4      NaN  Unfurnished   \n",
       "8771          Mobile  1500.0    2     1      NaN  Unfurnished   \n",
       "13744         Duplex  7500.0    6   3.5      NaN    Furnished   \n",
       "22435         Duplex  1500.0    0     1      NaN  Unfurnished   \n",
       "\n",
       "      availability_date          smoking   cats   dogs  \n",
       "861          2025-02-21      Non-Smoking  False  False  \n",
       "1431         2025-02-21              NaN  False  False  \n",
       "2503         2025-02-21      Non-Smoking  False  False  \n",
       "2509         2025-02-21      Non-Smoking  False  False  \n",
       "4481         2025-09-01      Non-Smoking   True   True  \n",
       "6488         2025-02-21  Smoking Allowed  False  False  \n",
       "7700         2025-07-01      Non-Smoking  False  False  \n",
       "8771         2025-02-21      Non-Smoking  False  False  \n",
       "13744        2025-09-01      Non-Smoking   True   True  \n",
       "22435        2025-08-01      Non-Smoking   True   True  "
      ]
     },
     "execution_count": 18,
     "metadata": {},
     "output_type": "execute_result"
    }
   ],
   "source": []
  },
  {
   "cell_type": "code",
   "execution_count": null,
   "id": "ec80b46d-4673-4aeb-b13a-25d9384b224f",
   "metadata": {},
   "outputs": [],
   "source": []
  },
  {
   "cell_type": "code",
   "execution_count": 19,
   "id": "301a8308-772e-4077-83e4-39224c824e84",
   "metadata": {
    "execution": {
     "iopub.execute_input": "2025-02-21T18:48:20.416581Z",
     "iopub.status.busy": "2025-02-21T18:48:20.416082Z",
     "iopub.status.idle": "2025-02-21T18:48:20.490529Z",
     "shell.execute_reply": "2025-02-21T18:48:20.489112Z",
     "shell.execute_reply.started": "2025-02-21T18:48:20.416538Z"
    }
   },
   "outputs": [
    {
     "data": {
      "text/html": [
       "<div>\n",
       "<style scoped>\n",
       "    .dataframe tbody tr th:only-of-type {\n",
       "        vertical-align: middle;\n",
       "    }\n",
       "\n",
       "    .dataframe tbody tr th {\n",
       "        vertical-align: top;\n",
       "    }\n",
       "\n",
       "    .dataframe thead th {\n",
       "        text-align: right;\n",
       "    }\n",
       "</style>\n",
       "<table border=\"1\" class=\"dataframe\">\n",
       "  <thead>\n",
       "    <tr style=\"text-align: right;\">\n",
       "      <th></th>\n",
       "      <th>city</th>\n",
       "      <th>province</th>\n",
       "      <th>address</th>\n",
       "      <th>lease_term</th>\n",
       "      <th>type</th>\n",
       "      <th>price</th>\n",
       "      <th>beds</th>\n",
       "      <th>baths</th>\n",
       "      <th>sq_feet</th>\n",
       "      <th>furnishing</th>\n",
       "      <th>availability_date</th>\n",
       "      <th>smoking</th>\n",
       "      <th>cats</th>\n",
       "      <th>dogs</th>\n",
       "    </tr>\n",
       "  </thead>\n",
       "  <tbody>\n",
       "    <tr>\n",
       "      <th>861</th>\n",
       "      <td>Calgary</td>\n",
       "      <td>Alberta</td>\n",
       "      <td>522 21 Avenue Northwest</td>\n",
       "      <td>Long Term</td>\n",
       "      <td>Room For Rent</td>\n",
       "      <td>829.0</td>\n",
       "      <td>0</td>\n",
       "      <td>1</td>\n",
       "      <td>NaN</td>\n",
       "      <td>Furnished</td>\n",
       "      <td>2025-02-21</td>\n",
       "      <td>Non-Smoking</td>\n",
       "      <td>False</td>\n",
       "      <td>False</td>\n",
       "    </tr>\n",
       "    <tr>\n",
       "      <th>1431</th>\n",
       "      <td>Calgary</td>\n",
       "      <td>Alberta</td>\n",
       "      <td>155 Homestead Park NE</td>\n",
       "      <td>Long Term</td>\n",
       "      <td>Duplex</td>\n",
       "      <td>2795.0</td>\n",
       "      <td>6</td>\n",
       "      <td>4</td>\n",
       "      <td>NaN</td>\n",
       "      <td>Unfurnished</td>\n",
       "      <td>2025-02-21</td>\n",
       "      <td>NaN</td>\n",
       "      <td>False</td>\n",
       "      <td>False</td>\n",
       "    </tr>\n",
       "    <tr>\n",
       "      <th>2503</th>\n",
       "      <td>Calgary</td>\n",
       "      <td>Alberta</td>\n",
       "      <td>4 Prestwick Road Southeast</td>\n",
       "      <td>Long Term</td>\n",
       "      <td>Loft</td>\n",
       "      <td>1150.0</td>\n",
       "      <td>0</td>\n",
       "      <td>1</td>\n",
       "      <td>NaN</td>\n",
       "      <td>Unfurnished</td>\n",
       "      <td>2025-02-21</td>\n",
       "      <td>Non-Smoking</td>\n",
       "      <td>False</td>\n",
       "      <td>False</td>\n",
       "    </tr>\n",
       "    <tr>\n",
       "      <th>2509</th>\n",
       "      <td>Calgary</td>\n",
       "      <td>Alberta</td>\n",
       "      <td>4 Prestwick Road Southeast</td>\n",
       "      <td>Long Term</td>\n",
       "      <td>Loft</td>\n",
       "      <td>1150.0</td>\n",
       "      <td>0</td>\n",
       "      <td>1</td>\n",
       "      <td>NaN</td>\n",
       "      <td>Unfurnished</td>\n",
       "      <td>2025-02-21</td>\n",
       "      <td>Non-Smoking</td>\n",
       "      <td>False</td>\n",
       "      <td>False</td>\n",
       "    </tr>\n",
       "    <tr>\n",
       "      <th>4481</th>\n",
       "      <td>Calgary</td>\n",
       "      <td>Alberta</td>\n",
       "      <td>1209 Renfrew Drive Northeast</td>\n",
       "      <td>Negotiable</td>\n",
       "      <td>Duplex</td>\n",
       "      <td>7500.0</td>\n",
       "      <td>6</td>\n",
       "      <td>3.5</td>\n",
       "      <td>NaN</td>\n",
       "      <td>Furnished</td>\n",
       "      <td>2025-09-01</td>\n",
       "      <td>Non-Smoking</td>\n",
       "      <td>True</td>\n",
       "      <td>True</td>\n",
       "    </tr>\n",
       "    <tr>\n",
       "      <th>6488</th>\n",
       "      <td>Edmonton</td>\n",
       "      <td>Alberta</td>\n",
       "      <td>9514 102A Avenue Northwest</td>\n",
       "      <td>Negotiable</td>\n",
       "      <td>Room For Rent</td>\n",
       "      <td>550.0</td>\n",
       "      <td>0</td>\n",
       "      <td>8</td>\n",
       "      <td>NaN</td>\n",
       "      <td>Furnished</td>\n",
       "      <td>2025-02-21</td>\n",
       "      <td>Smoking Allowed</td>\n",
       "      <td>False</td>\n",
       "      <td>False</td>\n",
       "    </tr>\n",
       "    <tr>\n",
       "      <th>7700</th>\n",
       "      <td>Edmonton</td>\n",
       "      <td>Alberta</td>\n",
       "      <td>11918 68 Street Northwest</td>\n",
       "      <td>Long Term</td>\n",
       "      <td>House</td>\n",
       "      <td>2700.0</td>\n",
       "      <td>9</td>\n",
       "      <td>4</td>\n",
       "      <td>NaN</td>\n",
       "      <td>Unfurnished</td>\n",
       "      <td>2025-07-01</td>\n",
       "      <td>Non-Smoking</td>\n",
       "      <td>False</td>\n",
       "      <td>False</td>\n",
       "    </tr>\n",
       "    <tr>\n",
       "      <th>8771</th>\n",
       "      <td>Strathmore</td>\n",
       "      <td>Alberta</td>\n",
       "      <td>NaN</td>\n",
       "      <td>Negotiable</td>\n",
       "      <td>Mobile</td>\n",
       "      <td>1500.0</td>\n",
       "      <td>2</td>\n",
       "      <td>1</td>\n",
       "      <td>NaN</td>\n",
       "      <td>Unfurnished</td>\n",
       "      <td>2025-02-21</td>\n",
       "      <td>Non-Smoking</td>\n",
       "      <td>False</td>\n",
       "      <td>False</td>\n",
       "    </tr>\n",
       "    <tr>\n",
       "      <th>13744</th>\n",
       "      <td>Calgary</td>\n",
       "      <td>Alberta</td>\n",
       "      <td>1209 Renfrew Drive Northeast</td>\n",
       "      <td>Negotiable</td>\n",
       "      <td>Duplex</td>\n",
       "      <td>7500.0</td>\n",
       "      <td>6</td>\n",
       "      <td>3.5</td>\n",
       "      <td>NaN</td>\n",
       "      <td>Furnished</td>\n",
       "      <td>2025-09-01</td>\n",
       "      <td>Non-Smoking</td>\n",
       "      <td>True</td>\n",
       "      <td>True</td>\n",
       "    </tr>\n",
       "    <tr>\n",
       "      <th>22435</th>\n",
       "      <td>Toronto</td>\n",
       "      <td>Ontario</td>\n",
       "      <td>159 Lawrence Ave W</td>\n",
       "      <td>Long Term</td>\n",
       "      <td>Duplex</td>\n",
       "      <td>1500.0</td>\n",
       "      <td>0</td>\n",
       "      <td>1</td>\n",
       "      <td>NaN</td>\n",
       "      <td>Unfurnished</td>\n",
       "      <td>2025-08-01</td>\n",
       "      <td>Non-Smoking</td>\n",
       "      <td>True</td>\n",
       "      <td>True</td>\n",
       "    </tr>\n",
       "  </tbody>\n",
       "</table>\n",
       "</div>"
      ],
      "text/plain": [
       "             city province                       address  lease_term  \\\n",
       "861       Calgary  Alberta       522 21 Avenue Northwest   Long Term   \n",
       "1431      Calgary  Alberta         155 Homestead Park NE   Long Term   \n",
       "2503      Calgary  Alberta    4 Prestwick Road Southeast   Long Term   \n",
       "2509      Calgary  Alberta    4 Prestwick Road Southeast   Long Term   \n",
       "4481      Calgary  Alberta  1209 Renfrew Drive Northeast  Negotiable   \n",
       "6488     Edmonton  Alberta    9514 102A Avenue Northwest  Negotiable   \n",
       "7700     Edmonton  Alberta     11918 68 Street Northwest   Long Term   \n",
       "8771   Strathmore  Alberta                           NaN  Negotiable   \n",
       "13744     Calgary  Alberta  1209 Renfrew Drive Northeast  Negotiable   \n",
       "22435     Toronto  Ontario            159 Lawrence Ave W   Long Term   \n",
       "\n",
       "                type   price beds baths  sq_feet   furnishing  \\\n",
       "861    Room For Rent   829.0    0     1      NaN    Furnished   \n",
       "1431          Duplex  2795.0    6     4      NaN  Unfurnished   \n",
       "2503            Loft  1150.0    0     1      NaN  Unfurnished   \n",
       "2509            Loft  1150.0    0     1      NaN  Unfurnished   \n",
       "4481          Duplex  7500.0    6   3.5      NaN    Furnished   \n",
       "6488   Room For Rent   550.0    0     8      NaN    Furnished   \n",
       "7700           House  2700.0    9     4      NaN  Unfurnished   \n",
       "8771          Mobile  1500.0    2     1      NaN  Unfurnished   \n",
       "13744         Duplex  7500.0    6   3.5      NaN    Furnished   \n",
       "22435         Duplex  1500.0    0     1      NaN  Unfurnished   \n",
       "\n",
       "      availability_date          smoking   cats   dogs  \n",
       "861          2025-02-21      Non-Smoking  False  False  \n",
       "1431         2025-02-21              NaN  False  False  \n",
       "2503         2025-02-21      Non-Smoking  False  False  \n",
       "2509         2025-02-21      Non-Smoking  False  False  \n",
       "4481         2025-09-01      Non-Smoking   True   True  \n",
       "6488         2025-02-21  Smoking Allowed  False  False  \n",
       "7700         2025-07-01      Non-Smoking  False  False  \n",
       "8771         2025-02-21      Non-Smoking  False  False  \n",
       "13744        2025-09-01      Non-Smoking   True   True  \n",
       "22435        2025-08-01      Non-Smoking   True   True  "
      ]
     },
     "execution_count": 19,
     "metadata": {},
     "output_type": "execute_result"
    }
   ],
   "source": [
    "# Remove Nan\n",
    "#tmp = rent_df[~rent_df['sq_feet'].isna()]\n",
    "#print(rent_df[rent_df['sq_feet'].isna()])\n",
    "# Convert to int\n",
    "#tmp['sq_feet'] = tmp['sq_feet'].astype(int)\n",
    "\n",
    "# Compute the groupby(['type','beds']) mean value associated to each row\n",
    "#mean_sq_feet_group = rent_df.groupby(['type','beds'])['sq_feet'].transform('mean')\n",
    "\n",
    "# Replace NaN values with groupby(['type','beds']) mean\n",
    "#rent_df['sq_feet'] = rent_df['sq_feet'].fillna(mean_sq_feet_group)\n",
    "rent_df['sq_feet'] = rent_df.groupby(['type', 'beds'])['sq_feet'].transform(lambda x: x.fillna(x.mean()))\n",
    "\n",
    "# Verifying that there is no longer nan value for the sq_feet\n",
    "rent_df.isna().sum()\n",
    "#rent_df['sq_feet'] = rent_df.groupby(['type', 'beds'])['sq_feet'].transform(lambda x: x.fillna(x.mean()))\n",
    "rent_df[rent_df['sq_feet'].isna()]"
   ]
  },
  {
   "cell_type": "code",
   "execution_count": 20,
   "id": "8f912d01-8a0a-40d2-8d1d-4d3ff7e81fae",
   "metadata": {
    "execution": {
     "iopub.execute_input": "2025-02-21T18:48:20.492364Z",
     "iopub.status.busy": "2025-02-21T18:48:20.491798Z",
     "iopub.status.idle": "2025-02-21T18:48:20.507575Z",
     "shell.execute_reply": "2025-02-21T18:48:20.506402Z",
     "shell.execute_reply.started": "2025-02-21T18:48:20.492320Z"
    }
   },
   "outputs": [
    {
     "data": {
      "text/plain": [
       "type           beds\n",
       "Duplex         0      NaN\n",
       "               6      NaN\n",
       "House          9      NaN\n",
       "Loft           0      NaN\n",
       "Mobile         2      NaN\n",
       "Room For Rent  0      NaN\n",
       "Name: sq_feet, dtype: float64"
      ]
     },
     "execution_count": 20,
     "metadata": {},
     "output_type": "execute_result"
    }
   ],
   "source": [
    "group_means = rent_df.groupby(['type', 'beds'])['sq_feet'].mean()\n",
    "group_means[group_means.isna()]"
   ]
  },
  {
   "cell_type": "code",
   "execution_count": 21,
   "id": "b63f064f-cb0c-453b-ba49-cc8a4c5416d1",
   "metadata": {
    "execution": {
     "iopub.execute_input": "2025-02-21T18:48:20.513303Z",
     "iopub.status.busy": "2025-02-21T18:48:20.512377Z",
     "iopub.status.idle": "2025-02-21T18:48:20.528127Z",
     "shell.execute_reply": "2025-02-21T18:48:20.526220Z",
     "shell.execute_reply.started": "2025-02-21T18:48:20.513254Z"
    }
   },
   "outputs": [
    {
     "name": "stdout",
     "output_type": "stream",
     "text": [
      "beds\n",
      "0            NaN\n",
      "1     903.500000\n",
      "2    1041.067568\n",
      "3    1501.794466\n",
      "4    1825.727273\n",
      "5    2850.000000\n",
      "6            NaN\n",
      "Name: sq_feet, dtype: float64\n"
     ]
    }
   ],
   "source": [
    "print(rent_df[rent_df['type'] == 'Duplex'].groupby('beds')['sq_feet'].mean())"
   ]
  },
  {
   "cell_type": "code",
   "execution_count": 22,
   "id": "868cc0ca-a951-4c4d-88fb-5bfe4a76ddd4",
   "metadata": {
    "execution": {
     "iopub.execute_input": "2025-02-21T18:48:20.530106Z",
     "iopub.status.busy": "2025-02-21T18:48:20.529664Z",
     "iopub.status.idle": "2025-02-21T18:48:20.552900Z",
     "shell.execute_reply": "2025-02-21T18:48:20.551554Z",
     "shell.execute_reply.started": "2025-02-21T18:48:20.530075Z"
    }
   },
   "outputs": [
    {
     "name": "stdout",
     "output_type": "stream",
     "text": [
      "beds\n",
      "0    2056.666667\n",
      "1     716.833333\n",
      "2    1086.728395\n",
      "3    1707.000000\n",
      "4    2108.715311\n",
      "5    2262.888158\n",
      "6    2064.761905\n",
      "7    4000.000000\n",
      "8    9133.333333\n",
      "9            NaN\n",
      "Name: sq_feet, dtype: float64\n"
     ]
    }
   ],
   "source": [
    "print(rent_df[rent_df['type'] == 'House'].groupby('beds')['sq_feet'].mean())"
   ]
  },
  {
   "cell_type": "code",
   "execution_count": 23,
   "id": "a5d55b76-1316-472d-9f03-8f8c0cffe9e8",
   "metadata": {
    "execution": {
     "iopub.execute_input": "2025-02-21T18:48:20.555260Z",
     "iopub.status.busy": "2025-02-21T18:48:20.554244Z",
     "iopub.status.idle": "2025-02-21T18:48:20.575330Z",
     "shell.execute_reply": "2025-02-21T18:48:20.574241Z",
     "shell.execute_reply.started": "2025-02-21T18:48:20.555207Z"
    }
   },
   "outputs": [
    {
     "name": "stdout",
     "output_type": "stream",
     "text": [
      "beds\n",
      "0            NaN\n",
      "1     718.928571\n",
      "2     762.000000\n",
      "3    1550.000000\n",
      "Name: sq_feet, dtype: float64\n"
     ]
    }
   ],
   "source": [
    "print(rent_df[rent_df['type'] == 'Loft'].groupby('beds')['sq_feet'].mean())"
   ]
  },
  {
   "cell_type": "code",
   "execution_count": 24,
   "id": "9a866518-e16b-415e-bc08-a36910b2d75c",
   "metadata": {
    "execution": {
     "iopub.execute_input": "2025-02-21T18:48:20.576937Z",
     "iopub.status.busy": "2025-02-21T18:48:20.576594Z",
     "iopub.status.idle": "2025-02-21T18:48:20.613298Z",
     "shell.execute_reply": "2025-02-21T18:48:20.612019Z",
     "shell.execute_reply.started": "2025-02-21T18:48:20.576911Z"
    }
   },
   "outputs": [
    {
     "name": "stderr",
     "output_type": "stream",
     "text": [
      "/tmp/ipykernel_342033/2967931324.py:4: SettingWithCopyWarning: \n",
      "A value is trying to be set on a copy of a slice from a DataFrame.\n",
      "Try using .loc[row_indexer,col_indexer] = value instead\n",
      "\n",
      "See the caveats in the documentation: https://pandas.pydata.org/pandas-docs/stable/user_guide/indexing.html#returning-a-view-versus-a-copy\n",
      "  tmp['sq_feet'] = tmp['sq_feet'].astype(int)\n"
     ]
    },
    {
     "data": {
      "text/plain": [
       "type           beds\n",
       "Apartment      0         399.184246\n",
       "               1         604.687601\n",
       "               2         873.177044\n",
       "               3        1127.099796\n",
       "               4        1513.111111\n",
       "               5         465.555556\n",
       "               6        3750.000000\n",
       "               7         180.000000\n",
       "Basement       0         604.166667\n",
       "               1         739.603878\n",
       "               2         919.601598\n",
       "               3        1209.076923\n",
       "               4        1500.000000\n",
       "Condo Unit     0         486.340909\n",
       "               1         644.599765\n",
       "               2         947.057543\n",
       "               3        1296.617647\n",
       "               5        1900.000000\n",
       "Duplex         1         903.366667\n",
       "               2        1041.048077\n",
       "               3        1501.659016\n",
       "               4        1825.666667\n",
       "               5        2850.000000\n",
       "House          0        2056.666667\n",
       "               1         716.526316\n",
       "               2        1086.572816\n",
       "               3        1707.000000\n",
       "               4        2108.602823\n",
       "               5        2262.771429\n",
       "               6        2064.640000\n",
       "               7        4000.000000\n",
       "               8        9133.333333\n",
       "Loft           1         718.684211\n",
       "               2         762.000000\n",
       "               3        1550.000000\n",
       "Main Floor     1         700.500000\n",
       "               2        1062.233696\n",
       "               3        1354.321881\n",
       "               4        1803.096154\n",
       "               5        1968.000000\n",
       "Mobile         4        1398.000000\n",
       "Room For Rent  1        1307.221491\n",
       "               2        1222.445946\n",
       "               3        1413.072289\n",
       "               4        1586.245902\n",
       "               5       24697.476190\n",
       "               6        1765.750000\n",
       "               7        1665.000000\n",
       "               9        4600.000000\n",
       "Townhouse      0           0.000000\n",
       "               1         608.129032\n",
       "               2        1108.555556\n",
       "               3        1369.608410\n",
       "               4        1644.521739\n",
       "               5        1350.000000\n",
       "Vacation Home  1         500.000000\n",
       "               4        2872.000000\n",
       "Name: sq_feet, dtype: float64"
      ]
     },
     "execution_count": 24,
     "metadata": {},
     "output_type": "execute_result"
    }
   ],
   "source": [
    "tmp = rent_df[~rent_df['sq_feet'].isna()]\n",
    "# Remove commas and non-numeric characters (keep only digits)\n",
    "\n",
    "tmp['sq_feet'] = tmp['sq_feet'].astype(int)\n",
    "tmp.groupby(['type','beds'])['sq_feet'].mean()"
   ]
  },
  {
   "cell_type": "code",
   "execution_count": 25,
   "id": "d056d7c4-169c-42ef-b2bc-4688f665a26e",
   "metadata": {
    "execution": {
     "iopub.execute_input": "2025-02-21T18:48:20.615067Z",
     "iopub.status.busy": "2025-02-21T18:48:20.614583Z",
     "iopub.status.idle": "2025-02-21T18:48:20.636928Z",
     "shell.execute_reply": "2025-02-21T18:48:20.635845Z",
     "shell.execute_reply.started": "2025-02-21T18:48:20.615022Z"
    }
   },
   "outputs": [
    {
     "name": "stderr",
     "output_type": "stream",
     "text": [
      "/tmp/ipykernel_342033/3190932799.py:4: SettingWithCopyWarning: \n",
      "A value is trying to be set on a copy of a slice from a DataFrame.\n",
      "Try using .loc[row_indexer,col_indexer] = value instead\n",
      "\n",
      "See the caveats in the documentation: https://pandas.pydata.org/pandas-docs/stable/user_guide/indexing.html#returning-a-view-versus-a-copy\n",
      "  tmp['sq_feet'] = tmp['sq_feet'].astype(int)\n"
     ]
    }
   ],
   "source": [
    "tmp = rent_df[~rent_df['sq_feet'].isna()]\n",
    "\n",
    "# Convert to integer\n",
    "tmp['sq_feet'] = tmp['sq_feet'].astype(int)\n",
    "\n",
    "# Group by 'type' and 'beds' and calculate the mean of 'sq_feet'\n",
    "result = tmp.groupby(['type', 'beds'])['sq_feet'].mean()"
   ]
  },
  {
   "cell_type": "code",
   "execution_count": 26,
   "id": "2cb76e7c-7134-4cf3-9b84-7a7b5e6ef51d",
   "metadata": {
    "execution": {
     "iopub.execute_input": "2025-02-21T18:48:20.638830Z",
     "iopub.status.busy": "2025-02-21T18:48:20.638356Z",
     "iopub.status.idle": "2025-02-21T18:48:21.494676Z",
     "shell.execute_reply": "2025-02-21T18:48:21.492603Z",
     "shell.execute_reply.started": "2025-02-21T18:48:20.638800Z"
    }
   },
   "outputs": [
    {
     "ename": "AttributeError",
     "evalue": "Can only use .str accessor with string values!",
     "output_type": "error",
     "traceback": [
      "\u001b[0;31m---------------------------------------------------------------------------\u001b[0m",
      "\u001b[0;31mAttributeError\u001b[0m                            Traceback (most recent call last)",
      "Cell \u001b[0;32mIn[26], line 1\u001b[0m\n\u001b[0;32m----> 1\u001b[0m tmp \u001b[38;5;241m=\u001b[39m \u001b[43mrent_df\u001b[49m\u001b[43m[\u001b[49m\u001b[38;5;124;43m'\u001b[39;49m\u001b[38;5;124;43msq_feet\u001b[39;49m\u001b[38;5;124;43m'\u001b[39;49m\u001b[43m]\u001b[49m\u001b[38;5;241;43m.\u001b[39;49m\u001b[43mstr\u001b[49m\u001b[38;5;241m.\u001b[39msplit(\u001b[38;5;124m'\u001b[39m\u001b[38;5;124m-\u001b[39m\u001b[38;5;124m'\u001b[39m, expand\u001b[38;5;241m=\u001b[39m\u001b[38;5;28;01mTrue\u001b[39;00m)\n\u001b[1;32m      3\u001b[0m tmp \u001b[38;5;241m=\u001b[39m tmp[\u001b[38;5;241m~\u001b[39mtmp[\u001b[38;5;241m0\u001b[39m]\u001b[38;5;241m.\u001b[39misna()]\n\u001b[1;32m      5\u001b[0m tmp[\u001b[38;5;241m0\u001b[39m]\u001b[38;5;241m.\u001b[39mastype(\u001b[38;5;28mint\u001b[39m)\n",
      "File \u001b[0;32m~/Dev/graph/lib/python3.12/site-packages/pandas/core/generic.py:6299\u001b[0m, in \u001b[0;36mNDFrame.__getattr__\u001b[0;34m(self, name)\u001b[0m\n\u001b[1;32m   6292\u001b[0m \u001b[38;5;28;01mif\u001b[39;00m (\n\u001b[1;32m   6293\u001b[0m     name \u001b[38;5;129;01mnot\u001b[39;00m \u001b[38;5;129;01min\u001b[39;00m \u001b[38;5;28mself\u001b[39m\u001b[38;5;241m.\u001b[39m_internal_names_set\n\u001b[1;32m   6294\u001b[0m     \u001b[38;5;129;01mand\u001b[39;00m name \u001b[38;5;129;01mnot\u001b[39;00m \u001b[38;5;129;01min\u001b[39;00m \u001b[38;5;28mself\u001b[39m\u001b[38;5;241m.\u001b[39m_metadata\n\u001b[1;32m   6295\u001b[0m     \u001b[38;5;129;01mand\u001b[39;00m name \u001b[38;5;129;01mnot\u001b[39;00m \u001b[38;5;129;01min\u001b[39;00m \u001b[38;5;28mself\u001b[39m\u001b[38;5;241m.\u001b[39m_accessors\n\u001b[1;32m   6296\u001b[0m     \u001b[38;5;129;01mand\u001b[39;00m \u001b[38;5;28mself\u001b[39m\u001b[38;5;241m.\u001b[39m_info_axis\u001b[38;5;241m.\u001b[39m_can_hold_identifiers_and_holds_name(name)\n\u001b[1;32m   6297\u001b[0m ):\n\u001b[1;32m   6298\u001b[0m     \u001b[38;5;28;01mreturn\u001b[39;00m \u001b[38;5;28mself\u001b[39m[name]\n\u001b[0;32m-> 6299\u001b[0m \u001b[38;5;28;01mreturn\u001b[39;00m \u001b[38;5;28;43mobject\u001b[39;49m\u001b[38;5;241;43m.\u001b[39;49m\u001b[38;5;21;43m__getattribute__\u001b[39;49m\u001b[43m(\u001b[49m\u001b[38;5;28;43mself\u001b[39;49m\u001b[43m,\u001b[49m\u001b[43m \u001b[49m\u001b[43mname\u001b[49m\u001b[43m)\u001b[49m\n",
      "File \u001b[0;32m~/Dev/graph/lib/python3.12/site-packages/pandas/core/accessor.py:224\u001b[0m, in \u001b[0;36mCachedAccessor.__get__\u001b[0;34m(self, obj, cls)\u001b[0m\n\u001b[1;32m    221\u001b[0m \u001b[38;5;28;01mif\u001b[39;00m obj \u001b[38;5;129;01mis\u001b[39;00m \u001b[38;5;28;01mNone\u001b[39;00m:\n\u001b[1;32m    222\u001b[0m     \u001b[38;5;66;03m# we're accessing the attribute of the class, i.e., Dataset.geo\u001b[39;00m\n\u001b[1;32m    223\u001b[0m     \u001b[38;5;28;01mreturn\u001b[39;00m \u001b[38;5;28mself\u001b[39m\u001b[38;5;241m.\u001b[39m_accessor\n\u001b[0;32m--> 224\u001b[0m accessor_obj \u001b[38;5;241m=\u001b[39m \u001b[38;5;28;43mself\u001b[39;49m\u001b[38;5;241;43m.\u001b[39;49m\u001b[43m_accessor\u001b[49m\u001b[43m(\u001b[49m\u001b[43mobj\u001b[49m\u001b[43m)\u001b[49m\n\u001b[1;32m    225\u001b[0m \u001b[38;5;66;03m# Replace the property with the accessor object. Inspired by:\u001b[39;00m\n\u001b[1;32m    226\u001b[0m \u001b[38;5;66;03m# https://www.pydanny.com/cached-property.html\u001b[39;00m\n\u001b[1;32m    227\u001b[0m \u001b[38;5;66;03m# We need to use object.__setattr__ because we overwrite __setattr__ on\u001b[39;00m\n\u001b[1;32m    228\u001b[0m \u001b[38;5;66;03m# NDFrame\u001b[39;00m\n\u001b[1;32m    229\u001b[0m \u001b[38;5;28mobject\u001b[39m\u001b[38;5;241m.\u001b[39m\u001b[38;5;21m__setattr__\u001b[39m(obj, \u001b[38;5;28mself\u001b[39m\u001b[38;5;241m.\u001b[39m_name, accessor_obj)\n",
      "File \u001b[0;32m~/Dev/graph/lib/python3.12/site-packages/pandas/core/strings/accessor.py:191\u001b[0m, in \u001b[0;36mStringMethods.__init__\u001b[0;34m(self, data)\u001b[0m\n\u001b[1;32m    188\u001b[0m \u001b[38;5;28;01mdef\u001b[39;00m\u001b[38;5;250m \u001b[39m\u001b[38;5;21m__init__\u001b[39m(\u001b[38;5;28mself\u001b[39m, data) \u001b[38;5;241m-\u001b[39m\u001b[38;5;241m>\u001b[39m \u001b[38;5;28;01mNone\u001b[39;00m:\n\u001b[1;32m    189\u001b[0m     \u001b[38;5;28;01mfrom\u001b[39;00m\u001b[38;5;250m \u001b[39m\u001b[38;5;21;01mpandas\u001b[39;00m\u001b[38;5;21;01m.\u001b[39;00m\u001b[38;5;21;01mcore\u001b[39;00m\u001b[38;5;21;01m.\u001b[39;00m\u001b[38;5;21;01marrays\u001b[39;00m\u001b[38;5;21;01m.\u001b[39;00m\u001b[38;5;21;01mstring_\u001b[39;00m\u001b[38;5;250m \u001b[39m\u001b[38;5;28;01mimport\u001b[39;00m StringDtype\n\u001b[0;32m--> 191\u001b[0m     \u001b[38;5;28mself\u001b[39m\u001b[38;5;241m.\u001b[39m_inferred_dtype \u001b[38;5;241m=\u001b[39m \u001b[38;5;28;43mself\u001b[39;49m\u001b[38;5;241;43m.\u001b[39;49m\u001b[43m_validate\u001b[49m\u001b[43m(\u001b[49m\u001b[43mdata\u001b[49m\u001b[43m)\u001b[49m\n\u001b[1;32m    192\u001b[0m     \u001b[38;5;28mself\u001b[39m\u001b[38;5;241m.\u001b[39m_is_categorical \u001b[38;5;241m=\u001b[39m \u001b[38;5;28misinstance\u001b[39m(data\u001b[38;5;241m.\u001b[39mdtype, CategoricalDtype)\n\u001b[1;32m    193\u001b[0m     \u001b[38;5;28mself\u001b[39m\u001b[38;5;241m.\u001b[39m_is_string \u001b[38;5;241m=\u001b[39m \u001b[38;5;28misinstance\u001b[39m(data\u001b[38;5;241m.\u001b[39mdtype, StringDtype)\n",
      "File \u001b[0;32m~/Dev/graph/lib/python3.12/site-packages/pandas/core/strings/accessor.py:245\u001b[0m, in \u001b[0;36mStringMethods._validate\u001b[0;34m(data)\u001b[0m\n\u001b[1;32m    242\u001b[0m inferred_dtype \u001b[38;5;241m=\u001b[39m lib\u001b[38;5;241m.\u001b[39minfer_dtype(values, skipna\u001b[38;5;241m=\u001b[39m\u001b[38;5;28;01mTrue\u001b[39;00m)\n\u001b[1;32m    244\u001b[0m \u001b[38;5;28;01mif\u001b[39;00m inferred_dtype \u001b[38;5;129;01mnot\u001b[39;00m \u001b[38;5;129;01min\u001b[39;00m allowed_types:\n\u001b[0;32m--> 245\u001b[0m     \u001b[38;5;28;01mraise\u001b[39;00m \u001b[38;5;167;01mAttributeError\u001b[39;00m(\u001b[38;5;124m\"\u001b[39m\u001b[38;5;124mCan only use .str accessor with string values!\u001b[39m\u001b[38;5;124m\"\u001b[39m)\n\u001b[1;32m    246\u001b[0m \u001b[38;5;28;01mreturn\u001b[39;00m inferred_dtype\n",
      "\u001b[0;31mAttributeError\u001b[0m: Can only use .str accessor with string values!"
     ]
    }
   ],
   "source": [
    "tmp = rent_df['sq_feet'].str.split('-', expand=True)\n",
    "\n",
    "tmp = tmp[~tmp[0].isna()]\n",
    "\n",
    "tmp[0].astype(int)"
   ]
  },
  {
   "cell_type": "code",
   "execution_count": null,
   "id": "fb72ff0c-0576-4b7d-9d41-eee5677cfdfa",
   "metadata": {
    "execution": {
     "iopub.status.busy": "2025-02-21T18:48:21.495522Z",
     "iopub.status.idle": "2025-02-21T18:48:21.495955Z",
     "shell.execute_reply": "2025-02-21T18:48:21.495774Z",
     "shell.execute_reply.started": "2025-02-21T18:48:21.495755Z"
    }
   },
   "outputs": [],
   "source": [
    "tmp =  rent_df['sq_feet'].str.split('-', expand=True)\n",
    "tmp[0].astype(int)"
   ]
  },
  {
   "cell_type": "code",
   "execution_count": null,
   "id": "9f92336a-b7cd-4601-b207-e85788dea184",
   "metadata": {
    "execution": {
     "iopub.status.busy": "2025-02-21T18:48:21.497934Z",
     "iopub.status.idle": "2025-02-21T18:48:21.498590Z",
     "shell.execute_reply": "2025-02-21T18:48:21.498294Z",
     "shell.execute_reply.started": "2025-02-21T18:48:21.498267Z"
    }
   },
   "outputs": [],
   "source": [
    "tmp['sq_feet'] = rent_df['sq_feet'].str.replace(r'[^\\d]', '', regex=True)\n",
    "\n",
    "tmp['sq_feet']"
   ]
  },
  {
   "cell_type": "code",
   "execution_count": null,
   "id": "200522e2-5ad4-44c9-bd72-f16bdc368ff4",
   "metadata": {
    "execution": {
     "iopub.status.busy": "2025-02-21T18:48:21.500029Z",
     "iopub.status.idle": "2025-02-21T18:48:21.504062Z",
     "shell.execute_reply": "2025-02-21T18:48:21.503682Z",
     "shell.execute_reply.started": "2025-02-21T18:48:21.503642Z"
    }
   },
   "outputs": [],
   "source": [
    "tmp2 = tmp['sq_feet'].str.split('-', expand=True)\n",
    "\n",
    "tmp2"
   ]
  },
  {
   "cell_type": "code",
   "execution_count": null,
   "id": "fff600a3-70e2-444a-ba71-915fa3064c69",
   "metadata": {},
   "outputs": [],
   "source": []
  }
 ],
 "metadata": {
  "kernelspec": {
   "display_name": "graph",
   "language": "python",
   "name": "graph"
  },
  "language_info": {
   "codemirror_mode": {
    "name": "ipython",
    "version": 3
   },
   "file_extension": ".py",
   "mimetype": "text/x-python",
   "name": "python",
   "nbconvert_exporter": "python",
   "pygments_lexer": "ipython3",
   "version": "3.12.7"
  }
 },
 "nbformat": 4,
 "nbformat_minor": 5
}

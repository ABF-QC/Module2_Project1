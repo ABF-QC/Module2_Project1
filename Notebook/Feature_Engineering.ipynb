{
 "cells": [
  {
   "cell_type": "markdown",
   "id": "615a1dc9-8903-4618-af8a-53c80dd7e37c",
   "metadata": {},
   "source": [
    "### Importing necessary library"
   ]
  },
  {
   "cell_type": "code",
   "execution_count": 21,
   "id": "21629ce4-b8c0-4d68-be53-5fb8281b1e30",
   "metadata": {
    "execution": {
     "iopub.execute_input": "2025-02-22T15:23:36.900951Z",
     "iopub.status.busy": "2025-02-22T15:23:36.900360Z",
     "iopub.status.idle": "2025-02-22T15:23:36.913157Z",
     "shell.execute_reply": "2025-02-22T15:23:36.911940Z",
     "shell.execute_reply.started": "2025-02-22T15:23:36.900900Z"
    }
   },
   "outputs": [],
   "source": [
    "import pandas as pd\n",
    "import numpy as np\n",
    "\n",
    "import datetime\n",
    "\n",
    "import seaborn as sns\n",
    "import matplotlib.pyplot as plt\n",
    "\n",
    "from sklearn.preprocessing import OneHotEncoder\n",
    "from sklearn.model_selection import train_test_split\n",
    "\n",
    "from sklearn.feature_selection import SelectKBest, chi2"
   ]
  },
  {
   "cell_type": "markdown",
   "id": "9c506bb8-bfab-4460-afff-291e6159ab0e",
   "metadata": {},
   "source": [
    "### Reading the cleaned data file"
   ]
  },
  {
   "cell_type": "code",
   "execution_count": 2,
   "id": "b9823abb-0ac2-45f7-8bf6-58b5a6896ff5",
   "metadata": {
    "execution": {
     "iopub.execute_input": "2025-02-22T15:14:28.294816Z",
     "iopub.status.busy": "2025-02-22T15:14:28.294142Z",
     "iopub.status.idle": "2025-02-22T15:14:28.395662Z",
     "shell.execute_reply": "2025-02-22T15:14:28.394677Z",
     "shell.execute_reply.started": "2025-02-22T15:14:28.294766Z"
    }
   },
   "outputs": [
    {
     "data": {
      "text/html": [
       "<div>\n",
       "<style scoped>\n",
       "    .dataframe tbody tr th:only-of-type {\n",
       "        vertical-align: middle;\n",
       "    }\n",
       "\n",
       "    .dataframe tbody tr th {\n",
       "        vertical-align: top;\n",
       "    }\n",
       "\n",
       "    .dataframe thead th {\n",
       "        text-align: right;\n",
       "    }\n",
       "</style>\n",
       "<table border=\"1\" class=\"dataframe\">\n",
       "  <thead>\n",
       "    <tr style=\"text-align: right;\">\n",
       "      <th></th>\n",
       "      <th>city</th>\n",
       "      <th>province</th>\n",
       "      <th>latitude</th>\n",
       "      <th>longitude</th>\n",
       "      <th>lease_term</th>\n",
       "      <th>type</th>\n",
       "      <th>price</th>\n",
       "      <th>beds</th>\n",
       "      <th>baths</th>\n",
       "      <th>sq_feet</th>\n",
       "      <th>furnishing</th>\n",
       "      <th>availability_date</th>\n",
       "      <th>smoking</th>\n",
       "      <th>cats</th>\n",
       "      <th>dogs</th>\n",
       "    </tr>\n",
       "  </thead>\n",
       "  <tbody>\n",
       "    <tr>\n",
       "      <th>0</th>\n",
       "      <td>Airdrie</td>\n",
       "      <td>Alberta</td>\n",
       "      <td>51.305962</td>\n",
       "      <td>-114.012515</td>\n",
       "      <td>Long Term</td>\n",
       "      <td>Townhouse</td>\n",
       "      <td>2495</td>\n",
       "      <td>2</td>\n",
       "      <td>2.5</td>\n",
       "      <td>1403</td>\n",
       "      <td>Unfurnished</td>\n",
       "      <td>2025-02-22</td>\n",
       "      <td>Non-Smoking</td>\n",
       "      <td>True</td>\n",
       "      <td>True</td>\n",
       "    </tr>\n",
       "    <tr>\n",
       "      <th>1</th>\n",
       "      <td>Airdrie</td>\n",
       "      <td>Alberta</td>\n",
       "      <td>51.305962</td>\n",
       "      <td>-114.012515</td>\n",
       "      <td>Long Term</td>\n",
       "      <td>Townhouse</td>\n",
       "      <td>2695</td>\n",
       "      <td>3</td>\n",
       "      <td>2.5</td>\n",
       "      <td>1496</td>\n",
       "      <td>Unfurnished</td>\n",
       "      <td>2025-02-22</td>\n",
       "      <td>Non-Smoking</td>\n",
       "      <td>True</td>\n",
       "      <td>True</td>\n",
       "    </tr>\n",
       "    <tr>\n",
       "      <th>2</th>\n",
       "      <td>Airdrie</td>\n",
       "      <td>Alberta</td>\n",
       "      <td>51.305962</td>\n",
       "      <td>-114.012515</td>\n",
       "      <td>Long Term</td>\n",
       "      <td>Townhouse</td>\n",
       "      <td>2295</td>\n",
       "      <td>2</td>\n",
       "      <td>2.5</td>\n",
       "      <td>1180</td>\n",
       "      <td>Unfurnished</td>\n",
       "      <td>2025-02-22</td>\n",
       "      <td>Non-Smoking</td>\n",
       "      <td>True</td>\n",
       "      <td>True</td>\n",
       "    </tr>\n",
       "    <tr>\n",
       "      <th>3</th>\n",
       "      <td>Airdrie</td>\n",
       "      <td>Alberta</td>\n",
       "      <td>51.305962</td>\n",
       "      <td>-114.012515</td>\n",
       "      <td>Long Term</td>\n",
       "      <td>Townhouse</td>\n",
       "      <td>2095</td>\n",
       "      <td>2</td>\n",
       "      <td>2.5</td>\n",
       "      <td>1403</td>\n",
       "      <td>Unfurnished</td>\n",
       "      <td>2025-11-18</td>\n",
       "      <td>Non-Smoking</td>\n",
       "      <td>True</td>\n",
       "      <td>True</td>\n",
       "    </tr>\n",
       "    <tr>\n",
       "      <th>4</th>\n",
       "      <td>Airdrie</td>\n",
       "      <td>Alberta</td>\n",
       "      <td>51.305962</td>\n",
       "      <td>-114.012515</td>\n",
       "      <td>Long Term</td>\n",
       "      <td>Townhouse</td>\n",
       "      <td>2495</td>\n",
       "      <td>2</td>\n",
       "      <td>2.5</td>\n",
       "      <td>1403</td>\n",
       "      <td>Unfurnished</td>\n",
       "      <td>2025-02-22</td>\n",
       "      <td>Non-Smoking</td>\n",
       "      <td>True</td>\n",
       "      <td>True</td>\n",
       "    </tr>\n",
       "  </tbody>\n",
       "</table>\n",
       "</div>"
      ],
      "text/plain": [
       "      city province   latitude   longitude lease_term       type  price  beds  \\\n",
       "0  Airdrie  Alberta  51.305962 -114.012515  Long Term  Townhouse   2495     2   \n",
       "1  Airdrie  Alberta  51.305962 -114.012515  Long Term  Townhouse   2695     3   \n",
       "2  Airdrie  Alberta  51.305962 -114.012515  Long Term  Townhouse   2295     2   \n",
       "3  Airdrie  Alberta  51.305962 -114.012515  Long Term  Townhouse   2095     2   \n",
       "4  Airdrie  Alberta  51.305962 -114.012515  Long Term  Townhouse   2495     2   \n",
       "\n",
       "   baths  sq_feet   furnishing availability_date      smoking  cats  dogs  \n",
       "0    2.5     1403  Unfurnished        2025-02-22  Non-Smoking  True  True  \n",
       "1    2.5     1496  Unfurnished        2025-02-22  Non-Smoking  True  True  \n",
       "2    2.5     1180  Unfurnished        2025-02-22  Non-Smoking  True  True  \n",
       "3    2.5     1403  Unfurnished        2025-11-18  Non-Smoking  True  True  \n",
       "4    2.5     1403  Unfurnished        2025-02-22  Non-Smoking  True  True  "
      ]
     },
     "execution_count": 2,
     "metadata": {},
     "output_type": "execute_result"
    }
   ],
   "source": [
    "rent_df = pd.read_csv('../Data/canada_rent_clean.csv')\n",
    "rent_df.head(5)"
   ]
  },
  {
   "cell_type": "markdown",
   "id": "f0a9e1ac-a68d-4539-978c-0601d3187602",
   "metadata": {},
   "source": [
    "### Removing unecessary columns\n",
    "---\n",
    "As we have seen previously in the Cleaning_Data.ipynb, we well not be working with city name, since it would create tons of encoded columns. For simplicity, we will be working with latitude and longitude.\n",
    "\n",
    "So, I will be removing the city column at this point.\n",
    "\n",
    "---\n",
    "\n",
    "I also will be removing the availability_date column, since I don't believe that this can affect the price."
   ]
  },
  {
   "cell_type": "code",
   "execution_count": 3,
   "id": "39f9cd99-c93d-4499-85b1-d2d1a1ce4b5b",
   "metadata": {
    "execution": {
     "iopub.execute_input": "2025-02-22T15:14:28.397376Z",
     "iopub.status.busy": "2025-02-22T15:14:28.396814Z",
     "iopub.status.idle": "2025-02-22T15:14:28.422490Z",
     "shell.execute_reply": "2025-02-22T15:14:28.421134Z",
     "shell.execute_reply.started": "2025-02-22T15:14:28.397333Z"
    }
   },
   "outputs": [
    {
     "data": {
      "text/html": [
       "<div>\n",
       "<style scoped>\n",
       "    .dataframe tbody tr th:only-of-type {\n",
       "        vertical-align: middle;\n",
       "    }\n",
       "\n",
       "    .dataframe tbody tr th {\n",
       "        vertical-align: top;\n",
       "    }\n",
       "\n",
       "    .dataframe thead th {\n",
       "        text-align: right;\n",
       "    }\n",
       "</style>\n",
       "<table border=\"1\" class=\"dataframe\">\n",
       "  <thead>\n",
       "    <tr style=\"text-align: right;\">\n",
       "      <th></th>\n",
       "      <th>province</th>\n",
       "      <th>latitude</th>\n",
       "      <th>longitude</th>\n",
       "      <th>lease_term</th>\n",
       "      <th>type</th>\n",
       "      <th>price</th>\n",
       "      <th>beds</th>\n",
       "      <th>baths</th>\n",
       "      <th>sq_feet</th>\n",
       "      <th>furnishing</th>\n",
       "      <th>smoking</th>\n",
       "      <th>cats</th>\n",
       "      <th>dogs</th>\n",
       "    </tr>\n",
       "  </thead>\n",
       "  <tbody>\n",
       "    <tr>\n",
       "      <th>0</th>\n",
       "      <td>Alberta</td>\n",
       "      <td>51.305962</td>\n",
       "      <td>-114.012515</td>\n",
       "      <td>Long Term</td>\n",
       "      <td>Townhouse</td>\n",
       "      <td>2495</td>\n",
       "      <td>2</td>\n",
       "      <td>2.5</td>\n",
       "      <td>1403</td>\n",
       "      <td>Unfurnished</td>\n",
       "      <td>Non-Smoking</td>\n",
       "      <td>True</td>\n",
       "      <td>True</td>\n",
       "    </tr>\n",
       "    <tr>\n",
       "      <th>1</th>\n",
       "      <td>Alberta</td>\n",
       "      <td>51.305962</td>\n",
       "      <td>-114.012515</td>\n",
       "      <td>Long Term</td>\n",
       "      <td>Townhouse</td>\n",
       "      <td>2695</td>\n",
       "      <td>3</td>\n",
       "      <td>2.5</td>\n",
       "      <td>1496</td>\n",
       "      <td>Unfurnished</td>\n",
       "      <td>Non-Smoking</td>\n",
       "      <td>True</td>\n",
       "      <td>True</td>\n",
       "    </tr>\n",
       "  </tbody>\n",
       "</table>\n",
       "</div>"
      ],
      "text/plain": [
       "  province   latitude   longitude lease_term       type  price  beds  baths  \\\n",
       "0  Alberta  51.305962 -114.012515  Long Term  Townhouse   2495     2    2.5   \n",
       "1  Alberta  51.305962 -114.012515  Long Term  Townhouse   2695     3    2.5   \n",
       "\n",
       "   sq_feet   furnishing      smoking  cats  dogs  \n",
       "0     1403  Unfurnished  Non-Smoking  True  True  \n",
       "1     1496  Unfurnished  Non-Smoking  True  True  "
      ]
     },
     "execution_count": 3,
     "metadata": {},
     "output_type": "execute_result"
    }
   ],
   "source": [
    "rent_df = rent_df.drop(columns = ['availability_date', 'city'])\n",
    "\n",
    "rent_df.head(2)"
   ]
  },
  {
   "cell_type": "markdown",
   "id": "91641ff6-14d1-4521-89b3-0a10d98af23e",
   "metadata": {},
   "source": [
    "### Encoding nominal categorical columns\n",
    "\n",
    "---\n",
    "As we have seen previously in the Data_Analysis.ipynb, there are five category columns. I believe from the five categorical column 4 are nominal.\n",
    "  * lease_term\n",
    "  * type\n",
    "  * furnishing\n",
    "  * smoking"
   ]
  },
  {
   "cell_type": "code",
   "execution_count": 4,
   "id": "1c44dbe8-b385-4481-af2a-922406ee5139",
   "metadata": {
    "execution": {
     "iopub.execute_input": "2025-02-22T15:14:28.424274Z",
     "iopub.status.busy": "2025-02-22T15:14:28.423660Z",
     "iopub.status.idle": "2025-02-22T15:14:28.511236Z",
     "shell.execute_reply": "2025-02-22T15:14:28.509730Z",
     "shell.execute_reply.started": "2025-02-22T15:14:28.424244Z"
    }
   },
   "outputs": [
    {
     "data": {
      "text/html": [
       "<div>\n",
       "<style scoped>\n",
       "    .dataframe tbody tr th:only-of-type {\n",
       "        vertical-align: middle;\n",
       "    }\n",
       "\n",
       "    .dataframe tbody tr th {\n",
       "        vertical-align: top;\n",
       "    }\n",
       "\n",
       "    .dataframe thead th {\n",
       "        text-align: right;\n",
       "    }\n",
       "</style>\n",
       "<table border=\"1\" class=\"dataframe\">\n",
       "  <thead>\n",
       "    <tr style=\"text-align: right;\">\n",
       "      <th></th>\n",
       "      <th>province</th>\n",
       "      <th>latitude</th>\n",
       "      <th>longitude</th>\n",
       "      <th>price</th>\n",
       "      <th>beds</th>\n",
       "      <th>baths</th>\n",
       "      <th>sq_feet</th>\n",
       "      <th>cats</th>\n",
       "      <th>dogs</th>\n",
       "      <th>lease_term_6 months</th>\n",
       "      <th>...</th>\n",
       "      <th>type_House</th>\n",
       "      <th>type_Loft</th>\n",
       "      <th>type_Main Floor</th>\n",
       "      <th>type_Mobile</th>\n",
       "      <th>type_Room For Rent</th>\n",
       "      <th>type_Townhouse</th>\n",
       "      <th>type_Vacation Home</th>\n",
       "      <th>furnishing_Negotiable</th>\n",
       "      <th>furnishing_Unfurnished</th>\n",
       "      <th>smoking_Smoking Allowed</th>\n",
       "    </tr>\n",
       "  </thead>\n",
       "  <tbody>\n",
       "    <tr>\n",
       "      <th>0</th>\n",
       "      <td>Alberta</td>\n",
       "      <td>51.305962</td>\n",
       "      <td>-114.012515</td>\n",
       "      <td>2495</td>\n",
       "      <td>2</td>\n",
       "      <td>2.5</td>\n",
       "      <td>1403</td>\n",
       "      <td>True</td>\n",
       "      <td>True</td>\n",
       "      <td>0.0</td>\n",
       "      <td>...</td>\n",
       "      <td>0.0</td>\n",
       "      <td>0.0</td>\n",
       "      <td>0.0</td>\n",
       "      <td>0.0</td>\n",
       "      <td>0.0</td>\n",
       "      <td>1.0</td>\n",
       "      <td>0.0</td>\n",
       "      <td>0.0</td>\n",
       "      <td>1.0</td>\n",
       "      <td>0.0</td>\n",
       "    </tr>\n",
       "    <tr>\n",
       "      <th>1</th>\n",
       "      <td>Alberta</td>\n",
       "      <td>51.305962</td>\n",
       "      <td>-114.012515</td>\n",
       "      <td>2695</td>\n",
       "      <td>3</td>\n",
       "      <td>2.5</td>\n",
       "      <td>1496</td>\n",
       "      <td>True</td>\n",
       "      <td>True</td>\n",
       "      <td>0.0</td>\n",
       "      <td>...</td>\n",
       "      <td>0.0</td>\n",
       "      <td>0.0</td>\n",
       "      <td>0.0</td>\n",
       "      <td>0.0</td>\n",
       "      <td>0.0</td>\n",
       "      <td>1.0</td>\n",
       "      <td>0.0</td>\n",
       "      <td>0.0</td>\n",
       "      <td>1.0</td>\n",
       "      <td>0.0</td>\n",
       "    </tr>\n",
       "    <tr>\n",
       "      <th>2</th>\n",
       "      <td>Alberta</td>\n",
       "      <td>51.305962</td>\n",
       "      <td>-114.012515</td>\n",
       "      <td>2295</td>\n",
       "      <td>2</td>\n",
       "      <td>2.5</td>\n",
       "      <td>1180</td>\n",
       "      <td>True</td>\n",
       "      <td>True</td>\n",
       "      <td>0.0</td>\n",
       "      <td>...</td>\n",
       "      <td>0.0</td>\n",
       "      <td>0.0</td>\n",
       "      <td>0.0</td>\n",
       "      <td>0.0</td>\n",
       "      <td>0.0</td>\n",
       "      <td>1.0</td>\n",
       "      <td>0.0</td>\n",
       "      <td>0.0</td>\n",
       "      <td>1.0</td>\n",
       "      <td>0.0</td>\n",
       "    </tr>\n",
       "    <tr>\n",
       "      <th>3</th>\n",
       "      <td>Alberta</td>\n",
       "      <td>51.305962</td>\n",
       "      <td>-114.012515</td>\n",
       "      <td>2095</td>\n",
       "      <td>2</td>\n",
       "      <td>2.5</td>\n",
       "      <td>1403</td>\n",
       "      <td>True</td>\n",
       "      <td>True</td>\n",
       "      <td>0.0</td>\n",
       "      <td>...</td>\n",
       "      <td>0.0</td>\n",
       "      <td>0.0</td>\n",
       "      <td>0.0</td>\n",
       "      <td>0.0</td>\n",
       "      <td>0.0</td>\n",
       "      <td>1.0</td>\n",
       "      <td>0.0</td>\n",
       "      <td>0.0</td>\n",
       "      <td>1.0</td>\n",
       "      <td>0.0</td>\n",
       "    </tr>\n",
       "    <tr>\n",
       "      <th>4</th>\n",
       "      <td>Alberta</td>\n",
       "      <td>51.305962</td>\n",
       "      <td>-114.012515</td>\n",
       "      <td>2495</td>\n",
       "      <td>2</td>\n",
       "      <td>2.5</td>\n",
       "      <td>1403</td>\n",
       "      <td>True</td>\n",
       "      <td>True</td>\n",
       "      <td>0.0</td>\n",
       "      <td>...</td>\n",
       "      <td>0.0</td>\n",
       "      <td>0.0</td>\n",
       "      <td>0.0</td>\n",
       "      <td>0.0</td>\n",
       "      <td>0.0</td>\n",
       "      <td>1.0</td>\n",
       "      <td>0.0</td>\n",
       "      <td>0.0</td>\n",
       "      <td>1.0</td>\n",
       "      <td>0.0</td>\n",
       "    </tr>\n",
       "  </tbody>\n",
       "</table>\n",
       "<p>5 rows × 27 columns</p>\n",
       "</div>"
      ],
      "text/plain": [
       "  province   latitude   longitude  price  beds  baths  sq_feet  cats  dogs  \\\n",
       "0  Alberta  51.305962 -114.012515   2495     2    2.5     1403  True  True   \n",
       "1  Alberta  51.305962 -114.012515   2695     3    2.5     1496  True  True   \n",
       "2  Alberta  51.305962 -114.012515   2295     2    2.5     1180  True  True   \n",
       "3  Alberta  51.305962 -114.012515   2095     2    2.5     1403  True  True   \n",
       "4  Alberta  51.305962 -114.012515   2495     2    2.5     1403  True  True   \n",
       "\n",
       "   lease_term_6 months  ...  type_House  type_Loft  type_Main Floor  \\\n",
       "0                  0.0  ...         0.0        0.0              0.0   \n",
       "1                  0.0  ...         0.0        0.0              0.0   \n",
       "2                  0.0  ...         0.0        0.0              0.0   \n",
       "3                  0.0  ...         0.0        0.0              0.0   \n",
       "4                  0.0  ...         0.0        0.0              0.0   \n",
       "\n",
       "   type_Mobile  type_Room For Rent  type_Townhouse  type_Vacation Home  \\\n",
       "0          0.0                 0.0             1.0                 0.0   \n",
       "1          0.0                 0.0             1.0                 0.0   \n",
       "2          0.0                 0.0             1.0                 0.0   \n",
       "3          0.0                 0.0             1.0                 0.0   \n",
       "4          0.0                 0.0             1.0                 0.0   \n",
       "\n",
       "   furnishing_Negotiable  furnishing_Unfurnished  smoking_Smoking Allowed  \n",
       "0                    0.0                     1.0                      0.0  \n",
       "1                    0.0                     1.0                      0.0  \n",
       "2                    0.0                     1.0                      0.0  \n",
       "3                    0.0                     1.0                      0.0  \n",
       "4                    0.0                     1.0                      0.0  \n",
       "\n",
       "[5 rows x 27 columns]"
      ]
     },
     "execution_count": 4,
     "metadata": {},
     "output_type": "execute_result"
    }
   ],
   "source": [
    "# Create instance of OneHotEncoder\n",
    "encoder = OneHotEncoder(drop='first', sparse_output = False)\n",
    "\n",
    "# Encode the categorical columns\n",
    "encoded_cols = encoder.fit_transform(rent_df[['lease_term', 'type',\n",
    "                                              'furnishing', 'smoking']])\n",
    "\n",
    "# Put the encoded column into a dataframe\n",
    "tmp_df = pd.DataFrame(encoded_cols, columns = encoder.get_feature_names_out(['lease_term', \n",
    "                                                                             'type',\n",
    "                                                                             'furnishing',\n",
    "                                                                             'smoking', \n",
    "                                                                             ]))\n",
    "\n",
    "# Removing categorical columns\n",
    "rent_df = rent_df.drop(columns=['lease_term', 'type',\n",
    "                                'furnishing', 'smoking'])\n",
    "\n",
    "# Join encoded dataframe to the rent_df dataframe\n",
    "rent_df = rent_df.join(tmp_df)\n",
    "\n",
    "rent_df.head()"
   ]
  },
  {
   "cell_type": "markdown",
   "id": "b0eafd52-848a-47bb-8d7e-54ca102b8f55",
   "metadata": {},
   "source": [
    "### Encoding ordinal categorical columns\n",
    "\n",
    "---\n",
    "As we have seen previously in the Data_Analysis.ipynb, there are five categorical columns. I believe that the province can be classified as an ordinal categorical columns based on the amount of adds there are in the dataset for each province.\n",
    "\n",
    "1- Alberta\n",
    "2- Ontario\n",
    "3- Quebec\n",
    "4- British Columbia  \n",
    "     ... and so on\n",
    "\n",
    "     "
   ]
  },
  {
   "cell_type": "code",
   "execution_count": 15,
   "id": "65b26a04-eddf-415f-b627-6983ec4780a0",
   "metadata": {
    "execution": {
     "iopub.execute_input": "2025-02-22T15:18:55.450754Z",
     "iopub.status.busy": "2025-02-22T15:18:55.448165Z",
     "iopub.status.idle": "2025-02-22T15:18:55.476918Z",
     "shell.execute_reply": "2025-02-22T15:18:55.475823Z",
     "shell.execute_reply.started": "2025-02-22T15:18:55.450659Z"
    }
   },
   "outputs": [],
   "source": [
    "count = rent_df.groupby(['province'])['cats'].count().sort_values(ascending=False)\n",
    "\n",
    "rank = {province: rank for rank, province in enumerate(count.index, start=1)}\n",
    "\n",
    "rent_df[\"province_numeric\"] = rent_df[\"province\"].map(rank)\n",
    "\n",
    "rent_df = rent_df.drop(columns='province')\n",
    "\n",
    "rent_df.head(5)"
   ]
  },
  {
   "cell_type": "code",
   "execution_count": null,
   "id": "f19c2617-d399-4bb8-b827-f483e680f635",
   "metadata": {},
   "outputs": [],
   "source": []
  },
  {
   "cell_type": "code",
   "execution_count": null,
   "id": "95c9845d-418f-4422-9b49-f5ee1a204f4e",
   "metadata": {},
   "outputs": [],
   "source": []
  },
  {
   "cell_type": "markdown",
   "id": "1aefe514-3572-4661-9ab4-598e15031316",
   "metadata": {},
   "source": [
    "### Splitting the dataset into training vs testing dataset"
   ]
  },
  {
   "cell_type": "code",
   "execution_count": 34,
   "id": "0563196c-302e-4354-968b-b00b5acefa2b",
   "metadata": {
    "execution": {
     "iopub.execute_input": "2025-02-22T15:31:20.887753Z",
     "iopub.status.busy": "2025-02-22T15:31:20.887172Z",
     "iopub.status.idle": "2025-02-22T15:31:20.901889Z",
     "shell.execute_reply": "2025-02-22T15:31:20.898064Z",
     "shell.execute_reply.started": "2025-02-22T15:31:20.887702Z"
    }
   },
   "outputs": [],
   "source": [
    "# Need to turn longitude to positive to used SelectKBest\n",
    "# We are only considering Canada. So, all longitude are negative.\n",
    "# There is no positive values on our dataset.\n",
    "rent_df['longitude'] = abs(rent_df['longitude'])"
   ]
  },
  {
   "cell_type": "code",
   "execution_count": 35,
   "id": "a2792e9e-cb9a-4944-aecf-99062804f6ae",
   "metadata": {
    "execution": {
     "iopub.execute_input": "2025-02-22T15:31:22.978034Z",
     "iopub.status.busy": "2025-02-22T15:31:22.977245Z",
     "iopub.status.idle": "2025-02-22T15:31:23.006981Z",
     "shell.execute_reply": "2025-02-22T15:31:23.005591Z",
     "shell.execute_reply.started": "2025-02-22T15:31:22.977965Z"
    }
   },
   "outputs": [],
   "source": [
    "# Separate independent variable from dependent variable\n",
    "X = rent_df.drop('price', axis=1)\n",
    "y = rent_df['price']\n",
    "\n",
    "# Split data into training/testing dataset\n",
    "X_train, X_test, y_train, y_test = train_test_split(X, y, test_size = 0.2, random_state = 1)"
   ]
  },
  {
   "cell_type": "markdown",
   "id": "38b0585b-359e-4e6a-a892-13dafeb1af42",
   "metadata": {},
   "source": [
    "### Find the best independent features to predict with"
   ]
  },
  {
   "cell_type": "code",
   "execution_count": 31,
   "id": "770010bc-6600-4bc2-9a38-3f7f67c642c4",
   "metadata": {
    "execution": {
     "iopub.execute_input": "2025-02-22T15:30:40.670593Z",
     "iopub.status.busy": "2025-02-22T15:30:40.670031Z",
     "iopub.status.idle": "2025-02-22T15:30:40.685619Z",
     "shell.execute_reply": "2025-02-22T15:30:40.682006Z",
     "shell.execute_reply.started": "2025-02-22T15:30:40.670544Z"
    }
   },
   "outputs": [
    {
     "data": {
      "text/plain": [
       "26"
      ]
     },
     "execution_count": 31,
     "metadata": {},
     "output_type": "execute_result"
    }
   ],
   "source": [
    "len(X.columns)"
   ]
  },
  {
   "cell_type": "code",
   "execution_count": 37,
   "id": "7f99e951-9ec2-42f0-9de5-a7e846b163f6",
   "metadata": {
    "execution": {
     "iopub.execute_input": "2025-02-22T15:31:34.458634Z",
     "iopub.status.busy": "2025-02-22T15:31:34.457269Z",
     "iopub.status.idle": "2025-02-22T15:31:34.512505Z",
     "shell.execute_reply": "2025-02-22T15:31:34.510929Z",
     "shell.execute_reply.started": "2025-02-22T15:31:34.458578Z"
    }
   },
   "outputs": [
    {
     "name": "stdout",
     "output_type": "stream",
     "text": [
      "The top 5 best independent features are : ['longitude' 'sq_feet' 'lease_term_6 months' 'type_Basement'\n",
      " 'type_Room For Rent']\n"
     ]
    }
   ],
   "source": [
    "# Initialize SelectKBest with chi2, choose top 5 features\n",
    "selector = SelectKBest(score_func=chi2, k=5)\n",
    "\n",
    "# Fit and transform training data only\n",
    "X_train_selected = selector.fit_transform(X_train, y_train)\n",
    "\n",
    "# Get the selected feature names\n",
    "selected_features = selector.get_feature_names_out(X.columns)\n",
    "\n",
    "# View top 5 features\n",
    "print('The top 5 best independent features are :', selected_features)"
   ]
  },
  {
   "cell_type": "code",
   "execution_count": 38,
   "id": "d38724ac-a168-4899-94da-8b4cdedcaf9e",
   "metadata": {
    "execution": {
     "iopub.execute_input": "2025-02-22T15:31:55.907806Z",
     "iopub.status.busy": "2025-02-22T15:31:55.905753Z",
     "iopub.status.idle": "2025-02-22T15:31:55.956534Z",
     "shell.execute_reply": "2025-02-22T15:31:55.955469Z",
     "shell.execute_reply.started": "2025-02-22T15:31:55.907741Z"
    }
   },
   "outputs": [
    {
     "name": "stdout",
     "output_type": "stream",
     "text": [
      "The top 10 best independent features are : ['longitude' 'beds' 'baths' 'sq_feet' 'lease_term_6 months'\n",
      " 'lease_term_Short Term' 'type_Basement' 'type_House' 'type_Room For Rent'\n",
      " 'province_numeric']\n"
     ]
    }
   ],
   "source": [
    "# Initialize SelectKBest with chi2, choose top 10 features\n",
    "selector = SelectKBest(score_func=chi2, k=10)\n",
    "\n",
    "# Fit and transform training data only\n",
    "X_train_selected = selector.fit_transform(X_train, y_train)\n",
    "\n",
    "# Get the selected feature names\n",
    "selected_features = selector.get_feature_names_out(X.columns)\n",
    "\n",
    "# View top 10 features\n",
    "print('The top 10 best independent features are :', selected_features)"
   ]
  },
  {
   "cell_type": "code",
   "execution_count": 40,
   "id": "c91cbacb-fde0-488d-9f9e-5f8f5308df7e",
   "metadata": {
    "execution": {
     "iopub.execute_input": "2025-02-22T15:32:38.168435Z",
     "iopub.status.busy": "2025-02-22T15:32:38.166959Z",
     "iopub.status.idle": "2025-02-22T15:32:38.217345Z",
     "shell.execute_reply": "2025-02-22T15:32:38.215665Z",
     "shell.execute_reply.started": "2025-02-22T15:32:38.168357Z"
    }
   },
   "outputs": [
    {
     "name": "stdout",
     "output_type": "stream",
     "text": [
      "The top 15 best independent features are : ['latitude' 'longitude' 'beds' 'baths' 'sq_feet' 'lease_term_6 months'\n",
      " 'lease_term_Negotiable' 'lease_term_Short Term' 'type_Basement'\n",
      " 'type_Condo Unit' 'type_House' 'type_Room For Rent' 'type_Townhouse'\n",
      " 'smoking_Smoking Allowed' 'province_numeric']\n"
     ]
    }
   ],
   "source": [
    "# Initialize SelectKBest with chi2, choose top 15 features\n",
    "selector = SelectKBest(score_func=chi2, k=15)\n",
    "\n",
    "# Fit and transform training data only\n",
    "X_train_selected = selector.fit_transform(X_train, y_train)\n",
    "\n",
    "# Get the selected feature names\n",
    "selected_features = selector.get_feature_names_out(X.columns)\n",
    "\n",
    "# View top 15 features\n",
    "print('The top 15 best independent features are :', selected_features)"
   ]
  },
  {
   "cell_type": "code",
   "execution_count": 41,
   "id": "940ff723-19ca-4be6-9901-ec49cfe62c0e",
   "metadata": {
    "execution": {
     "iopub.execute_input": "2025-02-22T15:33:29.664963Z",
     "iopub.status.busy": "2025-02-22T15:33:29.664261Z",
     "iopub.status.idle": "2025-02-22T15:33:29.723117Z",
     "shell.execute_reply": "2025-02-22T15:33:29.721959Z",
     "shell.execute_reply.started": "2025-02-22T15:33:29.664914Z"
    }
   },
   "outputs": [
    {
     "name": "stdout",
     "output_type": "stream",
     "text": [
      "The top 20 best independent features are : ['latitude' 'longitude' 'beds' 'baths' 'sq_feet' 'cats' 'dogs'\n",
      " 'lease_term_6 months' 'lease_term_Negotiable' 'lease_term_Short Term'\n",
      " 'type_Basement' 'type_Condo Unit' 'type_House' 'type_Loft'\n",
      " 'type_Main Floor' 'type_Room For Rent' 'type_Townhouse'\n",
      " 'furnishing_Negotiable' 'smoking_Smoking Allowed' 'province_numeric']\n"
     ]
    }
   ],
   "source": [
    "# Initialize SelectKBest with chi2, choose top 15 features\n",
    "selector = SelectKBest(score_func=chi2, k=20)\n",
    "\n",
    "# Fit and transform training data only\n",
    "X_train_selected = selector.fit_transform(X_train, y_train)\n",
    "\n",
    "# Get the selected feature names\n",
    "selected_features = selector.get_feature_names_out(X.columns)\n",
    "\n",
    "# View top 20 features\n",
    "print('The top 20 best independent features are :', selected_features)"
   ]
  }
 ],
 "metadata": {
  "kernelspec": {
   "display_name": "graph",
   "language": "python",
   "name": "graph"
  },
  "language_info": {
   "codemirror_mode": {
    "name": "ipython",
    "version": 3
   },
   "file_extension": ".py",
   "mimetype": "text/x-python",
   "name": "python",
   "nbconvert_exporter": "python",
   "pygments_lexer": "ipython3",
   "version": "3.12.7"
  }
 },
 "nbformat": 4,
 "nbformat_minor": 5
}
